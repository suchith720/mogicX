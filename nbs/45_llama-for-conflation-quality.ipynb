{
 "cells": [
  {
   "cell_type": "code",
   "execution_count": 19,
   "id": "c84b7f85-b322-4aa8-bed7-40baceb90132",
   "metadata": {},
   "outputs": [],
   "source": [
    "#|default_exp 45_llama-for-conflation-quality"
   ]
  },
  {
   "cell_type": "code",
   "execution_count": 17,
   "id": "f497e15a-caf2-44d7-9dda-dcab3f1b61ea",
   "metadata": {},
   "outputs": [],
   "source": [
    "#| export\n",
    "import torch, json\n",
    "from transformers import AutoTokenizer, AutoModelForCausalLM\n",
    "\n",
    "from sugar.core import load_raw_file"
   ]
  },
  {
   "cell_type": "markdown",
   "id": "58c93fdb-cbd1-4951-8b46-6cf5d3380a65",
   "metadata": {},
   "source": [
    "## Prompt"
   ]
  },
  {
   "cell_type": "markdown",
   "id": "42c53cab-f718-4b6d-8133-90b477bc6f7d",
   "metadata": {},
   "source": [
    "You are an expert evaluator of entity conflation.\n",
    "\n",
    "Task:\n",
    "Determine whether the given entities belong to a coherent cluster (i.e., they represent the same underlying entity).\n",
    "\n",
    "Instructions:\n",
    "1. Provide your answer **only** in valid JSON format.\n",
    "2. The JSON must contain exactly two keys:\n",
    "   - \"score\": an integer from 1 (very incoherent) to 5 (highly coherent).\n",
    "   - \"reason\": a short explanation for the score.\n",
    "3. Ensure that the output can be parsed by:\n",
    "   ```python\n",
    "   import json\n",
    "   content = json.loads(output)\n",
    "   ```\n",
    "where `content` has exactly two keys: \"score\" and \"reason\".\n",
    "\n",
    "Example:\n",
    "Input: Apple iPhone 14 Pro || Samsung Galaxy S23 || Google Pixel 7\n",
    "Output:\n",
    "{\n",
    "\"score\": 1,\n",
    "\"reason\": \"Entities belong to the same category (smartphones) but are from different manufacturers and product lines.\"\n",
    "}\n",
    "\n",
    "Now evaluate the following cluster:\n",
    "{cluster_repr}"
   ]
  },
  {
   "cell_type": "markdown",
   "id": "f84c0862-03d1-45af-898a-f6fa37a02815",
   "metadata": {},
   "source": [
    "## Driver"
   ]
  },
  {
   "cell_type": "code",
   "execution_count": 13,
   "id": "f578c366-273c-4dcb-a055-cec841e5869d",
   "metadata": {},
   "outputs": [],
   "source": [
    "#| export\n",
    "PROMPT_TEMPLATE = \"\"\"You are an expert evaluator of entity conflation.\n",
    "\n",
    "Task:\n",
    "Determine whether the given entities belong to a coherent cluster (i.e., they represent the same underlying entity).\n",
    "\n",
    "Instructions:\n",
    "1. Provide your answer **only** in valid JSON format.\n",
    "2. The JSON must contain exactly two keys:\n",
    "   - \"score\": an integer from 1 (very incoherent) to 5 (highly coherent).\n",
    "   - \"reason\": a short explanation for the score.\n",
    "3. Ensure that the output can be parsed by:\n",
    "   ```python\n",
    "   import json\n",
    "   content = json.loads(output)\n",
    "   ```\n",
    "where `content` has exactly two keys: \"score\" and \"reason\".\n",
    "\n",
    "Example:\n",
    "Input: Apple iPhone 14 Pro || Samsung Galaxy S23 || Google Pixel 7\n",
    "Output:\n",
    "{\n",
    "\"score\": 1,\n",
    "\"reason\": \"Entities belong to the same category (smartphones) but are from different manufacturers and product lines.\"\n",
    "}\n",
    "\n",
    "Now evaluate the following cluster:\n",
    "\"\"\""
   ]
  },
  {
   "cell_type": "code",
   "execution_count": 15,
   "id": "676d2d56-7629-482f-9204-d3ad49fad9fd",
   "metadata": {},
   "outputs": [],
   "source": [
    "#| export\n",
    "def make_prompts(clusters):\n",
    "    return [PROMPT_TEMPLATE + o for o in clusters]\n",
    "    "
   ]
  },
  {
   "cell_type": "code",
   "execution_count": 16,
   "id": "b5545a92-9c58-4f85-b6ec-30806275ec9f",
   "metadata": {},
   "outputs": [],
   "source": [
    "#| export\n",
    "def evaluate_clusters_in_batch(clusters, batch_size=4, max_new_tokens=128):\n",
    "    prompts = make_prompts(clusters)\n",
    "    \n",
    "    inputs = tokenizer(prompts, return_tensors=\"pt\", padding=True, truncation=True).to(model.device)\n",
    "    \n",
    "    generations = []\n",
    "    for i in range(0, len(prompts), batch_size):\n",
    "        batch_input_ids = inputs[\"input_ids\"][i:i+batch_size]\n",
    "        batch_attention_mask = inputs[\"attention_mask\"][i:i+batch_size]\n",
    "    \n",
    "        outputs = model.generate(\n",
    "            input_ids=batch_input_ids,\n",
    "            attention_mask=batch_attention_mask,\n",
    "            max_new_tokens=max_new_tokens,\n",
    "            do_sample=False\n",
    "        )\n",
    "    \n",
    "        batch_texts = tokenizer.batch_decode(outputs, skip_special_tokens=True)\n",
    "        for prompt, full_output in zip(prompts[i:i+batch_size], batch_texts):\n",
    "            generations.append(json.loads(full_output.split(prompt)[-1].strip()))\n",
    "    \n",
    "    return generations\n",
    "    "
   ]
  },
  {
   "cell_type": "code",
   "execution_count": 18,
   "id": "1b87d9d2-9c76-404a-85f9-e13eb4d88836",
   "metadata": {},
   "outputs": [],
   "source": [
    "#| export\n",
    "def parse_args():\n",
    "    parser = argparse.ArgumentParser()\n",
    "    parser.add_argument('--input_file', type=str, required=True)\n",
    "    parser.add_argument('--output_file', type=str, required=True)\n",
    "    return parser.parse_known_args()[0]\n",
    "    "
   ]
  },
  {
   "cell_type": "code",
   "execution_count": null,
   "id": "2284165d-4043-42c4-a496-8d6cc0033c13",
   "metadata": {},
   "outputs": [],
   "source": [
    "#| export\n",
    "if __name__ == '__main__':\n",
    "    args = parse_args()\n",
    "    \n",
    "    model_name = \"meta-llama/Meta-Llama-3-8B-Instruct\"\n",
    "    tokenizer = AutoTokenizer.from_pretrained(model_name)\n",
    "    model = AutoModelForCausalLM.from_pretrained(\n",
    "        model_name,\n",
    "        torch_dtype=torch.float16,\n",
    "        device_map=\"auto\"\n",
    "    )\n",
    "\n",
    "    ids, txts = load_raw_file(args.input_file)\n",
    "    generations = evaluate_clusters_in_batch(txts)\n",
    "    \n",
    "    for i,o in zip(ids, generations): o['identifier'] = i\n",
    "\n",
    "    with open(args.output_file, 'w') as file:\n",
    "        json.dump(generations, file)\n",
    "        "
   ]
  }
 ],
 "metadata": {
  "kernelspec": {
   "display_name": "Python 3 (ipykernel)",
   "language": "python",
   "name": "python3"
  },
  "language_info": {
   "codemirror_mode": {
    "name": "ipython",
    "version": 3
   },
   "file_extension": ".py",
   "mimetype": "text/x-python",
   "name": "python",
   "nbconvert_exporter": "python",
   "pygments_lexer": "ipython3",
   "version": "3.13.2"
  }
 },
 "nbformat": 4,
 "nbformat_minor": 5
}
