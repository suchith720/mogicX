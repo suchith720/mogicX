{
 "cells": [
  {
   "cell_type": "code",
   "execution_count": null,
   "id": "f118e063-9358-4b55-ace2-78eca98648d6",
   "metadata": {},
   "outputs": [],
   "source": [
    "#| default_exp 21_amazon-gpt-category-conflation"
   ]
  },
  {
   "cell_type": "code",
   "execution_count": null,
   "id": "bc1262cb-9220-4fb4-b405-18fd5b137354",
   "metadata": {},
   "outputs": [],
   "source": [
    "%reload_ext autoreload\n",
    "%autoreload 2"
   ]
  },
  {
   "cell_type": "code",
   "execution_count": null,
   "id": "d14fb588-dd67-4451-8e68-753de2244685",
   "metadata": {},
   "outputs": [],
   "source": [
    "import scipy.sparse as sp, numpy as np, os\n",
    "from tqdm.auto import tqdm\n",
    "from termcolor import colored, COLORS\n",
    "from scipy.sparse.csgraph import connected_components\n",
    "\n",
    "from xcai.main import *\n",
    "from xcai.data import XCDataset\n",
    "from xcai.analysis import *\n",
    "\n",
    "import xclib.evaluation.xc_metrics as xc_metrics\n",
    "from xclib.utils.sparse import retain_topk"
   ]
  },
  {
   "cell_type": "markdown",
   "id": "d4b0410e-5861-40b3-bed2-e2476ddedfbe",
   "metadata": {},
   "source": [
    "## Dataset"
   ]
  },
  {
   "cell_type": "code",
   "execution_count": null,
   "id": "3d43d586-2cf3-487d-9870-283423e9fc03",
   "metadata": {},
   "outputs": [],
   "source": [
    "pkl_dir = '/scratch/scai/phd/aiz218323/datasets/processed/'\n",
    "pkl_file = f'{pkl_dir}/mogicX/amazontitles_data-gpt-category_distilbert-base-uncased_sxc.joblib'\n",
    "\n",
    "config_file = '../configs/16_ngame-linker-for-amazontitles-003_gpt-category.json'\n",
    "config_key = 'data_category'\n",
    "\n",
    "block = build_block(pkl_file, config_file, use_sxc=True, config_key=config_key)\n",
    "linker_block = block.linker_dset('cat_meta', remove_empty=False)"
   ]
  },
  {
   "cell_type": "markdown",
   "id": "3fc42b3a-8f25-44de-b1d0-adfb1bde3ed3",
   "metadata": {},
   "source": [
    "## Linker predictions"
   ]
  },
  {
   "cell_type": "code",
   "execution_count": null,
   "id": "0b2e80de-7ae1-4da8-9771-c2daaa6c13f2",
   "metadata": {},
   "outputs": [],
   "source": [
    "pred_dir = '/home/scai/phd/aiz218323/scratch/outputs/mogicX/16_ngame-linker-for-amazontitles-002/predictions/'\n",
    "pred_lbl = sp.load_npz(f'{pred_dir}/test_predictions_full.npz')\n",
    "\n",
    "pred_block = get_pred_dset(retain_topk(pred_lbl, k=10), linker_block.test.dset)\n",
    "\n",
    "disp = CompareDataset(XCDataset._initialize(linker_block.test.dset), pred_block, 'Ground-Truth -> ', 'Linker -> ')"
   ]
  },
  {
   "cell_type": "code",
   "execution_count": null,
   "id": "232af505-9900-49c7-97ae-cd71c15c2c1c",
   "metadata": {},
   "outputs": [],
   "source": []
  },
  {
   "cell_type": "code",
   "execution_count": null,
   "id": "937eb875-4571-4675-aa86-e13d708a005a",
   "metadata": {},
   "outputs": [],
   "source": [
    "metric = pointwise_eval(pred_lbl, linker_block.test.dset.data.data_lbl, topk=2)"
   ]
  },
  {
   "cell_type": "code",
   "execution_count": null,
   "id": "cc6ea5b0-cf35-4086-96cb-45c50a6af770",
   "metadata": {
    "scrolled": true
   },
   "outputs": [
    {
     "name": "stdout",
     "output_type": "stream",
     "text": [
      "\u001b[5m\u001b[7m\u001b[91mGround-Truth ->  data_input_text\u001b[0m \u001b[91m: Inner Reflections Engagement Calendar 2013: Selections from the Writings of Paramahansa Yogananda (Engagement Diary)\u001b[0m\n",
      "\u001b[5m\u001b[7m\u001b[91mLinker ->  data_input_text\u001b[0m \u001b[91m: Inner Reflections Engagement Calendar 2013: Selections from the Writings of Paramahansa Yogananda (Engagement Diary)\u001b[0m\n",
      "\u001b[5m\u001b[7m\u001b[93mGround-Truth ->  lbl2data_input_text\u001b[0m \u001b[93m: ['Calendar']\u001b[0m\n",
      "\u001b[5m\u001b[7m\u001b[93mLinker ->  lbl2data_input_text\u001b[0m \u001b[93m: ['Calendar', 'Planner', 'Calendar Book', 'Datebook', 'Planner/Calendar', 'Date Book', 'Cultural Festival', 'Paganism Calendar', 'Mini Calendar', 'European Bead Charm']\u001b[0m\n",
      "\n",
      "\u001b[5m\u001b[7m\u001b[91mGround-Truth ->  data_input_text\u001b[0m \u001b[91m: Li-ION Notebook/Laptop Battery for Acer Aspire 5715 5920N 7735Z 7736Z 7736Z-4088 7736Z-433G32MN\u001b[0m\n",
      "\u001b[5m\u001b[7m\u001b[91mLinker ->  data_input_text\u001b[0m \u001b[91m: Li-ION Notebook/Laptop Battery for Acer Aspire 5715 5920N 7735Z 7736Z 7736Z-4088 7736Z-433G32MN\u001b[0m\n",
      "\u001b[5m\u001b[7m\u001b[93mGround-Truth ->  lbl2data_input_text\u001b[0m \u001b[93m: ['Laptop Battery']\u001b[0m\n",
      "\u001b[5m\u001b[7m\u001b[93mLinker ->  lbl2data_input_text\u001b[0m \u001b[93m: ['Laptop Battery', 'Camera & Photo Battery', 'Digital Camera Battery', 'Notebook Battery', 'Laptop Batteries and Accessories', 'Laptop battery', 'Laptop/Notebook', 'Laptop Chargers & Power Supplies', 'Laptop Replacement Battery', 'Tablet Battery']\u001b[0m\n",
      "\n",
      "\u001b[5m\u001b[7m\u001b[91mGround-Truth ->  data_input_text\u001b[0m \u001b[91m: The Handbook of Texas Music\u001b[0m\n",
      "\u001b[5m\u001b[7m\u001b[91mLinker ->  data_input_text\u001b[0m \u001b[91m: The Handbook of Texas Music\u001b[0m\n",
      "\u001b[5m\u001b[7m\u001b[93mGround-Truth ->  lbl2data_input_text\u001b[0m \u001b[93m: ['Music Reference Book']\u001b[0m\n",
      "\u001b[5m\u001b[7m\u001b[93mLinker ->  lbl2data_input_text\u001b[0m \u001b[93m: ['Music Reference Book', 'Music Guide Book', 'Music Research Reference Book', 'Music Guide', 'Music Handbook', 'Music Reference', 'Music Resource Book', 'Christian Music Reference', 'Music Library Guide', 'Music Guidebook']\u001b[0m\n",
      "\n",
      "\u001b[5m\u001b[7m\u001b[91mGround-Truth ->  data_input_text\u001b[0m \u001b[91m: Replacement Headphone Cable for Dr. Dre Headphones Monster Solo Beats Studio 1.2m By Ylab Audio\u001b[0m\n",
      "\u001b[5m\u001b[7m\u001b[91mLinker ->  data_input_text\u001b[0m \u001b[91m: Replacement Headphone Cable for Dr. Dre Headphones Monster Solo Beats Studio 1.2m By Ylab Audio\u001b[0m\n",
      "\u001b[5m\u001b[7m\u001b[93mGround-Truth ->  lbl2data_input_text\u001b[0m \u001b[93m: ['Headphone Accessories']\u001b[0m\n",
      "\u001b[5m\u001b[7m\u001b[93mLinker ->  lbl2data_input_text\u001b[0m \u001b[93m: ['Audio Accessories', 'Headphone Accessories', 'Audio Replacement Parts', 'Headphones Accessories', 'Electronics > Audio Accessories > Headphone Accessories', 'Console Replacement Parts', 'Headphone Cases', 'Accessories for Headphones', 'Audio & HiFi Accessories', 'Headphone Accessory']\u001b[0m\n",
      "\n",
      "\u001b[5m\u001b[7m\u001b[91mGround-Truth ->  data_input_text\u001b[0m \u001b[91m: Gargoyles quest 2 nes\u001b[0m\n",
      "\u001b[5m\u001b[7m\u001b[91mLinker ->  data_input_text\u001b[0m \u001b[91m: Gargoyles quest 2 nes\u001b[0m\n",
      "\u001b[5m\u001b[7m\u001b[93mGround-Truth ->  lbl2data_input_text\u001b[0m \u001b[93m: ['Video Game']\u001b[0m\n",
      "\u001b[5m\u001b[7m\u001b[93mLinker ->  lbl2data_input_text\u001b[0m \u001b[93m: ['Video Game', 'Video Game Documentary', 'Video game', 'Interactive Mystery Game', 'Mystery Video Game', 'TV Game', 'Electronic Arcade Toy', 'Video Game Mod', 'Video Game Merch', 'Video Game Replica']\u001b[0m\n",
      "\n",
      "\u001b[5m\u001b[7m\u001b[91mGround-Truth ->  data_input_text\u001b[0m \u001b[91m: Dark Orange Faux Leather Suede Necklace Cord 10 Feet Ultra Microfiber\u001b[0m\n",
      "\u001b[5m\u001b[7m\u001b[91mLinker ->  data_input_text\u001b[0m \u001b[91m: Dark Orange Faux Leather Suede Necklace Cord 10 Feet Ultra Microfiber\u001b[0m\n",
      "\u001b[5m\u001b[7m\u001b[93mGround-Truth ->  lbl2data_input_text\u001b[0m \u001b[93m: ['Jewelry Making Supplies']\u001b[0m\n",
      "\u001b[5m\u001b[7m\u001b[93mLinker ->  lbl2data_input_text\u001b[0m \u001b[93m: ['Jewelry Supplies', 'Jewelry Making Supplies', 'Jewelry Repair', 'Jewelry Care', 'Jewelry making supplies', 'Earring Accessories', 'Jewelry Polishing Compound', 'Jewelry Cord', 'Bracelet Making Supplies', 'Jewelry Packaging Supplies']\u001b[0m\n",
      "\n",
      "\u001b[5m\u001b[7m\u001b[91mGround-Truth ->  data_input_text\u001b[0m \u001b[91m: Vatiri Handmade Portable Clear Glass Water Bottle, 1100ml 37.2 fl oz\u001b[0m\n",
      "\u001b[5m\u001b[7m\u001b[91mLinker ->  data_input_text\u001b[0m \u001b[91m: Vatiri Handmade Portable Clear Glass Water Bottle, 1100ml 37.2 fl oz\u001b[0m\n",
      "\u001b[5m\u001b[7m\u001b[93mGround-Truth ->  lbl2data_input_text\u001b[0m \u001b[93m: ['Water Bottles']\u001b[0m\n",
      "\u001b[5m\u001b[7m\u001b[93mLinker ->  lbl2data_input_text\u001b[0m \u001b[93m: ['Water Bottles', 'Reusable Water Bottles', 'Hydration Bottles', 'Reusable Water Bottle', 'Travel Bottles', 'Outdoor Water Bottles', 'Glass Water Bottles', 'Water Bottles & Hydration', 'Handheld Water Bottle', 'Outdoor & Recreational Water Bottles']\u001b[0m\n",
      "\n",
      "\u001b[5m\u001b[7m\u001b[91mGround-Truth ->  data_input_text\u001b[0m \u001b[91m: Replacement Adapter Cable 1S, fits Aputure Pro Coworker for Sony A100, A200, A300, A350, A500, A550, A560, A580, A700, A850, A900, SLT-A33, A35, A55, A57, A77, Konica Minolta Maxxum 5D, 7D\u001b[0m\n",
      "\u001b[5m\u001b[7m\u001b[91mLinker ->  data_input_text\u001b[0m \u001b[91m: Replacement Adapter Cable 1S, fits Aputure Pro Coworker for Sony A100, A200, A300, A350, A500, A550, A560, A580, A700, A850, A900, SLT-A33, A35, A55, A57, A77, Konica Minolta Maxxum 5D, 7D\u001b[0m\n",
      "\u001b[5m\u001b[7m\u001b[93mGround-Truth ->  lbl2data_input_text\u001b[0m \u001b[93m: ['Camera Accessories']\u001b[0m\n",
      "\u001b[5m\u001b[7m\u001b[93mLinker ->  lbl2data_input_text\u001b[0m \u001b[93m: ['Camera Accessories', 'US History Educational Material', 'Literature & Fiction (Sherlock Holmes)', 'Skincare & Aromatherapy', 'Movie Accessories', 'Movie Apparel', 'Electronics/Audio & Home Theater', 'Earphones & Accessories', 'Electronics - Audio & Home Theater', 'Sheet Music / Instrumental Play-Along']\u001b[0m\n",
      "\n",
      "\u001b[5m\u001b[7m\u001b[91mGround-Truth ->  data_input_text\u001b[0m \u001b[91m: 2d fighter made by Capcom of Street Fighter and Marvel vs Capcom fame!\u001b[0m\n",
      "\u001b[5m\u001b[7m\u001b[91mLinker ->  data_input_text\u001b[0m \u001b[91m: 2d fighter made by Capcom of Street Fighter and Marvel vs Capcom fame!\u001b[0m\n",
      "\u001b[5m\u001b[7m\u001b[93mGround-Truth ->  lbl2data_input_text\u001b[0m \u001b[93m: ['Video Games']\u001b[0m\n",
      "\u001b[5m\u001b[7m\u001b[93mLinker ->  lbl2data_input_text\u001b[0m \u001b[93m: ['Video Games', 'Trading Cards', 'Computer Games', 'NES Action Game', 'Wrestling', 'Hot Sauces', 'Action Video Games', 'NES Games', 'Trading Cards - Yu-Gi-Oh!', 'Pickles']\u001b[0m\n",
      "\n",
      "\u001b[5m\u001b[7m\u001b[91mGround-Truth ->  data_input_text\u001b[0m \u001b[91m: Crocs Electro Clog (Toddler/Little Kid)\u001b[0m\n",
      "\u001b[5m\u001b[7m\u001b[91mLinker ->  data_input_text\u001b[0m \u001b[91m: Crocs Electro Clog (Toddler/Little Kid)\u001b[0m\n",
      "\u001b[5m\u001b[7m\u001b[93mGround-Truth ->  lbl2data_input_text\u001b[0m \u001b[93m: [\"Children's Footwear\"]\u001b[0m\n",
      "\u001b[5m\u001b[7m\u001b[93mLinker ->  lbl2data_input_text\u001b[0m \u001b[93m: [\"Children's Musical Instruments\", \"Children's Footwear\", 'Pet Footwear', \"Children's Equestrian Footwear\", \"Children's Foot Care\", \"Women's Top\", \"Footwear - Women's Slipper\", 'Sidewalk Signage', 'European Bead Charm', \"Children's Plush Slippers\"]\u001b[0m\n",
      "\n",
      "\u001b[5m\u001b[7m\u001b[91mGround-Truth ->  data_input_text\u001b[0m \u001b[91m: MTM Arrow Plus Case\u001b[0m\n",
      "\u001b[5m\u001b[7m\u001b[91mLinker ->  data_input_text\u001b[0m \u001b[91m: MTM Arrow Plus Case\u001b[0m\n",
      "\u001b[5m\u001b[7m\u001b[93mGround-Truth ->  lbl2data_input_text\u001b[0m \u001b[93m: ['Archery Accessories']\u001b[0m\n",
      "\u001b[5m\u001b[7m\u001b[93mLinker ->  lbl2data_input_text\u001b[0m \u001b[93m: ['Archery Accessories', 'Archery Equipment & Accessories', 'Archery Supplies', 'Archery Case', 'Archery Equipment Case', 'Archery Bow Releases', 'Bow and Archery Accessories', 'Red Dot Sight Accessories', 'Archery and Firearms Targets', 'Archery Bow Cases']\u001b[0m\n",
      "\n",
      "\u001b[5m\u001b[7m\u001b[91mGround-Truth ->  data_input_text\u001b[0m \u001b[91m: 3 Pairs of Gold Teardrop Style Circle 4 Inch Drop Iced Out Mob Wives Poparazzi\u001b[0m\n",
      "\u001b[5m\u001b[7m\u001b[91mLinker ->  data_input_text\u001b[0m \u001b[91m: 3 Pairs of Gold Teardrop Style Circle 4 Inch Drop Iced Out Mob Wives Poparazzi\u001b[0m\n",
      "\u001b[5m\u001b[7m\u001b[93mGround-Truth ->  lbl2data_input_text\u001b[0m \u001b[93m: ['Jewelry']\u001b[0m\n",
      "\u001b[5m\u001b[7m\u001b[93mLinker ->  lbl2data_input_text\u001b[0m \u001b[93m: ['Jewelry', 'Wedding Jewelry', 'Wedding Rings', 'Charms and Beads', 'Nurse Jewelry', 'Ladies Jewelry', \"Couple's Jewelry\", 'Magnetic Brooch Pin', 'European Bead Charm', 'jewelry']\u001b[0m\n",
      "\n",
      "\u001b[5m\u001b[7m\u001b[91mGround-Truth ->  data_input_text\u001b[0m \u001b[91m: Aputure Pro Coworker Wireless Remote, RF Radio Shutter Release for Canon EOS 1D, 1DS Mark II, III, Mark III, IV, 1DC, 1DX, 10D, 20D, 20DA, 30D, 40D, 50D, 5D, 5D Mark II, III, 7D, Replaces Canon RS80N3\u001b[0m\n",
      "\u001b[5m\u001b[7m\u001b[91mLinker ->  data_input_text\u001b[0m \u001b[91m: Aputure Pro Coworker Wireless Remote, RF Radio Shutter Release for Canon EOS 1D, 1DS Mark II, III, Mark III, IV, 1DC, 1DX, 10D, 20D, 20DA, 30D, 40D, 50D, 5D, 5D Mark II, III, 7D, Replaces Canon RS80N3\u001b[0m\n",
      "\u001b[5m\u001b[7m\u001b[93mGround-Truth ->  lbl2data_input_text\u001b[0m \u001b[93m: ['Camera Accessories']\u001b[0m\n",
      "\u001b[5m\u001b[7m\u001b[93mLinker ->  lbl2data_input_text\u001b[0m \u001b[93m: ['World War II History', 'Camera Accessories', 'Prepared & Packaged Food', 'Movie Accessories', 'Movie Apparel', 'Home & Kitchen - Vacuums', 'Movie Costumes', 'Movie Costume Accessory', 'Movie Costumes and Accessories', 'Prepared & Packaged Foods']\u001b[0m\n",
      "\n",
      "\u001b[5m\u001b[7m\u001b[91mGround-Truth ->  data_input_text\u001b[0m \u001b[91m: Replacement Adapter Cable 3L, fits Aputure Pro Coworker for Olympus E-400, E-410, E-420, E-450, E-510, E-520, E-620, SP-57DUZ, SP-560EZ, SP-550EZ, SP-510EZ, PEN E-PL1s, E-PL2, E-PL3, E-P2, E-P3, E-M, OM-D E-M5\u001b[0m\n",
      "\u001b[5m\u001b[7m\u001b[91mLinker ->  data_input_text\u001b[0m \u001b[91m: Replacement Adapter Cable 3L, fits Aputure Pro Coworker for Olympus E-400, E-410, E-420, E-450, E-510, E-520, E-620, SP-57DUZ, SP-560EZ, SP-550EZ, SP-510EZ, PEN E-PL1s, E-PL2, E-PL3, E-P2, E-P3, E-M, OM-D E-M5\u001b[0m\n",
      "\u001b[5m\u001b[7m\u001b[93mGround-Truth ->  lbl2data_input_text\u001b[0m \u001b[93m: ['Camera Accessories']\u001b[0m\n",
      "\u001b[5m\u001b[7m\u001b[93mLinker ->  lbl2data_input_text\u001b[0m \u001b[93m: ['Camera Accessories', 'Camera & Photo Accessories', 'Cooking Tools & Accessories', 'Camera/Photo Accessories', 'Camera & Photo Accessory', 'Camera & Photo accessories', 'Pet-themed Home & Kitchen', 'Glassware & Kitchen Accessories', 'Adapter Accessories', 'Automotive Electric Parts']\u001b[0m\n",
      "\n",
      "\u001b[5m\u001b[7m\u001b[91mGround-Truth ->  data_input_text\u001b[0m \u001b[91m: Foaling: Brood Mare and Foal Management\u001b[0m\n",
      "\u001b[5m\u001b[7m\u001b[91mLinker ->  data_input_text\u001b[0m \u001b[91m: Foaling: Brood Mare and Foal Management\u001b[0m\n",
      "\u001b[5m\u001b[7m\u001b[93mGround-Truth ->  lbl2data_input_text\u001b[0m \u001b[93m: ['Horse Care & Management']\u001b[0m\n",
      "\u001b[5m\u001b[7m\u001b[93mLinker ->  lbl2data_input_text\u001b[0m \u001b[93m: ['Equine Training and Care', 'Equine Management Book', 'Equine Veterinary Care Book', 'Equine Care & Training Book', 'Equine/Horse Training Book', 'Horse Care/Stable Management Book', 'Horse Breeding and Training Book', 'Equine Care & Management Book', 'Horse Care & Management', 'Horse Management Book']\u001b[0m\n",
      "\n",
      "\u001b[5m\u001b[7m\u001b[91mGround-Truth ->  data_input_text\u001b[0m \u001b[91m: SMDV Remote Shutter Release Cable for Olympus  E-400, E-410, E-420, E-450, E-510, E-520, E-620, SP-57DUZ, SP-560EZ, SP-550EZ, SP-510EZ, E-PL2, E-PL3, E-P2, E-P3, E-M, OM-D E-M5, Replaces Olympus RM-UC1\u001b[0m\n",
      "\u001b[5m\u001b[7m\u001b[91mLinker ->  data_input_text\u001b[0m \u001b[91m: SMDV Remote Shutter Release Cable for Olympus  E-400, E-410, E-420, E-450, E-510, E-520, E-620, SP-57DUZ, SP-560EZ, SP-550EZ, SP-510EZ, E-PL2, E-PL3, E-P2, E-P3, E-M, OM-D E-M5, Replaces Olympus RM-UC1\u001b[0m\n",
      "\u001b[5m\u001b[7m\u001b[93mGround-Truth ->  lbl2data_input_text\u001b[0m \u001b[93m: ['Camera Accessories']\u001b[0m\n",
      "\u001b[5m\u001b[7m\u001b[93mLinker ->  lbl2data_input_text\u001b[0m \u001b[93m: ['Eastern Philosophy', 'Camera Accessories', 'Stereoscopic Viewer Accessories', 'Indonesian Music Album', 'Home & Kitchen - Vacuum Cleaners', 'Archery Release Tools', 'Home & Kitchen - Vacuum Cleaner', 'Home & Kitchen - Vacuums', 'Hunting Camera Accessories', 'Archery Release']\u001b[0m\n",
      "\n",
      "\u001b[5m\u001b[7m\u001b[91mGround-Truth ->  data_input_text\u001b[0m \u001b[91m: National Floral Flannel Nightgown\u001b[0m\n",
      "\u001b[5m\u001b[7m\u001b[91mLinker ->  data_input_text\u001b[0m \u001b[91m: National Floral Flannel Nightgown\u001b[0m\n",
      "\u001b[5m\u001b[7m\u001b[93mGround-Truth ->  lbl2data_input_text\u001b[0m \u001b[93m: [\"Women's Sleepwear\"]\u001b[0m\n",
      "\u001b[5m\u001b[7m\u001b[93mLinker ->  lbl2data_input_text\u001b[0m \u001b[93m: ['Diet Book', 'Family Therapy Book', 'Religion Dictionary', 'Clothing Construction Textbook', \"Women's Watches\", \"Women's Sleepwear\", \"Children's Organization Tools\", 'Maternity Sleepwear', 'Utensil Set', 'European Bead Charm']\u001b[0m\n",
      "\n",
      "\u001b[5m\u001b[7m\u001b[91mGround-Truth ->  data_input_text\u001b[0m \u001b[91m: XMark Commercial 45 Degree Ab Back Hyperextension Roman Chair XM-7609\u001b[0m\n",
      "\u001b[5m\u001b[7m\u001b[91mLinker ->  data_input_text\u001b[0m \u001b[91m: XMark Commercial 45 Degree Ab Back Hyperextension Roman Chair XM-7609\u001b[0m\n",
      "\u001b[5m\u001b[7m\u001b[93mGround-Truth ->  lbl2data_input_text\u001b[0m \u001b[93m: ['Fitness Equipment']\u001b[0m\n",
      "\u001b[5m\u001b[7m\u001b[93mLinker ->  lbl2data_input_text\u001b[0m \u001b[93m: ['Fitness Equipment', 'Orthopedic Seating', 'Indoor Cycling Trainer', 'Foot Fitness Equipment', 'Fitness Tools', 'Indoor Exercise Equipment', 'Body Support Equipment', \"Women's Fitness Equipment\", 'Dumbbells', 'Pet Fitness Equipment']\u001b[0m\n",
      "\n",
      "\u001b[5m\u001b[7m\u001b[91mGround-Truth ->  data_input_text\u001b[0m \u001b[91m: SMDV Remote Shutter Release Cable for Nikon D90, D3100, D3200, D5000, D5100, D5200, D7100 Replaces Nikon MC-DC2\u001b[0m\n",
      "\u001b[5m\u001b[7m\u001b[91mLinker ->  data_input_text\u001b[0m \u001b[91m: SMDV Remote Shutter Release Cable for Nikon D90, D3100, D3200, D5000, D5100, D5200, D7100 Replaces Nikon MC-DC2\u001b[0m\n",
      "\u001b[5m\u001b[7m\u001b[93mGround-Truth ->  lbl2data_input_text\u001b[0m \u001b[93m: ['Camera Accessories']\u001b[0m\n",
      "\u001b[5m\u001b[7m\u001b[93mLinker ->  lbl2data_input_text\u001b[0m \u001b[93m: ['Modern History Book', 'Camera Accessories', '1930s British Mystery Book', 'Classic British Mystery Book', 'Camera Accessory', 'Cooking Tools & Accessories', 'Cooking Appliances', 'Camera & Photo Accessory', 'Photographic Books', 'Home & Kitchen / HVAC']\u001b[0m\n",
      "\n",
      "\u001b[5m\u001b[7m\u001b[91mGround-Truth ->  data_input_text\u001b[0m \u001b[91m: Bubba Keg 70 Oz Insulated Mug Black\u001b[0m\n",
      "\u001b[5m\u001b[7m\u001b[91mLinker ->  data_input_text\u001b[0m \u001b[91m: Bubba Keg 70 Oz Insulated Mug Black\u001b[0m\n",
      "\u001b[5m\u001b[7m\u001b[93mGround-Truth ->  lbl2data_input_text\u001b[0m \u001b[93m: ['Drinkware']\u001b[0m\n",
      "\u001b[5m\u001b[7m\u001b[93mLinker ->  lbl2data_input_text\u001b[0m \u001b[93m: ['Drinkware', 'Insulated Drinkware', 'Insulated Beverage Containers', 'Vacuum Insulated Travel Mug', 'Travel Mugs & Thermoses', 'Insulated Tumblers', 'Thermos Mug', 'Tumblers & Travel Mugs', 'Insulated Tumbler', 'Insulated Drink Containers']\u001b[0m\n",
      "\n",
      "\u001b[5m\u001b[7m\u001b[91mGround-Truth ->  data_input_text\u001b[0m \u001b[91m: Beyblade Metal Fury B-142 Blitz Striker 100sf Top\u001b[0m\n",
      "\u001b[5m\u001b[7m\u001b[91mLinker ->  data_input_text\u001b[0m \u001b[91m: Beyblade Metal Fury B-142 Blitz Striker 100sf Top\u001b[0m\n",
      "\u001b[5m\u001b[7m\u001b[93mGround-Truth ->  lbl2data_input_text\u001b[0m \u001b[93m: ['Toy (Spinning Tops)']\u001b[0m\n",
      "\u001b[5m\u001b[7m\u001b[93mLinker ->  lbl2data_input_text\u001b[0m \u001b[93m: ['Toy Spinning Tops', 'Spinning Tops', 'Toy Battling Tops', 'Toy Tops', 'Spinning Top Toy', 'Beyblade Toy', 'Figure Skating Training Equipment', 'Trailer Toy', 'Doorstops', 'Toy (Spinning Tops)']\u001b[0m\n",
      "\n",
      "\u001b[5m\u001b[7m\u001b[91mGround-Truth ->  data_input_text\u001b[0m \u001b[91m: Unisex Adults/Children Genuine Leather Biblical Sandals / Flip flops (Jesus - Yashua) Mariam Style I - Holy Land Market Camel Trademark\u001b[0m\n",
      "\u001b[5m\u001b[7m\u001b[91mLinker ->  data_input_text\u001b[0m \u001b[91m: Unisex Adults/Children Genuine Leather Biblical Sandals / Flip flops (Jesus - Yashua) Mariam Style I - Holy Land Market Camel Trademark\u001b[0m\n",
      "\u001b[5m\u001b[7m\u001b[93mGround-Truth ->  lbl2data_input_text\u001b[0m \u001b[93m: ['Footwear']\u001b[0m\n",
      "\u001b[5m\u001b[7m\u001b[93mLinker ->  lbl2data_input_text\u001b[0m \u001b[93m: ['Footwear', 'Study Guide/College Prep', 'Academic/Statistics Book', 'Wire', 'Thread', 'Ropes', 'Pipe', 'Flip-Flops', 'Chemical', 'College Prep Book']\u001b[0m\n",
      "\n",
      "\u001b[5m\u001b[7m\u001b[91mGround-Truth ->  data_input_text\u001b[0m \u001b[91m: Taymor 02-D79614SN Maxwell Three Piece Bath Set, Satin Nickel\u001b[0m\n",
      "\u001b[5m\u001b[7m\u001b[91mLinker ->  data_input_text\u001b[0m \u001b[91m: Taymor 02-D79614SN Maxwell Three Piece Bath Set, Satin Nickel\u001b[0m\n",
      "\u001b[5m\u001b[7m\u001b[93mGround-Truth ->  lbl2data_input_text\u001b[0m \u001b[93m: ['Bathroom Accessories']\u001b[0m\n",
      "\u001b[5m\u001b[7m\u001b[93mLinker ->  lbl2data_input_text\u001b[0m \u001b[93m: ['Bathroom Fixtures', 'Bathroom Accessories', 'Bath Mats', 'Bathroom Linens', 'Bathware', 'Bathrobes', 'Bathroom Linen', 'Bathroom', 'Bathroom Plumbing Fixtures', 'Bathroom Vanity Sets']\u001b[0m\n",
      "\n",
      "\u001b[5m\u001b[7m\u001b[91mGround-Truth ->  data_input_text\u001b[0m \u001b[91m: Taymor 01-ORB101SAL Residential Recessed Toilet Tissue Holder with Plated Bronze Aluminum Roller, Oil Rubbed Bronze\u001b[0m\n",
      "\u001b[5m\u001b[7m\u001b[91mLinker ->  data_input_text\u001b[0m \u001b[91m: Taymor 01-ORB101SAL Residential Recessed Toilet Tissue Holder with Plated Bronze Aluminum Roller, Oil Rubbed Bronze\u001b[0m\n",
      "\u001b[5m\u001b[7m\u001b[93mGround-Truth ->  lbl2data_input_text\u001b[0m \u001b[93m: ['Bathroom Accessories']\u001b[0m\n",
      "\u001b[5m\u001b[7m\u001b[93mLinker ->  lbl2data_input_text\u001b[0m \u001b[93m: ['Bathroom Accessories', 'Lotion Dispensers', 'Bathroom and Kitchen Storage', 'Bathroom and Kitchen Fixtures', 'Bathroom & Kitchen Fixtures', 'Home & Kitchen > Bath > Bathroom Accessories > Lotion Dispensers', 'Home Improvement > Bathroom Fixtures > Robe Hooks', 'Home & Kitchen > Bathroom Accessories > Towel Holders', 'Restroom Accessories', 'Bidet Accessories']\u001b[0m\n",
      "\n",
      "\u001b[5m\u001b[7m\u001b[91mGround-Truth ->  data_input_text\u001b[0m \u001b[91m: Taymor 01-ORB101SAL Residential Recessed Toilet Tissue Holder with Plated Bronze Aluminum Roller, Oil Rubbed Bronze\u001b[0m\n",
      "\u001b[5m\u001b[7m\u001b[91mLinker ->  data_input_text\u001b[0m \u001b[91m: Taymor 01-ORB101SAL Residential Recessed Toilet Tissue Holder with Plated Bronze Aluminum Roller, Oil Rubbed Bronze\u001b[0m\n",
      "\u001b[5m\u001b[7m\u001b[93mGround-Truth ->  lbl2data_input_text\u001b[0m \u001b[93m: ['Bathroom Accessories']\u001b[0m\n",
      "\u001b[5m\u001b[7m\u001b[93mLinker ->  lbl2data_input_text\u001b[0m \u001b[93m: ['Bathroom Accessories', 'Lotion Dispensers', 'Bathroom and Kitchen Storage', 'Bathroom and Kitchen Fixtures', 'Bathroom & Kitchen Fixtures', 'Home & Kitchen > Bath > Bathroom Accessories > Lotion Dispensers', 'Home Improvement > Bathroom Fixtures > Robe Hooks', 'Home & Kitchen > Bathroom Accessories > Towel Holders', 'Restroom Accessories', 'Bidet Accessories']\u001b[0m\n",
      "\n",
      "\u001b[5m\u001b[7m\u001b[91mGround-Truth ->  data_input_text\u001b[0m \u001b[91m: Greenies Dog Dental Chew Treats Teenie 36oz 130ct\u001b[0m\n",
      "\u001b[5m\u001b[7m\u001b[91mLinker ->  data_input_text\u001b[0m \u001b[91m: Greenies Dog Dental Chew Treats Teenie 36oz 130ct\u001b[0m\n",
      "\u001b[5m\u001b[7m\u001b[93mGround-Truth ->  lbl2data_input_text\u001b[0m \u001b[93m: ['Pet Supplies']\u001b[0m\n",
      "\u001b[5m\u001b[7m\u001b[93mLinker ->  lbl2data_input_text\u001b[0m \u001b[93m: ['Business Intelligence Software Book', 'Business & IT Management Book', 'Pet Supplies', 'Dog Adoption Guide Book', 'pet supplies', 'Light-up Glassware', 'Preserves', 'Greyhound Adoption Book', 'Animal Rights Advocacy Book', 'Pet Car Barrier']\u001b[0m\n",
      "\n",
      "\u001b[5m\u001b[7m\u001b[91mGround-Truth ->  data_input_text\u001b[0m \u001b[91m: Li-ION Notebook/Laptop Battery\u001b[0m\n",
      "\u001b[5m\u001b[7m\u001b[91mLinker ->  data_input_text\u001b[0m \u001b[91m: Li-ION Notebook/Laptop Battery\u001b[0m\n",
      "\u001b[5m\u001b[7m\u001b[93mGround-Truth ->  lbl2data_input_text\u001b[0m \u001b[93m: ['Laptop Accessories']\u001b[0m\n",
      "\u001b[5m\u001b[7m\u001b[93mLinker ->  lbl2data_input_text\u001b[0m \u001b[93m: ['Laptop Guide Book', 'Weaving Magazine', 'Laptop Accessories', 'Netbook Accessories', 'Log Splitter', 'Lapdesk', 'Network-Attached Storage', 'Journal Accessories', 'Keychain / Cosplay Accessories', 'Laptop Lap Desks']\u001b[0m\n",
      "\n",
      "\u001b[5m\u001b[7m\u001b[91mGround-Truth ->  data_input_text\u001b[0m \u001b[91m: Women/Girls Genuine Leather Biblical Sandals / Flip flops (Jesus - Yashua) Sarah Style I - Holy Land Market Camel Trademark\u001b[0m\n",
      "\u001b[5m\u001b[7m\u001b[91mLinker ->  data_input_text\u001b[0m \u001b[91m: Women/Girls Genuine Leather Biblical Sandals / Flip flops (Jesus - Yashua) Sarah Style I - Holy Land Market Camel Trademark\u001b[0m\n",
      "\u001b[5m\u001b[7m\u001b[93mGround-Truth ->  lbl2data_input_text\u001b[0m \u001b[93m: ['Religious Footwear']\u001b[0m\n",
      "\u001b[5m\u001b[7m\u001b[93mLinker ->  lbl2data_input_text\u001b[0m \u001b[93m: ['Religious Travel Guide', 'Religious Law Book', 'Religious Architecture Guide', 'Religious Jewelry', 'Bridal Footwear', 'Holiday Footwear', 'Religious Footwear', 'Religious Bracelet', 'Church Charms', 'Religious Keychains']\u001b[0m\n",
      "\n",
      "\u001b[5m\u001b[7m\u001b[91mGround-Truth ->  data_input_text\u001b[0m \u001b[91m: Women/Girls Genuine Leather Biblical Sandals / Flip flops (Jesus - Yashua) Sarah Style I - Holy Land Market Camel Trademark\u001b[0m\n",
      "\u001b[5m\u001b[7m\u001b[91mLinker ->  data_input_text\u001b[0m \u001b[91m: Women/Girls Genuine Leather Biblical Sandals / Flip flops (Jesus - Yashua) Sarah Style I - Holy Land Market Camel Trademark\u001b[0m\n",
      "\u001b[5m\u001b[7m\u001b[93mGround-Truth ->  lbl2data_input_text\u001b[0m \u001b[93m: ['Religious Footwear']\u001b[0m\n",
      "\u001b[5m\u001b[7m\u001b[93mLinker ->  lbl2data_input_text\u001b[0m \u001b[93m: ['Religious Travel Guide', 'Religious Law Book', 'Religious Architecture Guide', 'Religious Jewelry', 'Bridal Footwear', 'Holiday Footwear', 'Religious Footwear', 'Religious Bracelet', 'Church Charms', 'Religious Keychains']\u001b[0m\n",
      "\n",
      "\u001b[5m\u001b[7m\u001b[91mGround-Truth ->  data_input_text\u001b[0m \u001b[91m: London Fog Girls 7-16 Snow Pants, Black, 10-12\u001b[0m\n",
      "\u001b[5m\u001b[7m\u001b[91mLinker ->  data_input_text\u001b[0m \u001b[91m: London Fog Girls 7-16 Snow Pants, Black, 10-12\u001b[0m\n",
      "\u001b[5m\u001b[7m\u001b[93mGround-Truth ->  lbl2data_input_text\u001b[0m \u001b[93m: [\"Children's Clothing\"]\u001b[0m\n",
      "\u001b[5m\u001b[7m\u001b[93mLinker ->  lbl2data_input_text\u001b[0m \u001b[93m: [\"Children's Clothing\", 'Clothing History Book', \"Boys' Snow Wear\", \"Children's Snowwear\", \"Children's Ski Wear\", \"Children's Costume Clothing\", 'Youth Snow Pants', \"Girls' Snow Pants\", \"Children's Snow Pants\", \"Children's Snow Wear\"]\u001b[0m\n",
      "\n",
      "\u001b[5m\u001b[7m\u001b[91mGround-Truth ->  data_input_text\u001b[0m \u001b[91m: In this futuristic platform game, a computer virus has affected the Earth's defense systems.\u001b[0m\n",
      "\u001b[5m\u001b[7m\u001b[91mLinker ->  data_input_text\u001b[0m \u001b[91m: In this futuristic platform game, a computer virus has affected the Earth's defense systems.\u001b[0m\n",
      "\u001b[5m\u001b[7m\u001b[93mGround-Truth ->  lbl2data_input_text\u001b[0m \u001b[93m: ['Video Game']\u001b[0m\n",
      "\u001b[5m\u001b[7m\u001b[93mLinker ->  lbl2data_input_text\u001b[0m \u001b[93m: ['Video Game', 'PC Game', 'Video game', 'Interactive Mystery Game', 'Mystery Video Game', 'Video Entertainment', 'Computer Game', 'Wii Game', 'Mobile Application Game', 'Interactive Horror Game']\u001b[0m\n",
      "\n",
      "\u001b[5m\u001b[7m\u001b[91mGround-Truth ->  data_input_text\u001b[0m \u001b[91m: Li-ION Notebook/Laptop Battery for HP 586006-321 593550-001 593553-001 HSTNN-Q61C MU06 MU09\u001b[0m\n",
      "\u001b[5m\u001b[7m\u001b[91mLinker ->  data_input_text\u001b[0m \u001b[91m: Li-ION Notebook/Laptop Battery for HP 586006-321 593550-001 593553-001 HSTNN-Q61C MU06 MU09\u001b[0m\n",
      "\u001b[5m\u001b[7m\u001b[93mGround-Truth ->  lbl2data_input_text\u001b[0m \u001b[93m: ['Laptop Accessories']\u001b[0m\n",
      "\u001b[5m\u001b[7m\u001b[93mLinker ->  lbl2data_input_text\u001b[0m \u001b[93m: ['Laptop Accessories', 'Laptop Battery', 'Electronics > Laptop Batteries', 'Notebook Battery', 'Laptop Batteries and Accessories', 'Laptop battery', 'Laptop Batteries and Power Supplies', 'Laptop Battery Accessories', 'Anker Laptop Batteries', 'Password Logbooks']\u001b[0m\n",
      "\n",
      "\u001b[5m\u001b[7m\u001b[91mGround-Truth ->  data_input_text\u001b[0m \u001b[91m: Unisex Adults/Children Genuine Leather Biblical Sandals / Flip flops (Jesus - Yashua) Paul Style I - Holy Land Market Camel Trademark\u001b[0m\n",
      "\u001b[5m\u001b[7m\u001b[91mLinker ->  data_input_text\u001b[0m \u001b[91m: Unisex Adults/Children Genuine Leather Biblical Sandals / Flip flops (Jesus - Yashua) Paul Style I - Holy Land Market Camel Trademark\u001b[0m\n",
      "\u001b[5m\u001b[7m\u001b[93mGround-Truth ->  lbl2data_input_text\u001b[0m \u001b[93m: ['Footwear']\u001b[0m\n",
      "\u001b[5m\u001b[7m\u001b[93mLinker ->  lbl2data_input_text\u001b[0m \u001b[93m: ['Footwear', 'Academic/Statistics Book', 'Wire', 'Traditional Footwear', 'Thread', 'Ropes', 'Pipe', 'Flip-Flops', 'Chemical', 'College Prep Book']\u001b[0m\n",
      "\n",
      "\u001b[5m\u001b[7m\u001b[91mGround-Truth ->  data_input_text\u001b[0m \u001b[91m: NHL Pittsburgh Penguins Primary Logo T-Shirt\u001b[0m\n",
      "\u001b[5m\u001b[7m\u001b[91mLinker ->  data_input_text\u001b[0m \u001b[91m: NHL Pittsburgh Penguins Primary Logo T-Shirt\u001b[0m\n",
      "\u001b[5m\u001b[7m\u001b[93mGround-Truth ->  lbl2data_input_text\u001b[0m \u001b[93m: ['Sports Team Apparel']\u001b[0m\n",
      "\u001b[5m\u001b[7m\u001b[93mLinker ->  lbl2data_input_text\u001b[0m \u001b[93m: ['Sports Fan Apparel', 'Sports & Fan Outdoor Apparel', 'Sports Team Apparel', 'Sports Fan Apparel and Souvenirs', 'Sports Apparel and Fan Gear', \"Children's Recreational Activity\", 'Skincare & Lip Care', 'Sports Fan Clothing', 'Team Apparel', 'Softporn Movie']\u001b[0m\n",
      "\n",
      "\u001b[5m\u001b[7m\u001b[91mGround-Truth ->  data_input_text\u001b[0m \u001b[91m: Clarks Men's Saranac Lace Up\u001b[0m\n",
      "\u001b[5m\u001b[7m\u001b[91mLinker ->  data_input_text\u001b[0m \u001b[91m: Clarks Men's Saranac Lace Up\u001b[0m\n",
      "\u001b[5m\u001b[7m\u001b[93mGround-Truth ->  lbl2data_input_text\u001b[0m \u001b[93m: [\"Men's Footwear\"]\u001b[0m\n",
      "\u001b[5m\u001b[7m\u001b[93mLinker ->  lbl2data_input_text\u001b[0m \u001b[93m: [\"Men's Clothing\", \"Men's Footwear\", \"Women's Clothing - Dresses\", \"Women's Clothing - Evening Dresses\", \"Men's Lingerie\", \"Women's Shirts & Tops\", \"Women's Fashion Earrings\", \"Jewelry & Accessories - Women's Rings\", 'Women’s Dresses', 'European Bead Charm']\u001b[0m\n",
      "\n",
      "\u001b[5m\u001b[7m\u001b[91mGround-Truth ->  data_input_text\u001b[0m \u001b[91m: I Will Be Thine Always: Devotional Chants from Paramahansa Yogananda's Cosmic Chants\u001b[0m\n",
      "\u001b[5m\u001b[7m\u001b[91mLinker ->  data_input_text\u001b[0m \u001b[91m: I Will Be Thine Always: Devotional Chants from Paramahansa Yogananda's Cosmic Chants\u001b[0m\n",
      "\u001b[5m\u001b[7m\u001b[93mGround-Truth ->  lbl2data_input_text\u001b[0m \u001b[93m: ['Devotional Music']\u001b[0m\n",
      "\u001b[5m\u001b[7m\u001b[93mLinker ->  lbl2data_input_text\u001b[0m \u001b[93m: ['Spiritual Music', 'Spirituals Music Book', 'Spiritual Devotionals', 'Hindu Devotional Books and Music', 'Devotional Music Book', 'Devotional Music', 'Devotional Music CD', 'Hindu Devotional Music', 'Spiritual Music CD', 'Devotional Music Album']\u001b[0m\n",
      "\n",
      "\u001b[5m\u001b[7m\u001b[91mGround-Truth ->  data_input_text\u001b[0m \u001b[91m: Skechers Men's Alley Boot Casual Boot\u001b[0m\n",
      "\u001b[5m\u001b[7m\u001b[91mLinker ->  data_input_text\u001b[0m \u001b[91m: Skechers Men's Alley Boot Casual Boot\u001b[0m\n",
      "\u001b[5m\u001b[7m\u001b[93mGround-Truth ->  lbl2data_input_text\u001b[0m \u001b[93m: [\"Men's Footwear\"]\u001b[0m\n",
      "\u001b[5m\u001b[7m\u001b[93mLinker ->  lbl2data_input_text\u001b[0m \u001b[93m: ['GED Instructional Book', \"Men's Footwear\", 'Printer Ink & Toner', 'Surveying Tools', \"Women's Clothing - Dresses\", \"Men's Slides\", \"Women's Fashion Earrings\", \"Teen Girls' Apparel\", \"Teen Girls' Clothing\", 'European Bead Charm']\u001b[0m\n",
      "\n",
      "\u001b[5m\u001b[7m\u001b[91mGround-Truth ->  data_input_text\u001b[0m \u001b[91m: Saucony Women's ProGrid Jazz 13 Running Shoe\u001b[0m\n",
      "\u001b[5m\u001b[7m\u001b[91mLinker ->  data_input_text\u001b[0m \u001b[91m: Saucony Women's ProGrid Jazz 13 Running Shoe\u001b[0m\n",
      "\u001b[5m\u001b[7m\u001b[93mGround-Truth ->  lbl2data_input_text\u001b[0m \u001b[93m: [\"Women's Running Shoes\"]\u001b[0m\n",
      "\u001b[5m\u001b[7m\u001b[93mLinker ->  lbl2data_input_text\u001b[0m \u001b[93m: ['Fitness DVD', \"Women's Distance Running Book\", 'Karaoke DVD', \"Women's Running Shoes\", \"Women's Scarves\", \"Women's Running Shorts\", 'Toy Race Car', \"Women's Fitness Shoes\", \"Women's Running Gloves\", \"Women's Running Jackets\"]\u001b[0m\n",
      "\n",
      "\u001b[5m\u001b[7m\u001b[91mGround-Truth ->  data_input_text\u001b[0m \u001b[91m: Li-ION Notebook/Laptop Battery for Gateway AS09A31 AS09A51 AS09A56 AS09A71 AS09A75 AS09A90\u001b[0m\n",
      "\u001b[5m\u001b[7m\u001b[91mLinker ->  data_input_text\u001b[0m \u001b[91m: Li-ION Notebook/Laptop Battery for Gateway AS09A31 AS09A51 AS09A56 AS09A71 AS09A75 AS09A90\u001b[0m\n",
      "\u001b[5m\u001b[7m\u001b[93mGround-Truth ->  lbl2data_input_text\u001b[0m \u001b[93m: ['Laptop Battery']\u001b[0m\n",
      "\u001b[5m\u001b[7m\u001b[93mLinker ->  lbl2data_input_text\u001b[0m \u001b[93m: ['Laptop Battery', 'Electronics > Laptop Batteries', 'Notebook Battery', 'Replacement Laptop Battery', 'Laptop Batteries and Accessories', 'Laptop battery', 'Laptop Batteries and Power Supplies', 'Laptop Replacement Battery', 'Tablet Battery', 'Laptop Mount']\u001b[0m\n",
      "\n",
      "\u001b[5m\u001b[7m\u001b[91mGround-Truth ->  data_input_text\u001b[0m \u001b[91m: An Informal Talk By Paramahansa Yogananda - Collector's Series #10. In the Glory of the Spirit (Collector's (Self-Realization Fellowship))\u001b[0m\n",
      "\u001b[5m\u001b[7m\u001b[91mLinker ->  data_input_text\u001b[0m \u001b[91m: An Informal Talk By Paramahansa Yogananda - Collector's Series #10. In the Glory of the Spirit (Collector's (Self-Realization Fellowship))\u001b[0m\n",
      "\u001b[5m\u001b[7m\u001b[93mGround-Truth ->  lbl2data_input_text\u001b[0m \u001b[93m: ['Spirituality Media']\u001b[0m\n",
      "\u001b[5m\u001b[7m\u001b[93mLinker ->  lbl2data_input_text\u001b[0m \u001b[93m: ['Spirituality Media', 'Spiritual Talk', 'Spiritual DVD', 'Inspirational Talk', 'Spiritual Documentary', 'Spiritual Teachings DVD', 'Spiritual Media', 'Spirituality & Self-Help Audio', 'Spiritual Lectures', 'Metaphysical & Spirituality Media']\u001b[0m\n",
      "\n",
      "\u001b[5m\u001b[7m\u001b[91mGround-Truth ->  data_input_text\u001b[0m \u001b[91m: Skechers Men's Equable Dress Slip-On\u001b[0m\n",
      "\u001b[5m\u001b[7m\u001b[91mLinker ->  data_input_text\u001b[0m \u001b[91m: Skechers Men's Equable Dress Slip-On\u001b[0m\n",
      "\u001b[5m\u001b[7m\u001b[93mGround-Truth ->  lbl2data_input_text\u001b[0m \u001b[93m: [\"Men's Footwear\"]\u001b[0m\n",
      "\u001b[5m\u001b[7m\u001b[93mLinker ->  lbl2data_input_text\u001b[0m \u001b[93m: ['Digital Culture', \"Men's Footwear\", \"Men's Equestrian Footwear\", \"Men's Formal Footwear\", \"Men's Cycling Footwear\", \"Men's Slides\", \"Women's Fashion Earrings\", \"Teen Girls' Apparel\", \"Teen Girls' Clothing\", 'European Bead Charm']\u001b[0m\n",
      "\n",
      "\u001b[5m\u001b[7m\u001b[91mGround-Truth ->  data_input_text\u001b[0m \u001b[91m: Saucony Women's ProGrid Jazz 13 Running Shoe\u001b[0m\n",
      "\u001b[5m\u001b[7m\u001b[91mLinker ->  data_input_text\u001b[0m \u001b[91m: Saucony Women's ProGrid Jazz 13 Running Shoe\u001b[0m\n",
      "\u001b[5m\u001b[7m\u001b[93mGround-Truth ->  lbl2data_input_text\u001b[0m \u001b[93m: [\"Women's Running Shoes\"]\u001b[0m\n",
      "\u001b[5m\u001b[7m\u001b[93mLinker ->  lbl2data_input_text\u001b[0m \u001b[93m: ['Fitness DVD', \"Women's Distance Running Book\", 'Karaoke DVD', \"Women's Running Shoes\", \"Women's Scarves\", \"Women's Running Shorts\", 'Toy Race Car', \"Women's Fitness Shoes\", \"Women's Running Gloves\", \"Women's Running Jackets\"]\u001b[0m\n",
      "\n",
      "\u001b[5m\u001b[7m\u001b[91mGround-Truth ->  data_input_text\u001b[0m \u001b[91m: 3D platform adventure.\u001b[0m\n",
      "\u001b[5m\u001b[7m\u001b[91mLinker ->  data_input_text\u001b[0m \u001b[91m: 3D platform adventure.\u001b[0m\n",
      "\u001b[5m\u001b[7m\u001b[93mGround-Truth ->  lbl2data_input_text\u001b[0m \u001b[93m: ['Video Game']\u001b[0m\n",
      "\u001b[5m\u001b[7m\u001b[93mLinker ->  lbl2data_input_text\u001b[0m \u001b[93m: ['Video Game', 'Video Games', 'Video Game Toy', 'Video Game Documentary', 'Video game', 'Video Entertainment', 'Adventure Video Game', 'Video Game Software', 'Sports & Adventure Video', 'Mobile Application Game']\u001b[0m\n",
      "\n",
      "\u001b[5m\u001b[7m\u001b[91mGround-Truth ->  data_input_text\u001b[0m \u001b[91m: The USPC Guide to Longeing and Ground Training (Howell Equestrian Library)\u001b[0m\n",
      "\u001b[5m\u001b[7m\u001b[91mLinker ->  data_input_text\u001b[0m \u001b[91m: The USPC Guide to Longeing and Ground Training (Howell Equestrian Library)\u001b[0m\n",
      "\u001b[5m\u001b[7m\u001b[93mGround-Truth ->  lbl2data_input_text\u001b[0m \u001b[93m: ['Equestrian Training Book']\u001b[0m\n",
      "\u001b[5m\u001b[7m\u001b[93mLinker ->  lbl2data_input_text\u001b[0m \u001b[93m: ['Equestrian Training Book', 'Horse Training Book', 'Equine Training Book', 'Equestrian Instruction Book', 'Equestrian Training and Development', 'Equestrian Training Books', 'Equestrian Training Guide', 'Dressage Training Book', 'Equestrian Fitness Book', 'Horse Riding Training Book']\u001b[0m\n",
      "\n",
      "\u001b[5m\u001b[7m\u001b[91mGround-Truth ->  data_input_text\u001b[0m \u001b[91m: Office Impressions - 12\" Clear Plastic Ruler\u001b[0m\n",
      "\u001b[5m\u001b[7m\u001b[91mLinker ->  data_input_text\u001b[0m \u001b[91m: Office Impressions - 12\" Clear Plastic Ruler\u001b[0m\n",
      "\u001b[5m\u001b[7m\u001b[93mGround-Truth ->  lbl2data_input_text\u001b[0m \u001b[93m: ['Office Supplies']\u001b[0m\n",
      "\u001b[5m\u001b[7m\u001b[93mLinker ->  lbl2data_input_text\u001b[0m \u001b[93m: ['Office Supplies', 'Drafting & Drawing Tools', 'Science Activity Kits', 'Giant Wooden Games', 'Educational Workbook - French Language', 'Sheet Music / Instrumental Play-Along', 'Stone & Masonry Sealant', 'Dry Erase Board', 'Tax Form Envelopes', 'Notary Supplies']\u001b[0m\n",
      "\n",
      "\u001b[5m\u001b[7m\u001b[91mGround-Truth ->  data_input_text\u001b[0m \u001b[91m: Skinfood Parsley and Mandarin Essence (For Troubled Skin) 35ml\u001b[0m\n",
      "\u001b[5m\u001b[7m\u001b[91mLinker ->  data_input_text\u001b[0m \u001b[91m: Skinfood Parsley and Mandarin Essence (For Troubled Skin) 35ml\u001b[0m\n",
      "\u001b[5m\u001b[7m\u001b[93mGround-Truth ->  lbl2data_input_text\u001b[0m \u001b[93m: ['Skincare']\u001b[0m\n",
      "\u001b[5m\u001b[7m\u001b[93mLinker ->  lbl2data_input_text\u001b[0m \u001b[93m: ['Herbal Supplement', 'Skincare Products', 'Skin Care', 'Skincare', 'Skincare & Moisturizers', 'Skincare Supplement', 'Skincare Moisturizer', 'Skincare & Lotion', 'Medicinal Skin Treatment', 'Skincare & Personal Care']\u001b[0m\n",
      "\n",
      "\u001b[5m\u001b[7m\u001b[91mGround-Truth ->  data_input_text\u001b[0m \u001b[91m: Rusk Being Sexy Shampoo\u001b[0m\n",
      "\u001b[5m\u001b[7m\u001b[91mLinker ->  data_input_text\u001b[0m \u001b[91m: Rusk Being Sexy Shampoo\u001b[0m\n",
      "\u001b[5m\u001b[7m\u001b[93mGround-Truth ->  lbl2data_input_text\u001b[0m \u001b[93m: ['Hair Care']\u001b[0m\n",
      "\u001b[5m\u001b[7m\u001b[93mLinker ->  lbl2data_input_text\u001b[0m \u001b[93m: ['Academic Texts', 'Hair Care', 'Shampoo', 'Handmade Figurines', 'Eco-Friendly Toys', 'Shampoo and Conditioner', 'Shampoo & Hair Care', 'Hair Cream', 'European Bead Charm', 'Hair Color Enhancer']\u001b[0m\n",
      "\n",
      "\u001b[5m\u001b[7m\u001b[91mGround-Truth ->  data_input_text\u001b[0m \u001b[91m: 16\" Geo Blossom White Balloons (10 ct) Latex (10 per package)\u001b[0m\n",
      "\u001b[5m\u001b[7m\u001b[91mLinker ->  data_input_text\u001b[0m \u001b[91m: 16\" Geo Blossom White Balloons (10 ct) Latex (10 per package)\u001b[0m\n",
      "\u001b[5m\u001b[7m\u001b[93mGround-Truth ->  lbl2data_input_text\u001b[0m \u001b[93m: ['Party Supplies']\u001b[0m\n",
      "\u001b[5m\u001b[7m\u001b[93mLinker ->  lbl2data_input_text\u001b[0m \u001b[93m: ['Party Supplies', 'Life-Size Cutouts', 'Inflatable Rider', 'Toy Balloons', 'Party Balloons', 'Disney Balloons', 'Festive Stickers', 'Party Supplies - Balloons', 'Party Supplies / Balloons', 'Photo Booth Prop']\u001b[0m\n",
      "\n",
      "\u001b[5m\u001b[7m\u001b[91mGround-Truth ->  data_input_text\u001b[0m \u001b[91m: 17MM VINTAGE BALI BOHEMIAN STYLE OXIDIZED .925 STERLING SILVER RING SIZE 6-10\u001b[0m\n",
      "\u001b[5m\u001b[7m\u001b[91mLinker ->  data_input_text\u001b[0m \u001b[91m: 17MM VINTAGE BALI BOHEMIAN STYLE OXIDIZED .925 STERLING SILVER RING SIZE 6-10\u001b[0m\n",
      "\u001b[5m\u001b[7m\u001b[93mGround-Truth ->  lbl2data_input_text\u001b[0m \u001b[93m: ['Jewelry']\u001b[0m\n",
      "\u001b[5m\u001b[7m\u001b[93mLinker ->  lbl2data_input_text\u001b[0m \u001b[93m: ['General Book', 'Jewelry', 'Music & Books', 'General Books', 'General Merchandise', 'General Items', 'General Product', 'Magnetic Brooch Pin', 'European Bead Charm', 'jewelry']\u001b[0m\n",
      "\n",
      "\u001b[5m\u001b[7m\u001b[91mGround-Truth ->  data_input_text\u001b[0m \u001b[91m: How Dogs Learn (Howell reference books)\u001b[0m\n",
      "\u001b[5m\u001b[7m\u001b[91mLinker ->  data_input_text\u001b[0m \u001b[91m: How Dogs Learn (Howell reference books)\u001b[0m\n",
      "\u001b[5m\u001b[7m\u001b[93mGround-Truth ->  lbl2data_input_text\u001b[0m \u001b[93m: ['Dog Training Book']\u001b[0m\n",
      "\u001b[5m\u001b[7m\u001b[93mLinker ->  lbl2data_input_text\u001b[0m \u001b[93m: ['Dog Training Book', 'Canine Books', 'Dog Training Books', 'Canine Training Books', 'Dog Sports Book', 'Canine Training Book', 'Training Book for Dogs', 'Dogs Training Book', 'Puppy Training Book', \"Children's Dog Training Book\"]\u001b[0m\n",
      "\n",
      "\u001b[5m\u001b[7m\u001b[91mGround-Truth ->  data_input_text\u001b[0m \u001b[91m: Agility Training: The Fun Sport for All Dogs (Howell reference books)\u001b[0m\n",
      "\u001b[5m\u001b[7m\u001b[91mLinker ->  data_input_text\u001b[0m \u001b[91m: Agility Training: The Fun Sport for All Dogs (Howell reference books)\u001b[0m\n",
      "\u001b[5m\u001b[7m\u001b[93mGround-Truth ->  lbl2data_input_text\u001b[0m \u001b[93m: ['Dog Training Book']\u001b[0m\n",
      "\u001b[5m\u001b[7m\u001b[93mLinker ->  lbl2data_input_text\u001b[0m \u001b[93m: ['Dog Training Book', 'Canine Training Books', 'Dog Agility Book', 'Dog Sports Book', 'Canine Training Book', 'Training Book for Dogs', 'Canine Sports Book', 'Dogs Training Book', 'Puppy Training Book', \"Children's Dog Training Book\"]\u001b[0m\n",
      "\n",
      "\u001b[5m\u001b[7m\u001b[91mGround-Truth ->  data_input_text\u001b[0m \u001b[91m: Pigskin Pulpit: A Social History of Texas High School Football Coaches\u001b[0m\n",
      "\u001b[5m\u001b[7m\u001b[91mLinker ->  data_input_text\u001b[0m \u001b[91m: Pigskin Pulpit: A Social History of Texas High School Football Coaches\u001b[0m\n",
      "\u001b[5m\u001b[7m\u001b[93mGround-Truth ->  lbl2data_input_text\u001b[0m \u001b[93m: ['Sports History Book']\u001b[0m\n",
      "\u001b[5m\u001b[7m\u001b[93mLinker ->  lbl2data_input_text\u001b[0m \u001b[93m: ['Sports History Book', 'History and Philosophy of Sport and Education', 'Sociology of Sport Book', 'Sport History Book', 'Legal and Sports Administration Book', 'Sports Architecture Book', 'History of Sporting Guns', 'Historical Sports Book', 'History of Football', 'Sociology of Sports Book']\u001b[0m\n",
      "\n",
      "\u001b[5m\u001b[7m\u001b[91mGround-Truth ->  data_input_text\u001b[0m \u001b[91m: California Sun Sniper One-Padded Sniper Camera Strap - Black\u001b[0m\n",
      "\u001b[5m\u001b[7m\u001b[91mLinker ->  data_input_text\u001b[0m \u001b[91m: California Sun Sniper One-Padded Sniper Camera Strap - Black\u001b[0m\n",
      "\u001b[5m\u001b[7m\u001b[93mGround-Truth ->  lbl2data_input_text\u001b[0m \u001b[93m: ['Camera Accessories']\u001b[0m\n",
      "\u001b[5m\u001b[7m\u001b[93mLinker ->  lbl2data_input_text\u001b[0m \u001b[93m: ['Military Literature', 'Coffee Industry Book', 'Camera Accessories', 'Military Music CD', 'Violin Accessories', 'Facial Masks', 'Electronics & Marine Audio', 'Military Cadence Music CD', 'Diskettes', 'Beauty Face Masks']\u001b[0m\n",
      "\n",
      "\u001b[5m\u001b[7m\u001b[91mGround-Truth ->  data_input_text\u001b[0m \u001b[91m: The Quaker Parrot: An Owner's Guide to a Happy Healthy Pet\u001b[0m\n",
      "\u001b[5m\u001b[7m\u001b[91mLinker ->  data_input_text\u001b[0m \u001b[91m: The Quaker Parrot: An Owner's Guide to a Happy Healthy Pet\u001b[0m\n",
      "\u001b[5m\u001b[7m\u001b[93mGround-Truth ->  lbl2data_input_text\u001b[0m \u001b[93m: ['Pet Care Book']\u001b[0m\n",
      "\u001b[5m\u001b[7m\u001b[93mLinker ->  lbl2data_input_text\u001b[0m \u001b[93m: ['Pet Care Book', 'Parrot Care Guide', 'Parrot Care Book', 'Pet Bird Care Book', 'Pet Birdcare Book', 'Guide to Pet Birds', 'Reptile Pet Care Book', 'Pet Food Book', \"Children's Pet Care Book\", 'Pet Gardening Book']\u001b[0m\n",
      "\n",
      "\u001b[5m\u001b[7m\u001b[91mGround-Truth ->  data_input_text\u001b[0m \u001b[91m: Hello Kitty Leather Case Stand for Apple iPad 2 iPad 3 (oem polybag)\u001b[0m\n",
      "\u001b[5m\u001b[7m\u001b[91mLinker ->  data_input_text\u001b[0m \u001b[91m: Hello Kitty Leather Case Stand for Apple iPad 2 iPad 3 (oem polybag)\u001b[0m\n",
      "\u001b[5m\u001b[7m\u001b[93mGround-Truth ->  lbl2data_input_text\u001b[0m \u001b[93m: ['Tablet Accessories']\u001b[0m\n",
      "\u001b[5m\u001b[7m\u001b[93mLinker ->  lbl2data_input_text\u001b[0m \u001b[93m: ['Tablet Accessories', 'Spiritual/Personal Development CD', 'Cases & Accessories', 'Girls’ Clothing', 'Kitchen & Dining, Novelty Bakeware', 'Tablet Cases and Sleeves', 'Cellphone & Accessories', 'DJ Mix Album', 'European Bead Charm', 'Protective Cases for Single Board Computers']\u001b[0m\n",
      "\n",
      "\u001b[5m\u001b[7m\u001b[91mGround-Truth ->  data_input_text\u001b[0m \u001b[91m: BobjGear Gotcha Green Silicone Protective Case\u001b[0m\n",
      "\u001b[5m\u001b[7m\u001b[91mLinker ->  data_input_text\u001b[0m \u001b[91m: BobjGear Gotcha Green Silicone Protective Case\u001b[0m\n",
      "\u001b[5m\u001b[7m\u001b[93mGround-Truth ->  lbl2data_input_text\u001b[0m \u001b[93m: ['Tablet Accessories']\u001b[0m\n",
      "\u001b[5m\u001b[7m\u001b[93mLinker ->  lbl2data_input_text\u001b[0m \u001b[93m: ['Tablet Accessories', 'Protective Cases', 'Waterproof Cases', 'Protective Case', 'Protective Cases for Electronics', 'Waterproof Electronics Case', 'Electronic Device Protective Case', 'Retainer Cases', 'Protective Cases & Folios', 'Protective Cases for Single Board Computers']\u001b[0m\n",
      "\n",
      "\u001b[5m\u001b[7m\u001b[91mGround-Truth ->  data_input_text\u001b[0m \u001b[91m: The Complete West Highland White Terrier,\u001b[0m\n",
      "\u001b[5m\u001b[7m\u001b[91mLinker ->  data_input_text\u001b[0m \u001b[91m: The Complete West Highland White Terrier,\u001b[0m\n",
      "\u001b[5m\u001b[7m\u001b[93mGround-Truth ->  lbl2data_input_text\u001b[0m \u001b[93m: ['Dog Breeds Book']\u001b[0m\n",
      "\u001b[5m\u001b[7m\u001b[93mLinker ->  lbl2data_input_text\u001b[0m \u001b[93m: ['Dog Breed History Book', 'Dog Breeds Book', 'Dog Breed Book', 'Dog Breeds Guide Book', 'Dog Breed Books', 'Dog Breeds Encyclopedia', 'Dog Breed Reference Book', 'Dog Breeds', 'Dog Training and Breeds Book', 'Breed Specific Dog Book']\u001b[0m\n",
      "\n",
      "\u001b[5m\u001b[7m\u001b[91mGround-Truth ->  data_input_text\u001b[0m \u001b[91m: Body-Bands Pull Up Band Set #1 (Set of 2 Bands)\u001b[0m\n",
      "\u001b[5m\u001b[7m\u001b[91mLinker ->  data_input_text\u001b[0m \u001b[91m: Body-Bands Pull Up Band Set #1 (Set of 2 Bands)\u001b[0m\n",
      "\u001b[5m\u001b[7m\u001b[93mGround-Truth ->  lbl2data_input_text\u001b[0m \u001b[93m: ['Fitness Equipment']\u001b[0m\n",
      "\u001b[5m\u001b[7m\u001b[93mLinker ->  lbl2data_input_text\u001b[0m \u001b[93m: ['Fitness Equipment', 'Inversion Equipment', 'Fitness Tools', 'Body Shaping Kit', 'Body Support Equipment', 'Bodyboarding Equipment', 'Dumbbells', 'Fitness Equipment Poster', 'Fitness Trampolines', 'Pet Fitness Equipment']\u001b[0m\n",
      "\n",
      "\u001b[5m\u001b[7m\u001b[91mGround-Truth ->  data_input_text\u001b[0m \u001b[91m: The Bichon Frise: An Owner's Guide to a Happy Healthy Pet\u001b[0m\n",
      "\u001b[5m\u001b[7m\u001b[91mLinker ->  data_input_text\u001b[0m \u001b[91m: The Bichon Frise: An Owner's Guide to a Happy Healthy Pet\u001b[0m\n",
      "\u001b[5m\u001b[7m\u001b[93mGround-Truth ->  lbl2data_input_text\u001b[0m \u001b[93m: ['Pet Care Book']\u001b[0m\n",
      "\u001b[5m\u001b[7m\u001b[93mLinker ->  lbl2data_input_text\u001b[0m \u001b[93m: ['Pet Care Book', 'Pet Nutrition Book', 'Cat Care Book', 'Pet Bird Care Book', 'Pet Birdcare Book', 'Reptile Pet Care Book', 'Pet Breeding Book', 'Pet Food Book', 'Pet Care & Nutrition Book', 'Pet Gardening Book']\u001b[0m\n",
      "\n",
      "\u001b[5m\u001b[7m\u001b[91mGround-Truth ->  data_input_text\u001b[0m \u001b[91m: Decorative Push Pins 7 Small Live Love\u001b[0m\n",
      "\u001b[5m\u001b[7m\u001b[91mLinker ->  data_input_text\u001b[0m \u001b[91m: Decorative Push Pins 7 Small Live Love\u001b[0m\n",
      "\u001b[5m\u001b[7m\u001b[93mGround-Truth ->  lbl2data_input_text\u001b[0m \u001b[93m: ['Office Supplies']\u001b[0m\n",
      "\u001b[5m\u001b[7m\u001b[93mLinker ->  lbl2data_input_text\u001b[0m \u001b[93m: ['Office Supplies', 'Magnetic Clips', 'Amplifier', 'Promotional Pens', 'Pins & Buttons', 'Binders', 'Adhesive Dots', 'Printed Plans', 'Tax Form Envelopes', 'Notary Supplies']\u001b[0m\n",
      "\n",
      "\u001b[5m\u001b[7m\u001b[91mGround-Truth ->  data_input_text\u001b[0m \u001b[91m: Mighty Stegosaurus Dinosaur Dog Toy\u001b[0m\n",
      "\u001b[5m\u001b[7m\u001b[91mLinker ->  data_input_text\u001b[0m \u001b[91m: Mighty Stegosaurus Dinosaur Dog Toy\u001b[0m\n",
      "\u001b[5m\u001b[7m\u001b[93mGround-Truth ->  lbl2data_input_text\u001b[0m \u001b[93m: ['Pet Toys']\u001b[0m\n",
      "\u001b[5m\u001b[7m\u001b[93mLinker ->  lbl2data_input_text\u001b[0m \u001b[93m: ['Pet Food', 'Pet Toys', 'Video Game Consoles', 'Toy Pet Carriers', 'Handheld Game Consoles', 'Handheld Video Game Consoles', 'Retro Video Game Console', 'Hunting Toys', 'Pet Playsets', 'Motorcycle Models']\u001b[0m\n",
      "\n",
      "\u001b[5m\u001b[7m\u001b[91mGround-Truth ->  data_input_text\u001b[0m \u001b[91m: NFL Victor Cruz New York Giants Eligible Receiver T-Shirt - Royal Blue\u001b[0m\n",
      "\u001b[5m\u001b[7m\u001b[91mLinker ->  data_input_text\u001b[0m \u001b[91m: NFL Victor Cruz New York Giants Eligible Receiver T-Shirt - Royal Blue\u001b[0m\n",
      "\u001b[5m\u001b[7m\u001b[93mGround-Truth ->  lbl2data_input_text\u001b[0m \u001b[93m: ['Sports Apparel']\u001b[0m\n",
      "\u001b[5m\u001b[7m\u001b[93mLinker ->  lbl2data_input_text\u001b[0m \u001b[93m: ['Sports Apparel', 'Music (Disco, House)', 'Racquetball Gear', \"Men's Rashguards\", 'Sports & Outdoors > Team Sports > Softball > Gloves', 'Softball Pants', 'Sports Luggage', 'Softball Apparel', \"Apparel - Men's T-Shirts\", 'Machete']\u001b[0m\n",
      "\n",
      "\u001b[5m\u001b[7m\u001b[91mGround-Truth ->  data_input_text\u001b[0m \u001b[91m: The International Encyclopedia of Dogs\u001b[0m\n",
      "\u001b[5m\u001b[7m\u001b[91mLinker ->  data_input_text\u001b[0m \u001b[91m: The International Encyclopedia of Dogs\u001b[0m\n",
      "\u001b[5m\u001b[7m\u001b[93mGround-Truth ->  lbl2data_input_text\u001b[0m \u001b[93m: ['Dog Reference Book']\u001b[0m\n",
      "\u001b[5m\u001b[7m\u001b[93mLinker ->  lbl2data_input_text\u001b[0m \u001b[93m: ['Reference Book', 'Dog Reference Book', 'Animal Reference Book', 'Dog Encyclopedia', 'Pet Reference Book', 'Dog Breeds Encyclopedia', 'Canine Reference Book', 'Dog Encyclopedias', 'Pet Reference Books', 'Animal Encyclopedias']\u001b[0m\n",
      "\n",
      "\u001b[5m\u001b[7m\u001b[91mGround-Truth ->  data_input_text\u001b[0m \u001b[91m: This classic console fantasy RPG spawned an unstoppable series of great games.\u001b[0m\n",
      "\u001b[5m\u001b[7m\u001b[91mLinker ->  data_input_text\u001b[0m \u001b[91m: This classic console fantasy RPG spawned an unstoppable series of great games.\u001b[0m\n",
      "\u001b[5m\u001b[7m\u001b[93mGround-Truth ->  lbl2data_input_text\u001b[0m \u001b[93m: ['Video Games']\u001b[0m\n",
      "\u001b[5m\u001b[7m\u001b[93mLinker ->  lbl2data_input_text\u001b[0m \u001b[93m: ['Video Games', 'Role-Playing Video Games', 'Video Games - RPG', 'Computer Games', 'Console Video Game', 'Action RPG Video Game', 'Video Game (RPG)', 'Video Games Console', 'Video Game - RPG', 'Wii Video Games']\u001b[0m\n",
      "\n",
      "\u001b[5m\u001b[7m\u001b[91mGround-Truth ->  data_input_text\u001b[0m \u001b[91m: Avengers the Movie Bouquet Of Balloons\u001b[0m\n",
      "\u001b[5m\u001b[7m\u001b[91mLinker ->  data_input_text\u001b[0m \u001b[91m: Avengers the Movie Bouquet Of Balloons\u001b[0m\n",
      "\u001b[5m\u001b[7m\u001b[93mGround-Truth ->  lbl2data_input_text\u001b[0m \u001b[93m: ['Party Supplies']\u001b[0m\n",
      "\u001b[5m\u001b[7m\u001b[93mLinker ->  lbl2data_input_text\u001b[0m \u001b[93m: ['Party Supplies', 'Candy Containers', 'Candy Containers & Jars', 'Electronics/Surveillance Equipment', 'Balloon Decoration Guide', 'Party Balloons', 'Disney Balloons', 'Festive Stickers', 'First Birthday Thank You Notes', 'Photo Booth Prop']\u001b[0m\n",
      "\n",
      "\u001b[5m\u001b[7m\u001b[91mGround-Truth ->  data_input_text\u001b[0m \u001b[91m: Kettler Match 5.0 Indoor Table Tennis Table (Blue Top)\u001b[0m\n",
      "\u001b[5m\u001b[7m\u001b[91mLinker ->  data_input_text\u001b[0m \u001b[91m: Kettler Match 5.0 Indoor Table Tennis Table (Blue Top)\u001b[0m\n",
      "\u001b[5m\u001b[7m\u001b[93mGround-Truth ->  lbl2data_input_text\u001b[0m \u001b[93m: ['Table Tennis Table']\u001b[0m\n",
      "\u001b[5m\u001b[7m\u001b[93mLinker ->  lbl2data_input_text\u001b[0m \u001b[93m: ['Table Tennis Equipment', 'Sports & Outdoors > Table Tennis', 'Table Tennis', 'Table Soccer', 'Table Tennis Table', 'Outdoor Table Tennis', 'Sports and Outdoors: Table Tennis', 'Sports & Outdoors - Table Tennis', 'Table Tennis Tables', 'Pool Table']\u001b[0m\n",
      "\n",
      "\u001b[5m\u001b[7m\u001b[91mGround-Truth ->  data_input_text\u001b[0m \u001b[91m: Carole Floral Flannel Gown, Plus\u001b[0m\n",
      "\u001b[5m\u001b[7m\u001b[91mLinker ->  data_input_text\u001b[0m \u001b[91m: Carole Floral Flannel Gown, Plus\u001b[0m\n",
      "\u001b[5m\u001b[7m\u001b[93mGround-Truth ->  lbl2data_input_text\u001b[0m \u001b[93m: [\"Women's Sleepwear\"]\u001b[0m\n",
      "\u001b[5m\u001b[7m\u001b[93mLinker ->  lbl2data_input_text\u001b[0m \u001b[93m: ['Diet Book', 'Nursing Manual', 'Sleep Aid Book', \"Women's Sleepwear\", 'Honey', 'Hardware Assortment Kit', \"Women's Dresses\", 'Automotive Grilles', 'Maternity Sleepwear', 'Liquid Cleanser']\u001b[0m\n",
      "\n",
      "\u001b[5m\u001b[7m\u001b[91mGround-Truth ->  data_input_text\u001b[0m \u001b[91m: SCAFF'S ENTERPRISES Vinyl License Holder with Rustproof Pin, Fluorescent Orange\u001b[0m\n",
      "\u001b[5m\u001b[7m\u001b[91mLinker ->  data_input_text\u001b[0m \u001b[91m: SCAFF'S ENTERPRISES Vinyl License Holder with Rustproof Pin, Fluorescent Orange\u001b[0m\n",
      "\u001b[5m\u001b[7m\u001b[93mGround-Truth ->  lbl2data_input_text\u001b[0m \u001b[93m: ['License Holder']\u001b[0m\n",
      "\u001b[5m\u001b[7m\u001b[93mLinker ->  lbl2data_input_text\u001b[0m \u001b[93m: ['Reference Books', 'Car Electronics & Accessories', 'Kitchen & Dining Organizer', 'Automotive Care & Accessories', 'Car Electronics and Accessories', 'Tactical & Military Equipment', 'Tactical/Outdoor Gear', 'Accessories, Watches', 'License Holders', 'License Holder']\u001b[0m\n",
      "\n",
      "\u001b[5m\u001b[7m\u001b[91mGround-Truth ->  data_input_text\u001b[0m \u001b[91m: Mira Hair Oil 120ml\u001b[0m\n",
      "\u001b[5m\u001b[7m\u001b[91mLinker ->  data_input_text\u001b[0m \u001b[91m: Mira Hair Oil 120ml\u001b[0m\n",
      "\u001b[5m\u001b[7m\u001b[93mGround-Truth ->  lbl2data_input_text\u001b[0m \u001b[93m: ['Hair Care']\u001b[0m\n",
      "\u001b[5m\u001b[7m\u001b[93mLinker ->  lbl2data_input_text\u001b[0m \u001b[93m: ['Hair Care', 'Eyeglass Cleaner and Repair', 'Henna Applicator Kit', 'Wire Management', 'Handloading Presses', 'Hair Cream', 'Hair Color Remover', 'European Bead Charm', 'Hair Color Enhancer', 'Pregnancy Hair Care']\u001b[0m\n",
      "\n",
      "\u001b[5m\u001b[7m\u001b[91mGround-Truth ->  data_input_text\u001b[0m \u001b[91m: SMDV Remote Shutter Release Cable for Canon EOS 1D, 1DS Mark II, III, Mark III, IV, 1DC, 1DX, 10D, 20D, 20DA, 30D, 40D, 50D, 5D, 5D Mark II, III, 7D, Replaces Canon RS80N3\u001b[0m\n",
      "\u001b[5m\u001b[7m\u001b[91mLinker ->  data_input_text\u001b[0m \u001b[91m: SMDV Remote Shutter Release Cable for Canon EOS 1D, 1DS Mark II, III, Mark III, IV, 1DC, 1DX, 10D, 20D, 20DA, 30D, 40D, 50D, 5D, 5D Mark II, III, 7D, Replaces Canon RS80N3\u001b[0m\n",
      "\u001b[5m\u001b[7m\u001b[93mGround-Truth ->  lbl2data_input_text\u001b[0m \u001b[93m: ['Camera Accessories']\u001b[0m\n",
      "\u001b[5m\u001b[7m\u001b[93mLinker ->  lbl2data_input_text\u001b[0m \u001b[93m: ['Modern History Book', 'Study Guides & Reference Books', 'Camera Accessories', 'Camera Accessory', 'Cooking Appliances', 'Camera & Photo Accessory', 'Packaged Groceries', 'Photographic Books', 'Sheet Music / Instrumental Play-Along', 'Home & Kitchen / HVAC']\u001b[0m\n",
      "\n",
      "\u001b[5m\u001b[7m\u001b[91mGround-Truth ->  data_input_text\u001b[0m \u001b[91m: Pleaser Women's Delight-601 Platform Sandal\u001b[0m\n",
      "\u001b[5m\u001b[7m\u001b[91mLinker ->  data_input_text\u001b[0m \u001b[91m: Pleaser Women's Delight-601 Platform Sandal\u001b[0m\n",
      "\u001b[5m\u001b[7m\u001b[93mGround-Truth ->  lbl2data_input_text\u001b[0m \u001b[93m: [\"Women's Footwear\"]\u001b[0m\n",
      "\u001b[5m\u001b[7m\u001b[93mLinker ->  lbl2data_input_text\u001b[0m \u001b[93m: ['Travel Guidebook', 'Clothing & Accessories', \"Women's Footwear\", 'Clothing and Accessories', 'Travel Guidebooks', 'Clothing & Shoes', 'General Consumer Goods', \"Women's Footwear Book\", 'Beauty & Personal Care > Makeup > Eye Makeup > Mascara', 'European Bead Charm']\u001b[0m\n",
      "\n",
      "\u001b[5m\u001b[7m\u001b[91mGround-Truth ->  data_input_text\u001b[0m \u001b[91m: Motherhood 3 Pack Maternity Fold Over Panties\u001b[0m\n",
      "\u001b[5m\u001b[7m\u001b[91mLinker ->  data_input_text\u001b[0m \u001b[91m: Motherhood 3 Pack Maternity Fold Over Panties\u001b[0m\n",
      "\u001b[5m\u001b[7m\u001b[93mGround-Truth ->  lbl2data_input_text\u001b[0m \u001b[93m: ['Maternity Clothing']\u001b[0m\n",
      "\u001b[5m\u001b[7m\u001b[93mLinker ->  lbl2data_input_text\u001b[0m \u001b[93m: ['Maternity Clothing', 'Film Scores', 'Postpartum Clothing', 'Handbag & Wallet', 'Maternity Underwear', 'Maternity Clothes', 'Maternity Undergarments', 'Maternity Coat', 'Maternity Pants', 'Maternity Dresses']\u001b[0m\n",
      "\n",
      "\u001b[5m\u001b[7m\u001b[91mGround-Truth ->  data_input_text\u001b[0m \u001b[91m: The American Pit Bull Terrier: An Owner's Guideto aHappy Healthy Pet\u001b[0m\n",
      "\u001b[5m\u001b[7m\u001b[91mLinker ->  data_input_text\u001b[0m \u001b[91m: The American Pit Bull Terrier: An Owner's Guideto aHappy Healthy Pet\u001b[0m\n",
      "\u001b[5m\u001b[7m\u001b[93mGround-Truth ->  lbl2data_input_text\u001b[0m \u001b[93m: ['Pet Care Book']\u001b[0m\n",
      "\u001b[5m\u001b[7m\u001b[93mLinker ->  lbl2data_input_text\u001b[0m \u001b[93m: ['Pet Care Book', 'Pet Fitness Book', 'Pet Guide Book', 'Aquatic Pet Care Book', 'Pet Birdcare Book', 'Reptile Pet Care Book', 'Pet Food Book', 'Pet Care & Nutrition Book', \"Children's Pet Care Book\", 'Pet Gardening Book']\u001b[0m\n",
      "\n",
      "\u001b[5m\u001b[7m\u001b[91mGround-Truth ->  data_input_text\u001b[0m \u001b[91m: National Floral Flannel Nightgown\u001b[0m\n",
      "\u001b[5m\u001b[7m\u001b[91mLinker ->  data_input_text\u001b[0m \u001b[91m: National Floral Flannel Nightgown\u001b[0m\n",
      "\u001b[5m\u001b[7m\u001b[93mGround-Truth ->  lbl2data_input_text\u001b[0m \u001b[93m: [\"Women's Sleepwear\"]\u001b[0m\n",
      "\u001b[5m\u001b[7m\u001b[93mLinker ->  lbl2data_input_text\u001b[0m \u001b[93m: ['Diet Book', 'Family Therapy Book', 'Religion Dictionary', 'Clothing Construction Textbook', \"Women's Watches\", \"Women's Sleepwear\", \"Children's Organization Tools\", 'Maternity Sleepwear', 'Utensil Set', 'European Bead Charm']\u001b[0m\n",
      "\n",
      "\u001b[5m\u001b[7m\u001b[91mGround-Truth ->  data_input_text\u001b[0m \u001b[91m: Pleaser Women's Delight-601 Platform Sandal\u001b[0m\n",
      "\u001b[5m\u001b[7m\u001b[91mLinker ->  data_input_text\u001b[0m \u001b[91m: Pleaser Women's Delight-601 Platform Sandal\u001b[0m\n",
      "\u001b[5m\u001b[7m\u001b[93mGround-Truth ->  lbl2data_input_text\u001b[0m \u001b[93m: [\"Women's Footwear\"]\u001b[0m\n",
      "\u001b[5m\u001b[7m\u001b[93mLinker ->  lbl2data_input_text\u001b[0m \u001b[93m: ['Travel Guidebook', 'Clothing & Accessories', \"Women's Footwear\", 'Clothing and Accessories', 'Travel Guidebooks', 'Clothing & Shoes', 'General Consumer Goods', \"Women's Footwear Book\", 'Beauty & Personal Care > Makeup > Eye Makeup > Mascara', 'European Bead Charm']\u001b[0m\n",
      "\n",
      "\u001b[5m\u001b[7m\u001b[91mGround-Truth ->  data_input_text\u001b[0m \u001b[91m: Japanese Anime Death Note Lanyard keychain Holder\u001b[0m\n",
      "\u001b[5m\u001b[7m\u001b[91mLinker ->  data_input_text\u001b[0m \u001b[91m: Japanese Anime Death Note Lanyard keychain Holder\u001b[0m\n",
      "\u001b[5m\u001b[7m\u001b[93mGround-Truth ->  lbl2data_input_text\u001b[0m \u001b[93m: ['Anime Merchandise']\u001b[0m\n",
      "\u001b[5m\u001b[7m\u001b[93mLinker ->  lbl2data_input_text\u001b[0m \u001b[93m: ['Anime Merchandise', 'Martial Arts Merchandise', 'Japanese Anime Merchandise', 'Anime Memorabilia', 'Keychain & Lanyard', 'Anime Merchandises', 'Lanyard & Key Holder', 'Lanyards & Keychains', 'Keychain and Lanyard', 'Japanese Video Game Merchandise']\u001b[0m\n",
      "\n",
      "\u001b[5m\u001b[7m\u001b[91mGround-Truth ->  data_input_text\u001b[0m \u001b[91m: Second-Hand Dog: How to Turn Yours into a First-Rate Pet (Howell reference books)\u001b[0m\n",
      "\u001b[5m\u001b[7m\u001b[91mLinker ->  data_input_text\u001b[0m \u001b[91m: Second-Hand Dog: How to Turn Yours into a First-Rate Pet (Howell reference books)\u001b[0m\n",
      "\u001b[5m\u001b[7m\u001b[93mGround-Truth ->  lbl2data_input_text\u001b[0m \u001b[93m: ['Pet Training Book']\u001b[0m\n",
      "\u001b[5m\u001b[7m\u001b[93mLinker ->  lbl2data_input_text\u001b[0m \u001b[93m: ['Pet Training Book', 'Dog Training Book', 'Pet Care Book', 'Pet Care & Training Book', 'Pets Training Book', 'Pets Care & Training Book', 'Pet Care and Training Book', 'Canine Training Book', 'Police Dog Training Book', 'Dogs Training Book']\u001b[0m\n",
      "\n",
      "\u001b[5m\u001b[7m\u001b[91mGround-Truth ->  data_input_text\u001b[0m \u001b[91m: Dig In!: Earthdog Training Made Easy\u001b[0m\n",
      "\u001b[5m\u001b[7m\u001b[91mLinker ->  data_input_text\u001b[0m \u001b[91m: Dig In!: Earthdog Training Made Easy\u001b[0m\n",
      "\u001b[5m\u001b[7m\u001b[93mGround-Truth ->  lbl2data_input_text\u001b[0m \u001b[93m: ['Dog Training Book']\u001b[0m\n",
      "\u001b[5m\u001b[7m\u001b[93mLinker ->  lbl2data_input_text\u001b[0m \u001b[93m: ['Pet Training Book', 'Dog Training Book', 'Animal Training Book', 'Pets Training Book', 'K9 Training Book', 'Canine Training Book', 'Training Book for Dogs', 'Dogs Training Book', 'Puppy Training Book', \"Children's Dog Training Book\"]\u001b[0m\n",
      "\n",
      "\u001b[5m\u001b[7m\u001b[91mGround-Truth ->  data_input_text\u001b[0m \u001b[91m: Short Purple Tulle Tutu for Women\u001b[0m\n",
      "\u001b[5m\u001b[7m\u001b[91mLinker ->  data_input_text\u001b[0m \u001b[91m: Short Purple Tulle Tutu for Women\u001b[0m\n",
      "\u001b[5m\u001b[7m\u001b[93mGround-Truth ->  lbl2data_input_text\u001b[0m \u001b[93m: [\"Women's Clothing\"]\u001b[0m\n",
      "\u001b[5m\u001b[7m\u001b[93mLinker ->  lbl2data_input_text\u001b[0m \u001b[93m: [\"Women's Clothing\", 'Medical Tourism Guide', 'Screwdrivers', 'Bead Supplies', 'Fish Scaling Machine', \"Children's Outdoor Exploration\", 'Kids Exploring Toys', \"Kids' Outdoor Exploration Toys\", \"Children's Outdoor Exploration Toys\", 'European Bead Charm']\u001b[0m\n",
      "\n",
      "\u001b[5m\u001b[7m\u001b[91mGround-Truth ->  data_input_text\u001b[0m \u001b[91m: Everyone's favorite Hedgehog is back for an all new and wild adventure for the PC.\u001b[0m\n",
      "\u001b[5m\u001b[7m\u001b[91mLinker ->  data_input_text\u001b[0m \u001b[91m: Everyone's favorite Hedgehog is back for an all new and wild adventure for the PC.\u001b[0m\n",
      "\u001b[5m\u001b[7m\u001b[93mGround-Truth ->  lbl2data_input_text\u001b[0m \u001b[93m: ['Video Game']\u001b[0m\n",
      "\u001b[5m\u001b[7m\u001b[93mLinker ->  lbl2data_input_text\u001b[0m \u001b[93m: ['Video Game', 'PC Game', 'PC Software', 'Video game', 'Gaming Software', 'Computer Game', 'PC Video Game', 'Video Game Software', 'PC Simulation Game', 'All-in-One PC']\u001b[0m\n",
      "\n",
      "\u001b[5m\u001b[7m\u001b[91mGround-Truth ->  data_input_text\u001b[0m \u001b[91m: What All Good Dogs Should Know: The Sensible Way to Train (Howell reference books)\u001b[0m\n",
      "\u001b[5m\u001b[7m\u001b[91mLinker ->  data_input_text\u001b[0m \u001b[91m: What All Good Dogs Should Know: The Sensible Way to Train (Howell reference books)\u001b[0m\n",
      "\u001b[5m\u001b[7m\u001b[93mGround-Truth ->  lbl2data_input_text\u001b[0m \u001b[93m: ['Dog Training Book']\u001b[0m\n",
      "\u001b[5m\u001b[7m\u001b[93mLinker ->  lbl2data_input_text\u001b[0m \u001b[93m: ['Dog Training Book', 'Pets Training Book', 'Canine Training Books', 'Canine Training Book', 'Dog Training Manual', 'Parenting and Dog Training Book', 'Training Book for Dogs', 'Dogs Training Book', 'Puppy Training Book', \"Children's Dog Training Book\"]\u001b[0m\n",
      "\n",
      "\u001b[5m\u001b[7m\u001b[91mGround-Truth ->  data_input_text\u001b[0m \u001b[91m: The USPC Guide to Bandaging Your Horse (United States Pony Club Guides)\u001b[0m\n",
      "\u001b[5m\u001b[7m\u001b[91mLinker ->  data_input_text\u001b[0m \u001b[91m: The USPC Guide to Bandaging Your Horse (United States Pony Club Guides)\u001b[0m\n",
      "\u001b[5m\u001b[7m\u001b[93mGround-Truth ->  lbl2data_input_text\u001b[0m \u001b[93m: ['Horse Care Book']\u001b[0m\n",
      "\u001b[5m\u001b[7m\u001b[93mLinker ->  lbl2data_input_text\u001b[0m \u001b[93m: ['Horse Care Book', 'Equine Care Book', 'Horse Riding & Equestrian Books', 'Equine Care Guide', 'Equestrian Care Book', 'Horse Care & Training Book', 'Equine Care book', 'Horse Care Guide', 'Horse Grooming Guide', 'Equestrian Equipment Book']\u001b[0m\n",
      "\n",
      "\u001b[5m\u001b[7m\u001b[91mGround-Truth ->  data_input_text\u001b[0m \u001b[91m: The Koehler Method of Open Obedience for Ring, Home and Field,\u001b[0m\n",
      "\u001b[5m\u001b[7m\u001b[91mLinker ->  data_input_text\u001b[0m \u001b[91m: The Koehler Method of Open Obedience for Ring, Home and Field,\u001b[0m\n",
      "\u001b[5m\u001b[7m\u001b[93mGround-Truth ->  lbl2data_input_text\u001b[0m \u001b[93m: ['Dog Training Book']\u001b[0m\n",
      "\u001b[5m\u001b[7m\u001b[93mLinker ->  lbl2data_input_text\u001b[0m \u001b[93m: ['Dog Training Book', 'Hunting dog training book', 'Dog Behavior Training Book', 'Dog Sports Book', 'Hunting Dog Training Book', 'Canine Training Book', 'Dog Racing Book', 'Dogs Training Book', 'Puppy Training Book', \"Children's Dog Training Book\"]\u001b[0m\n",
      "\n",
      "\u001b[5m\u001b[7m\u001b[91mGround-Truth ->  data_input_text\u001b[0m \u001b[91m: Plantronics Discovery 925 Bluetooth Headset (Black)[Bulk Packaging]\u001b[0m\n",
      "\u001b[5m\u001b[7m\u001b[91mLinker ->  data_input_text\u001b[0m \u001b[91m: Plantronics Discovery 925 Bluetooth Headset (Black)[Bulk Packaging]\u001b[0m\n",
      "\u001b[5m\u001b[7m\u001b[93mGround-Truth ->  lbl2data_input_text\u001b[0m \u001b[93m: ['Bluetooth Headset']\u001b[0m\n",
      "\u001b[5m\u001b[7m\u001b[93mLinker ->  lbl2data_input_text\u001b[0m \u001b[93m: ['Wireless Headsets', 'Bluetooth Headset', 'Bluetooth Headsets', 'Bluetooth Earpieces', 'Bluetooth Speakerphones', 'Bluetooth Adapter', 'Bluetooth Headphones', 'Bluetooth Receiver', 'Bluetooth Earphones', 'Bluetooth Receivers & Adapters']\u001b[0m\n",
      "\n",
      "\u001b[5m\u001b[7m\u001b[91mGround-Truth ->  data_input_text\u001b[0m \u001b[91m: Treatment Of The Borderline Adolescent: A Developmental Approach\u001b[0m\n",
      "\u001b[5m\u001b[7m\u001b[91mLinker ->  data_input_text\u001b[0m \u001b[91m: Treatment Of The Borderline Adolescent: A Developmental Approach\u001b[0m\n",
      "\u001b[5m\u001b[7m\u001b[93mGround-Truth ->  lbl2data_input_text\u001b[0m \u001b[93m: ['Psychology Book']\u001b[0m\n",
      "\u001b[5m\u001b[7m\u001b[93mLinker ->  lbl2data_input_text\u001b[0m \u001b[93m: ['Psychology Book', 'Health Psychology', 'Adolescence Book', 'Adolescent Psychology Book', 'Military and War Psychology', 'Self-help/Adolescent Development Book', 'Personality Development Book', 'Legal and Forensic Psychology', 'Psychiatric Book', 'Introduction to Psychoanalysis Book']\u001b[0m\n",
      "\n",
      "\u001b[5m\u001b[7m\u001b[91mGround-Truth ->  data_input_text\u001b[0m \u001b[91m: Guitar Strap Purple Nylon with Solid Leather Ends & Heavy Duty Tie Lace Quality Made in U.S.A. Fast Free Shipping To Any U.S. Address\u001b[0m\n",
      "\u001b[5m\u001b[7m\u001b[91mLinker ->  data_input_text\u001b[0m \u001b[91m: Guitar Strap Purple Nylon with Solid Leather Ends & Heavy Duty Tie Lace Quality Made in U.S.A. Fast Free Shipping To Any U.S. Address\u001b[0m\n",
      "\u001b[5m\u001b[7m\u001b[93mGround-Truth ->  lbl2data_input_text\u001b[0m \u001b[93m: ['Musical Instrument Accessories']\u001b[0m\n",
      "\u001b[5m\u001b[7m\u001b[93mLinker ->  lbl2data_input_text\u001b[0m \u001b[93m: ['Guitar Accessories', 'Musical Instrument Accessories', 'Musical Instruments Accessories', 'Musical Instruments Accessory', 'Music Instrument Accessories', 'Music Equipment Accessory', 'Musical Instrument Components', 'Music Instruments Accessories', 'Musician Accessories', 'Retro Accessories']\u001b[0m\n",
      "\n",
      "\u001b[5m\u001b[7m\u001b[91mGround-Truth ->  data_input_text\u001b[0m \u001b[91m: Orly Gel Fx Nail Color, Coffee Break, 0.3 Ounce\u001b[0m\n",
      "\u001b[5m\u001b[7m\u001b[91mLinker ->  data_input_text\u001b[0m \u001b[91m: Orly Gel Fx Nail Color, Coffee Break, 0.3 Ounce\u001b[0m\n",
      "\u001b[5m\u001b[7m\u001b[93mGround-Truth ->  lbl2data_input_text\u001b[0m \u001b[93m: ['Nail Polish']\u001b[0m\n",
      "\u001b[5m\u001b[7m\u001b[93mLinker ->  lbl2data_input_text\u001b[0m \u001b[93m: ['Baby Product', 'Baby & Toddler Products', 'Nail Polish', 'Baby & Infant Products', 'Baby and Toddler Products', 'Baby & Toddler Supplies', 'Womens Clothing', 'Baby Accessory', 'European Bead Charm', 'Manicure']\u001b[0m\n",
      "\n",
      "\u001b[5m\u001b[7m\u001b[91mGround-Truth ->  data_input_text\u001b[0m \u001b[91m: 2 Pack Taurus PT709 and PT740 Extra Long 1.25\" Grip Extension by Garrison Grip\u001b[0m\n",
      "\u001b[5m\u001b[7m\u001b[91mLinker ->  data_input_text\u001b[0m \u001b[91m: 2 Pack Taurus PT709 and PT740 Extra Long 1.25\" Grip Extension by Garrison Grip\u001b[0m\n",
      "\u001b[5m\u001b[7m\u001b[93mGround-Truth ->  lbl2data_input_text\u001b[0m \u001b[93m: ['Firearm Accessories']\u001b[0m\n",
      "\u001b[5m\u001b[7m\u001b[93mLinker ->  lbl2data_input_text\u001b[0m \u001b[93m: ['Firearm Accessories', 'Handgun Grip', 'Skateboard Griptape', 'Skateboard Grip Tape', 'Skateboarding Grip Tape', 'Grip Strength Tools', 'Grip Aid', 'Glock Accessories', 'Sports Grip Enhancer', 'Tactical Firearm Accessories']\u001b[0m\n",
      "\n",
      "\u001b[5m\u001b[7m\u001b[91mGround-Truth ->  data_input_text\u001b[0m \u001b[91m: Under Armour Women's Armour Fleece Divide Hoody\u001b[0m\n",
      "\u001b[5m\u001b[7m\u001b[91mLinker ->  data_input_text\u001b[0m \u001b[91m: Under Armour Women's Armour Fleece Divide Hoody\u001b[0m\n",
      "\u001b[5m\u001b[7m\u001b[93mGround-Truth ->  lbl2data_input_text\u001b[0m \u001b[93m: [\"Women's Clothing\"]\u001b[0m\n",
      "\u001b[5m\u001b[7m\u001b[93mLinker ->  lbl2data_input_text\u001b[0m \u001b[93m: [\"Women's Clothing\", 'Herpetology', \"Women's Perfumed Talc\", 'Fencing & Wire', 'Beadwork Supplies', 'Food Jam', \"Women's Base Layers\", \"Women's Blazer\", \"Women's Rain Jackets\", 'European Bead Charm']\u001b[0m\n",
      "\n",
      "\u001b[5m\u001b[7m\u001b[91mGround-Truth ->  data_input_text\u001b[0m \u001b[91m: Under Armour Women's Armour Fleece Divide Hoody\u001b[0m\n",
      "\u001b[5m\u001b[7m\u001b[91mLinker ->  data_input_text\u001b[0m \u001b[91m: Under Armour Women's Armour Fleece Divide Hoody\u001b[0m\n",
      "\u001b[5m\u001b[7m\u001b[93mGround-Truth ->  lbl2data_input_text\u001b[0m \u001b[93m: [\"Women's Clothing\"]\u001b[0m\n",
      "\u001b[5m\u001b[7m\u001b[93mLinker ->  lbl2data_input_text\u001b[0m \u001b[93m: [\"Women's Clothing\", 'Herpetology', \"Women's Perfumed Talc\", 'Fencing & Wire', 'Beadwork Supplies', 'Food Jam', \"Women's Base Layers\", \"Women's Blazer\", \"Women's Rain Jackets\", 'European Bead Charm']\u001b[0m\n",
      "\n",
      "\u001b[5m\u001b[7m\u001b[91mGround-Truth ->  data_input_text\u001b[0m \u001b[91m: Under Armour Women's Armour Fleece Divide Hoody\u001b[0m\n",
      "\u001b[5m\u001b[7m\u001b[91mLinker ->  data_input_text\u001b[0m \u001b[91m: Under Armour Women's Armour Fleece Divide Hoody\u001b[0m\n",
      "\u001b[5m\u001b[7m\u001b[93mGround-Truth ->  lbl2data_input_text\u001b[0m \u001b[93m: [\"Women's Clothing\"]\u001b[0m\n",
      "\u001b[5m\u001b[7m\u001b[93mLinker ->  lbl2data_input_text\u001b[0m \u001b[93m: [\"Women's Clothing\", 'Herpetology', \"Women's Perfumed Talc\", 'Fencing & Wire', 'Beadwork Supplies', 'Food Jam', \"Women's Base Layers\", \"Women's Blazer\", \"Women's Rain Jackets\", 'European Bead Charm']\u001b[0m\n",
      "\n",
      "\u001b[5m\u001b[7m\u001b[91mGround-Truth ->  data_input_text\u001b[0m \u001b[91m: after the movie bill and ted video game adventure for regular nintendo\u001b[0m\n",
      "\u001b[5m\u001b[7m\u001b[91mLinker ->  data_input_text\u001b[0m \u001b[91m: after the movie bill and ted video game adventure for regular nintendo\u001b[0m\n",
      "\u001b[5m\u001b[7m\u001b[93mGround-Truth ->  lbl2data_input_text\u001b[0m \u001b[93m: ['Video Games']\u001b[0m\n",
      "\u001b[5m\u001b[7m\u001b[93mLinker ->  lbl2data_input_text\u001b[0m \u001b[93m: ['Video Games', 'Video Game Novel', 'Video Game Toy', 'Video Game - Sports', 'Video Games - RPG', 'Computer Games', 'Video Entertainment', 'Wii Game', 'Video Games & Accessories', 'Video Games and Toys']\u001b[0m\n",
      "\n",
      "\u001b[5m\u001b[7m\u001b[91mGround-Truth ->  data_input_text\u001b[0m \u001b[91m: Allen 1526 Triple Spinner Target, Black & Orange Metal\u001b[0m\n",
      "\u001b[5m\u001b[7m\u001b[91mLinker ->  data_input_text\u001b[0m \u001b[91m: Allen 1526 Triple Spinner Target, Black & Orange Metal\u001b[0m\n",
      "\u001b[5m\u001b[7m\u001b[93mGround-Truth ->  lbl2data_input_text\u001b[0m \u001b[93m: ['Shooting Targets']\u001b[0m\n",
      "\u001b[5m\u001b[7m\u001b[93mLinker ->  lbl2data_input_text\u001b[0m \u001b[93m: ['Archery Target', 'Shooting Targets', 'Shooting Target', 'Disc Golf Target', 'Airsoft Targets', 'Archery Targets', 'Throwing Target', 'Targets', 'AirSoft Targets', 'Targets & Accessories']\u001b[0m\n",
      "\n",
      "\u001b[5m\u001b[7m\u001b[91mGround-Truth ->  data_input_text\u001b[0m \u001b[91m: Taymor 02-D79614BRN Maxwell Three Piece Bath Set, Oil Rubbed Bronze\u001b[0m\n",
      "\u001b[5m\u001b[7m\u001b[91mLinker ->  data_input_text\u001b[0m \u001b[91m: Taymor 02-D79614BRN Maxwell Three Piece Bath Set, Oil Rubbed Bronze\u001b[0m\n",
      "\u001b[5m\u001b[7m\u001b[93mGround-Truth ->  lbl2data_input_text\u001b[0m \u001b[93m: ['Bathroom Accessories']\u001b[0m\n",
      "\u001b[5m\u001b[7m\u001b[93mLinker ->  lbl2data_input_text\u001b[0m \u001b[93m: ['Bathroom Accessories', 'Bathware', 'Bathroom Linen', 'Bathroom', 'Bath & Shower Gift Sets', 'Bath & Shower Sets', 'Bath Sets', 'Bathroom Sets', 'Bath Rug Set', 'Bathroom Vanity Sets']\u001b[0m\n",
      "\n",
      "\u001b[5m\u001b[7m\u001b[91mGround-Truth ->  data_input_text\u001b[0m \u001b[91m: Fotodiox Inner Pinch Lens Cap, Lens Cover 49mm\u001b[0m\n",
      "\u001b[5m\u001b[7m\u001b[91mLinker ->  data_input_text\u001b[0m \u001b[91m: Fotodiox Inner Pinch Lens Cap, Lens Cover 49mm\u001b[0m\n",
      "\u001b[5m\u001b[7m\u001b[93mGround-Truth ->  lbl2data_input_text\u001b[0m \u001b[93m: ['Camera Accessories']\u001b[0m\n",
      "\u001b[5m\u001b[7m\u001b[93mLinker ->  lbl2data_input_text\u001b[0m \u001b[93m: ['Home & Kitchen Lighting', 'Camera Accessories', 'Camera & Photo Accessories', 'Camera and Photo Accessories', 'Home & Kitchen - Lighting', 'Camera & Photography Accessories', 'Sports & Outdoor Recreation > Golf', 'Camera & Photo accessories', 'Home and Kitchen Lighting', 'Home & Kitchen > Lighting']\u001b[0m\n",
      "\n",
      "\u001b[5m\u001b[7m\u001b[91mGround-Truth ->  data_input_text\u001b[0m \u001b[91m: Orly Gel Fx Nail Color, Luxe, 0.3 Ounce\u001b[0m\n",
      "\u001b[5m\u001b[7m\u001b[91mLinker ->  data_input_text\u001b[0m \u001b[91m: Orly Gel Fx Nail Color, Luxe, 0.3 Ounce\u001b[0m\n",
      "\u001b[5m\u001b[7m\u001b[93mGround-Truth ->  lbl2data_input_text\u001b[0m \u001b[93m: ['Nail Polish']\u001b[0m\n",
      "\u001b[5m\u001b[7m\u001b[93mLinker ->  lbl2data_input_text\u001b[0m \u001b[93m: ['Baby & Toddler Products', 'Nail Polish', 'Adaptive Writing Aids', 'Baby and Toddler Products', 'Baby & Toddler Supplies', 'Women’s Apparel', 'Electronics (Earphones)', 'Ugly Christmas Sweater', 'European Bead Charm', 'Manicure']\u001b[0m\n",
      "\n",
      "\u001b[5m\u001b[7m\u001b[91mGround-Truth ->  data_input_text\u001b[0m \u001b[91m: Steve Madden Women's Katchy Ballet Flat\u001b[0m\n",
      "\u001b[5m\u001b[7m\u001b[91mLinker ->  data_input_text\u001b[0m \u001b[91m: Steve Madden Women's Katchy Ballet Flat\u001b[0m\n",
      "\u001b[5m\u001b[7m\u001b[93mGround-Truth ->  lbl2data_input_text\u001b[0m \u001b[93m: [\"Women's Footwear\"]\u001b[0m\n",
      "\u001b[5m\u001b[7m\u001b[93mLinker ->  lbl2data_input_text\u001b[0m \u001b[93m: ['Travel Guidebook', 'Guidebook', 'Cooking Books', \"Women's Footwear\", 'Travel Guidebooks', 'Clothing & Shoes', 'Baking Supply', \"Women's Footwear Book\", 'Beauty & Personal Care > Makeup > Eye Makeup > Mascara', 'European Bead Charm']\u001b[0m\n",
      "\n",
      "\u001b[5m\u001b[7m\u001b[91mGround-Truth ->  data_input_text\u001b[0m \u001b[91m: Fotodiox Clear LCD Cover Protector, Replacement for Nikon D70 Camera (replaces BM-4)\u001b[0m\n",
      "\u001b[5m\u001b[7m\u001b[91mLinker ->  data_input_text\u001b[0m \u001b[91m: Fotodiox Clear LCD Cover Protector, Replacement for Nikon D70 Camera (replaces BM-4)\u001b[0m\n",
      "\u001b[5m\u001b[7m\u001b[93mGround-Truth ->  lbl2data_input_text\u001b[0m \u001b[93m: ['Camera Accessories']\u001b[0m\n",
      "\u001b[5m\u001b[7m\u001b[93mLinker ->  lbl2data_input_text\u001b[0m \u001b[93m: ['Study Guides & Workbooks', 'Study Guides & Test Preparation', 'Study Guides & Reference Books', 'Camera Accessories', 'Study Guides & Test Prep', 'Cookware & Bakeware', 'Cooking Appliances', 'Pantry Organization', \"Children's Activity/Scrapbooking\", 'Sheet Music / Instrumental Play-Along']\u001b[0m\n",
      "\n",
      "\u001b[5m\u001b[7m\u001b[91mGround-Truth ->  data_input_text\u001b[0m \u001b[91m: Cammenga Easyloader For 7.62x39\u001b[0m\n",
      "\u001b[5m\u001b[7m\u001b[91mLinker ->  data_input_text\u001b[0m \u001b[91m: Cammenga Easyloader For 7.62x39\u001b[0m\n",
      "\u001b[5m\u001b[7m\u001b[93mGround-Truth ->  lbl2data_input_text\u001b[0m \u001b[93m: ['Firearm Accessories']\u001b[0m\n",
      "\u001b[5m\u001b[7m\u001b[93mLinker ->  lbl2data_input_text\u001b[0m \u001b[93m: ['Firearm Accessories', 'Shooting Equipment', 'Shooting Accessory', 'Shooting Gear', 'Shooting Equipment & Accessories', 'Reactive Shooting Targets', 'Radio Charger', 'Precision Shooting Equipment', 'Glock Accessories', 'Tactical Firearm Accessories']\u001b[0m\n",
      "\n",
      "\u001b[5m\u001b[7m\u001b[91mGround-Truth ->  data_input_text\u001b[0m \u001b[91m: Steve Madden Women's Katchy Ballet Flat\u001b[0m\n",
      "\u001b[5m\u001b[7m\u001b[91mLinker ->  data_input_text\u001b[0m \u001b[91m: Steve Madden Women's Katchy Ballet Flat\u001b[0m\n",
      "\u001b[5m\u001b[7m\u001b[93mGround-Truth ->  lbl2data_input_text\u001b[0m \u001b[93m: [\"Women's Footwear\"]\u001b[0m\n",
      "\u001b[5m\u001b[7m\u001b[93mLinker ->  lbl2data_input_text\u001b[0m \u001b[93m: ['Travel Guidebook', 'Guidebook', 'Cooking Books', \"Women's Footwear\", 'Travel Guidebooks', 'Clothing & Shoes', 'Baking Supply', \"Women's Footwear Book\", 'Beauty & Personal Care > Makeup > Eye Makeup > Mascara', 'European Bead Charm']\u001b[0m\n",
      "\n"
     ]
    }
   ],
   "source": [
    "idxs = np.argsort(np.ravel(metric.sum(axis=1)))[:-100-1:-1]\n",
    "disp.show(idxs)"
   ]
  },
  {
   "cell_type": "code",
   "execution_count": null,
   "id": "a74f5ebe-23d8-433a-b48d-082fb55b085b",
   "metadata": {
    "scrolled": true
   },
   "outputs": [
    {
     "name": "stdout",
     "output_type": "stream",
     "text": [
      "\u001b[5m\u001b[7m\u001b[91mGround-Truth ->  data_input_text\u001b[0m \u001b[91m: Estee Lauder Pure Color Long Lasting Lipstick ~ Nectarine 126\u001b[0m\n",
      "\u001b[5m\u001b[7m\u001b[91mLinker ->  data_input_text\u001b[0m \u001b[91m: Estee Lauder Pure Color Long Lasting Lipstick ~ Nectarine 126\u001b[0m\n",
      "\u001b[5m\u001b[7m\u001b[93mGround-Truth ->  lbl2data_input_text\u001b[0m \u001b[93m: ['Beauty and Personal Care']\u001b[0m\n",
      "\u001b[5m\u001b[7m\u001b[93mLinker ->  lbl2data_input_text\u001b[0m \u001b[93m: ['Lipstick', 'Beauty & Personal Care - Lipstick', 'Beauty - Lipstick', 'Beauty Lipstick', \"Women's Lipstick\", 'Beauty & Personal Care / Lipstick', 'Toilet', 'Other Containers & Storage', 'Beauty and Personal Care - Lipstick', 'Beauty & Personal Care > Makeup > Eye Makeup > Mascara']\u001b[0m\n",
      "\n",
      "\u001b[5m\u001b[7m\u001b[91mGround-Truth ->  data_input_text\u001b[0m \u001b[91m: Kenny's Red Laces, 2-pound Bag\u001b[0m\n",
      "\u001b[5m\u001b[7m\u001b[91mLinker ->  data_input_text\u001b[0m \u001b[91m: Kenny's Red Laces, 2-pound Bag\u001b[0m\n",
      "\u001b[5m\u001b[7m\u001b[93mGround-Truth ->  lbl2data_input_text\u001b[0m \u001b[93m: ['Candy']\u001b[0m\n",
      "\u001b[5m\u001b[7m\u001b[93mLinker ->  lbl2data_input_text\u001b[0m \u001b[93m: ['Chocolate Candy', 'Desserts & Sweets', 'Baking & Dessert Products', 'Bakery & Gourmet Food', 'Sweets and Chocolates', 'Baking Supply', 'Baking & Dessert Ingredients', 'Edibles', 'Edible Candy & Treats', 'Candy & Baking Supplies']\u001b[0m\n",
      "\n",
      "\u001b[5m\u001b[7m\u001b[91mGround-Truth ->  data_input_text\u001b[0m \u001b[91m: Blaster x5 - LEGO Star Wars Guns Minifigure Accessory\u001b[0m\n",
      "\u001b[5m\u001b[7m\u001b[91mLinker ->  data_input_text\u001b[0m \u001b[91m: Blaster x5 - LEGO Star Wars Guns Minifigure Accessory\u001b[0m\n",
      "\u001b[5m\u001b[7m\u001b[93mGround-Truth ->  lbl2data_input_text\u001b[0m \u001b[93m: ['LEGO Toy']\u001b[0m\n",
      "\u001b[5m\u001b[7m\u001b[93mLinker ->  lbl2data_input_text\u001b[0m \u001b[93m: ['Toy Costume Accessories', 'LEGO Toys', 'LEGO Mini Figures', 'Lego Accessories', 'Primer', 'LEGO Accessories', 'Toy Jewelry', 'Toy Video Game Accessory', 'LEGO Figures', 'LEGO Collectible']\u001b[0m\n",
      "\n",
      "\u001b[5m\u001b[7m\u001b[91mGround-Truth ->  data_input_text\u001b[0m \u001b[91m: Certified International French Olives 4-Quart Oval Baker\u001b[0m\n",
      "\u001b[5m\u001b[7m\u001b[91mLinker ->  data_input_text\u001b[0m \u001b[91m: Certified International French Olives 4-Quart Oval Baker\u001b[0m\n",
      "\u001b[5m\u001b[7m\u001b[93mGround-Truth ->  lbl2data_input_text\u001b[0m \u001b[93m: ['Kitchen & Dining']\u001b[0m\n",
      "\u001b[5m\u001b[7m\u001b[93mLinker ->  lbl2data_input_text\u001b[0m \u001b[93m: ['Cookware & Bakeware', 'Baking Ingredient', 'Bakery Goods', 'Baking Dishes', 'Baking', 'Crafts & Beadwork', 'Baking & Pastry', 'Olives', 'Tiles', 'Cookware and Bakeware']\u001b[0m\n",
      "\n",
      "\u001b[5m\u001b[7m\u001b[91mGround-Truth ->  data_input_text\u001b[0m \u001b[91m: Moen YB2401BN Method Tank Lever, Brushed Nickel\u001b[0m\n",
      "\u001b[5m\u001b[7m\u001b[91mLinker ->  data_input_text\u001b[0m \u001b[91m: Moen YB2401BN Method Tank Lever, Brushed Nickel\u001b[0m\n",
      "\u001b[5m\u001b[7m\u001b[93mGround-Truth ->  lbl2data_input_text\u001b[0m \u001b[93m: ['Home Improvement']\u001b[0m\n",
      "\u001b[5m\u001b[7m\u001b[93mLinker ->  lbl2data_input_text\u001b[0m \u001b[93m: ['Plumbing Fixture', 'Bath Hardware', 'Bathroom Hardware', 'Bathroom Fixture Replacement Parts', 'Bathroom Fixture', 'Toilet Hardware', 'Bath Fixture', 'Shower/Bath Hardware', 'Shower Hardware', 'Toilet Replacement Parts']\u001b[0m\n",
      "\n",
      "\u001b[5m\u001b[7m\u001b[91mGround-Truth ->  data_input_text\u001b[0m \u001b[91m: Full Circle Come Clean Natural Cleaning Set, FC10111\u001b[0m\n",
      "\u001b[5m\u001b[7m\u001b[91mLinker ->  data_input_text\u001b[0m \u001b[91m: Full Circle Come Clean Natural Cleaning Set, FC10111\u001b[0m\n",
      "\u001b[5m\u001b[7m\u001b[93mGround-Truth ->  lbl2data_input_text\u001b[0m \u001b[93m: ['Cleaning Supplies']\u001b[0m\n",
      "\u001b[5m\u001b[7m\u001b[93mLinker ->  lbl2data_input_text\u001b[0m \u001b[93m: ['Cleaning Services', 'Cleaning Supplies', 'Cleaning Kits', 'Toilet Cleaning System', 'Camera Cleaning Kits', 'Camera Cleaning Kit', 'Rug Cleaning Kits', 'Cleaning Kit', \"Children's Cleaning Toys\", \"Children's Cleaning Kits\"]\u001b[0m\n",
      "\n",
      "\u001b[5m\u001b[7m\u001b[91mGround-Truth ->  data_input_text\u001b[0m \u001b[91m: Rugged Ridge 11503.91 Tire Carrier Linkage\u001b[0m\n",
      "\u001b[5m\u001b[7m\u001b[91mLinker ->  data_input_text\u001b[0m \u001b[91m: Rugged Ridge 11503.91 Tire Carrier Linkage\u001b[0m\n",
      "\u001b[5m\u001b[7m\u001b[93mGround-Truth ->  lbl2data_input_text\u001b[0m \u001b[93m: ['Automotive']\u001b[0m\n",
      "\u001b[5m\u001b[7m\u001b[93mLinker ->  lbl2data_input_text\u001b[0m \u001b[93m: ['Car Rack & Carrier', 'Vehicle Rack & Carrier', 'Automotive Tire Carriers', 'Car Top Carrier', 'Automotive Carrier', 'Automotive Bike Racks & Carrier Accessories', 'Vehicle Carrier & Rack Accessories', 'Automotive Rack and Carrier', 'Automotive Bike Carriers', 'Car Roof Racks & Bike Carriers']\u001b[0m\n",
      "\n",
      "\u001b[5m\u001b[7m\u001b[91mGround-Truth ->  data_input_text\u001b[0m \u001b[91m: Play Safe Pet No-Dig Plant/Yard Guard\u001b[0m\n",
      "\u001b[5m\u001b[7m\u001b[91mLinker ->  data_input_text\u001b[0m \u001b[91m: Play Safe Pet No-Dig Plant/Yard Guard\u001b[0m\n",
      "\u001b[5m\u001b[7m\u001b[93mGround-Truth ->  lbl2data_input_text\u001b[0m \u001b[93m: ['Pet Supplies']\u001b[0m\n",
      "\u001b[5m\u001b[7m\u001b[93mLinker ->  lbl2data_input_text\u001b[0m \u001b[93m: ['Pet Supplies', 'Furniture Protection', 'Pet Containment System', 'Pet Safety Products', 'pet supplies', 'Pet Barriers', 'Pet Containment', 'Pet Safety', 'Pet Furniture Protections', 'Pet Car Barrier']\u001b[0m\n",
      "\n",
      "\u001b[5m\u001b[7m\u001b[91mGround-Truth ->  data_input_text\u001b[0m \u001b[91m: Seeds and Things Pink Sacred Water Lily 5 Seeds - Nelumbo Nucifera\u001b[0m\n",
      "\u001b[5m\u001b[7m\u001b[91mLinker ->  data_input_text\u001b[0m \u001b[91m: Seeds and Things Pink Sacred Water Lily 5 Seeds - Nelumbo Nucifera\u001b[0m\n",
      "\u001b[5m\u001b[7m\u001b[93mGround-Truth ->  lbl2data_input_text\u001b[0m \u001b[93m: ['Water Plants']\u001b[0m\n",
      "\u001b[5m\u001b[7m\u001b[93mLinker ->  lbl2data_input_text\u001b[0m \u001b[93m: ['Aquatic Plants', 'Water Garden Supplies', 'Seeds & Plant Reproduction', 'Water Gardening', 'Decorative Water Beads', 'Water Beads', 'Aquatic Plant Seeds', 'Water Garden Plants', 'Aquatic Plants & Accessories', 'Water Plants']\u001b[0m\n",
      "\n",
      "\u001b[5m\u001b[7m\u001b[91mGround-Truth ->  data_input_text\u001b[0m \u001b[91m: Red Amish Country Popcorn, 1-lb Bag\u001b[0m\n",
      "\u001b[5m\u001b[7m\u001b[91mLinker ->  data_input_text\u001b[0m \u001b[91m: Red Amish Country Popcorn, 1-lb Bag\u001b[0m\n",
      "\u001b[5m\u001b[7m\u001b[93mGround-Truth ->  lbl2data_input_text\u001b[0m \u001b[93m: ['Snack Food']\u001b[0m\n",
      "\u001b[5m\u001b[7m\u001b[93mLinker ->  lbl2data_input_text\u001b[0m \u001b[93m: ['Christian Amish Fiction', 'Exploitation Cinema', 'Nunsploitation Film', 'Popcorn', 'Bakery & Gourmet Food', 'Processed Foods', 'Snacks & Popcorn', 'Popcorn Ingredients', 'Popcorn Products', 'Popcorn & Concession Supplies']\u001b[0m\n",
      "\n",
      "\u001b[5m\u001b[7m\u001b[91mGround-Truth ->  data_input_text\u001b[0m \u001b[91m: Crystal Hard PURPLE RUBBERIZED Faceplate Cover Sleeve Case for PANTECH P2020 EASE (AT&T) [WCM467]\u001b[0m\n",
      "\u001b[5m\u001b[7m\u001b[91mLinker ->  data_input_text\u001b[0m \u001b[91m: Crystal Hard PURPLE RUBBERIZED Faceplate Cover Sleeve Case for PANTECH P2020 EASE (AT&T) [WCM467]\u001b[0m\n",
      "\u001b[5m\u001b[7m\u001b[93mGround-Truth ->  lbl2data_input_text\u001b[0m \u001b[93m: ['Phone Cases']\u001b[0m\n",
      "\u001b[5m\u001b[7m\u001b[93mLinker ->  lbl2data_input_text\u001b[0m \u001b[93m: ['Mobile Phone Cases & Covers', 'Cell Phone Cases & Covers', 'Cell Phone Case & Headphones', 'Accessory for Mobile Devices', 'Mobile Phone Case/Cover', 'Cell Phone Cases & Accessories', 'Cell Phone Case & Accessories', 'Mobile Phone Case & Accessories', 'Mobile Phone Cases and Accessories', 'Mobile Phone Case and Accessories']\u001b[0m\n",
      "\n",
      "\u001b[5m\u001b[7m\u001b[91mGround-Truth ->  data_input_text\u001b[0m \u001b[91m: VIBE Fruit Sensation is a specialized liquid nutraceutical manufactured in our own FDA approved facility to pharmaceutical standards of safety, quality and effectiveness.\u001b[0m\n",
      "\u001b[5m\u001b[7m\u001b[91mLinker ->  data_input_text\u001b[0m \u001b[91m: VIBE Fruit Sensation is a specialized liquid nutraceutical manufactured in our own FDA approved facility to pharmaceutical standards of safety, quality and effectiveness.\u001b[0m\n",
      "\u001b[5m\u001b[7m\u001b[93mGround-Truth ->  lbl2data_input_text\u001b[0m \u001b[93m: ['Nutritional Supplement']\u001b[0m\n",
      "\u001b[5m\u001b[7m\u001b[93mLinker ->  lbl2data_input_text\u001b[0m \u001b[93m: ['Antiseptic Liquid', 'Liquid Supplements', 'Scientific Measurement Liquid', 'Liquid Detergent', 'Liquid Dietary Supplement', 'Liquid Measuring', 'Liquid Cleanser', 'Liquid Sweetener', 'Liquid Dispenser', 'Holistic Medicine']\u001b[0m\n",
      "\n",
      "\u001b[5m\u001b[7m\u001b[91mGround-Truth ->  data_input_text\u001b[0m \u001b[91m: Samsung Captivate I897 (AT&T) Rubberized Snap On Protector Hard Case, Black\u001b[0m\n",
      "\u001b[5m\u001b[7m\u001b[91mLinker ->  data_input_text\u001b[0m \u001b[91m: Samsung Captivate I897 (AT&T) Rubberized Snap On Protector Hard Case, Black\u001b[0m\n",
      "\u001b[5m\u001b[7m\u001b[93mGround-Truth ->  lbl2data_input_text\u001b[0m \u001b[93m: ['Electronics Accessories']\u001b[0m\n",
      "\u001b[5m\u001b[7m\u001b[93mLinker ->  lbl2data_input_text\u001b[0m \u001b[93m: ['Phone Accessories', 'Mobile Phone Accessories', 'Mobile Phone Case', 'Cell Phone/Smartphone Accessories', 'Mobile\\xa0Phone Accessories', 'Mobile phone accessories', 'Phone Accessories Combo', 'Mobile Phone Case Accessories', 'Mobile Phone Case & Accessories', 'Mobile Phone Case and Accessories']\u001b[0m\n",
      "\n",
      "\u001b[5m\u001b[7m\u001b[91mGround-Truth ->  data_input_text\u001b[0m \u001b[91m: \u001b[0m\n",
      "\u001b[5m\u001b[7m\u001b[91mLinker ->  data_input_text\u001b[0m \u001b[91m: \u001b[0m\n",
      "\u001b[5m\u001b[7m\u001b[93mGround-Truth ->  lbl2data_input_text\u001b[0m \u001b[93m: ['Not_Sure']\u001b[0m\n",
      "\u001b[5m\u001b[7m\u001b[93mLinker ->  lbl2data_input_text\u001b[0m \u001b[93m: ['Fiction', '', 'Books', 'Novel', 'Music', 'Thriller', 'Product', 'Accessory', 'Supplement', 'Novels']\u001b[0m\n",
      "\n",
      "\u001b[5m\u001b[7m\u001b[91mGround-Truth ->  data_input_text\u001b[0m \u001b[91m: Wall Decor Plus More WDPM148 Wall Vinyl Sticker Decal Circles and  Rings, Orange, 25-Piece\u001b[0m\n",
      "\u001b[5m\u001b[7m\u001b[91mLinker ->  data_input_text\u001b[0m \u001b[91m: Wall Decor Plus More WDPM148 Wall Vinyl Sticker Decal Circles and  Rings, Orange, 25-Piece\u001b[0m\n",
      "\u001b[5m\u001b[7m\u001b[93mGround-Truth ->  lbl2data_input_text\u001b[0m \u001b[93m: ['Home Decor']\u001b[0m\n",
      "\u001b[5m\u001b[7m\u001b[93mLinker ->  lbl2data_input_text\u001b[0m \u001b[93m: ['Wall Decor', 'Wall Décor', 'Wall Decals', 'Wall Decorations', 'Wall Stickers & Decals', 'Decorative Wall Stickers', 'Wall Art & Decor Stickers', 'Home Decor Wall Stickers', 'Home & Living Wall Decor', 'Home & Kitchen Wall Décor']\u001b[0m\n",
      "\n",
      "\u001b[5m\u001b[7m\u001b[91mGround-Truth ->  data_input_text\u001b[0m \u001b[91m: 2006-2007 Suzuki GSXR 600 & 750 Fender Eliminator License Plate Bracket\u001b[0m\n",
      "\u001b[5m\u001b[7m\u001b[91mLinker ->  data_input_text\u001b[0m \u001b[91m: 2006-2007 Suzuki GSXR 600 & 750 Fender Eliminator License Plate Bracket\u001b[0m\n",
      "\u001b[5m\u001b[7m\u001b[93mGround-Truth ->  lbl2data_input_text\u001b[0m \u001b[93m: ['Automotive Motorcycle Accessories']\u001b[0m\n",
      "\u001b[5m\u001b[7m\u001b[93mLinker ->  lbl2data_input_text\u001b[0m \u001b[93m: ['Motorcycle Accessories', 'Motorcycle Parts', 'Motorcycle Tire Accessories', 'Automotive Motorcycle Accessories', 'Motorcycle Components', 'motorcycle accessories', 'Motorcycle Decals', 'Motorcycles Accessories & Parts', 'Motorcycle Fender Accessories', 'Automotive Motorcycle Parts']\u001b[0m\n",
      "\n",
      "\u001b[5m\u001b[7m\u001b[91mGround-Truth ->  data_input_text\u001b[0m \u001b[91m: Trudeau Alto 3 In 1 Electric Fondue Set, 11-Piece Set\u001b[0m\n",
      "\u001b[5m\u001b[7m\u001b[91mLinker ->  data_input_text\u001b[0m \u001b[91m: Trudeau Alto 3 In 1 Electric Fondue Set, 11-Piece Set\u001b[0m\n",
      "\u001b[5m\u001b[7m\u001b[93mGround-Truth ->  lbl2data_input_text\u001b[0m \u001b[93m: ['Kitchen & Dining']\u001b[0m\n",
      "\u001b[5m\u001b[7m\u001b[93mLinker ->  lbl2data_input_text\u001b[0m \u001b[93m: ['Fondue Sets', 'Kitchen & Dining/Fondue Sets', 'Fondue Accessories', 'Natural Skincare', 'Skincare & Lip Care', 'Natural Skin Care', 'Kitchen & Bakeware', 'Musician Accessories', 'Memoir/Relationships Book', 'Automotive Electric Parts']\u001b[0m\n",
      "\n",
      "\u001b[5m\u001b[7m\u001b[91mGround-Truth ->  data_input_text\u001b[0m \u001b[91m: Outsidepride Crimson Clover Seed: Nitro-Coated, Inoculated - 1/4 LB\u001b[0m\n",
      "\u001b[5m\u001b[7m\u001b[91mLinker ->  data_input_text\u001b[0m \u001b[91m: Outsidepride Crimson Clover Seed: Nitro-Coated, Inoculated - 1/4 LB\u001b[0m\n",
      "\u001b[5m\u001b[7m\u001b[93mGround-Truth ->  lbl2data_input_text\u001b[0m \u001b[93m: ['Garden & Outdoor']\u001b[0m\n",
      "\u001b[5m\u001b[7m\u001b[93mLinker ->  lbl2data_input_text\u001b[0m \u001b[93m: ['Seeds & Bulbs', 'Home & Garden --> Seeds & Planting Stock', 'Gardening & Agriculture', 'Grain and Seeds', 'Seeds & Plant Bulbs', 'Agricultural Seeds', 'Wildlife Forage Seed', 'Gardening & Seed Supplies', 'Grain & Seed', 'Seeds & Landscaping']\u001b[0m\n",
      "\n",
      "\u001b[5m\u001b[7m\u001b[91mGround-Truth ->  data_input_text\u001b[0m \u001b[91m: Red Amish Country Popcorn, 2-lb Bag\u001b[0m\n",
      "\u001b[5m\u001b[7m\u001b[91mLinker ->  data_input_text\u001b[0m \u001b[91m: Red Amish Country Popcorn, 2-lb Bag\u001b[0m\n",
      "\u001b[5m\u001b[7m\u001b[93mGround-Truth ->  lbl2data_input_text\u001b[0m \u001b[93m: ['Gourmet Food']\u001b[0m\n",
      "\u001b[5m\u001b[7m\u001b[93mLinker ->  lbl2data_input_text\u001b[0m \u001b[93m: ['Exploitation Cinema', 'Gourmet Popcorn', 'Popcorn', 'Popcorn and Snacks', 'Bakery & Gourmet Food', 'Processed Foods', 'Snacks & Popcorn', 'Popcorn Ingredients', 'Popcorn Products', 'Popcorn & Concession Supplies']\u001b[0m\n",
      "\n",
      "\u001b[5m\u001b[7m\u001b[91mGround-Truth ->  data_input_text\u001b[0m \u001b[91m: Dell'Alpe Hot Giardiniera - 32oz\u001b[0m\n",
      "\u001b[5m\u001b[7m\u001b[91mLinker ->  data_input_text\u001b[0m \u001b[91m: Dell'Alpe Hot Giardiniera - 32oz\u001b[0m\n",
      "\u001b[5m\u001b[7m\u001b[93mGround-Truth ->  lbl2data_input_text\u001b[0m \u001b[93m: ['Food']\u001b[0m\n",
      "\u001b[5m\u001b[7m\u001b[93mLinker ->  lbl2data_input_text\u001b[0m \u001b[93m: ['Alchemical Novel', 'Italian Food Condiment', 'Perfume & Fragrance', 'Aloe Products', 'Perfume and Lip Gloss', 'Cycling Cream', 'Alchemical Products', 'Spanish Erotic Drama Book', 'Perfume & Body Care', 'Perfume/Fragrance']\u001b[0m\n",
      "\n",
      "\u001b[5m\u001b[7m\u001b[91mGround-Truth ->  data_input_text\u001b[0m \u001b[91m: Auto Dishwasher\u001b[0m\n",
      "\u001b[5m\u001b[7m\u001b[91mLinker ->  data_input_text\u001b[0m \u001b[91m: Auto Dishwasher\u001b[0m\n",
      "\u001b[5m\u001b[7m\u001b[93mGround-Truth ->  lbl2data_input_text\u001b[0m \u001b[93m: ['Kitchen Appliance']\u001b[0m\n",
      "\u001b[5m\u001b[7m\u001b[93mLinker ->  lbl2data_input_text\u001b[0m \u001b[93m: ['Dishwasher Detergent', 'Dishwasher Cleaner', 'Dishwasher Cleaners', 'Dishwasher Maintenance', 'Dishwasher Product', 'Dishwasher Products', 'Dishwasher', 'Dishwasher Cleaning Product', 'Car Wash Equipment', 'Dishwasher Motor Kit']\u001b[0m\n",
      "\n",
      "\u001b[5m\u001b[7m\u001b[91mGround-Truth ->  data_input_text\u001b[0m \u001b[91m: Sc Johnson 70312 \"Pledge\" Multi Surface Cleaner 16 Oz., Trigger Spray (Pack of 6)\u001b[0m\n",
      "\u001b[5m\u001b[7m\u001b[91mLinker ->  data_input_text\u001b[0m \u001b[91m: Sc Johnson 70312 \"Pledge\" Multi Surface Cleaner 16 Oz., Trigger Spray (Pack of 6)\u001b[0m\n",
      "\u001b[5m\u001b[7m\u001b[93mGround-Truth ->  lbl2data_input_text\u001b[0m \u001b[93m: ['Household Cleaning Supplies']\u001b[0m\n",
      "\u001b[5m\u001b[7m\u001b[93mLinker ->  lbl2data_input_text\u001b[0m \u001b[93m: ['Household Cleaning', 'Cleaning Supplies', 'Household Cleaning Products', 'Household Cleaners', 'Surface Cleaner', 'Household Maintenance', 'Surface Cleaners', 'General Household Cleaner', 'Home & Industrial Cleaning', 'Household Surface Cleaner']\u001b[0m\n",
      "\n",
      "\u001b[5m\u001b[7m\u001b[91mGround-Truth ->  data_input_text\u001b[0m \u001b[91m: Kikkerland Dog Stapler, Red (ST07-R)\u001b[0m\n",
      "\u001b[5m\u001b[7m\u001b[91mLinker ->  data_input_text\u001b[0m \u001b[91m: Kikkerland Dog Stapler, Red (ST07-R)\u001b[0m\n",
      "\u001b[5m\u001b[7m\u001b[93mGround-Truth ->  lbl2data_input_text\u001b[0m \u001b[93m: ['Office Supplies']\u001b[0m\n",
      "\u001b[5m\u001b[7m\u001b[93mLinker ->  lbl2data_input_text\u001b[0m \u001b[93m: ['Pet Supplies', 'Office Products', \"Men's Action-Adventure Fiction\", 'Name', 'pet supplies', 'Computer & Accessory', 'Dietary Supplement for Pets', 'Office Electronics Accessory', 'Action Figure and Media', 'Pet-Themed Fiction Book']\u001b[0m\n",
      "\n",
      "\u001b[5m\u001b[7m\u001b[91mGround-Truth ->  data_input_text\u001b[0m \u001b[91m: Outsidepride Creeping Thyme Mother - 5000 Seeds\u001b[0m\n",
      "\u001b[5m\u001b[7m\u001b[91mLinker ->  data_input_text\u001b[0m \u001b[91m: Outsidepride Creeping Thyme Mother - 5000 Seeds\u001b[0m\n",
      "\u001b[5m\u001b[7m\u001b[93mGround-Truth ->  lbl2data_input_text\u001b[0m \u001b[93m: ['Gardening Seeds']\u001b[0m\n",
      "\u001b[5m\u001b[7m\u001b[93mLinker ->  lbl2data_input_text\u001b[0m \u001b[93m: ['Herbs & Seeds', 'Gardening Plants & Seeds', 'Botanical Seeds', 'Seeds & Plant Reproduction', 'Plant & Vegetable Seeds', 'Gardening Plant Seeds', 'Medicinal Plant Seeds', 'Herbs & Spices Seeds', 'Herbal Seeds', 'Gardening Plants and Seeds']\u001b[0m\n",
      "\n",
      "\u001b[5m\u001b[7m\u001b[91mGround-Truth ->  data_input_text\u001b[0m \u001b[91m: Men's UA Catalyst No Show Socks Socks by Under Armour Large Black\u001b[0m\n",
      "\u001b[5m\u001b[7m\u001b[91mLinker ->  data_input_text\u001b[0m \u001b[91m: Men's UA Catalyst No Show Socks Socks by Under Armour Large Black\u001b[0m\n",
      "\u001b[5m\u001b[7m\u001b[93mGround-Truth ->  lbl2data_input_text\u001b[0m \u001b[93m: ['Running Socks']\u001b[0m\n",
      "\u001b[5m\u001b[7m\u001b[93mLinker ->  lbl2data_input_text\u001b[0m \u001b[93m: ['Art and Design', 'Home and Interior Design', \"Men's Clothing\", \"Men's Apparel\", \"Men's Socks\", 'Lavalier Microphone Accessories', 'Airbrush Equipment', 'Breast Care', 'Powersport Gas Cans & Accessories', \"Men's socks\"]\u001b[0m\n",
      "\n",
      "\u001b[5m\u001b[7m\u001b[91mGround-Truth ->  data_input_text\u001b[0m \u001b[91m: Notre Dame Fighting Irish 12'' x 12'' Magnet Multipack\u001b[0m\n",
      "\u001b[5m\u001b[7m\u001b[91mLinker ->  data_input_text\u001b[0m \u001b[91m: Notre Dame Fighting Irish 12'' x 12'' Magnet Multipack\u001b[0m\n",
      "\u001b[5m\u001b[7m\u001b[93mGround-Truth ->  lbl2data_input_text\u001b[0m \u001b[93m: ['Sports Merchandise']\u001b[0m\n",
      "\u001b[5m\u001b[7m\u001b[93mLinker ->  lbl2data_input_text\u001b[0m \u001b[93m: ['Education & Sports', 'Sports Coaching Equipment', 'Sports Fan Magnets', 'Sports Signage', 'Sports & Outdoors Calendar', 'Collegiate Pennants', 'Sports Textbook', 'Collegiate License Plate', 'Sports Magnet', 'Athletic Field Supplies']\u001b[0m\n",
      "\n",
      "\u001b[5m\u001b[7m\u001b[91mGround-Truth ->  data_input_text\u001b[0m \u001b[91m: Auto Ventshade 25053 Bugflector II Hood Shield\u001b[0m\n",
      "\u001b[5m\u001b[7m\u001b[91mLinker ->  data_input_text\u001b[0m \u001b[91m: Auto Ventshade 25053 Bugflector II Hood Shield\u001b[0m\n",
      "\u001b[5m\u001b[7m\u001b[93mGround-Truth ->  lbl2data_input_text\u001b[0m \u001b[93m: ['Automotive Accessories']\u001b[0m\n",
      "\u001b[5m\u001b[7m\u001b[93mLinker ->  lbl2data_input_text\u001b[0m \u001b[93m: ['Automotive Exterior Accessories', 'Car Electronics & Accessories', 'Vehicle Appearance Products', 'Automotive Care & Accessories', 'Exterior Car Accessories', 'Automotive Gear', 'Automotive Car Accessories', 'Car Exterior Accessories', 'Car Electronics / Accessories', 'Beauty & Personal Care > Makeup > Eye Makeup > Mascara']\u001b[0m\n",
      "\n",
      "\u001b[5m\u001b[7m\u001b[91mGround-Truth ->  data_input_text\u001b[0m \u001b[91m: Auto Ventshade 25049 Bugflector II Hood Shield\u001b[0m\n",
      "\u001b[5m\u001b[7m\u001b[91mLinker ->  data_input_text\u001b[0m \u001b[91m: Auto Ventshade 25049 Bugflector II Hood Shield\u001b[0m\n",
      "\u001b[5m\u001b[7m\u001b[93mGround-Truth ->  lbl2data_input_text\u001b[0m \u001b[93m: ['Automotive Accessory']\u001b[0m\n",
      "\u001b[5m\u001b[7m\u001b[93mLinker ->  lbl2data_input_text\u001b[0m \u001b[93m: ['Car Electronics & Accessories', 'Vehicle Appearance Products', 'Automotive Care & Accessories', 'Exterior Car Accessories', 'Automotive Car Accessories', 'Car Exterior Accessories', 'Car Electronics / Accessories', 'Automotive Appearance & Accessories', 'Beauty & Personal Care > Makeup > Eye Makeup > Mascara', 'Automotive & Car Care']\u001b[0m\n",
      "\n",
      "\u001b[5m\u001b[7m\u001b[91mGround-Truth ->  data_input_text\u001b[0m \u001b[91m: Aervoe Led Road Flare, Yellow\u001b[0m\n",
      "\u001b[5m\u001b[7m\u001b[91mLinker ->  data_input_text\u001b[0m \u001b[91m: Aervoe Led Road Flare, Yellow\u001b[0m\n",
      "\u001b[5m\u001b[7m\u001b[93mGround-Truth ->  lbl2data_input_text\u001b[0m \u001b[93m: ['Emergency Equipment']\u001b[0m\n",
      "\u001b[5m\u001b[7m\u001b[93mLinker ->  lbl2data_input_text\u001b[0m \u001b[93m: ['Emergency Equipment', 'Emergency and Safety Equipment', 'Emergency Safety Equipment', 'Safety and Emergency Light', 'Safety & Emergency Lighting', 'Outdoor and Emergency Lighting', 'Automotive Emergency Lights', 'Emergency & Safety Lighting', 'Automotive Emergency Light', 'Emergency & Outdoor Lighting']\u001b[0m\n",
      "\n",
      "\u001b[5m\u001b[7m\u001b[91mGround-Truth ->  data_input_text\u001b[0m \u001b[91m: Tea Forte Ribbon Box - 20 Silken Pyramid Infusers Sampler Collection\u001b[0m\n",
      "\u001b[5m\u001b[7m\u001b[91mLinker ->  data_input_text\u001b[0m \u001b[91m: Tea Forte Ribbon Box - 20 Silken Pyramid Infusers Sampler Collection\u001b[0m\n",
      "\u001b[5m\u001b[7m\u001b[93mGround-Truth ->  lbl2data_input_text\u001b[0m \u001b[93m: ['Tea Sampler']\u001b[0m\n",
      "\u001b[5m\u001b[7m\u001b[93mLinker ->  lbl2data_input_text\u001b[0m \u001b[93m: ['Tea', 'Tea Accessories', 'Chinese Tea', 'Tea Samplers', 'Tea & Infusions', 'Teaware', 'Tea Assortment', 'Tea Sampler Packs', 'Tea and Infuser', 'Tea Infusers']\u001b[0m\n",
      "\n",
      "\u001b[5m\u001b[7m\u001b[91mGround-Truth ->  data_input_text\u001b[0m \u001b[91m: NFL Tampa Bay Buccaneers 50-Inch-by-60-Inch Sherpa on Sherpa Throw Blanket \"Burst\" Design\u001b[0m\n",
      "\u001b[5m\u001b[7m\u001b[91mLinker ->  data_input_text\u001b[0m \u001b[91m: NFL Tampa Bay Buccaneers 50-Inch-by-60-Inch Sherpa on Sherpa Throw Blanket \"Burst\" Design\u001b[0m\n",
      "\u001b[5m\u001b[7m\u001b[93mGround-Truth ->  lbl2data_input_text\u001b[0m \u001b[93m: ['Sports & Outdoors']\u001b[0m\n",
      "\u001b[5m\u001b[7m\u001b[93mLinker ->  lbl2data_input_text\u001b[0m \u001b[93m: ['Gift', 'Nature & Wildlife', 'Crafting & Quilting', 'Blanket', 'Collegiate Fleece Blanket', 'Sports-themed Blanket', 'Team Sports Blanket', 'Sports & Outdoor Blanket', 'Sports Blanket', 'Decorative Blanket']\u001b[0m\n",
      "\n",
      "\u001b[5m\u001b[7m\u001b[91mGround-Truth ->  data_input_text\u001b[0m \u001b[91m: Max Burton 12 Volt Variable Speed Turbo Fan\u001b[0m\n",
      "\u001b[5m\u001b[7m\u001b[91mLinker ->  data_input_text\u001b[0m \u001b[91m: Max Burton 12 Volt Variable Speed Turbo Fan\u001b[0m\n",
      "\u001b[5m\u001b[7m\u001b[93mGround-Truth ->  lbl2data_input_text\u001b[0m \u001b[93m: ['Electronics']\u001b[0m\n",
      "\u001b[5m\u001b[7m\u001b[93mLinker ->  lbl2data_input_text\u001b[0m \u001b[93m: ['Automotive Fan', 'Automotive Cooling Fan', 'Automotive Cooling Fans', 'Automotive Cooling & Heating', 'Automotive Fan Accessories', 'Automotive Replacement Cooling Fans', 'RV Fan', 'Automotive Cooling', 'Automotive Fan Mounting Kit', 'Automotive Fans']\u001b[0m\n",
      "\n",
      "\u001b[5m\u001b[7m\u001b[91mGround-Truth ->  data_input_text\u001b[0m \u001b[91m: [NON-U.S. FORMAT (PAL) Region 2 U.K. Import - This will not play on U.S./Canada DVD players or those from most other countries outside of Europe.\u001b[0m\n",
      "\u001b[5m\u001b[7m\u001b[91mLinker ->  data_input_text\u001b[0m \u001b[91m: [NON-U.S. FORMAT (PAL) Region 2 U.K. Import - This will not play on U.S./Canada DVD players or those from most other countries outside of Europe.\u001b[0m\n",
      "\u001b[5m\u001b[7m\u001b[93mGround-Truth ->  lbl2data_input_text\u001b[0m \u001b[93m: ['DVD']\u001b[0m\n",
      "\u001b[5m\u001b[7m\u001b[93mLinker ->  lbl2data_input_text\u001b[0m \u001b[93m: ['Television Adaptation', 'TV Series [VHS]', 'TV Series Complete Season', 'Television DVD', 'Region Free DVD', 'Television & Classic TV', 'DVD & Blu-ray Collection', 'Movies (Blu-Ray)', 'Classic TV Adaptation', 'EP (Extended Play)']\u001b[0m\n",
      "\n",
      "\u001b[5m\u001b[7m\u001b[91mGround-Truth ->  data_input_text\u001b[0m \u001b[91m: Honl Photo HONL-SNOOT8-WB Speed Snoot 8-in Shorty White/Black\u001b[0m\n",
      "\u001b[5m\u001b[7m\u001b[91mLinker ->  data_input_text\u001b[0m \u001b[91m: Honl Photo HONL-SNOOT8-WB Speed Snoot 8-in Shorty White/Black\u001b[0m\n",
      "\u001b[5m\u001b[7m\u001b[93mGround-Truth ->  lbl2data_input_text\u001b[0m \u001b[93m: ['Photography Accessories']\u001b[0m\n",
      "\u001b[5m\u001b[7m\u001b[93mLinker ->  lbl2data_input_text\u001b[0m \u001b[93m: ['Photography Equipment', 'Photo Accessories', 'Photography Supplies', 'Photo Storage & Presentation', 'Photo Storage and Presentation', 'Photo Tools & Accessories', 'Photo Supplies', 'Photo Frames & Accessories', 'Photo Mounting Supplies', 'Instant Photo Accessories']\u001b[0m\n",
      "\n",
      "\u001b[5m\u001b[7m\u001b[91mGround-Truth ->  data_input_text\u001b[0m \u001b[91m: 18 Movie Set! On 4 DVD's:#1 \"Grave Of The Fireflies\", 2# \"Howl's Moving Castle\", 3# Kiki's Delivery Service\", 4# \"Laputa (Castle Of The Sky)\", 5# My Neighbour Totoro\", 6# \"Navsicaa The Valley Of The Wind\", 7# \"Only Yesterday\", 8# \"Pom Poko\", 9# \"Porco-Rosso\", 10# \"Princess Mononoke\", 11# \"Sound Of The Ocean\", 12# \"Tales From Earthsea\", 13# \"The Castle Of Cagliostro\", 14# \"The Cat Return\", 15# \"Whisper Of The Heart\", 16# \"Spirited Away\", 17# On Your Mark\", 18# \"Ponyo On The Cliff By The Sea\".\u001b[0m\n",
      "\u001b[5m\u001b[7m\u001b[91mLinker ->  data_input_text\u001b[0m \u001b[91m: 18 Movie Set! On 4 DVD's:#1 \"Grave Of The Fireflies\", 2# \"Howl's Moving Castle\", 3# Kiki's Delivery Service\", 4# \"Laputa (Castle Of The Sky)\", 5# My Neighbour Totoro\", 6# \"Navsicaa The Valley Of The Wind\", 7# \"Only Yesterday\", 8# \"Pom Poko\", 9# \"Porco-Rosso\", 10# \"Princess Mononoke\", 11# \"Sound Of The Ocean\", 12# \"Tales From Earthsea\", 13# \"The Castle Of Cagliostro\", 14# \"The Cat Return\", 15# \"Whisper Of The Heart\", 16# \"Spirited Away\", 17# On Your Mark\", 18# \"Ponyo On The Cliff By The Sea\".\u001b[0m\n",
      "\u001b[5m\u001b[7m\u001b[93mGround-Truth ->  lbl2data_input_text\u001b[0m \u001b[93m: ['Animation Collection']\u001b[0m\n",
      "\u001b[5m\u001b[7m\u001b[93mLinker ->  lbl2data_input_text\u001b[0m \u001b[93m: ['Movie Collection', 'Animated Movie Bundle', 'Movie Collections', '3D Movies', \"Children's Movie Collection\", \"Children's DVD Set\", 'Movies Collection', 'Movie Pack', 'Outdoor Movies', 'Movie Set']\u001b[0m\n",
      "\n",
      "\u001b[5m\u001b[7m\u001b[91mGround-Truth ->  data_input_text\u001b[0m \u001b[91m: Stalwart 75-6109TX Hawk Stalwart 9-Piece Long TORX Key Set, 9-Pc.\u001b[0m\n",
      "\u001b[5m\u001b[7m\u001b[91mLinker ->  data_input_text\u001b[0m \u001b[91m: Stalwart 75-6109TX Hawk Stalwart 9-Piece Long TORX Key Set, 9-Pc.\u001b[0m\n",
      "\u001b[5m\u001b[7m\u001b[93mGround-Truth ->  lbl2data_input_text\u001b[0m \u001b[93m: ['Tools & Home Improvement']\u001b[0m\n",
      "\u001b[5m\u001b[7m\u001b[93mLinker ->  lbl2data_input_text\u001b[0m \u001b[93m: ['Key Cabinets & Lock Boxes', 'Knives and Tools', 'Keys & Locksmith Tools', 'Kitchen Knife Sets', 'Key Sets', 'Keys & Keyholders', 'Kitchen Bowl Sets', 'Knife Set', 'Router Bit Sets', 'Key Set']\u001b[0m\n",
      "\n",
      "\u001b[5m\u001b[7m\u001b[91mGround-Truth ->  data_input_text\u001b[0m \u001b[91m: Dechra DermAllay Oatmeal Conditioner for Pets, 12-Ounce\u001b[0m\n",
      "\u001b[5m\u001b[7m\u001b[91mLinker ->  data_input_text\u001b[0m \u001b[91m: Dechra DermAllay Oatmeal Conditioner for Pets, 12-Ounce\u001b[0m\n",
      "\u001b[5m\u001b[7m\u001b[93mGround-Truth ->  lbl2data_input_text\u001b[0m \u001b[93m: ['Pet Care']\u001b[0m\n",
      "\u001b[5m\u001b[7m\u001b[93mLinker ->  lbl2data_input_text\u001b[0m \u001b[93m: ['Pet Care', 'Pet Conditioner', 'Aquarium Water Conditioner', 'Aquarium Conditioner', 'Horse Coat Conditioner', 'Eyelash Conditioner', 'Dog Conditioner', 'Turtle Health Conditioner', 'Pet Skincare', 'Pet Food Seasoning']\u001b[0m\n",
      "\n",
      "\u001b[5m\u001b[7m\u001b[91mGround-Truth ->  data_input_text\u001b[0m \u001b[91m: Certified International French Olives Salt and Pepper Set\u001b[0m\n",
      "\u001b[5m\u001b[7m\u001b[91mLinker ->  data_input_text\u001b[0m \u001b[91m: Certified International French Olives Salt and Pepper Set\u001b[0m\n",
      "\u001b[5m\u001b[7m\u001b[93mGround-Truth ->  lbl2data_input_text\u001b[0m \u001b[93m: ['Kitchen & Dining']\u001b[0m\n",
      "\u001b[5m\u001b[7m\u001b[93mLinker ->  lbl2data_input_text\u001b[0m \u001b[93m: ['Flamenco Music CD', 'Model & Hobby Tools', 'Agricultural Supplies', 'Model & Hobby Supplies', 'Olives', 'Packaged Olives', 'Model Kits & Building Sets', 'Autobiographical Novel / Arab Literature', 'Kitchen & Dining Set', 'Hobby and Model']\u001b[0m\n",
      "\n",
      "\u001b[5m\u001b[7m\u001b[91mGround-Truth ->  data_input_text\u001b[0m \u001b[91m: Certified International French Olives 2-Section Server, 14-1/4-Inch by 9-Inch\u001b[0m\n",
      "\u001b[5m\u001b[7m\u001b[91mLinker ->  data_input_text\u001b[0m \u001b[91m: Certified International French Olives 2-Section Server, 14-1/4-Inch by 9-Inch\u001b[0m\n",
      "\u001b[5m\u001b[7m\u001b[93mGround-Truth ->  lbl2data_input_text\u001b[0m \u001b[93m: ['Ceramic Tableware']\u001b[0m\n",
      "\u001b[5m\u001b[7m\u001b[93mLinker ->  lbl2data_input_text\u001b[0m \u001b[93m: ['Recipes & Cooking', 'Kitchen & Dining Utensils', 'Serving Ware', 'Kitchen & Cooking Utensils', 'Dairy & Pantry Staples', 'Serving Dish', 'Kitchen & Storage', 'Buffet Server', 'Autobiographical Novel / Arab Literature', 'Cutlery & Tools']\u001b[0m\n",
      "\n",
      "\u001b[5m\u001b[7m\u001b[91mGround-Truth ->  data_input_text\u001b[0m \u001b[91m: Ladyfinger Amish Country Popcorn, 2-lb Bag\u001b[0m\n",
      "\u001b[5m\u001b[7m\u001b[91mLinker ->  data_input_text\u001b[0m \u001b[91m: Ladyfinger Amish Country Popcorn, 2-lb Bag\u001b[0m\n",
      "\u001b[5m\u001b[7m\u001b[93mGround-Truth ->  lbl2data_input_text\u001b[0m \u001b[93m: ['Grocery & Gourmet Food']\u001b[0m\n",
      "\u001b[5m\u001b[7m\u001b[93mLinker ->  lbl2data_input_text\u001b[0m \u001b[93m: ['Amish Fiction', 'Amish Romantic Suspense Book', 'Christian Amish Fiction', 'Gourmet Popcorn', 'Popcorn', 'Popcorn & Popcorn Supplies', 'Popcorn and Snacks', 'Snacks & Popcorn', 'Popcorn Products', 'Popcorn & Concession Supplies']\u001b[0m\n",
      "\n",
      "\u001b[5m\u001b[7m\u001b[91mGround-Truth ->  data_input_text\u001b[0m \u001b[91m: The Original Gypsy Gripper\u001b[0m\n",
      "\u001b[5m\u001b[7m\u001b[91mLinker ->  data_input_text\u001b[0m \u001b[91m: The Original Gypsy Gripper\u001b[0m\n",
      "\u001b[5m\u001b[7m\u001b[93mGround-Truth ->  lbl2data_input_text\u001b[0m \u001b[93m: ['Household Tool']\u001b[0m\n",
      "\u001b[5m\u001b[7m\u001b[93mLinker ->  lbl2data_input_text\u001b[0m \u001b[93m: ['Grip Aid', '007 Book', 'Essays and Works of Edward Albee', 'Korean Manwha', 'Ranch Vacation', 'Cafe', 'Grommets', 'Grub Control', 'Yoyo', 'Ladybug House']\u001b[0m\n",
      "\n",
      "\u001b[5m\u001b[7m\u001b[91mGround-Truth ->  data_input_text\u001b[0m \u001b[91m: Green Mountain French Vanilla Iced Coffee Keurig K-Cups, 96 Count\u001b[0m\n",
      "\u001b[5m\u001b[7m\u001b[91mLinker ->  data_input_text\u001b[0m \u001b[91m: Green Mountain French Vanilla Iced Coffee Keurig K-Cups, 96 Count\u001b[0m\n",
      "\u001b[5m\u001b[7m\u001b[93mGround-Truth ->  lbl2data_input_text\u001b[0m \u001b[93m: ['Coffee']\u001b[0m\n",
      "\u001b[5m\u001b[7m\u001b[93mLinker ->  lbl2data_input_text\u001b[0m \u001b[93m: ['Beverages', 'Coffee Beverages', 'Blended Iced Coffee Mix', 'Flavored Coffee Pods', 'Beverages - Coffee', 'Iced Coffee', 'Decaffeinated Coffee', 'Bottled Beverages', 'K-Cup Coffee', 'Bottled Iced Tea']\u001b[0m\n",
      "\n",
      "\u001b[5m\u001b[7m\u001b[91mGround-Truth ->  data_input_text\u001b[0m \u001b[91m: Wall Decor Plus More WDPM242 Wall Vinyl Sticker Decal Circles and  Rings, Yellow, 25-Piece\u001b[0m\n",
      "\u001b[5m\u001b[7m\u001b[91mLinker ->  data_input_text\u001b[0m \u001b[91m: Wall Decor Plus More WDPM242 Wall Vinyl Sticker Decal Circles and  Rings, Yellow, 25-Piece\u001b[0m\n",
      "\u001b[5m\u001b[7m\u001b[93mGround-Truth ->  lbl2data_input_text\u001b[0m \u001b[93m: ['Home Decor']\u001b[0m\n",
      "\u001b[5m\u001b[7m\u001b[93mLinker ->  lbl2data_input_text\u001b[0m \u001b[93m: ['Wall Decor', 'Wall Décor', 'Wall Decorations', 'Home & Kitchen - Wall Décor', 'Wall Stickers & Decals', 'Home & Kitchen - Wall Decor', 'Home & Living Wall Decor', 'Wall Decoration', 'Home & Kitchen Wall Décor', 'Home Decoration/Wall Art']\u001b[0m\n",
      "\n",
      "\u001b[5m\u001b[7m\u001b[91mGround-Truth ->  data_input_text\u001b[0m \u001b[91m: 10\" Nuclear Grade DI Replacement Cartridge\u001b[0m\n",
      "\u001b[5m\u001b[7m\u001b[91mLinker ->  data_input_text\u001b[0m \u001b[91m: 10\" Nuclear Grade DI Replacement Cartridge\u001b[0m\n",
      "\u001b[5m\u001b[7m\u001b[93mGround-Truth ->  lbl2data_input_text\u001b[0m \u001b[93m: ['Water Filtration']\u001b[0m\n",
      "\u001b[5m\u001b[7m\u001b[93mLinker ->  lbl2data_input_text\u001b[0m \u001b[93m: ['Nuclear Weapons Industry Book', 'Nuclear Physics Book', 'Nuclear Technology Book', 'Nuclear Safety Book', 'Nuclear Studies Book', 'Nuclear Science Book', 'Replacement Cartridges for Water Filters', 'Water Filtration Replacement Cartridges', 'Chemical & Water Treatment', 'Filtration & Water Treatment']\u001b[0m\n",
      "\n",
      "\u001b[5m\u001b[7m\u001b[91mGround-Truth ->  data_input_text\u001b[0m \u001b[91m: Wall Decor Plus More WDPM238 Wall Vinyl Sticker Decal Circles and  Rings, White, 25-Piece\u001b[0m\n",
      "\u001b[5m\u001b[7m\u001b[91mLinker ->  data_input_text\u001b[0m \u001b[91m: Wall Decor Plus More WDPM238 Wall Vinyl Sticker Decal Circles and  Rings, White, 25-Piece\u001b[0m\n",
      "\u001b[5m\u001b[7m\u001b[93mGround-Truth ->  lbl2data_input_text\u001b[0m \u001b[93m: ['Wall Decor']\u001b[0m\n",
      "\u001b[5m\u001b[7m\u001b[93mLinker ->  lbl2data_input_text\u001b[0m \u001b[93m: ['Wall Decor', 'Wall Décor', 'Wall Stickers & Murals', 'Wall Decorations', 'Wall Stickers & Decals', 'Wall Art & Decor Stickers', 'Wall Art & Stickers', 'Home Décor > Wall Stickers & Decals', 'Home Decor Wall Stickers', 'Wall Stickers and Murals']\u001b[0m\n",
      "\n",
      "\u001b[5m\u001b[7m\u001b[91mGround-Truth ->  data_input_text\u001b[0m \u001b[91m: Jesus Knocking On Your Door # 2 Religious Wall Picture Art Print\u001b[0m\n",
      "\u001b[5m\u001b[7m\u001b[91mLinker ->  data_input_text\u001b[0m \u001b[91m: Jesus Knocking On Your Door # 2 Religious Wall Picture Art Print\u001b[0m\n",
      "\u001b[5m\u001b[7m\u001b[93mGround-Truth ->  lbl2data_input_text\u001b[0m \u001b[93m: ['Religious Home Decor']\u001b[0m\n",
      "\u001b[5m\u001b[7m\u001b[93mLinker ->  lbl2data_input_text\u001b[0m \u001b[93m: ['Religious Art', 'Religious Art/Posters', 'Religious Artwork', 'Religious Decor', 'Religious Art Prints', 'Religious Art Print', 'Religious Wall Art', 'Religious Wall Decor', 'Religious Art Posters', 'Religious Print']\u001b[0m\n",
      "\n",
      "\u001b[5m\u001b[7m\u001b[91mGround-Truth ->  data_input_text\u001b[0m \u001b[91m: Ice-Watch Ice-Chrono Silicone Strap Black Dial Men's watch #CH.BW.B.S.10\u001b[0m\n",
      "\u001b[5m\u001b[7m\u001b[91mLinker ->  data_input_text\u001b[0m \u001b[91m: Ice-Watch Ice-Chrono Silicone Strap Black Dial Men's watch #CH.BW.B.S.10\u001b[0m\n",
      "\u001b[5m\u001b[7m\u001b[93mGround-Truth ->  lbl2data_input_text\u001b[0m \u001b[93m: ['Watches']\u001b[0m\n",
      "\u001b[5m\u001b[7m\u001b[93mLinker ->  lbl2data_input_text\u001b[0m \u001b[93m: [\"Men's Wristwatches\", \"Men's Watches\", \"Men's Watch\", 'Wristwatches', \"Men's Wristwatch\", 'Men’s Watch', 'Watches for Men', \"Men's Fashion Watch\", 'Mens Watches', \"Men's Analog Watches\"]\u001b[0m\n",
      "\n",
      "\u001b[5m\u001b[7m\u001b[91mGround-Truth ->  data_input_text\u001b[0m \u001b[91m: 25pc Plastic Razor Blades Non-Scratch Scraping Sticker Label Removal\u001b[0m\n",
      "\u001b[5m\u001b[7m\u001b[91mLinker ->  data_input_text\u001b[0m \u001b[91m: 25pc Plastic Razor Blades Non-Scratch Scraping Sticker Label Removal\u001b[0m\n",
      "\u001b[5m\u001b[7m\u001b[93mGround-Truth ->  lbl2data_input_text\u001b[0m \u001b[93m: ['Scraping Tools']\u001b[0m\n",
      "\u001b[5m\u001b[7m\u001b[93mLinker ->  lbl2data_input_text\u001b[0m \u001b[93m: ['Office Supplies', \"Baby/Children's Book\", 'Urban Book', 'Music: Cabaret Singer', 'DIY Toy', 'Pet-themed Home & Kitchen', 'Cooking Tools & Utensils', 'Sheet Music / Instrumental Play-Along', 'Razor Handle', 'Notary Supplies']\u001b[0m\n",
      "\n",
      "\u001b[5m\u001b[7m\u001b[91mGround-Truth ->  data_input_text\u001b[0m \u001b[91m: This 1994 OAV was the first of several revivals of the 1973 TV series based on Go Nagai's manga stories.\u001b[0m\n",
      "\u001b[5m\u001b[7m\u001b[91mLinker ->  data_input_text\u001b[0m \u001b[91m: This 1994 OAV was the first of several revivals of the 1973 TV series based on Go Nagai's manga stories.\u001b[0m\n",
      "\u001b[5m\u001b[7m\u001b[93mGround-Truth ->  lbl2data_input_text\u001b[0m \u001b[93m: ['Anime']\u001b[0m\n",
      "\u001b[5m\u001b[7m\u001b[93mLinker ->  lbl2data_input_text\u001b[0m \u001b[93m: ['Television Series Novelization', 'Television Show Novelization', 'TV Series [VHS]', 'Japanese Animation DVD', 'Anime TV Show', 'Japanese TV Series', 'Historical Television Series', \"Children's Educational TV/DVD\", 'Unscripted TV Series', 'TV Series Season']\u001b[0m\n",
      "\n",
      "\u001b[5m\u001b[7m\u001b[91mGround-Truth ->  data_input_text\u001b[0m \u001b[91m: Body Glove WI-BG3000R Water Filtration Cartridge\u001b[0m\n",
      "\u001b[5m\u001b[7m\u001b[91mLinker ->  data_input_text\u001b[0m \u001b[91m: Body Glove WI-BG3000R Water Filtration Cartridge\u001b[0m\n",
      "\u001b[5m\u001b[7m\u001b[93mGround-Truth ->  lbl2data_input_text\u001b[0m \u001b[93m: ['Water Filtration System']\u001b[0m\n",
      "\u001b[5m\u001b[7m\u001b[93mLinker ->  lbl2data_input_text\u001b[0m \u001b[93m: ['Water Filtration', 'Water Filter Cartridge', 'Water Filters & Cartridges', 'Water Filtration Accessories', 'Replacement Cartridges for Water Filters', 'Water Filtration Equipment', 'Water Filtration Accessory', 'Personal Water Filtration', 'Water Filters & Accessories', 'Water Filtration Cartridge']\u001b[0m\n",
      "\n",
      "\u001b[5m\u001b[7m\u001b[91mGround-Truth ->  data_input_text\u001b[0m \u001b[91m: Head Men's RB Radical Pro Indoor Shoe\u001b[0m\n",
      "\u001b[5m\u001b[7m\u001b[91mLinker ->  data_input_text\u001b[0m \u001b[91m: Head Men's RB Radical Pro Indoor Shoe\u001b[0m\n",
      "\u001b[5m\u001b[7m\u001b[93mGround-Truth ->  lbl2data_input_text\u001b[0m \u001b[93m: [\"Men's Footwear\"]\u001b[0m\n",
      "\u001b[5m\u001b[7m\u001b[93mLinker ->  lbl2data_input_text\u001b[0m \u001b[93m: [\"Men's Athletic Footwear\", \"Men's Industrial Footwear\", \"Men's Indoor Court Shoes\", 'Indoor Sports Shoes', \"Men's Indoor Soccer Footwear\", 'Indoor Footwear', \"Men's Athletic Hats\", 'Indoor Sports Footwear', \"Men's Indoor Soccer Shoes\", 'Indoor Soccer Shoes']\u001b[0m\n",
      "\n",
      "\u001b[5m\u001b[7m\u001b[91mGround-Truth ->  data_input_text\u001b[0m \u001b[91m: Combat Casualty Reference Cards\u001b[0m\n",
      "\u001b[5m\u001b[7m\u001b[91mLinker ->  data_input_text\u001b[0m \u001b[91m: Combat Casualty Reference Cards\u001b[0m\n",
      "\u001b[5m\u001b[7m\u001b[93mGround-Truth ->  lbl2data_input_text\u001b[0m \u001b[93m: []\u001b[0m\n",
      "\u001b[5m\u001b[7m\u001b[93mLinker ->  lbl2data_input_text\u001b[0m \u001b[93m: ['Medical Reference', 'Military Reference Book', 'Medical Reference Cards', 'Military Collectibles Reference Book', 'EMS Reference Book', 'Medical Reference Material', 'Medical Reference Card', 'Military Reference', 'Historical Medical Reference', 'Emergency Management Resource']\u001b[0m\n",
      "\n",
      "\u001b[5m\u001b[7m\u001b[91mGround-Truth ->  data_input_text\u001b[0m \u001b[91m: Industrial Tools Compact Easy-to-Use Battery Charge Tester\u001b[0m\n",
      "\u001b[5m\u001b[7m\u001b[91mLinker ->  data_input_text\u001b[0m \u001b[91m: Industrial Tools Compact Easy-to-Use Battery Charge Tester\u001b[0m\n",
      "\u001b[5m\u001b[7m\u001b[93mGround-Truth ->  lbl2data_input_text\u001b[0m \u001b[93m: ['Industrial Tools']\u001b[0m\n",
      "\u001b[5m\u001b[7m\u001b[93mLinker ->  lbl2data_input_text\u001b[0m \u001b[93m: ['Battery Tester', 'Battery Testers', 'Battery Testing Equipment', 'Automotive Battery Tester', 'Battery Chargers & Charging Accessories', 'Power Supply Tester', 'Battery Management Tools', 'Battery Tools', 'Battery Storage & Testers', 'USB Charging Tester']\u001b[0m\n",
      "\n",
      "\u001b[5m\u001b[7m\u001b[91mGround-Truth ->  data_input_text\u001b[0m \u001b[91m: Grenade Gear shifter shift knob\u001b[0m\n",
      "\u001b[5m\u001b[7m\u001b[91mLinker ->  data_input_text\u001b[0m \u001b[91m: Grenade Gear shifter shift knob\u001b[0m\n",
      "\u001b[5m\u001b[7m\u001b[93mGround-Truth ->  lbl2data_input_text\u001b[0m \u001b[93m: ['Automotive Accessories']\u001b[0m\n",
      "\u001b[5m\u001b[7m\u001b[93mLinker ->  lbl2data_input_text\u001b[0m \u001b[93m: ['Vehicle Accessories', 'Automotive Shifters & Knobs', 'Vehicle Accessory', 'Automotive Spare Parts', 'Vehicle Components', 'Vehicle Parts', 'Spare Parts', 'Vehicle Sports Accessories', 'Automotive Spare & Performance Parts', 'Computer Components & Peripherals']\u001b[0m\n",
      "\n",
      "\u001b[5m\u001b[7m\u001b[91mGround-Truth ->  data_input_text\u001b[0m \u001b[91m: \u001b[0m\n",
      "\u001b[5m\u001b[7m\u001b[91mLinker ->  data_input_text\u001b[0m \u001b[91m: \u001b[0m\n",
      "\u001b[5m\u001b[7m\u001b[93mGround-Truth ->  lbl2data_input_text\u001b[0m \u001b[93m: ['Not_Sure']\u001b[0m\n",
      "\u001b[5m\u001b[7m\u001b[93mLinker ->  lbl2data_input_text\u001b[0m \u001b[93m: ['Fiction', '', 'Books', 'Novel', 'Music', 'Thriller', 'Product', 'Accessory', 'Supplement', 'Novels']\u001b[0m\n",
      "\n",
      "\u001b[5m\u001b[7m\u001b[91mGround-Truth ->  data_input_text\u001b[0m \u001b[91m: Dalluge Tools 1600 16-oz Finish/Trim Hammer 14\" Straight Handle Smooth Face (01600)\u001b[0m\n",
      "\u001b[5m\u001b[7m\u001b[91mLinker ->  data_input_text\u001b[0m \u001b[91m: Dalluge Tools 1600 16-oz Finish/Trim Hammer 14\" Straight Handle Smooth Face (01600)\u001b[0m\n",
      "\u001b[5m\u001b[7m\u001b[93mGround-Truth ->  lbl2data_input_text\u001b[0m \u001b[93m: ['Hand Tools']\u001b[0m\n",
      "\u001b[5m\u001b[7m\u001b[93mLinker ->  lbl2data_input_text\u001b[0m \u001b[93m: ['Christmas Album', 'Alt-Country/Americana Album', 'Sports & Outdoors - Fan Shop', 'Personal Artistry', 'Novelty Kitchen Gadgets', 'Novelty Kitchen Gadget', 'Sports & Outdoors / Fan Shop', 'Sports & Outdoors Fan Shop', 'Sports & Outdoors/Fan Shop', 'Hammer']\u001b[0m\n",
      "\n",
      "\u001b[5m\u001b[7m\u001b[91mGround-Truth ->  data_input_text\u001b[0m \u001b[91m: \u001b[0m\n",
      "\u001b[5m\u001b[7m\u001b[91mLinker ->  data_input_text\u001b[0m \u001b[91m: \u001b[0m\n",
      "\u001b[5m\u001b[7m\u001b[93mGround-Truth ->  lbl2data_input_text\u001b[0m \u001b[93m: ['Not_Sure']\u001b[0m\n",
      "\u001b[5m\u001b[7m\u001b[93mLinker ->  lbl2data_input_text\u001b[0m \u001b[93m: ['Fiction', '', 'Books', 'Novel', 'Music', 'Thriller', 'Product', 'Accessory', 'Supplement', 'Novels']\u001b[0m\n",
      "\n",
      "\u001b[5m\u001b[7m\u001b[91mGround-Truth ->  data_input_text\u001b[0m \u001b[91m: 14\" Animated Plush Singing Chili Pepe Pepper \"Hot Hot Hot\" With Maracas\u001b[0m\n",
      "\u001b[5m\u001b[7m\u001b[91mLinker ->  data_input_text\u001b[0m \u001b[91m: 14\" Animated Plush Singing Chili Pepe Pepper \"Hot Hot Hot\" With Maracas\u001b[0m\n",
      "\u001b[5m\u001b[7m\u001b[93mGround-Truth ->  lbl2data_input_text\u001b[0m \u001b[93m: ['Novelty Toys']\u001b[0m\n",
      "\u001b[5m\u001b[7m\u001b[93mLinker ->  lbl2data_input_text\u001b[0m \u001b[93m: ['Merengue Music CD', 'Merengue Music', 'Toy Musical Instrument', 'Musical Collectibles', \"Children's Music Toys\", 'Singing Plush Toy', 'Singing Teddy Bears', 'Musical Instruments & Collectibles', 'Singing & Dancing Plush Toy', 'Animated Musical Toy']\u001b[0m\n",
      "\n",
      "\u001b[5m\u001b[7m\u001b[91mGround-Truth ->  data_input_text\u001b[0m \u001b[91m: Clip, Utensil\u001b[0m\n",
      "\u001b[5m\u001b[7m\u001b[91mLinker ->  data_input_text\u001b[0m \u001b[91m: Clip, Utensil\u001b[0m\n",
      "\u001b[5m\u001b[7m\u001b[93mGround-Truth ->  lbl2data_input_text\u001b[0m \u001b[93m: ['Kitchen Tools']\u001b[0m\n",
      "\u001b[5m\u001b[7m\u001b[93mLinker ->  lbl2data_input_text\u001b[0m \u001b[93m: ['Adaptive Utensil', 'Clips & Fasteners', 'Disposable Utensils', 'Display Item', 'Assistive Eating Utensils', 'Clips', 'Assistive Utensils', 'Disposable Serving Utensils', 'Money Clip', 'Reusable Utensils']\u001b[0m\n",
      "\n",
      "\u001b[5m\u001b[7m\u001b[91mGround-Truth ->  data_input_text\u001b[0m \u001b[91m: MySIMcopier Sim Card Back-up Sim Back-Up Pack\u001b[0m\n",
      "\u001b[5m\u001b[7m\u001b[91mLinker ->  data_input_text\u001b[0m \u001b[91m: MySIMcopier Sim Card Back-up Sim Back-Up Pack\u001b[0m\n",
      "\u001b[5m\u001b[7m\u001b[93mGround-Truth ->  lbl2data_input_text\u001b[0m \u001b[93m: ['Electronics Accessory']\u001b[0m\n",
      "\u001b[5m\u001b[7m\u001b[93mLinker ->  lbl2data_input_text\u001b[0m \u001b[93m: ['SIM Cards & Prepaid Cards', 'SIM Cards', 'International SIM Cards', 'SIM Cards & Phone Accessories', 'SIM Cards & Prepaid Minutes', 'SIM Card Adapter Kit', 'SIM Card and Accessories', 'SIM Cards & Prepaid Phones', 'Sim Cards & Prepaid', 'SIM Card Adapters']\u001b[0m\n",
      "\n",
      "\u001b[5m\u001b[7m\u001b[91mGround-Truth ->  data_input_text\u001b[0m \u001b[91m: Paradise Herbs Acai Up Lean Body Protein Powder,  Berry Flavor, 438 Gram\u001b[0m\n",
      "\u001b[5m\u001b[7m\u001b[91mLinker ->  data_input_text\u001b[0m \u001b[91m: Paradise Herbs Acai Up Lean Body Protein Powder,  Berry Flavor, 438 Gram\u001b[0m\n",
      "\u001b[5m\u001b[7m\u001b[93mGround-Truth ->  lbl2data_input_text\u001b[0m \u001b[93m: ['Health & Wellness Supplements']\u001b[0m\n",
      "\u001b[5m\u001b[7m\u001b[93mLinker ->  lbl2data_input_text\u001b[0m \u001b[93m: ['Protein Supplements', 'Whey Protein Powder', 'Health & Wellness - Protein Supplements', 'Vegan Protein Powder', 'Meal Replacement Protein Powder', 'Protein Powders', 'Health & Personal Care - Protein Supplements', 'Health & Wellness - Protein Powders', 'Vegetarian Protein', 'Health & Wellness Protein Powder']\u001b[0m\n",
      "\n",
      "\u001b[5m\u001b[7m\u001b[91mGround-Truth ->  data_input_text\u001b[0m \u001b[91m: Fly Fishing Reel And Old Wood Lure # 1 Wall Picture Art Print\u001b[0m\n",
      "\u001b[5m\u001b[7m\u001b[91mLinker ->  data_input_text\u001b[0m \u001b[91m: Fly Fishing Reel And Old Wood Lure # 1 Wall Picture Art Print\u001b[0m\n",
      "\u001b[5m\u001b[7m\u001b[93mGround-Truth ->  lbl2data_input_text\u001b[0m \u001b[93m: ['Home Decor']\u001b[0m\n",
      "\u001b[5m\u001b[7m\u001b[93mLinker ->  lbl2data_input_text\u001b[0m \u001b[93m: ['Wall Art Decor', 'Wall Art & Décor', 'Wall Art & Decor', 'Wall Art and Decor', 'Wall Art & Home Decor', 'Home Wall Art Decor', 'Home Decor Artwork', 'Home Decor Wall Art', 'Home Decor > Wall Art', 'Home Decor / Wall Art']\u001b[0m\n",
      "\n",
      "\u001b[5m\u001b[7m\u001b[91mGround-Truth ->  data_input_text\u001b[0m \u001b[91m: As a founding member of the legendary ensemble Point of Grace, Heather Payne's voice has become synonymous with gospel music.\u001b[0m\n",
      "\u001b[5m\u001b[7m\u001b[91mLinker ->  data_input_text\u001b[0m \u001b[91m: As a founding member of the legendary ensemble Point of Grace, Heather Payne's voice has become synonymous with gospel music.\u001b[0m\n",
      "\u001b[5m\u001b[7m\u001b[93mGround-Truth ->  lbl2data_input_text\u001b[0m \u001b[93m: ['Music']\u001b[0m\n",
      "\u001b[5m\u001b[7m\u001b[93mLinker ->  lbl2data_input_text\u001b[0m \u001b[93m: ['Gospel Music', 'Gospel Music Compilation', 'Gospel Music Artist', 'Music - Gospel', 'Gospel Music Artists', 'Essays and Works of Edward Albee', 'Ranch Vacation', 'Cafe', 'Grommets', 'Ladybug House']\u001b[0m\n",
      "\n",
      "\u001b[5m\u001b[7m\u001b[91mGround-Truth ->  data_input_text\u001b[0m \u001b[91m: Universal HEAD DEMAGNETIZER for Cassette Tape Deck Recorder Reel to Reel 8 Track VHS Audio Video\u001b[0m\n",
      "\u001b[5m\u001b[7m\u001b[91mLinker ->  data_input_text\u001b[0m \u001b[91m: Universal HEAD DEMAGNETIZER for Cassette Tape Deck Recorder Reel to Reel 8 Track VHS Audio Video\u001b[0m\n",
      "\u001b[5m\u001b[7m\u001b[93mGround-Truth ->  lbl2data_input_text\u001b[0m \u001b[93m: ['Audio & Video Equipment']\u001b[0m\n",
      "\u001b[5m\u001b[7m\u001b[93mLinker ->  lbl2data_input_text\u001b[0m \u001b[93m: ['VHS Tape Cleaner', 'Video and Audio Accessories', 'Camera & Camcorder Accessories', 'Digital Audio/Video Component', 'Audio and Video Production Equipment', 'Audio Tape Accessories', 'Audio Video Accessories', 'Video Recording Accessories', 'Audio & HiFi Accessories', 'Video and Audio Hardware']\u001b[0m\n",
      "\n",
      "\u001b[5m\u001b[7m\u001b[91mGround-Truth ->  data_input_text\u001b[0m \u001b[91m: Bottom Bracket CUP SET FRENCH 35X1MM 2xRIGHT W/RETAINER\u001b[0m\n",
      "\u001b[5m\u001b[7m\u001b[91mLinker ->  data_input_text\u001b[0m \u001b[91m: Bottom Bracket CUP SET FRENCH 35X1MM 2xRIGHT W/RETAINER\u001b[0m\n",
      "\u001b[5m\u001b[7m\u001b[93mGround-Truth ->  lbl2data_input_text\u001b[0m \u001b[93m: ['Bicycle Accessories']\u001b[0m\n",
      "\u001b[5m\u001b[7m\u001b[93mLinker ->  lbl2data_input_text\u001b[0m \u001b[93m: ['Watch Accessories', 'Dental Supplies', 'Bicycle Brake Levers', 'Scope Ring', 'Fiber Optic Components', 'Bicycle Bearings', 'Fiber Optic Accessories', 'Retainer Accessories', 'Camera Mount Bracket', 'Retainer Cases']\u001b[0m\n",
      "\n",
      "\u001b[5m\u001b[7m\u001b[91mGround-Truth ->  data_input_text\u001b[0m \u001b[91m: 10 Smart Pot 10 Gallon Aeration Containers\u001b[0m\n",
      "\u001b[5m\u001b[7m\u001b[91mLinker ->  data_input_text\u001b[0m \u001b[91m: 10 Smart Pot 10 Gallon Aeration Containers\u001b[0m\n",
      "\u001b[5m\u001b[7m\u001b[93mGround-Truth ->  lbl2data_input_text\u001b[0m \u001b[93m: ['']\u001b[0m\n",
      "\u001b[5m\u001b[7m\u001b[93mLinker ->  lbl2data_input_text\u001b[0m \u001b[93m: ['Home & Garden Utility Containers', 'Containers', 'Waterproof Containers', 'Gardening Tools & Containers', 'Gardening Containers', 'Outdoor Recreation Containers', 'Gardening Pots & Containers', 'Garden & Outdoor Containers', 'Outdoor Storage Containers', 'Aeration Systems']\u001b[0m\n",
      "\n",
      "\u001b[5m\u001b[7m\u001b[91mGround-Truth ->  data_input_text\u001b[0m \u001b[91m: \u001b[0m\n",
      "\u001b[5m\u001b[7m\u001b[91mLinker ->  data_input_text\u001b[0m \u001b[91m: \u001b[0m\n",
      "\u001b[5m\u001b[7m\u001b[93mGround-Truth ->  lbl2data_input_text\u001b[0m \u001b[93m: ['Not_Sure']\u001b[0m\n",
      "\u001b[5m\u001b[7m\u001b[93mLinker ->  lbl2data_input_text\u001b[0m \u001b[93m: ['Fiction', '', 'Books', 'Novel', 'Music', 'Thriller', 'Product', 'Accessory', 'Supplement', 'Novels']\u001b[0m\n",
      "\n",
      "\u001b[5m\u001b[7m\u001b[91mGround-Truth ->  data_input_text\u001b[0m \u001b[91m: Jarden Consumer Heater BCH9212-U Bionaire Ceramic Mini Tower Heater\u001b[0m\n",
      "\u001b[5m\u001b[7m\u001b[91mLinker ->  data_input_text\u001b[0m \u001b[91m: Jarden Consumer Heater BCH9212-U Bionaire Ceramic Mini Tower Heater\u001b[0m\n",
      "\u001b[5m\u001b[7m\u001b[93mGround-Truth ->  lbl2data_input_text\u001b[0m \u001b[93m: ['Home Appliances']\u001b[0m\n",
      "\u001b[5m\u001b[7m\u001b[93mLinker ->  lbl2data_input_text\u001b[0m \u001b[93m: ['Heaters', 'Home Heating', 'Home Electric Heaters', 'Room Heater', 'Indoor Heating', 'Heaters & Heating', 'Home Heater', 'Wall Heater', 'Heaters, Stoves & Fireplaces', 'Household Heater']\u001b[0m\n",
      "\n",
      "\u001b[5m\u001b[7m\u001b[91mGround-Truth ->  data_input_text\u001b[0m \u001b[91m: 1997 -Thru- 2004 Ford F-150 Center Hub Cap (FM16C) Smaller Model 5 OVALS 16 INCH WHEEL 5 LUG 135MM BOLT PATTERN - diameter of 7-1/16 BACK PLATE\u001b[0m\n",
      "\u001b[5m\u001b[7m\u001b[91mLinker ->  data_input_text\u001b[0m \u001b[91m: 1997 -Thru- 2004 Ford F-150 Center Hub Cap (FM16C) Smaller Model 5 OVALS 16 INCH WHEEL 5 LUG 135MM BOLT PATTERN - diameter of 7-1/16 BACK PLATE\u001b[0m\n",
      "\u001b[5m\u001b[7m\u001b[93mGround-Truth ->  lbl2data_input_text\u001b[0m \u001b[93m: ['Automotive Wheel Accessories']\u001b[0m\n",
      "\u001b[5m\u001b[7m\u001b[93mLinker ->  lbl2data_input_text\u001b[0m \u001b[93m: ['Automotive Wheel & Tire Accessories', 'Automotive Fasteners', 'Automotive Wheel Accessories', 'Automotive Repair Parts', 'Hardware Fasteners', 'Vehicle Wheel Accessories', 'Automotive Wheels & Accessories', 'Automotive Repair & Tools', 'Automotive Repair Tools & Equipment', 'Car Key Components & Accessories']\u001b[0m\n",
      "\n",
      "\u001b[5m\u001b[7m\u001b[91mGround-Truth ->  data_input_text\u001b[0m \u001b[91m: 3-Pack Samsung Vibrant T959 Combo LCD Screen Protector for Samsung Vibrant T959\u001b[0m\n",
      "\u001b[5m\u001b[7m\u001b[91mLinker ->  data_input_text\u001b[0m \u001b[91m: 3-Pack Samsung Vibrant T959 Combo LCD Screen Protector for Samsung Vibrant T959\u001b[0m\n",
      "\u001b[5m\u001b[7m\u001b[93mGround-Truth ->  lbl2data_input_text\u001b[0m \u001b[93m: ['Cell Phone Accessory']\u001b[0m\n",
      "\u001b[5m\u001b[7m\u001b[93mLinker ->  lbl2data_input_text\u001b[0m \u001b[93m: ['Mobile & Accessories', 'Chargers & Adapters', 'Stationary', 'Chargers & Power Adapters', 'Screen Protector for Mobile Phones', 'Chargers & Accessories', 'Mobile & Camera Accessories', 'Phone Accessories Bundle', 'Phone Accessories Combo', 'Mobile Accessories Bundle']\u001b[0m\n",
      "\n",
      "\u001b[5m\u001b[7m\u001b[91mGround-Truth ->  data_input_text\u001b[0m \u001b[91m: Flawless Effect Instant Facial Wrinkle Remover\u001b[0m\n",
      "\u001b[5m\u001b[7m\u001b[91mLinker ->  data_input_text\u001b[0m \u001b[91m: Flawless Effect Instant Facial Wrinkle Remover\u001b[0m\n",
      "\u001b[5m\u001b[7m\u001b[93mGround-Truth ->  lbl2data_input_text\u001b[0m \u001b[93m: ['Skincare']\u001b[0m\n",
      "\u001b[5m\u001b[7m\u001b[93mLinker ->  lbl2data_input_text\u001b[0m \u001b[93m: ['Skincare', 'Literature & Fiction (Sherlock Holmes)', 'Anti-Aging Skin Care', 'Anti-Aging Skincare', 'Facial Cleanser / Skincare', 'Anti-aging Skincare', 'Facial Care Products', 'Puzzle & Building Toys', 'Facial Beauty Product', 'Facial Care Product']\u001b[0m\n",
      "\n",
      "\u001b[5m\u001b[7m\u001b[91mGround-Truth ->  data_input_text\u001b[0m \u001b[91m: 8 Channel 1/4\" TRS Snake Cable - 10 Feet Long - Serviceable Ends - Pro Audio Effects Snake for Live Live, Recording, Studios, and Gigs - Patch, Amp, Mixer, Audio Interface 10'\u001b[0m\n",
      "\u001b[5m\u001b[7m\u001b[91mLinker ->  data_input_text\u001b[0m \u001b[91m: 8 Channel 1/4\" TRS Snake Cable - 10 Feet Long - Serviceable Ends - Pro Audio Effects Snake for Live Live, Recording, Studios, and Gigs - Patch, Amp, Mixer, Audio Interface 10'\u001b[0m\n",
      "\u001b[5m\u001b[7m\u001b[93mGround-Truth ->  lbl2data_input_text\u001b[0m \u001b[93m: ['Audio Cables & Interconnects']\u001b[0m\n",
      "\u001b[5m\u001b[7m\u001b[93mLinker ->  lbl2data_input_text\u001b[0m \u001b[93m: ['Pro Audio Equipment', 'Professional Audio Accessories', 'Pro-Audio Equipment', 'Professional Audio Cables', 'Pro Audio Cables', 'Professional Audio Cable', 'DJ/Pro Audio Equipment', 'Pro Audio Accessories', 'Musical Instruments & Pro Audio', 'DJ & Pro Audio Equipment']\u001b[0m\n",
      "\n",
      "\u001b[5m\u001b[7m\u001b[91mGround-Truth ->  data_input_text\u001b[0m \u001b[91m: Seismic Audio - 4 Channel XLR Snake Cable - 10 Feet Long - Pro Audio Snake for Live Live, Recording, Studios, and Gigs - Patch, Amp, Mixer, Audio Interface 10'\u001b[0m\n",
      "\u001b[5m\u001b[7m\u001b[91mLinker ->  data_input_text\u001b[0m \u001b[91m: Seismic Audio - 4 Channel XLR Snake Cable - 10 Feet Long - Pro Audio Snake for Live Live, Recording, Studios, and Gigs - Patch, Amp, Mixer, Audio Interface 10'\u001b[0m\n",
      "\u001b[5m\u001b[7m\u001b[93mGround-Truth ->  lbl2data_input_text\u001b[0m \u001b[93m: ['Audio Cables & Interconnects']\u001b[0m\n",
      "\u001b[5m\u001b[7m\u001b[93mLinker ->  lbl2data_input_text\u001b[0m \u001b[93m: ['Professional Audio Equipment', 'Pro Audio Equipment', 'Professional Audio Accessories', 'Pro-Audio Equipment', 'Pro Audio Cables', 'Professional Audio Cable', 'DJ/Pro Audio Equipment', 'Pro Audio Accessories', 'Musical Instruments & Pro Audio', 'DJ & Pro Audio Equipment']\u001b[0m\n",
      "\n",
      "\u001b[5m\u001b[7m\u001b[91mGround-Truth ->  data_input_text\u001b[0m \u001b[91m: This is the classic EMI TV compilation from 1980 revamped for it's 30th anniversary to include tracks taking in Marks I and IV, not previously represented on the original album and a bonus DVD featuring TV performances, newly created clips and a new track by track interview with Jon Lord.\u001b[0m\n",
      "\u001b[5m\u001b[7m\u001b[91mLinker ->  data_input_text\u001b[0m \u001b[91m: This is the classic EMI TV compilation from 1980 revamped for it's 30th anniversary to include tracks taking in Marks I and IV, not previously represented on the original album and a bonus DVD featuring TV performances, newly created clips and a new track by track interview with Jon Lord.\u001b[0m\n",
      "\u001b[5m\u001b[7m\u001b[93mGround-Truth ->  lbl2data_input_text\u001b[0m \u001b[93m: ['Music Compilation']\u001b[0m\n",
      "\u001b[5m\u001b[7m\u001b[93mLinker ->  lbl2data_input_text\u001b[0m \u001b[93m: ['TV Show Soundtrack', 'Media - Television Soundtrack', 'Television Soundtrack', 'TV Soundtrack', 'Music - Television Soundtracks', 'TV Show Music Compilation', 'TV Soundtrack Album', 'Original Television Soundtrack', 'TV Soundtrack CD', 'Television Soundtracks']\u001b[0m\n",
      "\n",
      "\u001b[5m\u001b[7m\u001b[91mGround-Truth ->  data_input_text\u001b[0m \u001b[91m: 3 discs, book style shellcase, Kickboxer fullscreen, Replicant/Universal Soldier widescreen, rated R, NTSC region 1\u001b[0m\n",
      "\u001b[5m\u001b[7m\u001b[91mLinker ->  data_input_text\u001b[0m \u001b[91m: 3 discs, book style shellcase, Kickboxer fullscreen, Replicant/Universal Soldier widescreen, rated R, NTSC region 1\u001b[0m\n",
      "\u001b[5m\u001b[7m\u001b[93mGround-Truth ->  lbl2data_input_text\u001b[0m \u001b[93m: ['']\u001b[0m\n",
      "\u001b[5m\u001b[7m\u001b[93mLinker ->  lbl2data_input_text\u001b[0m \u001b[93m: ['DVD Set', 'Media Set', 'DVD Box Set', 'Video Entertainment', 'DVD Box Sets', 'Audio & Video Discs', 'Movie DVD Set', 'Discs', 'Media Sets', 'Music DVD Set']\u001b[0m\n",
      "\n",
      "\u001b[5m\u001b[7m\u001b[91mGround-Truth ->  data_input_text\u001b[0m \u001b[91m: Raven presents two classic albums on one CD for the first time from master song writer PAUL WILLIAMS: Just an Old Fashioned Love Song (1971) and Here Comes Inspiration (1973).\u001b[0m\n",
      "\u001b[5m\u001b[7m\u001b[91mLinker ->  data_input_text\u001b[0m \u001b[91m: Raven presents two classic albums on one CD for the first time from master song writer PAUL WILLIAMS: Just an Old Fashioned Love Song (1971) and Here Comes Inspiration (1973).\u001b[0m\n",
      "\u001b[5m\u001b[7m\u001b[93mGround-Truth ->  lbl2data_input_text\u001b[0m \u001b[93m: ['Music']\u001b[0m\n",
      "\u001b[5m\u001b[7m\u001b[93mLinker ->  lbl2data_input_text\u001b[0m \u001b[93m: ['007 Book', 'Essays and Works of Edward Albee', 'Korean Manwha', 'Ranch Vacation', 'Cafe', 'Biography/Music Theatre Album', 'Grommets', 'Grub Control', 'Yoyo', 'Ladybug House']\u001b[0m\n",
      "\n",
      "\u001b[5m\u001b[7m\u001b[91mGround-Truth ->  data_input_text\u001b[0m \u001b[91m: Royal Sovereign Digital 4-Row Electric Coin Sorter\u001b[0m\n",
      "\u001b[5m\u001b[7m\u001b[91mLinker ->  data_input_text\u001b[0m \u001b[91m: Royal Sovereign Digital 4-Row Electric Coin Sorter\u001b[0m\n",
      "\u001b[5m\u001b[7m\u001b[93mGround-Truth ->  lbl2data_input_text\u001b[0m \u001b[93m: ['Money Management Equipment']\u001b[0m\n",
      "\u001b[5m\u001b[7m\u001b[93mLinker ->  lbl2data_input_text\u001b[0m \u001b[93m: ['Coin Collecting Tools', 'Coin Sorting Machines', 'Money Management Equipment', 'Coin Sorter', 'Coin Handling Tools', 'Coin Sorters', 'Laundry Sorters', 'Coin Counting Gadget', 'Coin Sorting Machine', 'Laundry Sorter']\u001b[0m\n",
      "\n",
      "\u001b[5m\u001b[7m\u001b[91mGround-Truth ->  data_input_text\u001b[0m \u001b[91m: Short Sexy Hair Piece Out Wax Mousse By Sexy Hair for Unisex, 4.8 Ounce\u001b[0m\n",
      "\u001b[5m\u001b[7m\u001b[91mLinker ->  data_input_text\u001b[0m \u001b[91m: Short Sexy Hair Piece Out Wax Mousse By Sexy Hair for Unisex, 4.8 Ounce\u001b[0m\n",
      "\u001b[5m\u001b[7m\u001b[93mGround-Truth ->  lbl2data_input_text\u001b[0m \u001b[93m: ['Hair Styling Product']\u001b[0m\n",
      "\u001b[5m\u001b[7m\u001b[93mLinker ->  lbl2data_input_text\u001b[0m \u001b[93m: ['Fashion Styling', 'Hair Styling Products', 'Hair Styling Product', 'Hair Styling', 'Hair Texturizers', 'Hairstyling Products', 'Hairspray', 'Hair Beauty Products', 'Hair Wax', 'Hair Styling Wax']\u001b[0m\n",
      "\n",
      "\u001b[5m\u001b[7m\u001b[91mGround-Truth ->  data_input_text\u001b[0m \u001b[91m: Italy - Country Stickers (60 Pack)\u001b[0m\n",
      "\u001b[5m\u001b[7m\u001b[91mLinker ->  data_input_text\u001b[0m \u001b[91m: Italy - Country Stickers (60 Pack)\u001b[0m\n",
      "\u001b[5m\u001b[7m\u001b[93mGround-Truth ->  lbl2data_input_text\u001b[0m \u001b[93m: ['Decorative Stickers']\u001b[0m\n",
      "\u001b[5m\u001b[7m\u001b[93mLinker ->  lbl2data_input_text\u001b[0m \u001b[93m: ['Stickers', 'Sports Stickers', 'Travel Stickers', 'Sticker Collection', 'Sticker Packs', 'Media Stickers', 'Nature Stickers', 'Festive Stickers', 'Sticker Pack', 'Promotional Stickers']\u001b[0m\n",
      "\n",
      "\u001b[5m\u001b[7m\u001b[91mGround-Truth ->  data_input_text\u001b[0m \u001b[91m: Battling through 4 inch thick steel plating and hazardous waste, a demolition team discovers the secret of sinking an aircraft carrier, the USS Oriskany, and writes a new chapter in marine demolition to create the largest artificial reef in the world.This product is manufactured on demand using DVD-R recordable media.\u001b[0m\n",
      "\u001b[5m\u001b[7m\u001b[91mLinker ->  data_input_text\u001b[0m \u001b[91m: Battling through 4 inch thick steel plating and hazardous waste, a demolition team discovers the secret of sinking an aircraft carrier, the USS Oriskany, and writes a new chapter in marine demolition to create the largest artificial reef in the world.This product is manufactured on demand using DVD-R recordable media.\u001b[0m\n",
      "\u001b[5m\u001b[7m\u001b[93mGround-Truth ->  lbl2data_input_text\u001b[0m \u001b[93m: ['Documentary DVD']\u001b[0m\n",
      "\u001b[5m\u001b[7m\u001b[93mLinker ->  lbl2data_input_text\u001b[0m \u001b[93m: ['Military History', 'Ancient Military History', 'WWII Documentary', 'History / WWII and Shipwreck Diving', 'WWII History Documentary', 'Military History Documentary', 'Industrial Documentary', 'Historical Military Documentary', 'Military Technology Documentary', 'Military History/Current Affairs']\u001b[0m\n",
      "\n",
      "\u001b[5m\u001b[7m\u001b[91mGround-Truth ->  data_input_text\u001b[0m \u001b[91m: *Cards include:01: Edward and Bella02: Emmett03: Riley04: Carlisle and Esme05: Bella06: Alice and Jasper07: Jacob08: Victoria09: Edward and Bella10: EdwardNN: Movie poster\u001b[0m\n",
      "\u001b[5m\u001b[7m\u001b[91mLinker ->  data_input_text\u001b[0m \u001b[91m: *Cards include:01: Edward and Bella02: Emmett03: Riley04: Carlisle and Esme05: Bella06: Alice and Jasper07: Jacob08: Victoria09: Edward and Bella10: EdwardNN: Movie poster\u001b[0m\n",
      "\u001b[5m\u001b[7m\u001b[93mGround-Truth ->  lbl2data_input_text\u001b[0m \u001b[93m: ['Trading Cards']\u001b[0m\n",
      "\u001b[5m\u001b[7m\u001b[93mLinker ->  lbl2data_input_text\u001b[0m \u001b[93m: ['Collectible Cards', 'Trading Cards', 'Game Cards', 'Trading Cards Game', 'Collectible Gaming Cards', 'Trading Card Game Cards', 'Collectible Toy Cards', 'Collectible Game Cards', \"Collector's Cards\", 'Collectible Card Sets']\u001b[0m\n",
      "\n",
      "\u001b[5m\u001b[7m\u001b[91mGround-Truth ->  data_input_text\u001b[0m \u001b[91m: This compilation includes five Keystone Kops shorts: The Bangville Police, Her Painted Hero, Love, Speed and Thrills, The Speed Kings, and Wife and Auto Trouble.This product is manufactured on demand using DVD-R recordable media.\u001b[0m\n",
      "\u001b[5m\u001b[7m\u001b[91mLinker ->  data_input_text\u001b[0m \u001b[91m: This compilation includes five Keystone Kops shorts: The Bangville Police, Her Painted Hero, Love, Speed and Thrills, The Speed Kings, and Wife and Auto Trouble.This product is manufactured on demand using DVD-R recordable media.\u001b[0m\n",
      "\u001b[5m\u001b[7m\u001b[93mGround-Truth ->  lbl2data_input_text\u001b[0m \u001b[93m: ['Silent Film Collection']\u001b[0m\n",
      "\u001b[5m\u001b[7m\u001b[93mLinker ->  lbl2data_input_text\u001b[0m \u001b[93m: ['Short Film DVD Collection', 'Classic Urban Films Collection', 'Classic Urban Films', 'Crime Movie Collection', 'Short Films Collection', 'Short Film Collection', 'Crime Documentary Collection', 'Classic Crime Films Collection', 'Independent Short Films', 'Films Collection']\u001b[0m\n",
      "\n",
      "\u001b[5m\u001b[7m\u001b[91mGround-Truth ->  data_input_text\u001b[0m \u001b[91m: In this DVD, Brainard Carey delivers a lecture and visual presentation on the many ways artists create incomes.Some of the topics that are discussed include, how well-known contemporary artists like Christo and Tino Sehgal have found creative ways to earn a living.There is also an analysis of how artists without gallery representation can earn a living and specific instructions are given for ways to create your own strategy for a career that is financially successful.Brainard Carey is a professional career consultant and also an artist that has been in numerous shows both nationally and internationally.\u001b[0m\n",
      "\u001b[5m\u001b[7m\u001b[91mLinker ->  data_input_text\u001b[0m \u001b[91m: In this DVD, Brainard Carey delivers a lecture and visual presentation on the many ways artists create incomes.Some of the topics that are discussed include, how well-known contemporary artists like Christo and Tino Sehgal have found creative ways to earn a living.There is also an analysis of how artists without gallery representation can earn a living and specific instructions are given for ways to create your own strategy for a career that is financially successful.Brainard Carey is a professional career consultant and also an artist that has been in numerous shows both nationally and internationally.\u001b[0m\n",
      "\u001b[5m\u001b[7m\u001b[93mGround-Truth ->  lbl2data_input_text\u001b[0m \u001b[93m: []\u001b[0m\n",
      "\u001b[5m\u001b[7m\u001b[93mLinker ->  lbl2data_input_text\u001b[0m \u001b[93m: ['Art Instruction DVD', 'Art Instructional DVD', 'Art Workshop DVD', 'Art Documentary DVD', 'Art Education DVD', 'Art DVD', 'Art Video DVD', 'Art & Design Tutorial DVD', 'Lecture DVD', 'Acrylic Painting DVD']\u001b[0m\n",
      "\n",
      "\u001b[5m\u001b[7m\u001b[91mGround-Truth ->  data_input_text\u001b[0m \u001b[91m: Hand made Cable Hand Knit Skull Beanie Winter Hat Black\u001b[0m\n",
      "\u001b[5m\u001b[7m\u001b[91mLinker ->  data_input_text\u001b[0m \u001b[91m: Hand made Cable Hand Knit Skull Beanie Winter Hat Black\u001b[0m\n",
      "\u001b[5m\u001b[7m\u001b[93mGround-Truth ->  lbl2data_input_text\u001b[0m \u001b[93m: ['Clothing & Accessories']\u001b[0m\n",
      "\u001b[5m\u001b[7m\u001b[93mLinker ->  lbl2data_input_text\u001b[0m \u001b[93m: ['Winter Accessories', 'Winter Apparel', 'Winter Clothing Accessories', 'Winter Fashion Accessories', 'Winter Clothing & Accessories', 'Winter Gear', 'Winter Apparel and Accessories', 'Winter Clothing and Accessories', 'Adult Winter Accessories', 'Winter Apparel Accessories']\u001b[0m\n",
      "\n",
      "\u001b[5m\u001b[7m\u001b[91mGround-Truth ->  data_input_text\u001b[0m \u001b[91m: Eitech Exclusive Deluxe Motorized Crane Construction Set\u001b[0m\n",
      "\u001b[5m\u001b[7m\u001b[91mLinker ->  data_input_text\u001b[0m \u001b[91m: Eitech Exclusive Deluxe Motorized Crane Construction Set\u001b[0m\n",
      "\u001b[5m\u001b[7m\u001b[93mGround-Truth ->  lbl2data_input_text\u001b[0m \u001b[93m: ['Construction Toys']\u001b[0m\n",
      "\u001b[5m\u001b[7m\u001b[93mLinker ->  lbl2data_input_text\u001b[0m \u001b[93m: ['Construction Kits', \"Children's Tools & Gadgets\", \"Children's Pretend Play Sets\", 'Building Kit', 'Outdoor & Indoor Play Equipment', 'Toy Crane', 'Model Kits & Building Sets', 'Educational Kits and Sets', 'Building Kits & Models', \"Children's Construction Kits\"]\u001b[0m\n",
      "\n",
      "\u001b[5m\u001b[7m\u001b[91mGround-Truth ->  data_input_text\u001b[0m \u001b[91m: Eitech Basic Mini Jeep Construction Set\u001b[0m\n",
      "\u001b[5m\u001b[7m\u001b[91mLinker ->  data_input_text\u001b[0m \u001b[91m: Eitech Basic Mini Jeep Construction Set\u001b[0m\n",
      "\u001b[5m\u001b[7m\u001b[93mGround-Truth ->  lbl2data_input_text\u001b[0m \u001b[93m: ['Construction Toys']\u001b[0m\n",
      "\u001b[5m\u001b[7m\u001b[93mLinker ->  lbl2data_input_text\u001b[0m \u001b[93m: ['Construction Toy Vehicles', 'Construction Kits', 'Building Kits', 'Toy Construction Vehicles', 'Toy Building Kit', \"Children's Vehicles & Construction Toys\", 'Military Construction Toys', 'Construction Vehicles Toy', \"Children's Construction Kits\", 'Collectible Construction Set']\u001b[0m\n",
      "\n",
      "\u001b[5m\u001b[7m\u001b[91mGround-Truth ->  data_input_text\u001b[0m \u001b[91m: Tear- and Mildew-Resistant Curved Wood Rack Cover with Brass Grommets\u001b[0m\n",
      "\u001b[5m\u001b[7m\u001b[91mLinker ->  data_input_text\u001b[0m \u001b[91m: Tear- and Mildew-Resistant Curved Wood Rack Cover with Brass Grommets\u001b[0m\n",
      "\u001b[5m\u001b[7m\u001b[93mGround-Truth ->  lbl2data_input_text\u001b[0m \u001b[93m: ['Outdoor Furniture Covers']\u001b[0m\n",
      "\u001b[5m\u001b[7m\u001b[93mLinker ->  lbl2data_input_text\u001b[0m \u001b[93m: ['Rack Accessories', 'Rack Mount Accessories', 'Rack Shelving & Accessories', 'Rack and Server Accessories', 'Rack Mount Hardware', 'Rack and Cabinet Accessories', 'Rack Hardware', 'Audio Rack Accessories', 'Rack Shelves', 'Rack Mounting Hardware']\u001b[0m\n",
      "\n",
      "\u001b[5m\u001b[7m\u001b[91mGround-Truth ->  data_input_text\u001b[0m \u001b[91m: Zan Headgear Hannibal Face Neoprene Half Face Mask\u001b[0m\n",
      "\u001b[5m\u001b[7m\u001b[91mLinker ->  data_input_text\u001b[0m \u001b[91m: Zan Headgear Hannibal Face Neoprene Half Face Mask\u001b[0m\n",
      "\u001b[5m\u001b[7m\u001b[93mGround-Truth ->  lbl2data_input_text\u001b[0m \u001b[93m: ['Face Masks']\u001b[0m\n",
      "\u001b[5m\u001b[7m\u001b[93mLinker ->  lbl2data_input_text\u001b[0m \u001b[93m: ['Face Masks', 'Outdoor Face Masks', 'Protective Mask', 'Protective Face Masks', 'Masks & Headgear', 'Respiratory Masks', 'Outdoor Recreation Masks', 'Protective Masks', 'Airsoft Face Protection Mask', 'Masks & Respiratory Equipment']\u001b[0m\n",
      "\n",
      "\u001b[5m\u001b[7m\u001b[91mGround-Truth ->  data_input_text\u001b[0m \u001b[91m: Eitech Basic Mini Aircraft Construction Set\u001b[0m\n",
      "\u001b[5m\u001b[7m\u001b[91mLinker ->  data_input_text\u001b[0m \u001b[91m: Eitech Basic Mini Aircraft Construction Set\u001b[0m\n",
      "\u001b[5m\u001b[7m\u001b[93mGround-Truth ->  lbl2data_input_text\u001b[0m \u001b[93m: ['Building & Construction Toys']\u001b[0m\n",
      "\u001b[5m\u001b[7m\u001b[93mLinker ->  lbl2data_input_text\u001b[0m \u001b[93m: ['RC Plane Building Tools', 'Model Aircraft Kit', 'Aircraft Model Kits', 'RC Model Aircraft Supplies', 'Aircraft Model Kit', 'Toy Aircraft', 'Model Aircraft Kits', 'RC Airplane Kits', 'Toy Model Aircraft', 'Model Kits and Airplanes']\u001b[0m\n",
      "\n",
      "\u001b[5m\u001b[7m\u001b[91mGround-Truth ->  data_input_text\u001b[0m \u001b[91m: Meffort IncÂ® 13 13.3 Inch Neoprene Laptop / Ultrabook / Chromebook Bag Carrying Sleeve with Hidden Handle and Adjustable Shoulder Strap (Smiley & Sad Face)\u001b[0m\n",
      "\u001b[5m\u001b[7m\u001b[91mLinker ->  data_input_text\u001b[0m \u001b[91m: Meffort IncÂ® 13 13.3 Inch Neoprene Laptop / Ultrabook / Chromebook Bag Carrying Sleeve with Hidden Handle and Adjustable Shoulder Strap (Smiley & Sad Face)\u001b[0m\n",
      "\u001b[5m\u001b[7m\u001b[93mGround-Truth ->  lbl2data_input_text\u001b[0m \u001b[93m: []\u001b[0m\n",
      "\u001b[5m\u001b[7m\u001b[93mLinker ->  lbl2data_input_text\u001b[0m \u001b[93m: ['Laptop Bags', 'Laptop Bags & Cases', 'Laptop Briefcases', 'Laptop Bag', 'Laptop & Briefcase Bags', 'Laptop Bags and Cases', 'Laptop Bags & Briefcases', 'Laptop Bags & Sleeves', 'Travel & Laptop Bags', 'Laptop Cases & Bags']\u001b[0m\n",
      "\n",
      "\u001b[5m\u001b[7m\u001b[91mGround-Truth ->  data_input_text\u001b[0m \u001b[91m: Alyria Gentle Cleanser 5.07 fl oz.\u001b[0m\n",
      "\u001b[5m\u001b[7m\u001b[91mLinker ->  data_input_text\u001b[0m \u001b[91m: Alyria Gentle Cleanser 5.07 fl oz.\u001b[0m\n",
      "\u001b[5m\u001b[7m\u001b[93mGround-Truth ->  lbl2data_input_text\u001b[0m \u001b[93m: ['Skincare']\u001b[0m\n",
      "\u001b[5m\u001b[7m\u001b[93mLinker ->  lbl2data_input_text\u001b[0m \u001b[93m: ['Facial Cleanser', 'Skin Cleanser', 'Face Cleanser', 'Skincare Cleanser', 'Facial Cleanser / Skincare', 'Herbal Cleanse', 'Acne Cleanser', 'Skincare/Facial Cleanser', 'All-Natural Cleaning Products', 'Spa Cleanser']\u001b[0m\n",
      "\n",
      "\u001b[5m\u001b[7m\u001b[91mGround-Truth ->  data_input_text\u001b[0m \u001b[91m: OEM (Verizon Brand) Lg Cosmos VN250 Holster\u001b[0m\n",
      "\u001b[5m\u001b[7m\u001b[91mLinker ->  data_input_text\u001b[0m \u001b[91m: OEM (Verizon Brand) Lg Cosmos VN250 Holster\u001b[0m\n",
      "\u001b[5m\u001b[7m\u001b[93mGround-Truth ->  lbl2data_input_text\u001b[0m \u001b[93m: ['Mobile Phone Accessories']\u001b[0m\n",
      "\u001b[5m\u001b[7m\u001b[93mLinker ->  lbl2data_input_text\u001b[0m \u001b[93m: ['Cell Phone Holsters', 'Mobile Phone Holsters', 'Warhammer 40k', 'Mobile Phone Holster', 'Cell Phone Case and Holster', 'Food & Beverage - Chocolate', 'Food, Condiments & Sauces', 'Phone Holsters', 'Phone Holster', 'Phone Cases, Holsters & Clips']\u001b[0m\n",
      "\n",
      "\u001b[5m\u001b[7m\u001b[91mGround-Truth ->  data_input_text\u001b[0m \u001b[91m: Weston 83-3030-W Cone and Pestle Set, Stainless Steel\u001b[0m\n",
      "\u001b[5m\u001b[7m\u001b[91mLinker ->  data_input_text\u001b[0m \u001b[91m: Weston 83-3030-W Cone and Pestle Set, Stainless Steel\u001b[0m\n",
      "\u001b[5m\u001b[7m\u001b[93mGround-Truth ->  lbl2data_input_text\u001b[0m \u001b[93m: ['Kitchen Tools']\u001b[0m\n",
      "\u001b[5m\u001b[7m\u001b[93mLinker ->  lbl2data_input_text\u001b[0m \u001b[93m: ['Commercial Kitchen Tools', 'Home Canning Tools', 'Snow Cone Maker', 'Ice Shaver & Snow Cone Machine', 'Kitchen Utensils Set', 'Manual Kitchen Grinder', 'Canning Tools', 'Cooking Utensil Set', 'Kitchen Pest Control', 'Electrolyte Replacement Popsicles']\u001b[0m\n",
      "\n",
      "\u001b[5m\u001b[7m\u001b[91mGround-Truth ->  data_input_text\u001b[0m \u001b[91m: Molecular Gastronomy Sodium Citrate, Artistre Â®, 1 x 1LB\u001b[0m\n",
      "\u001b[5m\u001b[7m\u001b[91mLinker ->  data_input_text\u001b[0m \u001b[91m: Molecular Gastronomy Sodium Citrate, Artistre Â®, 1 x 1LB\u001b[0m\n",
      "\u001b[5m\u001b[7m\u001b[93mGround-Truth ->  lbl2data_input_text\u001b[0m \u001b[93m: []\u001b[0m\n",
      "\u001b[5m\u001b[7m\u001b[93mLinker ->  lbl2data_input_text\u001b[0m \u001b[93m: ['Culinary Ingredients', 'Molecular Gastronomy Ingredients', 'Molecular Gastronomy Kit', 'Culinary Additive', 'Fermented Food Ingredients', 'Molecular Gastronomy Tools', 'Molecular Gastronomy Kits', 'Molecular Gastronomy Ingredient', 'Molecular Gastronomy Supplies', 'Molecular Gastronomy Additive']\u001b[0m\n",
      "\n",
      "\u001b[5m\u001b[7m\u001b[91mGround-Truth ->  data_input_text\u001b[0m \u001b[91m: Pink Ribbon Pens On A Rope (Recieve 24 Pens Per Order)\u001b[0m\n",
      "\u001b[5m\u001b[7m\u001b[91mLinker ->  data_input_text\u001b[0m \u001b[91m: Pink Ribbon Pens On A Rope (Recieve 24 Pens Per Order)\u001b[0m\n",
      "\u001b[5m\u001b[7m\u001b[93mGround-Truth ->  lbl2data_input_text\u001b[0m \u001b[93m: ['Writing Supplies']\u001b[0m\n",
      "\u001b[5m\u001b[7m\u001b[93mLinker ->  lbl2data_input_text\u001b[0m \u001b[93m: ['Stationery', 'Office Supplies', 'Scented Pencils', 'Promotional Pens', 'Puzzle Pens', 'Left-Handed Writing Tools', 'Scented Gel Pens', 'Financial Stationery', 'Multi-functional Pens', 'Scented Pens']\u001b[0m\n",
      "\n",
      "\u001b[5m\u001b[7m\u001b[91mGround-Truth ->  data_input_text\u001b[0m \u001b[91m: Yamaha R6 2006 2007 2008 2009 2010 2011 2012 2013 Fender Eliminator License Plate Bracket\u001b[0m\n",
      "\u001b[5m\u001b[7m\u001b[91mLinker ->  data_input_text\u001b[0m \u001b[91m: Yamaha R6 2006 2007 2008 2009 2010 2011 2012 2013 Fender Eliminator License Plate Bracket\u001b[0m\n",
      "\u001b[5m\u001b[7m\u001b[93mGround-Truth ->  lbl2data_input_text\u001b[0m \u001b[93m: ['Motorcycle Parts & Accessories']\u001b[0m\n",
      "\u001b[5m\u001b[7m\u001b[93mLinker ->  lbl2data_input_text\u001b[0m \u001b[93m: ['Motorcycle Accessories', 'Motorcycle Parts', 'Automotive Motorcycle Accessories', 'Motorcycle Part', 'Motorcycle Components', 'motorcycle accessories', 'Motorcycles Accessories & Parts', 'Motorcycle Fender Accessories', 'Motorcycle Electrical Components', 'Automotive License Plate Bracket']\u001b[0m\n",
      "\n",
      "\u001b[5m\u001b[7m\u001b[91mGround-Truth ->  data_input_text\u001b[0m \u001b[91m: \u001b[0m\n",
      "\u001b[5m\u001b[7m\u001b[91mLinker ->  data_input_text\u001b[0m \u001b[91m: \u001b[0m\n",
      "\u001b[5m\u001b[7m\u001b[93mGround-Truth ->  lbl2data_input_text\u001b[0m \u001b[93m: ['Not_Sure']\u001b[0m\n",
      "\u001b[5m\u001b[7m\u001b[93mLinker ->  lbl2data_input_text\u001b[0m \u001b[93m: ['Fiction', '', 'Books', 'Novel', 'Music', 'Thriller', 'Product', 'Accessory', 'Supplement', 'Novels']\u001b[0m\n",
      "\n",
      "\u001b[5m\u001b[7m\u001b[91mGround-Truth ->  data_input_text\u001b[0m \u001b[91m: 8 oz Genuine Ogallala Bay Rum, Limes & Peppercorns. Old-time looking bottle and label.\u001b[0m\n",
      "\u001b[5m\u001b[7m\u001b[91mLinker ->  data_input_text\u001b[0m \u001b[91m: 8 oz Genuine Ogallala Bay Rum, Limes & Peppercorns. Old-time looking bottle and label.\u001b[0m\n",
      "\u001b[5m\u001b[7m\u001b[93mGround-Truth ->  lbl2data_input_text\u001b[0m \u001b[93m: ['Aftershave']\u001b[0m\n",
      "\u001b[5m\u001b[7m\u001b[93mLinker ->  lbl2data_input_text\u001b[0m \u001b[93m: ['Barware & Drinkware', 'Bar & Glassware', 'Spice and Seasonings', 'Beverages & Barware', 'Beverage Supplies', 'Bar & Beverage Supplies', 'Beverage Ingredient', 'Alcohol & Spirits', 'Liquor & Chocolates', 'Alcohol Products']\u001b[0m\n",
      "\n",
      "\u001b[5m\u001b[7m\u001b[91mGround-Truth ->  data_input_text\u001b[0m \u001b[91m: SPECIAL FEATURESCommentary by Director Kevin S.\u001b[0m\n",
      "\u001b[5m\u001b[7m\u001b[91mLinker ->  data_input_text\u001b[0m \u001b[91m: SPECIAL FEATURESCommentary by Director Kevin S.\u001b[0m\n",
      "\u001b[5m\u001b[7m\u001b[93mGround-Truth ->  lbl2data_input_text\u001b[0m \u001b[93m: []\u001b[0m\n",
      "\u001b[5m\u001b[7m\u001b[93mLinker ->  lbl2data_input_text\u001b[0m \u001b[93m: ['Film Director', 'Documentary Film Director/Producer', 'Movie Director', 'Movie Directors', 'Essays and Works of Edward Albee', 'Ranch Vacation', 'Cafe', 'Grommets', 'Grub Control', 'Ladybug House']\u001b[0m\n",
      "\n",
      "\u001b[5m\u001b[7m\u001b[91mGround-Truth ->  data_input_text\u001b[0m \u001b[91m: \u001b[0m\n",
      "\u001b[5m\u001b[7m\u001b[91mLinker ->  data_input_text\u001b[0m \u001b[91m: \u001b[0m\n",
      "\u001b[5m\u001b[7m\u001b[93mGround-Truth ->  lbl2data_input_text\u001b[0m \u001b[93m: ['Not_Sure']\u001b[0m\n",
      "\u001b[5m\u001b[7m\u001b[93mLinker ->  lbl2data_input_text\u001b[0m \u001b[93m: ['Fiction', '', 'Books', 'Novel', 'Music', 'Thriller', 'Product', 'Accessory', 'Supplement', 'Novels']\u001b[0m\n",
      "\n"
     ]
    }
   ],
   "source": [
    "idxs = np.argsort(np.ravel(metric.sum(axis=1)))[:100]\n",
    "disp.show(idxs)"
   ]
  },
  {
   "cell_type": "code",
   "execution_count": null,
   "id": "840c371a-1509-4cfb-af0d-0dc2abe2a880",
   "metadata": {},
   "outputs": [],
   "source": []
  },
  {
   "cell_type": "code",
   "execution_count": null,
   "id": "a384c0f6-dcd8-402d-8b9f-95e8f90daec4",
   "metadata": {},
   "outputs": [],
   "source": [
    "save_dir = '/home/scai/phd/aiz218323/scratch/outputs/mogicX/16_ngame-linker-for-amazontitles-002/examples/'\n",
    "os.makedirs(save_dir, exist_ok=True)"
   ]
  },
  {
   "cell_type": "code",
   "execution_count": null,
   "id": "0ef01262-180c-485f-8c28-185af4f036e0",
   "metadata": {},
   "outputs": [],
   "source": [
    "n = 1000\n",
    "\n",
    "idxs = np.argsort(np.ravel(metric.sum(axis=1)))[:-n-1:-1]\n",
    "disp.dump_txt(f'{save_dir}/good_predictions.txt', idxs=idxs, k=20)\n",
    "\n",
    "idxs = np.argsort(np.ravel(metric.sum(axis=1)))[:n]\n",
    "disp.dump_txt(f'{save_dir}/bad_predictions.txt', idxs=idxs, k=20)"
   ]
  },
  {
   "cell_type": "code",
   "execution_count": null,
   "id": "d076fbe9-ce5e-446c-aa03-b1165f03a0db",
   "metadata": {},
   "outputs": [],
   "source": []
  },
  {
   "cell_type": "markdown",
   "id": "075307d3-1dba-4a70-8738-6822fbddee95",
   "metadata": {
    "jp-MarkdownHeadingCollapsed": true
   },
   "source": [
    "## Conflation"
   ]
  },
  {
   "cell_type": "code",
   "execution_count": null,
   "id": "32b8cb1d-a5c7-4fba-b1ef-688e5300d481",
   "metadata": {},
   "outputs": [],
   "source": [
    "from xcai.graph.random_walk import random_walk\n",
    "import matplotlib.pyplot as plt"
   ]
  },
  {
   "cell_type": "code",
   "execution_count": null,
   "id": "267cb38f-3bc0-4326-9693-34dcf76710e1",
   "metadata": {},
   "outputs": [],
   "source": [
    "data_dir = '/home/scai/phd/aiz218323/scratch/outputs/mogicX/16_ngame-linker-for-amazontitles-002/predictions/'\n",
    "\n",
    "trn_preds = sp.load_npz(f'{data_dir}/train_predictions_full.npz')\n",
    "tst_preds = sp.load_npz(f'{data_dir}/test_predictions_full.npz')"
   ]
  },
  {
   "cell_type": "markdown",
   "id": "f52245c8-1222-4c91-9165-433d82eabef7",
   "metadata": {
    "jp-MarkdownHeadingCollapsed": true
   },
   "source": [
    "### Statistics"
   ]
  },
  {
   "cell_type": "code",
   "execution_count": null,
   "id": "c836b384-1198-423c-9c00-e3871d866978",
   "metadata": {},
   "outputs": [],
   "source": [
    "idx = np.random.permutation(trn_preds.shape[0])[:100]"
   ]
  },
  {
   "cell_type": "code",
   "execution_count": null,
   "id": "d2a871df-79f0-45fb-8df3-b6cb68c70335",
   "metadata": {},
   "outputs": [
    {
     "data": {
      "image/png": "[encoded data removed]",
      "text/plain": [
       "<Figure size 640x480 with 1 Axes>"
      ]
     },
     "metadata": {},
     "output_type": "display_data"
    }
   ],
   "source": [
    "for i in idx: plt.plot(sorted(trn_preds[i].data)[::-1])"
   ]
  },
  {
   "cell_type": "code",
   "execution_count": null,
   "id": "16dbbd1c-3c99-462a-85e9-7da49e85e9fe",
   "metadata": {},
   "outputs": [],
   "source": []
  },
  {
   "cell_type": "code",
   "execution_count": null,
   "id": "74f6fc59-1a7f-478b-bff0-20bc25cb4434",
   "metadata": {},
   "outputs": [
    {
     "data": {
      "image/png": "[encoded data removed]",
      "text/plain": [
       "<Figure size 640x480 with 1 Axes>"
      ]
     },
     "metadata": {},
     "output_type": "display_data"
    }
   ],
   "source": [
    "data_per_lbl = trn_preds.getnnz(axis=0)\n",
    "plt.plot(sorted(data_per_lbl))\n",
    "plt.yscale('log')"
   ]
  },
  {
   "cell_type": "code",
   "execution_count": null,
   "id": "ea69f58b-be1d-4b04-8cc7-1ee5feba0fd5",
   "metadata": {},
   "outputs": [
    {
     "data": {
      "text/plain": [
       "(0, 385490, 345.5851660596001, 3395.514366426021)"
      ]
     },
     "execution_count": null,
     "metadata": {},
     "output_type": "execute_result"
    }
   ],
   "source": [
    "data_per_lbl.min(), data_per_lbl.max(), data_per_lbl.mean(), data_per_lbl.std()"
   ]
  },
  {
   "cell_type": "markdown",
   "id": "9fe83f6c-1fc2-4fcb-9b5f-ec8a434e6241",
   "metadata": {
    "jp-MarkdownHeadingCollapsed": true
   },
   "source": [
    "### Random walk"
   ]
  },
  {
   "cell_type": "code",
   "execution_count": null,
   "id": "5b59e6fb-55aa-4833-a2be-deab08fd0efd",
   "metadata": {},
   "outputs": [],
   "source": [
    "def threshold_matrix(matrix, threshold=0.5):\n",
    "    mask = matrix.data < threshold\n",
    "    matrix.data[mask] = 0.0\n",
    "    matrix.eliminate_zeros()\n",
    "    return matrix\n",
    "    "
   ]
  },
  {
   "cell_type": "code",
   "execution_count": null,
   "id": "6a1c372e-11a3-4689-84f7-2c50cdbd9902",
   "metadata": {},
   "outputs": [],
   "source": [
    "threshold = 0.5"
   ]
  },
  {
   "cell_type": "code",
   "execution_count": null,
   "id": "6f6db949-4b1e-4d1a-97b2-89f52ae82d29",
   "metadata": {},
   "outputs": [
    {
     "data": {
      "application/vnd.jupyter.widget-view+json": {
       "model_id": "fc19d0d4a82f4534b9ee5363bbcba823",
       "version_major": 2,
       "version_minor": 0
      },
      "text/plain": [
       "  0%|          | 0/128 [00:00<?, ?it/s]"
      ]
     },
     "metadata": {},
     "output_type": "display_data"
    }
   ],
   "source": [
    "top_trn_preds = retain_topk(trn_preds, k=3)\n",
    "\n",
    "top_trn_preds = threshold_matrix(top_trn_preds, threshold=0.5)\n",
    "\n",
    "rnd_trn_preds = random_walk(top_trn_preds.T, row_head_thresh=500, col_head_thresh=500, walk_length=2)\n",
    "sp.save_npz(f'{data_dir}/random_walk_train_predictions.npz', rnd_trn_preds)"
   ]
  },
  {
   "cell_type": "code",
   "execution_count": null,
   "id": "91cb0340-145a-4c18-b8e8-93c82f67d215",
   "metadata": {},
   "outputs": [
    {
     "data": {
      "application/vnd.jupyter.widget-view+json": {
       "model_id": "56de38ec1ef84318a58b2a77846292db",
       "version_major": 2,
       "version_minor": 0
      },
      "text/plain": [
       "  0%|          | 0/128 [00:00<?, ?it/s]"
      ]
     },
     "metadata": {},
     "output_type": "display_data"
    }
   ],
   "source": [
    "top_tst_preds = retain_topk(tst_preds, k=3)\n",
    "\n",
    "top_tst_preds = threshold_matrix(top_tst_preds, threshold=0.5)\n",
    "\n",
    "rnd_tst_preds = random_walk(top_tst_preds.T, row_head_thresh=500, col_head_thresh=500, walk_length=10)\n",
    "sp.save_npz(f'{data_dir}/random_walk_test_predictions.npz', rnd_tst_preds)"
   ]
  },
  {
   "cell_type": "markdown",
   "id": "c8529763-1390-4233-a80b-96e9b4a79593",
   "metadata": {
    "jp-MarkdownHeadingCollapsed": true
   },
   "source": [
    "### Connected components"
   ]
  },
  {
   "cell_type": "code",
   "execution_count": null,
   "id": "e9b6b516-ba69-4f38-827b-f55abbce0d01",
   "metadata": {},
   "outputs": [],
   "source": [
    "rnd_trn_lbl = sp.load_npz(f'{data_dir}/random_walk_train_predictions.npz')"
   ]
  },
  {
   "cell_type": "code",
   "execution_count": null,
   "id": "c9dbc0db-b9d9-4543-836b-16f0f2789c75",
   "metadata": {},
   "outputs": [
    {
     "data": {
      "text/plain": [
       "(array([6.45927e+05, 1.54712e+05, 5.23740e+04, 1.85170e+04, 6.06500e+03,\n",
       "        1.84400e+03, 6.27000e+02, 2.36000e+02, 9.70000e+01, 6.70000e+01]),\n",
       " array([ 1.        ,  1.89999998,  2.79999995,  3.70000005,  4.5999999 ,\n",
       "         5.5       ,  6.4000001 ,  7.30000019,  8.19999981,  9.10000038,\n",
       "        10.        ]),\n",
       " <BarContainer object of 10 artists>)"
      ]
     },
     "execution_count": null,
     "metadata": {},
     "output_type": "execute_result"
    },
    {
     "data": {
      "image/png": "[encoded data removed]",
      "text/plain": [
       "<Figure size 640x480 with 1 Axes>"
      ]
     },
     "metadata": {},
     "output_type": "display_data"
    }
   ],
   "source": [
    "plt.hist(rnd_trn_lbl.data, bins=10)"
   ]
  },
  {
   "cell_type": "code",
   "execution_count": null,
   "id": "f8d51f5f-a3df-46c5-8c76-6824579b9c27",
   "metadata": {},
   "outputs": [],
   "source": []
  },
  {
   "cell_type": "code",
   "execution_count": null,
   "id": "ff6876eb-3abf-479b-a251-8a8ed1bccf5e",
   "metadata": {},
   "outputs": [],
   "source": [
    "n_comp, labels = connected_components(rnd_trn_lbl, directed=False, return_labels=True)\n",
    "\n",
    "components = {}\n",
    "for lbl,txt in zip(labels,linker_block.train.dset.data.lbl_info['input_text']):\n",
    "    components.setdefault(lbl, []).append(txt)\n",
    "    "
   ]
  },
  {
   "cell_type": "code",
   "execution_count": null,
   "id": "8a94aa7f-d70b-4f74-8baa-cc1bd4a8d92b",
   "metadata": {},
   "outputs": [],
   "source": []
  },
  {
   "cell_type": "code",
   "execution_count": null,
   "id": "38613549-f3f0-47bf-9a11-af6e05c1d243",
   "metadata": {},
   "outputs": [
    {
     "data": {
      "text/plain": [
       "(1, 123500, 19.69936421435059, 1519.3620287501294)"
      ]
     },
     "execution_count": null,
     "metadata": {},
     "output_type": "execute_result"
    }
   ],
   "source": [
    "component_sz = [len(v) for v in components.values()]\n",
    "min(component_sz), max(component_sz), np.mean(component_sz), np.std(component_sz)"
   ]
  },
  {
   "cell_type": "code",
   "execution_count": null,
   "id": "e61b3244-8eae-4a76-a083-e460294046f7",
   "metadata": {},
   "outputs": [],
   "source": []
  },
  {
   "cell_type": "code",
   "execution_count": null,
   "id": "03c5d8df-6391-469a-90b9-bb0f227921f4",
   "metadata": {},
   "outputs": [],
   "source": [
    "n_lbl = 10\n",
    "colors = list(COLORS.keys())\n",
    "colors = [colors[i] for i in np.random.permutation(len(colors))]"
   ]
  },
  {
   "cell_type": "code",
   "execution_count": null,
   "id": "dbb2d0fa-fc2d-429e-b641-6a9b26f4a783",
   "metadata": {},
   "outputs": [],
   "source": [
    "idxs = np.argsort([len(components[i]) for i in range(len(components))])[-n_lbl-1:]"
   ]
  },
  {
   "cell_type": "code",
   "execution_count": null,
   "id": "1bae984a-38b2-445b-9c10-b9723bab7b70",
   "metadata": {},
   "outputs": [],
   "source": [
    "idxs = np.random.permutation(len(components))[:n_lbl]"
   ]
  },
  {
   "cell_type": "code",
   "execution_count": null,
   "id": "de3da6d5-e6a0-4065-a877-d4d5d8e4c0b7",
   "metadata": {},
   "outputs": [],
   "source": []
  },
  {
   "cell_type": "code",
   "execution_count": null,
   "id": "2d76ddd5-545a-40e1-a744-45ada1a7d6ab",
   "metadata": {},
   "outputs": [
    {
     "name": "stdout",
     "output_type": "stream",
     "text": [
      "\u001b[96m1020. Gothic Paranormal Romance || YA Thriller\u001b[0m\n",
      "\n",
      "\u001b[5m\u001b[7m\u001b[30m2098. Crime Drama Mini-Series || TV Show Tie-In Novel || Disney Adventure Movie\u001b[0m\n",
      "\n",
      "\u001b[35m385. Art and Craft Book || Art and Craft Books || Musical Instruction and Study\u001b[0m\n",
      "\n",
      "\u001b[5m\u001b[7m\u001b[95m1588. Inspirational Historical Romance || Inspirational & Romantic Fiction || Fiction / Historical Romance\u001b[0m\n",
      "\n",
      "\u001b[97m773. Christian Historical Romance Book || Christian Historical Romance || Historical Christian Romance Book\u001b[0m\n",
      "\n",
      "\u001b[5m\u001b[7m\u001b[30m1613. Fictional Novel || Fictional Biography || Fictional Movie || Biographical Description\u001b[0m\n",
      "\n",
      "\u001b[94m302. Historical Fantasy || Family Saga Fiction || War Fiction || Family Saga Novel || Historical Adventure\u001b[0m\n",
      "\n",
      "\u001b[5m\u001b[7m\u001b[93m597. Avant-Garde Novel || Avant-Rock Album || Avant-Garde Fiction || Surrealist Fiction || Surrealist Novel\u001b[0m\n",
      "\n",
      "\u001b[34m1298. Horror/Action Movie || Sci-Fi Comic Book || Action/Crime Movie || Stage Play / Movie || Play/Movie\u001b[0m\n",
      "\n",
      "\u001b[5m\u001b[7m\u001b[32m78. Family Movie || Family Film || Biography Movie || Classic Family Movie || Television Movie\u001b[0m\n",
      "\n"
     ]
    }
   ],
   "source": [
    "for i,idx in enumerate(idxs):\n",
    "    if i % 2 == 0: print(colored(f'{idx+1}. {\" || \".join(components[idx])}', colors[i % len(colors)]), end='\\n\\n')\n",
    "    else: print(colored(f'{idx+1}. {\" || \".join(components[idx])}', colors[i % len(colors)], attrs=[\"reverse\", \"blink\"]), end='\\n\\n')\n",
    "        "
   ]
  },
  {
   "cell_type": "markdown",
   "id": "3fb55464-e143-4cd9-9f53-99af2c824509",
   "metadata": {
    "jp-MarkdownHeadingCollapsed": true
   },
   "source": [
    "## `Zeroshot Conflation Bhavyajeet`"
   ]
  },
  {
   "cell_type": "code",
   "execution_count": null,
   "id": "c2dce09f-be49-4018-b562-1357cc847482",
   "metadata": {},
   "outputs": [],
   "source": [
    "from itertools import chain\n",
    "from sugar.core import *"
   ]
  },
  {
   "cell_type": "code",
   "execution_count": null,
   "id": "b88b4174-1ef8-4d3c-a6b3-d8e4c79cc20c",
   "metadata": {},
   "outputs": [],
   "source": [
    "def load_connected_components_idx(fname):\n",
    "    groups = []\n",
    "    with open(fname, 'r') as file:\n",
    "        for line in file:\n",
    "            groups.append(list(map(int, line[:-1].split(','))))\n",
    "    return groups\n",
    "    "
   ]
  },
  {
   "cell_type": "code",
   "execution_count": null,
   "id": "9fffd586-e710-4f99-a502-ca86c2b5c596",
   "metadata": {},
   "outputs": [],
   "source": [
    "def load_connected_components_text(fname):\n",
    "    with open(fname, 'r') as file:\n",
    "        texts = [line[:-1] for line in file]\n",
    "    return texts\n",
    "    "
   ]
  },
  {
   "cell_type": "code",
   "execution_count": null,
   "id": "5a0a63ea-52a5-4a26-9b99-e0b6d754d750",
   "metadata": {},
   "outputs": [],
   "source": [
    "idx_file = '/home/scai/phd/aiz218323/scratch/datasets/benchmarks/LF-AmazonTitles-1.3M_gpt-conflations/connected_components_ids_1.txt'\n",
    "txt_file = '/home/scai/phd/aiz218323/scratch/datasets/benchmarks/LF-AmazonTitles-1.3M_gpt-conflations/connected_components_text_1.txt'"
   ]
  },
  {
   "cell_type": "code",
   "execution_count": null,
   "id": "36645fa3-f07a-42fc-b7ed-59bac7fd013f",
   "metadata": {},
   "outputs": [],
   "source": [
    "conflated_idx, conflated_text = load_connected_components_idx(idx_file), load_connected_components_text(txt_file)"
   ]
  },
  {
   "cell_type": "code",
   "execution_count": null,
   "id": "744bef5b-e08f-4991-bdd9-9f843b4c47d8",
   "metadata": {},
   "outputs": [],
   "source": [
    "all_conflated_idx = list(chain(*conflated_idx))\n",
    "all_unconflated_idx = list(set(range(linker_block.n_lbl)).difference(all_conflated_idx))"
   ]
  },
  {
   "cell_type": "code",
   "execution_count": null,
   "id": "71c1e0d4-66b2-44ca-975e-81a529e43483",
   "metadata": {},
   "outputs": [],
   "source": [
    "def get_conflated_matrix(data_lbl, all_unconflated_idx, conflated_idx):\n",
    "    data_lbl = data_lbl.tocsc()\n",
    "\n",
    "    indices, indptr = [], [0]\n",
    "    for idx in tqdm(all_unconflated_idx):\n",
    "        x,y = data_lbl.indptr[idx],data_lbl.indptr[idx+1]\n",
    "        indices.extend(data_lbl.indices[x:y])\n",
    "        indptr.append(len(indices))\n",
    "\n",
    "    for idx in tqdm(conflated_idx):\n",
    "        conflated_indices = []\n",
    "        for i in idx:\n",
    "            x,y = data_lbl.indptr[i],data_lbl.indptr[i+1]\n",
    "            conflated_indices.extend(data_lbl.indices[x:y])\n",
    "        conflated_indices = list(set(conflated_indices))\n",
    "        indices.extend(conflated_indices)\n",
    "        indptr.append(len(indices))\n",
    "\n",
    "    data = np.ones(len(indices))\n",
    "    final_matrix = sp.csc_matrix((data, indices, indptr), shape=(data_lbl.shape[0], len(indptr)-1)).tocsr()\n",
    "    return final_matrix\n",
    "    "
   ]
  },
  {
   "cell_type": "code",
   "execution_count": null,
   "id": "4758bd62-0971-427c-abd2-3c33d585c4e3",
   "metadata": {},
   "outputs": [
    {
     "data": {
      "application/vnd.jupyter.widget-view+json": {
       "model_id": "4b53d393763d4516baa5fb40382cc710",
       "version_major": 2,
       "version_minor": 0
      },
      "text/plain": [
       "  0%|          | 0/93111 [00:00<?, ?it/s]"
      ]
     },
     "metadata": {},
     "output_type": "display_data"
    },
    {
     "data": {
      "application/vnd.jupyter.widget-view+json": {
       "model_id": "a017ec3d507b41918b11763cbc7fa85c",
       "version_major": 2,
       "version_minor": 0
      },
      "text/plain": [
       "  0%|          | 0/15587 [00:00<?, ?it/s]"
      ]
     },
     "metadata": {},
     "output_type": "display_data"
    }
   ],
   "source": [
    "trn_final_matrix = get_conflated_matrix(block.train.dset.data.data_lbl, all_unconflated_idx, conflated_idx)"
   ]
  },
  {
   "cell_type": "code",
   "execution_count": null,
   "id": "03bc83da-9ce9-414c-9c71-6445bbff1066",
   "metadata": {},
   "outputs": [
    {
     "data": {
      "application/vnd.jupyter.widget-view+json": {
       "model_id": "1fc964431b4640aa985e3f508b5ba8f5",
       "version_major": 2,
       "version_minor": 0
      },
      "text/plain": [
       "  0%|          | 0/93111 [00:00<?, ?it/s]"
      ]
     },
     "metadata": {},
     "output_type": "display_data"
    },
    {
     "data": {
      "application/vnd.jupyter.widget-view+json": {
       "model_id": "b1bdddd9de9b4a16a8019705eb320ebc",
       "version_major": 2,
       "version_minor": 0
      },
      "text/plain": [
       "  0%|          | 0/15587 [00:00<?, ?it/s]"
      ]
     },
     "metadata": {},
     "output_type": "display_data"
    }
   ],
   "source": [
    "tst_final_matrix = get_conflated_matrix(block.test.dset.data.data_lbl, all_unconflated_idx, conflated_idx)"
   ]
  },
  {
   "cell_type": "code",
   "execution_count": null,
   "id": "4b12866b-cd85-4174-94f4-18f386ee2cd0",
   "metadata": {},
   "outputs": [],
   "source": [
    "final_text = [linker_block.train.dset.data.data_info['input_text'][i] for i in all_unconflated_idx] + conflated_text"
   ]
  },
  {
   "cell_type": "code",
   "execution_count": null,
   "id": "36b1c19a-af4d-4567-b3fd-6685affa4412",
   "metadata": {},
   "outputs": [],
   "source": []
  },
  {
   "cell_type": "code",
   "execution_count": null,
   "id": "cc1577a3-6371-41b7-95a1-01b096d27b20",
   "metadata": {},
   "outputs": [],
   "source": [
    "save_dir = '/home/scai/phd/aiz218323/scratch/datasets/benchmarks/LF-AmazonTitles-1.3M_gpt-conflations'"
   ]
  },
  {
   "cell_type": "code",
   "execution_count": null,
   "id": "598b46a3-13a8-4a50-b912-a1233d2a6720",
   "metadata": {},
   "outputs": [],
   "source": [
    "sp.save_npz(f'{save_dir}/category_gpt_conflated_trn_X_Y.npz', trn_final_matrix)\n",
    "sp.save_npz(f'{save_dir}/category_gpt_conflated_tst_X_Y.npz', tst_final_matrix)\n",
    "save_raw_file(f'{save_dir}/raw_data/category_gpt_conflated.raw.csv', list(range(len(final_text))), final_text)"
   ]
  },
  {
   "cell_type": "code",
   "execution_count": null,
   "id": "9c288d78-8d9e-4c90-9f3c-b8cdfcc7131c",
   "metadata": {},
   "outputs": [],
   "source": []
  },
  {
   "cell_type": "code",
   "execution_count": null,
   "id": "fcaf4241-444f-448e-bfbb-62b7f24daa7c",
   "metadata": {},
   "outputs": [],
   "source": [
    "def load_conflated_metadata(block, idx_file, txt_file, meta_name, remove_ids=[]):\n",
    "    conflated_idx, conflated_text = load_connected_components_idx(idx_file), load_connected_components_text(txt_file)\n",
    "    \n",
    "    all_conflated_idx = list(chain(*conflated_idx))\n",
    "    all_unconflated_idx = list(set(range(block.train.dset.meta[meta_name].n_meta)).difference(all_conflated_idx))\n",
    "\n",
    "    all_conflated_idx = list(set(all_conflated_idx).difference(remove_ids))\n",
    "    all_unconflated_idx = list(set(all_unconflated_idx).difference(remove_ids))\n",
    "\n",
    "    trn_final_matrix = get_conflated_matrix(block.train.dset.meta[meta_name].data_meta, all_unconflated_idx, conflated_idx)\n",
    "    tst_final_matrix = get_conflated_matrix(block.test.dset.meta[meta_name].data_meta, all_unconflated_idx, conflated_idx)\n",
    "    lbl_final_matrix = get_conflated_matrix(block.train.dset.meta[meta_name].lbl_meta, all_unconflated_idx, conflated_idx)\n",
    "\n",
    "    final_text = [block.train.dset.meta[meta_name].meta_info['input_text'][i] for i in all_unconflated_idx] + [o.split(',')[0] for o in conflated_text]\n",
    "\n",
    "    return trn_final_matrix, tst_final_matrix, lbl_final_matrix, final_text\n",
    "    "
   ]
  },
  {
   "cell_type": "code",
   "execution_count": null,
   "id": "9c851560-c19d-45b1-965a-752c45cfe317",
   "metadata": {},
   "outputs": [],
   "source": [
    "def save_conflated_metadata(save_dir, trn_matrix, tst_matrix, lbl_matrix, meta_text, suffix=''):\n",
    "    if len(suffix): suffix = f'-{suffix}'\n",
    "    sp.save_npz(f'{save_dir}/category_gpt_conflated{suffix}_trn_X_Y.npz', trn_matrix)\n",
    "    sp.save_npz(f'{save_dir}/category_gpt_conflated{suffix}_tst_X_Y.npz', tst_matrix)\n",
    "    sp.save_npz(f'{save_dir}/category_gpt_conflated{suffix}_lbl_X_Y.npz', lbl_matrix)\n",
    "    save_raw_file(f'{save_dir}/raw_data/category_gpt_conflated{suffix}.raw.csv', list(range(len(meta_text))), meta_text)\n",
    "    "
   ]
  },
  {
   "cell_type": "code",
   "execution_count": null,
   "id": "bdb156d3-d107-4c1b-a133-acff783118a6",
   "metadata": {},
   "outputs": [],
   "source": [
    "def load_and_save_conflated_metadata(block, idx_file, txt_file, meta_name, save_dir, suffix='', remove_ids=[]):\n",
    "    trn_final_matrix, tst_final_matrix, lbl_final_matrix, final_text = load_conflated_metadata(block, idx_file, txt_file, meta_name, remove_ids)\n",
    "    save_conflated_metadata(save_dir, trn_final_matrix, tst_final_matrix, lbl_final_matrix, final_text, suffix=suffix)\n",
    "    return trn_final_matrix, tst_final_matrix, lbl_final_matrix, final_text\n",
    "    "
   ]
  },
  {
   "cell_type": "code",
   "execution_count": null,
   "id": "441cc2b9-9475-4333-a392-d5d21221ed4e",
   "metadata": {},
   "outputs": [],
   "source": []
  },
  {
   "cell_type": "code",
   "execution_count": null,
   "id": "66e1b464-175f-4f4b-b543-345cde807198",
   "metadata": {},
   "outputs": [],
   "source": [
    "idx_file = '/home/scai/phd/aiz218323/scratch/datasets/benchmarks/LF-AmazonTitles-1.3M_gpt-conflations/connected_components_ids_1.txt'\n",
    "txt_file = '/home/scai/phd/aiz218323/scratch/datasets/benchmarks/LF-AmazonTitles-1.3M_gpt-conflations/connected_components_text_1.txt'\n",
    "\n",
    "save_dir = '/home/scai/phd/aiz218323/scratch/datasets/benchmarks/LF-AmazonTitles-1.3M_gpt-conflations'"
   ]
  },
  {
   "cell_type": "code",
   "execution_count": null,
   "id": "6de33c4f-d324-456f-8f5c-8dbbc4e4b0e8",
   "metadata": {},
   "outputs": [
    {
     "data": {
      "application/vnd.jupyter.widget-view+json": {
       "model_id": "20d24b3f389e4828aa41058513c10d86",
       "version_major": 2,
       "version_minor": 0
      },
      "text/plain": [
       "  0%|          | 0/93110 [00:00<?, ?it/s]"
      ]
     },
     "metadata": {},
     "output_type": "display_data"
    },
    {
     "data": {
      "application/vnd.jupyter.widget-view+json": {
       "model_id": "57861080cda34ffab053b6493dd758cf",
       "version_major": 2,
       "version_minor": 0
      },
      "text/plain": [
       "  0%|          | 0/15587 [00:00<?, ?it/s]"
      ]
     },
     "metadata": {},
     "output_type": "display_data"
    },
    {
     "data": {
      "application/vnd.jupyter.widget-view+json": {
       "model_id": "ac5892ea1e85484f8a8f6d61ed26d0a8",
       "version_major": 2,
       "version_minor": 0
      },
      "text/plain": [
       "  0%|          | 0/93110 [00:00<?, ?it/s]"
      ]
     },
     "metadata": {},
     "output_type": "display_data"
    },
    {
     "data": {
      "application/vnd.jupyter.widget-view+json": {
       "model_id": "b4cdd485f4194b05827726748fab4298",
       "version_major": 2,
       "version_minor": 0
      },
      "text/plain": [
       "  0%|          | 0/15587 [00:00<?, ?it/s]"
      ]
     },
     "metadata": {},
     "output_type": "display_data"
    },
    {
     "data": {
      "application/vnd.jupyter.widget-view+json": {
       "model_id": "9fc5e7c44dbb46f1a5c71d2b75e14041",
       "version_major": 2,
       "version_minor": 0
      },
      "text/plain": [
       "  0%|          | 0/93110 [00:00<?, ?it/s]"
      ]
     },
     "metadata": {},
     "output_type": "display_data"
    },
    {
     "data": {
      "application/vnd.jupyter.widget-view+json": {
       "model_id": "305a1216337845cda3abdd6af7e192d8",
       "version_major": 2,
       "version_minor": 0
      },
      "text/plain": [
       "  0%|          | 0/15587 [00:00<?, ?it/s]"
      ]
     },
     "metadata": {},
     "output_type": "display_data"
    }
   ],
   "source": [
    "trn_final_matrix, tst_final_matrix, lbl_final_matrix, final_text = load_and_save_conflated_metadata(block, idx_file, txt_file, 'cat_meta', \n",
    "                                                                                                    save_dir, suffix='1', remove_ids=[36])"
   ]
  },
  {
   "cell_type": "code",
   "execution_count": null,
   "id": "ab1aebed-7890-4a29-8530-73cf07e196c7",
   "metadata": {},
   "outputs": [
    {
     "data": {
      "text/plain": [
       "(<2248619x108697 sparse matrix of type '<class 'numpy.float64'>'\n",
       " \twith 2179546 stored elements in Compressed Sparse Row format>,\n",
       " <970237x108697 sparse matrix of type '<class 'numpy.float64'>'\n",
       " \twith 930536 stored elements in Compressed Sparse Row format>,\n",
       " <1305265x108697 sparse matrix of type '<class 'numpy.float64'>'\n",
       " \twith 1178953 stored elements in Compressed Sparse Row format>)"
      ]
     },
     "execution_count": null,
     "metadata": {},
     "output_type": "execute_result"
    }
   ],
   "source": [
    "trn_final_matrix, tst_final_matrix, lbl_final_matrix"
   ]
  },
  {
   "cell_type": "code",
   "execution_count": null,
   "id": "1a66735f-feef-40ad-a447-72c0d865f018",
   "metadata": {},
   "outputs": [],
   "source": []
  },
  {
   "cell_type": "code",
   "execution_count": null,
   "id": "d9a67cfb-fb37-4725-bf69-420929333919",
   "metadata": {},
   "outputs": [],
   "source": [
    "idx_file = '/home/scai/phd/aiz218323/scratch/datasets/benchmarks/LF-AmazonTitles-1.3M_gpt-conflations/connected_components_ids_2.txt'\n",
    "txt_file = '/home/scai/phd/aiz218323/scratch/datasets/benchmarks/LF-AmazonTitles-1.3M_gpt-conflations/connected_components_text_2.txt'\n",
    "\n",
    "save_dir = '/home/scai/phd/aiz218323/scratch/datasets/benchmarks/LF-AmazonTitles-1.3M_gpt-conflations'"
   ]
  },
  {
   "cell_type": "code",
   "execution_count": null,
   "id": "7d753a15-a431-4cc0-84d1-8350fe677b88",
   "metadata": {},
   "outputs": [
    {
     "data": {
      "application/vnd.jupyter.widget-view+json": {
       "model_id": "fd1c589a6d2f4b09bc2918b95168d22a",
       "version_major": 2,
       "version_minor": 0
      },
      "text/plain": [
       "  0%|          | 0/79803 [00:00<?, ?it/s]"
      ]
     },
     "metadata": {},
     "output_type": "display_data"
    },
    {
     "data": {
      "application/vnd.jupyter.widget-view+json": {
       "model_id": "8a035c24edb64fdab318a61161b22cbc",
       "version_major": 2,
       "version_minor": 0
      },
      "text/plain": [
       "  0%|          | 0/17858 [00:00<?, ?it/s]"
      ]
     },
     "metadata": {},
     "output_type": "display_data"
    },
    {
     "data": {
      "application/vnd.jupyter.widget-view+json": {
       "model_id": "a14a16bde0a94225abfa89ebfeeef535",
       "version_major": 2,
       "version_minor": 0
      },
      "text/plain": [
       "  0%|          | 0/79803 [00:00<?, ?it/s]"
      ]
     },
     "metadata": {},
     "output_type": "display_data"
    },
    {
     "data": {
      "application/vnd.jupyter.widget-view+json": {
       "model_id": "4ab2f17a5ee540bc87b3a6975a31c4ab",
       "version_major": 2,
       "version_minor": 0
      },
      "text/plain": [
       "  0%|          | 0/17858 [00:00<?, ?it/s]"
      ]
     },
     "metadata": {},
     "output_type": "display_data"
    },
    {
     "data": {
      "application/vnd.jupyter.widget-view+json": {
       "model_id": "778bf6291747485caf780149d4895ca7",
       "version_major": 2,
       "version_minor": 0
      },
      "text/plain": [
       "  0%|          | 0/79803 [00:00<?, ?it/s]"
      ]
     },
     "metadata": {},
     "output_type": "display_data"
    },
    {
     "data": {
      "application/vnd.jupyter.widget-view+json": {
       "model_id": "ddf2083715544c7eaf4c1e8b37f1c322",
       "version_major": 2,
       "version_minor": 0
      },
      "text/plain": [
       "  0%|          | 0/17858 [00:00<?, ?it/s]"
      ]
     },
     "metadata": {},
     "output_type": "display_data"
    }
   ],
   "source": [
    "trn_final_matrix, tst_final_matrix, lbl_final_matrix, final_text = load_and_save_conflated_metadata(block, idx_file, txt_file, 'cat_meta', \n",
    "                                                                                                    save_dir, suffix='2', remove_ids=[36])"
   ]
  },
  {
   "cell_type": "code",
   "execution_count": null,
   "id": "c50b2ec8-7dd2-4544-aafa-aaf798c73fd0",
   "metadata": {},
   "outputs": [
    {
     "data": {
      "text/plain": [
       "(<2248619x97661 sparse matrix of type '<class 'numpy.float64'>'\n",
       " \twith 2179547 stored elements in Compressed Sparse Row format>,\n",
       " <970237x97661 sparse matrix of type '<class 'numpy.float64'>'\n",
       " \twith 930537 stored elements in Compressed Sparse Row format>,\n",
       " <1305265x97661 sparse matrix of type '<class 'numpy.float64'>'\n",
       " \twith 1178954 stored elements in Compressed Sparse Row format>)"
      ]
     },
     "execution_count": null,
     "metadata": {},
     "output_type": "execute_result"
    }
   ],
   "source": [
    "trn_final_matrix, tst_final_matrix, lbl_final_matrix"
   ]
  },
  {
   "cell_type": "code",
   "execution_count": null,
   "id": "8adcf561-24b3-4623-8ca0-8badb747ae64",
   "metadata": {},
   "outputs": [],
   "source": []
  },
  {
   "cell_type": "code",
   "execution_count": null,
   "id": "31d95fbb-9ccd-40b8-aaa1-94cd23a495a3",
   "metadata": {},
   "outputs": [],
   "source": [
    "idx_file = '/home/scai/phd/aiz218323/scratch/datasets/benchmarks/LF-AmazonTitles-1.3M_gpt-conflations/connected_components_ids_3.txt'\n",
    "txt_file = '/home/scai/phd/aiz218323/scratch/datasets/benchmarks/LF-AmazonTitles-1.3M_gpt-conflations/connected_components_text_3.txt'\n",
    "\n",
    "save_dir = '/home/scai/phd/aiz218323/scratch/datasets/benchmarks/LF-AmazonTitles-1.3M_gpt-conflations'"
   ]
  },
  {
   "cell_type": "code",
   "execution_count": null,
   "id": "43feaa4d-15ca-467a-bad3-c364c0a9dfd2",
   "metadata": {},
   "outputs": [
    {
     "data": {
      "application/vnd.jupyter.widget-view+json": {
       "model_id": "a284f301950848d481d13d072779bf5d",
       "version_major": 2,
       "version_minor": 0
      },
      "text/plain": [
       "  0%|          | 0/48743 [00:00<?, ?it/s]"
      ]
     },
     "metadata": {},
     "output_type": "display_data"
    },
    {
     "data": {
      "application/vnd.jupyter.widget-view+json": {
       "model_id": "cbf3b4772e94454f9617de77bbcdfc16",
       "version_major": 2,
       "version_minor": 0
      },
      "text/plain": [
       "  0%|          | 0/26783 [00:00<?, ?it/s]"
      ]
     },
     "metadata": {},
     "output_type": "display_data"
    },
    {
     "data": {
      "application/vnd.jupyter.widget-view+json": {
       "model_id": "76e94085dfd44e568c330e379c8341cf",
       "version_major": 2,
       "version_minor": 0
      },
      "text/plain": [
       "  0%|          | 0/48743 [00:00<?, ?it/s]"
      ]
     },
     "metadata": {},
     "output_type": "display_data"
    },
    {
     "data": {
      "application/vnd.jupyter.widget-view+json": {
       "model_id": "8be529bc577947da89797c25c75b79c1",
       "version_major": 2,
       "version_minor": 0
      },
      "text/plain": [
       "  0%|          | 0/26783 [00:00<?, ?it/s]"
      ]
     },
     "metadata": {},
     "output_type": "display_data"
    },
    {
     "data": {
      "application/vnd.jupyter.widget-view+json": {
       "model_id": "feb3017fefcc4e4493d2f241d7c83be7",
       "version_major": 2,
       "version_minor": 0
      },
      "text/plain": [
       "  0%|          | 0/48743 [00:00<?, ?it/s]"
      ]
     },
     "metadata": {},
     "output_type": "display_data"
    },
    {
     "data": {
      "application/vnd.jupyter.widget-view+json": {
       "model_id": "014919712022437ca52f0d420b1bf4d9",
       "version_major": 2,
       "version_minor": 0
      },
      "text/plain": [
       "  0%|          | 0/26783 [00:00<?, ?it/s]"
      ]
     },
     "metadata": {},
     "output_type": "display_data"
    }
   ],
   "source": [
    "trn_final_matrix, tst_final_matrix, lbl_final_matrix, final_text = load_and_save_conflated_metadata(block, idx_file, txt_file, 'cat_meta', \n",
    "                                                                                                    save_dir, suffix='3', remove_ids=[36])"
   ]
  },
  {
   "cell_type": "code",
   "execution_count": null,
   "id": "043d5556-2573-45e4-996c-0488e171920f",
   "metadata": {},
   "outputs": [
    {
     "data": {
      "text/plain": [
       "(<2248619x75526 sparse matrix of type '<class 'numpy.float64'>'\n",
       " \twith 2179563 stored elements in Compressed Sparse Row format>,\n",
       " <970237x75526 sparse matrix of type '<class 'numpy.float64'>'\n",
       " \twith 930546 stored elements in Compressed Sparse Row format>,\n",
       " <1305265x75526 sparse matrix of type '<class 'numpy.float64'>'\n",
       " \twith 1178969 stored elements in Compressed Sparse Row format>)"
      ]
     },
     "execution_count": null,
     "metadata": {},
     "output_type": "execute_result"
    }
   ],
   "source": [
    "trn_final_matrix, tst_final_matrix, lbl_final_matrix"
   ]
  },
  {
   "cell_type": "code",
   "execution_count": null,
   "id": "78d8b160-c4bc-4d4b-acba-ba08851b897f",
   "metadata": {},
   "outputs": [],
   "source": []
  },
  {
   "cell_type": "markdown",
   "id": "47346b75-5852-4801-8727-030c8c8e88bb",
   "metadata": {
    "jp-MarkdownHeadingCollapsed": true
   },
   "source": [
    "### Visualize conflated categories"
   ]
  },
  {
   "cell_type": "code",
   "execution_count": null,
   "id": "5d4b0018-417f-4c08-b74f-4286f43b7636",
   "metadata": {},
   "outputs": [],
   "source": [
    "pkl_dir = '/scratch/scai/phd/aiz218323/datasets/processed/'\n",
    "pkl_file = f'{pkl_dir}/mogicX/amazontitles_data-gpt-category-conflated-3_distilbert-base-uncased_sxc.joblib'\n",
    "\n",
    "config_file = '../configs/16_ngame-linker-for-amazontitles-003_gpt-category-conflated-3.json'\n",
    "config_key = 'data_category'\n",
    "\n",
    "block = build_block(pkl_file, config_file, use_sxc=True, config_key=config_key)\n",
    "linker_block = block.linker_dset('cat_meta', remove_empty=False)"
   ]
  },
  {
   "cell_type": "code",
   "execution_count": null,
   "id": "4d162f0f-cc94-4215-8873-ec48652da322",
   "metadata": {},
   "outputs": [],
   "source": []
  },
  {
   "cell_type": "code",
   "execution_count": null,
   "id": "bf5d1dfb-757d-40a3-b6fc-8cdbe84b6005",
   "metadata": {},
   "outputs": [],
   "source": [
    "disp = TextDataset(XCDataset._initialize(linker_block.test.dset))"
   ]
  },
  {
   "cell_type": "code",
   "execution_count": null,
   "id": "3e7a7f10-883d-4526-93f2-23752e17e631",
   "metadata": {
    "scrolled": true
   },
   "outputs": [
    {
     "name": "stdout",
     "output_type": "stream",
     "text": [
      "\u001b[5m\u001b[7m\u001b[96mdata_input_text\u001b[0m \u001b[96m: PVC 1/2\" Mist Coupling with .012 Brass Mist Nozzle (Bag of 25)\u001b[0m\n",
      "\u001b[5m\u001b[7m\u001b[34mlbl2data_input_text\u001b[0m \u001b[34m: ['Plumbing & HVAC']\u001b[0m\n",
      "\n",
      "\u001b[5m\u001b[7m\u001b[96mdata_input_text\u001b[0m \u001b[96m: The Limits of Morality (Oxford Ethics)\u001b[0m\n",
      "\u001b[5m\u001b[7m\u001b[34mlbl2data_input_text\u001b[0m \u001b[34m: ['Philosophy Book']\u001b[0m\n",
      "\n",
      "\u001b[5m\u001b[7m\u001b[96mdata_input_text\u001b[0m \u001b[96m: The Everyday Torah: Weekly Reflections and Inspirations\u001b[0m\n",
      "\u001b[5m\u001b[7m\u001b[34mlbl2data_input_text\u001b[0m \u001b[34m: ['Religious Book']\u001b[0m\n",
      "\n",
      "\u001b[5m\u001b[7m\u001b[96mdata_input_text\u001b[0m \u001b[96m: Clear Protector Case for Samsung Galaxy S II i777 (AT&T)\u001b[0m\n",
      "\u001b[5m\u001b[7m\u001b[34mlbl2data_input_text\u001b[0m \u001b[34m: ['Mobile Phone Toy']\u001b[0m\n",
      "\n",
      "\u001b[5m\u001b[7m\u001b[96mdata_input_text\u001b[0m \u001b[96m: 6\" BOB DS (Carefree Collection) - Synthetic Ponytail in JET BLACK\u001b[0m\n",
      "\u001b[5m\u001b[7m\u001b[34mlbl2data_input_text\u001b[0m \u001b[34m: ['Hair Extensions']\u001b[0m\n",
      "\n",
      "\u001b[5m\u001b[7m\u001b[96mdata_input_text\u001b[0m \u001b[96m: Global Wesleyan Dictionary of Theology\u001b[0m\n",
      "\u001b[5m\u001b[7m\u001b[34mlbl2data_input_text\u001b[0m \u001b[34m: ['Theology Book']\u001b[0m\n",
      "\n",
      "\u001b[5m\u001b[7m\u001b[96mdata_input_text\u001b[0m \u001b[96m: Heartbeat\u001b[0m\n",
      "\u001b[5m\u001b[7m\u001b[34mlbl2data_input_text\u001b[0m \u001b[34m: ['Album']\u001b[0m\n",
      "\n",
      "\u001b[5m\u001b[7m\u001b[96mdata_input_text\u001b[0m \u001b[96m: Maybelline Volume XL Seduction Lip Plumper - Xtremely Sheer\u001b[0m\n",
      "\u001b[5m\u001b[7m\u001b[34mlbl2data_input_text\u001b[0m \u001b[34m: ['Lip Plumper']\u001b[0m\n",
      "\n",
      "\u001b[5m\u001b[7m\u001b[96mdata_input_text\u001b[0m \u001b[96m: Jorge from Argentina: The Story of Pope Francis for Children\u001b[0m\n",
      "\u001b[5m\u001b[7m\u001b[34mlbl2data_input_text\u001b[0m \u001b[34m: [\"Children's Biography\"]\u001b[0m\n",
      "\n",
      "\u001b[5m\u001b[7m\u001b[96mdata_input_text\u001b[0m \u001b[96m: Ecology and Management of Neotropical Migratory Birds: A Synthesis and Review of Critical Issues\u001b[0m\n",
      "\u001b[5m\u001b[7m\u001b[34mlbl2data_input_text\u001b[0m \u001b[34m: ['Ornithology Book']\u001b[0m\n",
      "\n",
      "\u001b[5m\u001b[7m\u001b[96mdata_input_text\u001b[0m \u001b[96m: Light Tank, The\u001b[0m\n",
      "\u001b[5m\u001b[7m\u001b[34mlbl2data_input_text\u001b[0m \u001b[34m: ['Aviation History DVD']\u001b[0m\n",
      "\n",
      "\u001b[5m\u001b[7m\u001b[96mdata_input_text\u001b[0m \u001b[96m: Beethoven: Symphony No. 3, 'Eroica' / 'Coriolan' Overture\u001b[0m\n",
      "\u001b[5m\u001b[7m\u001b[34mlbl2data_input_text\u001b[0m \u001b[34m: ['Classical Music CD']\u001b[0m\n",
      "\n",
      "\u001b[5m\u001b[7m\u001b[96mdata_input_text\u001b[0m \u001b[96m: Twizzlers Twists, Strawberry, 4-Pound Containers (Pack of 2)\u001b[0m\n",
      "\u001b[5m\u001b[7m\u001b[34mlbl2data_input_text\u001b[0m \u001b[34m: ['Confectionery']\u001b[0m\n",
      "\n",
      "\u001b[5m\u001b[7m\u001b[96mdata_input_text\u001b[0m \u001b[96m: O'Neill Wetsuits 3mm Tropical Dive Boot\u001b[0m\n",
      "\u001b[5m\u001b[7m\u001b[34mlbl2data_input_text\u001b[0m \u001b[34m: ['Diving Equipment']\u001b[0m\n",
      "\n",
      "\u001b[5m\u001b[7m\u001b[96mdata_input_text\u001b[0m \u001b[96m: Dare to Dream: The Best of Don Walser\u001b[0m\n",
      "\u001b[5m\u001b[7m\u001b[34mlbl2data_input_text\u001b[0m \u001b[34m: ['Music CD']\u001b[0m\n",
      "\n",
      "\u001b[5m\u001b[7m\u001b[96mdata_input_text\u001b[0m \u001b[96m: Conntek RL-13210-CC DC 12-volt, 8-Feet Coiled Extension Cord with 10-Amp Fused Cigarette Lighter Plug\u001b[0m\n",
      "\u001b[5m\u001b[7m\u001b[34mlbl2data_input_text\u001b[0m \u001b[34m: ['Automotive Accessories']\u001b[0m\n",
      "\n",
      "\u001b[5m\u001b[7m\u001b[96mdata_input_text\u001b[0m \u001b[96m: Since 1939, The Vienna Philharmonic's New Year's Concert has become a tradition and the world's most famous classical music event.\u001b[0m\n",
      "\u001b[5m\u001b[7m\u001b[34mlbl2data_input_text\u001b[0m \u001b[34m: ['Classical Music Event']\u001b[0m\n",
      "\n",
      "\u001b[5m\u001b[7m\u001b[96mdata_input_text\u001b[0m \u001b[96m: Connector Bolts, 2\"\u001b[0m\n",
      "\u001b[5m\u001b[7m\u001b[34mlbl2data_input_text\u001b[0m \u001b[34m: ['Hardware']\u001b[0m\n",
      "\n",
      "\u001b[5m\u001b[7m\u001b[96mdata_input_text\u001b[0m \u001b[96m: 12 Assorted Glass Snowflake Ornaments\u001b[0m\n",
      "\u001b[5m\u001b[7m\u001b[34mlbl2data_input_text\u001b[0m \u001b[34m: ['Christmas Decorations']\u001b[0m\n",
      "\n",
      "\u001b[5m\u001b[7m\u001b[96mdata_input_text\u001b[0m \u001b[96m: Lifoam 4937 The Little Shiver Freez Pak Reusable Ice Hard Pack, 8.5 ounces\u001b[0m\n",
      "\u001b[5m\u001b[7m\u001b[34mlbl2data_input_text\u001b[0m \u001b[34m: ['Snack Pack']\u001b[0m\n",
      "\n",
      "\u001b[5m\u001b[7m\u001b[96mdata_input_text\u001b[0m \u001b[96m: Sin City\u001b[0m\n",
      "\u001b[5m\u001b[7m\u001b[34mlbl2data_input_text\u001b[0m \u001b[34m: ['Soundtrack']\u001b[0m\n",
      "\n",
      "\u001b[5m\u001b[7m\u001b[96mdata_input_text\u001b[0m \u001b[96m: Harry Potter Broom\u001b[0m\n",
      "\u001b[5m\u001b[7m\u001b[34mlbl2data_input_text\u001b[0m \u001b[34m: ['Toys & Games']\u001b[0m\n",
      "\n",
      "\u001b[5m\u001b[7m\u001b[96mdata_input_text\u001b[0m \u001b[96m: Gems & Jewelry Appraising: Techniques of Professional Practice\u001b[0m\n",
      "\u001b[5m\u001b[7m\u001b[34mlbl2data_input_text\u001b[0m \u001b[34m: ['Literature Casebook']\u001b[0m\n",
      "\n",
      "\u001b[5m\u001b[7m\u001b[96mdata_input_text\u001b[0m \u001b[96m: The Colonial Experience 1607-1774 (A Basic History of the United States)\u001b[0m\n",
      "\u001b[5m\u001b[7m\u001b[34mlbl2data_input_text\u001b[0m \u001b[34m: ['History  Book']\u001b[0m\n",
      "\n",
      "\u001b[5m\u001b[7m\u001b[96mdata_input_text\u001b[0m \u001b[96m: The 5-Minute Clinical Consult, 2008 (The 5-Minute Consult Series)\u001b[0m\n",
      "\u001b[5m\u001b[7m\u001b[34mlbl2data_input_text\u001b[0m \u001b[34m: ['Student Reference Book']\u001b[0m\n",
      "\n",
      "\u001b[5m\u001b[7m\u001b[96mdata_input_text\u001b[0m \u001b[96m: The Suite Life of Zack and Cody: Tipton Trouble brings the popular Disney show to your DS.\u001b[0m\n",
      "\u001b[5m\u001b[7m\u001b[34mlbl2data_input_text\u001b[0m \u001b[34m: ['Video game']\u001b[0m\n",
      "\n",
      "\u001b[5m\u001b[7m\u001b[96mdata_input_text\u001b[0m \u001b[96m: Tambora: The Eruption That Changed the World\u001b[0m\n",
      "\u001b[5m\u001b[7m\u001b[34mlbl2data_input_text\u001b[0m \u001b[34m: ['Dinosaur History Book']\u001b[0m\n",
      "\n",
      "\u001b[5m\u001b[7m\u001b[96mdata_input_text\u001b[0m \u001b[96m: Cherries from Chauvet's Orchard, A Memoir of Provence\u001b[0m\n",
      "\u001b[5m\u001b[7m\u001b[34mlbl2data_input_text\u001b[0m \u001b[34m: ['Memoir']\u001b[0m\n",
      "\n",
      "\u001b[5m\u001b[7m\u001b[96mdata_input_text\u001b[0m \u001b[96m: Image of a Girl\u001b[0m\n",
      "\u001b[5m\u001b[7m\u001b[34mlbl2data_input_text\u001b[0m \u001b[34m: []\u001b[0m\n",
      "\n",
      "\u001b[5m\u001b[7m\u001b[96mdata_input_text\u001b[0m \u001b[96m: Uha Puccho Stick Miracle Soft Candy, 1.76 Ounce\u001b[0m\n",
      "\u001b[5m\u001b[7m\u001b[34mlbl2data_input_text\u001b[0m \u001b[34m: ['Confectionery']\u001b[0m\n",
      "\n",
      "\u001b[5m\u001b[7m\u001b[96mdata_input_text\u001b[0m \u001b[96m: In the Beginning (Babylon 5)\u001b[0m\n",
      "\u001b[5m\u001b[7m\u001b[34mlbl2data_input_text\u001b[0m \u001b[34m: ['Christian Science Fiction Book']\u001b[0m\n",
      "\n",
      "\u001b[5m\u001b[7m\u001b[96mdata_input_text\u001b[0m \u001b[96m: A Calculus of Angels (The Age of Unreason, Book 2)\u001b[0m\n",
      "\u001b[5m\u001b[7m\u001b[34mlbl2data_input_text\u001b[0m \u001b[34m: ['Christian Science Fiction Book']\u001b[0m\n",
      "\n",
      "\u001b[5m\u001b[7m\u001b[96mdata_input_text\u001b[0m \u001b[96m: Most dirt bike riders are faced by leaky fork seals several times a year.\u001b[0m\n",
      "\u001b[5m\u001b[7m\u001b[34mlbl2data_input_text\u001b[0m \u001b[34m: []\u001b[0m\n",
      "\n",
      "\u001b[5m\u001b[7m\u001b[96mdata_input_text\u001b[0m \u001b[96m: **NEW** KISS imPRESS \"INTO THE DEEP\" Medium Length by Broadway Press-On Manicure Nails\u001b[0m\n",
      "\u001b[5m\u001b[7m\u001b[34mlbl2data_input_text\u001b[0m \u001b[34m: ['Beauty & Personal Care']\u001b[0m\n",
      "\n",
      "\u001b[5m\u001b[7m\u001b[96mdata_input_text\u001b[0m \u001b[96m: Connoisseur Pure Kolinsky Pocket Brush, #7 Round\u001b[0m\n",
      "\u001b[5m\u001b[7m\u001b[34mlbl2data_input_text\u001b[0m \u001b[34m: ['Art Supplies']\u001b[0m\n",
      "\n",
      "\u001b[5m\u001b[7m\u001b[96mdata_input_text\u001b[0m \u001b[96m: Skip Hop Zoo Melamine Plate and Bowl Set, Owl\u001b[0m\n",
      "\u001b[5m\u001b[7m\u001b[34mlbl2data_input_text\u001b[0m \u001b[34m: [\"Children's Dining\"]\u001b[0m\n",
      "\n",
      "\u001b[5m\u001b[7m\u001b[96mdata_input_text\u001b[0m \u001b[96m: Study Guide for Microeconomics, 6th Sixth Edition By Robert S. Pindyck and Daniel L. Rubinfeld\u001b[0m\n",
      "\u001b[5m\u001b[7m\u001b[34mlbl2data_input_text\u001b[0m \u001b[34m: ['Study Guide']\u001b[0m\n",
      "\n",
      "\u001b[5m\u001b[7m\u001b[96mdata_input_text\u001b[0m \u001b[96m: Levi's Boys 2-7 511 Slim Jean\u001b[0m\n",
      "\u001b[5m\u001b[7m\u001b[34mlbl2data_input_text\u001b[0m \u001b[34m: [\"Children's Clothing\"]\u001b[0m\n",
      "\n",
      "\u001b[5m\u001b[7m\u001b[96mdata_input_text\u001b[0m \u001b[96m: Square Ring Box - Silver\u001b[0m\n",
      "\u001b[5m\u001b[7m\u001b[34mlbl2data_input_text\u001b[0m \u001b[34m: ['Jewelry Ring Box']\u001b[0m\n",
      "\n",
      "\u001b[5m\u001b[7m\u001b[96mdata_input_text\u001b[0m \u001b[96m: A Magickal Formulary Spellbook Companion: Book II\u001b[0m\n",
      "\u001b[5m\u001b[7m\u001b[34mlbl2data_input_text\u001b[0m \u001b[34m: ['Occult & Witchcraft Books']\u001b[0m\n",
      "\n",
      "\u001b[5m\u001b[7m\u001b[96mdata_input_text\u001b[0m \u001b[96m: RCBS Bullet Mould Handles\u001b[0m\n",
      "\u001b[5m\u001b[7m\u001b[34mlbl2data_input_text\u001b[0m \u001b[34m: ['Reloading Supplies']\u001b[0m\n",
      "\n",
      "\u001b[5m\u001b[7m\u001b[96mdata_input_text\u001b[0m \u001b[96m: ACDelco 12TP7E Thermostat\u001b[0m\n",
      "\u001b[5m\u001b[7m\u001b[34mlbl2data_input_text\u001b[0m \u001b[34m: ['Automotive Parts']\u001b[0m\n",
      "\n",
      "\u001b[5m\u001b[7m\u001b[96mdata_input_text\u001b[0m \u001b[96m: Mens 100% Cotton Mock Turtleneck Shirt Short Sleeved Pre-Shrunk 5 colors M L XL XXL\u001b[0m\n",
      "\u001b[5m\u001b[7m\u001b[34mlbl2data_input_text\u001b[0m \u001b[34m: [\"Men's Clothing\"]\u001b[0m\n",
      "\n",
      "\u001b[5m\u001b[7m\u001b[96mdata_input_text\u001b[0m \u001b[96m: Toshiba Canvio Connect 500GB Portable Hard Drive, Black (HDTC705XK3A1)\u001b[0m\n",
      "\u001b[5m\u001b[7m\u001b[34mlbl2data_input_text\u001b[0m \u001b[34m: ['External Disk Drive']\u001b[0m\n",
      "\n",
      "\u001b[5m\u001b[7m\u001b[96mdata_input_text\u001b[0m \u001b[96m: Aussie 3 Minute Miracle Strong Conditioning Treatment 8 Fl Oz\u001b[0m\n",
      "\u001b[5m\u001b[7m\u001b[34mlbl2data_input_text\u001b[0m \u001b[34m: ['Hair Care']\u001b[0m\n",
      "\n",
      "\u001b[5m\u001b[7m\u001b[96mdata_input_text\u001b[0m \u001b[96m: Taylormade NFL Miami Dolphins Visor, Aqua/White\u001b[0m\n",
      "\u001b[5m\u001b[7m\u001b[34mlbl2data_input_text\u001b[0m \u001b[34m: ['Sports Fan Apparel']\u001b[0m\n",
      "\n",
      "\u001b[5m\u001b[7m\u001b[96mdata_input_text\u001b[0m \u001b[96m: Rothco 5368 6\" Desert Tan Forced Entry Deployment Boot - Men's\u001b[0m\n",
      "\u001b[5m\u001b[7m\u001b[34mlbl2data_input_text\u001b[0m \u001b[34m: [\"Men's Footwear\"]\u001b[0m\n",
      "\n",
      "\u001b[5m\u001b[7m\u001b[96mdata_input_text\u001b[0m \u001b[96m: Fighter: The True Story of the Battle of Britain\u001b[0m\n",
      "\u001b[5m\u001b[7m\u001b[34mlbl2data_input_text\u001b[0m \u001b[34m: ['Historical Military Biography']\u001b[0m\n",
      "\n",
      "\u001b[5m\u001b[7m\u001b[96mdata_input_text\u001b[0m \u001b[96m: Great Kitchen Ideas (Better Homes & Gardens Decorating)\u001b[0m\n",
      "\u001b[5m\u001b[7m\u001b[34mlbl2data_input_text\u001b[0m \u001b[34m: ['Home Improvement Book']\u001b[0m\n",
      "\n",
      "\u001b[5m\u001b[7m\u001b[96mdata_input_text\u001b[0m \u001b[96m: Pilot MR Animal Collection Fountain Pen, Matte Black with Crocodile Accent, Medium Nib, Black Ink (91135)\u001b[0m\n",
      "\u001b[5m\u001b[7m\u001b[34mlbl2data_input_text\u001b[0m \u001b[34m: ['Writing Instruments']\u001b[0m\n",
      "\n",
      "\u001b[5m\u001b[7m\u001b[96mdata_input_text\u001b[0m \u001b[96m: Human Hair Direct 100% Brazilian Remy Human Hair Extensions BODY WAVE 3-Pack (14\", 16\", 18\") Bundle, 300g Total (100g each), Grade AAAAA (#1 - Jet Black (Pre-Colored))\u001b[0m\n",
      "\u001b[5m\u001b[7m\u001b[34mlbl2data_input_text\u001b[0m \u001b[34m: ['Hair Extensions']\u001b[0m\n",
      "\n",
      "\u001b[5m\u001b[7m\u001b[96mdata_input_text\u001b[0m \u001b[96m: A Line in the Sand (The Kane Legacy #1)\u001b[0m\n",
      "\u001b[5m\u001b[7m\u001b[34mlbl2data_input_text\u001b[0m \u001b[34m: ['Jewish Historical Fiction']\u001b[0m\n",
      "\n",
      "\u001b[5m\u001b[7m\u001b[96mdata_input_text\u001b[0m \u001b[96m: LAmade Girls 7-16 Full-Length Legging\u001b[0m\n",
      "\u001b[5m\u001b[7m\u001b[34mlbl2data_input_text\u001b[0m \u001b[34m: [\"Children's Clothing\"]\u001b[0m\n",
      "\n",
      "\u001b[5m\u001b[7m\u001b[96mdata_input_text\u001b[0m \u001b[96m: Scotch Magic Tape Dispenser - Snake Print High Heel Shoe & 2 Tape Refills\u001b[0m\n",
      "\u001b[5m\u001b[7m\u001b[34mlbl2data_input_text\u001b[0m \u001b[34m: ['Office Supplies']\u001b[0m\n",
      "\n",
      "\u001b[5m\u001b[7m\u001b[96mdata_input_text\u001b[0m \u001b[96m: Standard Laryngoscope Handle, Medium - C Size Battery\u001b[0m\n",
      "\u001b[5m\u001b[7m\u001b[34mlbl2data_input_text\u001b[0m \u001b[34m: ['Health Care Equipment']\u001b[0m\n",
      "\n",
      "\u001b[5m\u001b[7m\u001b[96mdata_input_text\u001b[0m \u001b[96m: TheLees Men's Slim Stretchy China Collar Knitted Cardigan\u001b[0m\n",
      "\u001b[5m\u001b[7m\u001b[34mlbl2data_input_text\u001b[0m \u001b[34m: [\"Men's Clothing\"]\u001b[0m\n",
      "\n",
      "\u001b[5m\u001b[7m\u001b[96mdata_input_text\u001b[0m \u001b[96m: Classic WWE Superstars Series 2 Big John Studd\u001b[0m\n",
      "\u001b[5m\u001b[7m\u001b[34mlbl2data_input_text\u001b[0m \u001b[34m: ['Action Figures']\u001b[0m\n",
      "\n",
      "\u001b[5m\u001b[7m\u001b[96mdata_input_text\u001b[0m \u001b[96m: KitchenAid KV25GOXWH Professional 5 Plus 5-Quart Stand Mixer, White\u001b[0m\n",
      "\u001b[5m\u001b[7m\u001b[34mlbl2data_input_text\u001b[0m \u001b[34m: ['Stand Mixer']\u001b[0m\n",
      "\n",
      "\u001b[5m\u001b[7m\u001b[96mdata_input_text\u001b[0m \u001b[96m: Flextone FG-DCOY-00310 Funky Chicken\u001b[0m\n",
      "\u001b[5m\u001b[7m\u001b[34mlbl2data_input_text\u001b[0m \u001b[34m: ['Hunting Decoy']\u001b[0m\n",
      "\n",
      "\u001b[5m\u001b[7m\u001b[96mdata_input_text\u001b[0m \u001b[96m: First Words (Learning Tabs)\u001b[0m\n",
      "\u001b[5m\u001b[7m\u001b[34mlbl2data_input_text\u001b[0m \u001b[34m: [\"Children's Patriotic Book\"]\u001b[0m\n",
      "\n",
      "\u001b[5m\u001b[7m\u001b[96mdata_input_text\u001b[0m \u001b[96m: The Medusa In The Shield (Dark Descent)\u001b[0m\n",
      "\u001b[5m\u001b[7m\u001b[34mlbl2data_input_text\u001b[0m \u001b[34m: ['Horror book']\u001b[0m\n",
      "\n",
      "\u001b[5m\u001b[7m\u001b[96mdata_input_text\u001b[0m \u001b[96m: The Sea and the Bells\u001b[0m\n",
      "\u001b[5m\u001b[7m\u001b[34mlbl2data_input_text\u001b[0m \u001b[34m: ['Music Album']\u001b[0m\n",
      "\n",
      "\u001b[5m\u001b[7m\u001b[96mdata_input_text\u001b[0m \u001b[96m: Never Quote the Weather to a Sea Lion: And Other Uncommon Tales from the Founder of the Big Apple Circus\u001b[0m\n",
      "\u001b[5m\u001b[7m\u001b[34mlbl2data_input_text\u001b[0m \u001b[34m: ['Memoir']\u001b[0m\n",
      "\n",
      "\u001b[5m\u001b[7m\u001b[96mdata_input_text\u001b[0m \u001b[96m: California Wild: Preserving the Spirit and Beauty of Our Land\u001b[0m\n",
      "\u001b[5m\u001b[7m\u001b[34mlbl2data_input_text\u001b[0m \u001b[34m: ['Outdoor Photography Book']\u001b[0m\n",
      "\n",
      "\u001b[5m\u001b[7m\u001b[96mdata_input_text\u001b[0m \u001b[96m: Sterling Monarch Nipple Vice\u001b[0m\n",
      "\u001b[5m\u001b[7m\u001b[34mlbl2data_input_text\u001b[0m \u001b[34m: ['Erotic Accessories']\u001b[0m\n",
      "\n",
      "\u001b[5m\u001b[7m\u001b[96mdata_input_text\u001b[0m \u001b[96m: Qupid Women's Classic Slouchy Flat Boot\u001b[0m\n",
      "\u001b[5m\u001b[7m\u001b[34mlbl2data_input_text\u001b[0m \u001b[34m: [\"Women's Formal Footwear\"]\u001b[0m\n",
      "\n",
      "\u001b[5m\u001b[7m\u001b[96mdata_input_text\u001b[0m \u001b[96m: Classical 925 Sterling Silver high-luster 8.0mm Cream Pearl Women Drop Earrings with Cubic Zirconia/CZ\u001b[0m\n",
      "\u001b[5m\u001b[7m\u001b[34mlbl2data_input_text\u001b[0m \u001b[34m: ['jewelry']\u001b[0m\n",
      "\n",
      "\u001b[5m\u001b[7m\u001b[96mdata_input_text\u001b[0m \u001b[96m: 2012 three CD retrospective from the two-time Grammy winning classical artist, one of the world's greatest violinists of her generation.\u001b[0m\n",
      "\u001b[5m\u001b[7m\u001b[34mlbl2data_input_text\u001b[0m \u001b[34m: ['Music']\u001b[0m\n",
      "\n",
      "\u001b[5m\u001b[7m\u001b[96mdata_input_text\u001b[0m \u001b[96m: N2N Dream Split Shorts - Black\u001b[0m\n",
      "\u001b[5m\u001b[7m\u001b[34mlbl2data_input_text\u001b[0m \u001b[34m: ['Apparel']\u001b[0m\n",
      "\n",
      "\u001b[5m\u001b[7m\u001b[96mdata_input_text\u001b[0m \u001b[96m: Electronic Beowulf: Third Edition\u001b[0m\n",
      "\u001b[5m\u001b[7m\u001b[34mlbl2data_input_text\u001b[0m \u001b[34m: ['Book']\u001b[0m\n",
      "\n",
      "\u001b[5m\u001b[7m\u001b[96mdata_input_text\u001b[0m \u001b[96m: 2 for 1 Bonus Pack! Grind Guard - Relieves Symptoms Associated with Teeth Grinding, Colors may Vary\u001b[0m\n",
      "\u001b[5m\u001b[7m\u001b[34mlbl2data_input_text\u001b[0m \u001b[34m: []\u001b[0m\n",
      "\n",
      "\u001b[5m\u001b[7m\u001b[96mdata_input_text\u001b[0m \u001b[96m: 3-in-1 Bundle For Nokia Lumia 925-BOOMBA Dual- Layer Hard/Gel Hybrid Kickstand Armor Case (Black/Black)+ICE-CLEAR(TM) Screen Protector Shield(Ultra Clear)+Touch Screen Stylus\u001b[0m\n",
      "\u001b[5m\u001b[7m\u001b[34mlbl2data_input_text\u001b[0m \u001b[34m: ['Phone Accessories']\u001b[0m\n",
      "\n",
      "\u001b[5m\u001b[7m\u001b[96mdata_input_text\u001b[0m \u001b[96m: Ecstasy and Intimacy: When the Holy Spirit Meets the Human Spirit\u001b[0m\n",
      "\u001b[5m\u001b[7m\u001b[34mlbl2data_input_text\u001b[0m \u001b[34m: ['Christian Philanthropy Book']\u001b[0m\n",
      "\n",
      "\u001b[5m\u001b[7m\u001b[96mdata_input_text\u001b[0m \u001b[96m: Love Love\u001b[0m\n",
      "\u001b[5m\u001b[7m\u001b[34mlbl2data_input_text\u001b[0m \u001b[34m: ['Music Album']\u001b[0m\n",
      "\n",
      "\u001b[5m\u001b[7m\u001b[96mdata_input_text\u001b[0m \u001b[96m: Practical Guide to Small-scale Goat-keeping\u001b[0m\n",
      "\u001b[5m\u001b[7m\u001b[34mlbl2data_input_text\u001b[0m \u001b[34m: ['Livestock Farming']\u001b[0m\n",
      "\n",
      "\u001b[5m\u001b[7m\u001b[96mdata_input_text\u001b[0m \u001b[96m: E27 13W White 110V 264 LED Corn Light Bulb Lamp\u001b[0m\n",
      "\u001b[5m\u001b[7m\u001b[34mlbl2data_input_text\u001b[0m \u001b[34m: ['Laser Lighting']\u001b[0m\n",
      "\n",
      "\u001b[5m\u001b[7m\u001b[96mdata_input_text\u001b[0m \u001b[96m: Casio G-Shock Garish Color Super Illuminator - Black Dial w/ Red - Flash Alert\u001b[0m\n",
      "\u001b[5m\u001b[7m\u001b[34mlbl2data_input_text\u001b[0m \u001b[34m: ['Watches']\u001b[0m\n",
      "\n",
      "\u001b[5m\u001b[7m\u001b[96mdata_input_text\u001b[0m \u001b[96m: Ruth Uncensored: The Story You Thought You Knew\u001b[0m\n",
      "\u001b[5m\u001b[7m\u001b[34mlbl2data_input_text\u001b[0m \u001b[34m: ['Christian Book']\u001b[0m\n",
      "\n",
      "\u001b[5m\u001b[7m\u001b[96mdata_input_text\u001b[0m \u001b[96m: C.Mattson Porth's Essentials of Pathophysiology 2nd(Second) edition(Essentials of Pathophysiology: Concepts ofAlteredHealthStates[Paperback])(2006)\u001b[0m\n",
      "\u001b[5m\u001b[7m\u001b[34mlbl2data_input_text\u001b[0m \u001b[34m: ['Professional Medical Textbook']\u001b[0m\n",
      "\n",
      "\u001b[5m\u001b[7m\u001b[96mdata_input_text\u001b[0m \u001b[96m: \u001b[0m\n",
      "\u001b[5m\u001b[7m\u001b[34mlbl2data_input_text\u001b[0m \u001b[34m: ['Not_Sure']\u001b[0m\n",
      "\n",
      "\u001b[5m\u001b[7m\u001b[96mdata_input_text\u001b[0m \u001b[96m: Celtic Colors Journal (Diary, Notebook)\u001b[0m\n",
      "\u001b[5m\u001b[7m\u001b[34mlbl2data_input_text\u001b[0m \u001b[34m: ['Stationery']\u001b[0m\n",
      "\n",
      "\u001b[5m\u001b[7m\u001b[96mdata_input_text\u001b[0m \u001b[96m: Born Sheena\u001b[0m\n",
      "\u001b[5m\u001b[7m\u001b[34mlbl2data_input_text\u001b[0m \u001b[34m: ['Not_Sure']\u001b[0m\n",
      "\n",
      "\u001b[5m\u001b[7m\u001b[96mdata_input_text\u001b[0m \u001b[96m: The Water Dragon: A Chinese Legend\u001b[0m\n",
      "\u001b[5m\u001b[7m\u001b[34mlbl2data_input_text\u001b[0m \u001b[34m: [\"Children's Book\"]\u001b[0m\n",
      "\n",
      "\u001b[5m\u001b[7m\u001b[96mdata_input_text\u001b[0m \u001b[96m: Wilson Dyna-Lite Umpire and Catcher's Face Mask\u001b[0m\n",
      "\u001b[5m\u001b[7m\u001b[34mlbl2data_input_text\u001b[0m \u001b[34m: ['Sporting Goods']\u001b[0m\n",
      "\n",
      "\u001b[5m\u001b[7m\u001b[96mdata_input_text\u001b[0m \u001b[96m: Green Eyed Radio\u001b[0m\n",
      "\u001b[5m\u001b[7m\u001b[34mlbl2data_input_text\u001b[0m \u001b[34m: ['Music Album']\u001b[0m\n",
      "\n",
      "\u001b[5m\u001b[7m\u001b[96mdata_input_text\u001b[0m \u001b[96m: Jarrow Formulas: BroccoMax, 60 caps\u001b[0m\n",
      "\u001b[5m\u001b[7m\u001b[34mlbl2data_input_text\u001b[0m \u001b[34m: ['Nutritional Supplement']\u001b[0m\n",
      "\n",
      "\u001b[5m\u001b[7m\u001b[96mdata_input_text\u001b[0m \u001b[96m: Body-Solid LVIP Leverage Incline Press\u001b[0m\n",
      "\u001b[5m\u001b[7m\u001b[34mlbl2data_input_text\u001b[0m \u001b[34m: ['Pet Fitness Equipment']\u001b[0m\n",
      "\n",
      "\u001b[5m\u001b[7m\u001b[96mdata_input_text\u001b[0m \u001b[96m: Hunters Specialties Custom 3 Loop Call Lanyard with Whistle Drop\u001b[0m\n",
      "\u001b[5m\u001b[7m\u001b[34mlbl2data_input_text\u001b[0m \u001b[34m: ['Hunting Accessories']\u001b[0m\n",
      "\n",
      "\u001b[5m\u001b[7m\u001b[96mdata_input_text\u001b[0m \u001b[96m: Stokke 23930X MyCarrier Organic Baby Carrier Color: Dark Navy\u001b[0m\n",
      "\u001b[5m\u001b[7m\u001b[34mlbl2data_input_text\u001b[0m \u001b[34m: ['Baby Carriers']\u001b[0m\n",
      "\n",
      "\u001b[5m\u001b[7m\u001b[96mdata_input_text\u001b[0m \u001b[96m: Raw Brazil Nuts (10 Pound Case) - We Got Nuts\u001b[0m\n",
      "\u001b[5m\u001b[7m\u001b[34mlbl2data_input_text\u001b[0m \u001b[34m: ['Nuts & Seeds']\u001b[0m\n",
      "\n",
      "\u001b[5m\u001b[7m\u001b[96mdata_input_text\u001b[0m \u001b[96m: Skylanders Swap-force Body Wash W/figures\u001b[0m\n",
      "\u001b[5m\u001b[7m\u001b[34mlbl2data_input_text\u001b[0m \u001b[34m: ['Bath Product for Kids']\u001b[0m\n",
      "\n",
      "\u001b[5m\u001b[7m\u001b[96mdata_input_text\u001b[0m \u001b[96m: \u001b[0m\n",
      "\u001b[5m\u001b[7m\u001b[34mlbl2data_input_text\u001b[0m \u001b[34m: ['Not_Sure']\u001b[0m\n",
      "\n",
      "\u001b[5m\u001b[7m\u001b[96mdata_input_text\u001b[0m \u001b[96m: The Easter Day Surprise\u001b[0m\n",
      "\u001b[5m\u001b[7m\u001b[34mlbl2data_input_text\u001b[0m \u001b[34m: ['Leisure Book']\u001b[0m\n",
      "\n",
      "\u001b[5m\u001b[7m\u001b[96mdata_input_text\u001b[0m \u001b[96m: Olivina Hand and Body Lotion, Honeysuckle Rose, 12 Ounce\u001b[0m\n",
      "\u001b[5m\u001b[7m\u001b[34mlbl2data_input_text\u001b[0m \u001b[34m: ['Body Lotion']\u001b[0m\n",
      "\n",
      "\u001b[5m\u001b[7m\u001b[96mdata_input_text\u001b[0m \u001b[96m: Don't Hold Back\u001b[0m\n",
      "\u001b[5m\u001b[7m\u001b[34mlbl2data_input_text\u001b[0m \u001b[34m: ['Music Album']\u001b[0m\n",
      "\n",
      "\u001b[5m\u001b[7m\u001b[96mdata_input_text\u001b[0m \u001b[96m: 8\" Round ~ My Little Pony Castle Birthday ~ Edible Image Cake/Cupcake Topper!!!\u001b[0m\n",
      "\u001b[5m\u001b[7m\u001b[34mlbl2data_input_text\u001b[0m \u001b[34m: ['Home Party Supplies']\u001b[0m\n",
      "\n",
      "\u001b[5m\u001b[7m\u001b[96mdata_input_text\u001b[0m \u001b[96m: Invisible Monsters: A Novel\u001b[0m\n",
      "\u001b[5m\u001b[7m\u001b[34mlbl2data_input_text\u001b[0m \u001b[34m: ['Fiction']\u001b[0m\n",
      "\n",
      "\u001b[5m\u001b[7m\u001b[96mdata_input_text\u001b[0m \u001b[96m: Little Lass Girls 2-6X 3 Piece Turtle Neck Cable Knit Sweater Dress Set\u001b[0m\n",
      "\u001b[5m\u001b[7m\u001b[34mlbl2data_input_text\u001b[0m \u001b[34m: [\"Children's Clothing\"]\u001b[0m\n",
      "\n",
      "\u001b[5m\u001b[7m\u001b[96mdata_input_text\u001b[0m \u001b[96m: Touch Screen Outer Glass Lens for Samsung Fascinate Verizon i500 -Black\u001b[0m\n",
      "\u001b[5m\u001b[7m\u001b[34mlbl2data_input_text\u001b[0m \u001b[34m: ['Mobile phone accessories']\u001b[0m\n",
      "\n",
      "\u001b[5m\u001b[7m\u001b[96mdata_input_text\u001b[0m \u001b[96m: Rock City\u001b[0m\n",
      "\u001b[5m\u001b[7m\u001b[34mlbl2data_input_text\u001b[0m \u001b[34m: ['Music Album']\u001b[0m\n",
      "\n"
     ]
    }
   ],
   "source": [
    "disp.show(k=100)"
   ]
  },
  {
   "cell_type": "code",
   "execution_count": null,
   "id": "5893c814-2be4-43bd-8069-ed1d14002b0e",
   "metadata": {},
   "outputs": [],
   "source": [
    "save_dir = '/home/scai/phd/aiz218323/scratch/datasets/benchmarks/LF-AmazonTitles-1.3M_gpt-conflations/examples'\n",
    "os.makedirs(save_dir, exist_ok=True)"
   ]
  },
  {
   "cell_type": "code",
   "execution_count": null,
   "id": "357c232f-83dd-4743-b546-d001a17a3b18",
   "metadata": {},
   "outputs": [],
   "source": [
    "idxs = np.random.permutation(linker_block.test.dset.n_data)[:1000]\n",
    "disp.dump_txt(f'{save_dir}/gpt-category-conflated-3.txt', idxs=idxs)"
   ]
  },
  {
   "cell_type": "code",
   "execution_count": null,
   "id": "213fcab2-52f0-4ece-93df-8e1ce282b6cf",
   "metadata": {},
   "outputs": [],
   "source": []
  },
  {
   "cell_type": "code",
   "execution_count": null,
   "id": "ab140fca-5b6e-43ad-9b49-6e08feb990aa",
   "metadata": {},
   "outputs": [],
   "source": []
  },
  {
   "cell_type": "code",
   "execution_count": null,
   "id": "99c14127-778a-44e7-a96a-5687007e7441",
   "metadata": {},
   "outputs": [],
   "source": []
  }
 ],
 "metadata": {
  "kernelspec": {
   "display_name": "Python 3 (ipykernel)",
   "language": "python",
   "name": "python3"
  },
  "language_info": {
   "codemirror_mode": {
    "name": "ipython",
    "version": 3
   },
   "file_extension": ".py",
   "mimetype": "text/x-python",
   "name": "python",
   "nbconvert_exporter": "python",
   "pygments_lexer": "ipython3",
   "version": "3.10.16"
  }
 },
 "nbformat": 4,
 "nbformat_minor": 5
}
