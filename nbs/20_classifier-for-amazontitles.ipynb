{
 "cells": [
  {
   "cell_type": "code",
   "execution_count": null,
   "id": "0441103f-860e-431a-9502-afbb9adc2591",
   "metadata": {},
   "outputs": [],
   "source": [
    "#| default_exp 20_classifier-for-amazontitles"
   ]
  },
  {
   "cell_type": "code",
   "execution_count": null,
   "id": "fa6211d4-c07b-4fd7-adb2-84ac44513c54",
   "metadata": {},
   "outputs": [],
   "source": [
    "%load_ext autoreload\n",
    "%autoreload 2\n",
    "\n",
    "from nbdev.showdoc import *\n",
    "import nbdev; nbdev.nbdev_export()"
   ]
  },
  {
   "cell_type": "code",
   "execution_count": null,
   "id": "8b61b558-bb31-46ed-89d3-722ef699ae71",
   "metadata": {},
   "outputs": [],
   "source": [
    "#| export\n",
    "import os,torch, torch.multiprocessing as mp, pickle, numpy as np\n",
    "\n",
    "from xcai.basics import *\n",
    "from xcai.models.classifiers import CLS001\n",
    "from xcai.models.distillation import DTL006, TCH001"
   ]
  },
  {
   "cell_type": "code",
   "execution_count": null,
   "id": "a41f0c98-a19d-4f14-b57f-eee2bdd9e11a",
   "metadata": {},
   "outputs": [],
   "source": [
    "os.environ['WANDB_MODE'] = 'disabled'"
   ]
  },
  {
   "cell_type": "code",
   "execution_count": null,
   "id": "be3ef44d-43fa-4e66-8ce2-fa868ccf2abc",
   "metadata": {},
   "outputs": [],
   "source": [
    "#| export\n",
    "os.environ['CUDA_VISIBLE_DEVICES'] = '0,1'\n",
    "os.environ['WANDB_PROJECT']='medic_03-amazontitles-classifier'"
   ]
  },
  {
   "cell_type": "markdown",
   "id": "a3f8a081-8e9f-47ae-94ee-ca715c432aec",
   "metadata": {},
   "source": [
    "## `__main__`"
   ]
  },
  {
   "cell_type": "code",
   "execution_count": null,
   "id": "1e9da90e-bace-46ac-aa6d-9cf448553d18",
   "metadata": {},
   "outputs": [],
   "source": [
    "#| export\n",
    "if __name__ == '__main__':\n",
    "    output_dir = '/scratch/scai/phd/aiz218323/outputs/mogicX/20_classifier-for-amazontitles'\n",
    "\n",
    "    data_dir = '/home/scai/phd/aiz218323/scratch/datasets/benchmarks/'\n",
    "    config_file = 'amazontitles'\n",
    "    config_key = 'data'\n",
    "    \n",
    "    mname = 'sentence-transformers/msmarco-distilbert-base-v4'\n",
    "    \n",
    "    input_args = parse_args()\n",
    "    \n",
    "    pkl_file = f'{input_args.pickle_dir}/mogicX/amazontitles_data_distilbert-base-uncased'\n",
    "    pkl_file = f'{pkl_file}_sxc' if input_args.use_sxc_sampler else f'{pkl_file}_xcs'\n",
    "    if input_args.only_test: pkl_file = f'{pkl_file}_only-test'\n",
    "    pkl_file = f'{pkl_file}.joblib'\n",
    "\n",
    "    \"\"\" Training arguements \"\"\"\n",
    "    args = XCLearningArguments(\n",
    "        output_dir=output_dir,\n",
    "        logging_first_step=True,\n",
    "        per_device_train_batch_size=4098,\n",
    "        per_device_eval_batch_size=1600,\n",
    "        representation_num_beams=200,\n",
    "        representation_accumulation_steps=10,\n",
    "        save_strategy=\"steps\",\n",
    "        eval_strategy=\"steps\",\n",
    "        eval_steps=5000,\n",
    "        save_steps=5000,\n",
    "        save_total_limit=5,\n",
    "        num_train_epochs=300,\n",
    "        predict_with_representation=True,\n",
    "        representation_search_type='BRUTEFORCE',\n",
    "        adam_epsilon=1e-6,\n",
    "        warmup_steps=100,\n",
    "        weight_decay=0.01,\n",
    "        learning_rate=2e-4,\n",
    "        \n",
    "        group_by_cluster=True,\n",
    "        num_clustering_warmup_epochs=10,\n",
    "        num_cluster_update_epochs=5,\n",
    "        num_cluster_size_update_epochs=25,\n",
    "        clustering_type='EXPO',\n",
    "        minimum_cluster_size=2,\n",
    "        maximum_cluster_size=1600,\n",
    "        \n",
    "        metric_for_best_model='P@1',\n",
    "        load_best_model_at_end=True,\n",
    "        target_indices_key='plbl2data_idx',\n",
    "        target_pointer_key='plbl2data_data2ptr',\n",
    "        \n",
    "        use_encoder_parallel=True,\n",
    "        max_grad_norm=None,\n",
    "        fp16=True,\n",
    "\n",
    "        label_names=['lbl2data_idx', 'lbl2data_input_ids', 'lbl2data_attention_mask'],\n",
    "    )\n",
    "    \"\"\" Teacher model \"\"\"\n",
    "    m_teacher = TCH001.from_pretrained(f'{teacher_dir}/teacher', n_data=block.train.dset.n_data, n_lbl=block.n_lbl)\n",
    "    m_teacher.freeze_embeddings()\n",
    "\n",
    "    \"\"\" Classifiers \"\"\"\n",
    "    bsz = max(args.per_device_train_batch_size, args.per_device_eval_batch_size)*torch.cuda.device_count()\n",
    "    \n",
    "    m_student = CLS001.from_pretrained(f'{classifier_dir}/representation', n_train=block.train.dset.n_data, \n",
    "                                       n_test=block.test.dset.n_data, n_lbl=block.n_lbl, batch_size=bsz, \n",
    "                                       num_batch_labels=5000, margin=0.3, num_negatives=10, tau=0.1, apply_softmax=True)\n",
    "    \n",
    "    m_student.freeze_representation()\n",
    "    m_student.init_lbl_embeddings()\n",
    "\n",
    "    \"\"\" Distillation model \"\"\"\n",
    "    model = DTL006(DistilBertConfig(), m_student=m_student, m_teacher=m_teacher, bsz=bsz, tn_targ=5000, margin=0.3, tau=0.1, \n",
    "                   n_negatives=10, apply_softmax=True, teacher_data_student_label_loss_weight=1.0, \n",
    "                   student_data_teacher_label_loss_weight=0.0, data_mse_loss_weight=0.1, label_mse_loss_weight=0.0)\n",
    "\n",
    "    \"\"\" Training \"\"\"\n",
    "    metric = PrecRecl(block.n_lbl, block.test.data_lbl_filterer, prop=block.train.dset.data.data_lbl,\n",
    "                      pk=10, rk=200, rep_pk=[1, 3, 5, 10], rep_rk=[10, 100, 200])\n",
    "\n",
    "    learn = XCLearner(\n",
    "        model=model, \n",
    "        args=args,\n",
    "        train_dataset=block.train.dset,\n",
    "        eval_dataset=block.test.dset,\n",
    "        data_collator=block.collator,\n",
    "        compute_metrics=metric,\n",
    "    )\n",
    "\n",
    "    main(learn, input_args, n_lbl=block.n_lbl)\n",
    "    "
   ]
  }
 ],
 "metadata": {
  "kernelspec": {
   "display_name": "python3",
   "language": "python",
   "name": "python3"
  }
 },
 "nbformat": 4,
 "nbformat_minor": 5
}
