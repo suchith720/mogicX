{
 "cells": [
  {
   "cell_type": "code",
   "execution_count": null,
   "id": "d60b51bd-0144-4139-8be5-7602bad6a9c8",
   "metadata": {},
   "outputs": [],
   "source": [
    "#| default_exp 17_ngame-oracle-for-amazontitles"
   ]
  },
  {
   "cell_type": "code",
   "execution_count": null,
   "id": "afd42460-e893-40e0-a8c3-3ef5195f6e68",
   "metadata": {},
   "outputs": [],
   "source": [
    "%reload_ext autoreload\n",
    "%autoreload 2"
   ]
  },
  {
   "cell_type": "code",
   "execution_count": null,
   "id": "65e00e5c-ff88-425d-a828-7ca5d02215ab",
   "metadata": {},
   "outputs": [],
   "source": [
    "from nbdev.showdoc import *\n",
    "import nbdev; nbdev.nbdev_export()"
   ]
  },
  {
   "cell_type": "code",
   "execution_count": null,
   "id": "874750be-c904-447e-8754-3eefcb9586d6",
   "metadata": {},
   "outputs": [],
   "source": [
    "#| export\n",
    "import os,torch,json, torch.multiprocessing as mp, joblib, numpy as np, scipy.sparse as sp\n",
    "\n",
    "from xcai.basics import *\n",
    "from xcai.models.PPP0XX import DBT009,DBT011"
   ]
  },
  {
   "cell_type": "code",
   "execution_count": null,
   "id": "1dd23053-8908-4615-a47f-96b2039b0cff",
   "metadata": {},
   "outputs": [],
   "source": [
    "os.environ['WANDB_MODE'] = 'disabled'"
   ]
  },
  {
   "cell_type": "code",
   "execution_count": null,
   "id": "44292259-cc09-4bd0-96f3-08206b948924",
   "metadata": {},
   "outputs": [],
   "source": [
    "#| export\n",
    "os.environ['CUDA_VISIBLE_DEVICES'] = '0,1'\n",
    "os.environ['WANDB_PROJECT'] = 'mogicX_03-amazontitles-linker'"
   ]
  },
  {
   "cell_type": "markdown",
   "id": "653ee19c-38b0-48e4-8613-54b8d447cccf",
   "metadata": {},
   "source": [
    "## Driver"
   ]
  },
  {
   "cell_type": "code",
   "execution_count": null,
   "id": "bd67be8d-d2b0-40d2-a772-8d068ad99a3b",
   "metadata": {},
   "outputs": [],
   "source": [
    "#| export\n",
    "if __name__ == '__main__':\n",
    "    output_dir = '/scratch/scai/phd/aiz218323/outputs/mogicX/17_ngame-oracle-for-amazontitles'\n",
    "\n",
    "    data_dir = '/home/scai/phd/aiz218323/scratch/datasets/benchmarks/'\n",
    "    config_file = 'amazontitles'\n",
    "    config_key = 'data_meta'\n",
    "\n",
    "    mname = 'sentence-transformers/msmarco-distilbert-base-v4'\n",
    "    meta_name = 'cat'\n",
    "\n",
    "    input_args = parse_args()\n",
    "\n",
    "    pkl_file = f'{input_args.pickle_dir}/mogicX/amazontitles_data-meta_distilbert-base-uncased'\n",
    "    pkl_file = f'{pkl_file}_sxc' if input_args.use_sxc_sampler else f'{pkl_file}_xcs'\n",
    "    if input_args.only_test: pkl_file = f'{pkl_file}_only-test'\n",
    "    pkl_file = f'{pkl_file}.joblib'\n",
    "    aug_file = pkl_file[:-7] + f'_aug{meta_name}-128.joblib'\n",
    "\n",
    "    do_inference = input_args.do_train_inference or input_args.do_test_inference or input_args.save_train_prediction or input_args.save_test_prediction or input_args.save_representation\n",
    "\n",
    "    os.makedirs(os.path.dirname(pkl_file), exist_ok=True)\n",
    "\n",
    "    if os.path.exists(aug_file):\n",
    "        block = joblib.load(aug_file)\n",
    "    else:\n",
    "        block = build_block(pkl_file, config_file, input_args.use_sxc_sampler, config_key, do_build=input_args.build_block, only_test=input_args.only_test,\n",
    "                           sampling_features=[('lbl2data',1)], oversample=False, data_dir=data_dir)\n",
    "        \n",
    "        block = AugmentMetaInputIdsTfm.apply(block, f'{meta_name}_meta', 'data', 128, True)\n",
    "        block = AugmentMetaInputIdsTfm.apply(block, f'{meta_name}_meta', 'lbl', 128, True)\n",
    "        \n",
    "        block.train.dset.data.data_info['input_ids'] = block.train.dset.data.data_info[f'input_ids_aug_{meta_name}']\n",
    "        block.train.dset.data.data_info['attention_mask'] = block.train.dset.data.data_info[f'attention_mask_aug_{meta_name}']\n",
    "        block.test.dset.data.data_info['input_ids'] = block.test.dset.data.data_info[f'input_ids_aug_{meta_name}']\n",
    "        block.test.dset.data.data_info['attention_mask'] = block.test.dset.data.data_info[f'attention_mask_aug_{meta_name}']\n",
    "        \n",
    "        block.train.dset.data.lbl_info['input_ids'] = block.train.dset.data.lbl_info[f'input_ids_aug_{meta_name}']\n",
    "        block.train.dset.data.lbl_info['attention_mask'] = block.train.dset.data.lbl_info[f'attention_mask_aug_{meta_name}']\n",
    "        block.test.dset.data.lbl_info['input_ids'] = block.test.dset.data.lbl_info[f'input_ids_aug_{meta_name}']\n",
    "        block.test.dset.data.lbl_info['attention_mask'] = block.test.dset.data.lbl_info[f'attention_mask_aug_{meta_name}']\n",
    "        \n",
    "        block.train.dset.meta = {}\n",
    "        block.test.dset.meta = {}\n",
    "    \n",
    "        joblib.dump(block, aug_file)\n",
    "\n",
    "    args = XCLearningArguments(\n",
    "        output_dir=output_dir,\n",
    "        logging_first_step=True,\n",
    "        per_device_train_batch_size=800,\n",
    "        per_device_eval_batch_size=800,\n",
    "        representation_num_beams=200,\n",
    "        representation_accumulation_steps=10,\n",
    "        save_strategy=\"steps\",\n",
    "        evaluation_strategy=\"steps\",\n",
    "        eval_steps=5000,\n",
    "        save_steps=5000,\n",
    "        save_total_limit=5,\n",
    "        num_train_epochs=300,\n",
    "        predict_with_representation=True,\n",
    "        representation_search_type='BRUTEFORCE',\n",
    "        adam_epsilon=1e-6,\n",
    "        warmup_steps=100,\n",
    "        weight_decay=0.01,\n",
    "        learning_rate=2e-4,\n",
    "    \n",
    "        group_by_cluster=True,\n",
    "        num_clustering_warmup_epochs=10,\n",
    "        num_cluster_update_epochs=5,\n",
    "        num_cluster_size_update_epochs=25,\n",
    "        clustering_type='EXPO',\n",
    "        minimum_cluster_size=2,\n",
    "        maximum_cluster_size=1600,\n",
    "    \n",
    "        metric_for_best_model='P@1',\n",
    "        load_best_model_at_end=True,\n",
    "        target_indices_key='plbl2data_idx',\n",
    "        target_pointer_key='plbl2data_data2ptr',\n",
    "    \n",
    "        use_encoder_parallel=True,\n",
    "        max_grad_norm=None,\n",
    "        fp16=True,\n",
    "    )\n",
    "\n",
    "    def model_fn(mname, bsz):\n",
    "        model = DBT009.from_pretrained(mname, bsz=bsz, tn_targ=5000, margin=0.3, tau=0.1, n_negatives=10, \n",
    "                                       apply_softmax=True, use_encoder_parallel=True)\n",
    "        return model\n",
    "    \n",
    "    def init_fn(model): \n",
    "        model.init_dr_head()\n",
    "\n",
    "    metric = PrecReclMrr(block.n_lbl, block.test.data_lbl_filterer, prop=block.train.dset.data.data_lbl,\n",
    "                         pk=10, rk=200, rep_pk=[1, 3, 5, 10], rep_rk=[10, 100, 200], mk=[5, 10, 20])\n",
    "    \n",
    "    bsz = max(args.per_device_train_batch_size, args.per_device_eval_batch_size)*torch.cuda.device_count()\n",
    "\n",
    "    model = load_model(args.output_dir, model_fn, {\"mname\": mname, \"bsz\": bsz}, init_fn, do_inference=do_inference, use_pretrained=input_args.use_pretrained)\n",
    "    \n",
    "    learn = XCLearner(\n",
    "        model=model,\n",
    "        args=args,\n",
    "        train_dataset=block.train.dset,\n",
    "        eval_dataset=block.test.dset,\n",
    "        data_collator=block.collator,\n",
    "        compute_metrics=metric,\n",
    "    )\n",
    "    \n",
    "    main(learn, input_args, n_lbl=block.n_lbl)\n",
    "    "
   ]
  },
  {
   "cell_type": "markdown",
   "id": "5aec2609-84bc-4a61-a479-b1f1895ba538",
   "metadata": {},
   "source": [
    "## Read `metrics`"
   ]
  },
  {
   "cell_type": "code",
   "execution_count": null,
   "id": "6f3b9c16-d3d7-4b31-b36a-4f3ff8588307",
   "metadata": {},
   "outputs": [],
   "source": [
    "import re, json"
   ]
  },
  {
   "cell_type": "code",
   "execution_count": null,
   "id": "cf790d4c-7772-4401-a0cc-e9be78355c60",
   "metadata": {},
   "outputs": [],
   "source": [
    "def get_final_metrics(data_dir):\n",
    "    n = sorted([int(re.match('checkpoint-([0-9]+)', o)[1]) for o in os.listdir(data_dir) if re.match('checkpoint-([0-9]+)', o)])[-1]\n",
    "    fname = f'{data_dir}/checkpoint-{n}/trainer_state.json'\n",
    "    with open(fname, 'r') as file:\n",
    "        o = json.load(file)\n",
    "    return o['log_history'][-1]\n",
    "    "
   ]
  },
  {
   "cell_type": "code",
   "execution_count": null,
   "id": "08d72770-3f5d-473b-91fb-ce15296912db",
   "metadata": {},
   "outputs": [],
   "source": [
    "data_dir = '/scratch/scai/phd/aiz218323/outputs/xc_nlg/59-ngame-ep-for-wikiseealso-with-cls-for-dr-1-0'"
   ]
  },
  {
   "cell_type": "code",
   "execution_count": null,
   "id": "c79dd832-9afc-4b99-9e0e-243764e7bcd9",
   "metadata": {},
   "outputs": [],
   "source": [
    "m = get_final_metrics(data_dir)"
   ]
  },
  {
   "cell_type": "code",
   "execution_count": null,
   "id": "b955ec42-bbaa-49a1-9536-146f93c19e99",
   "metadata": {},
   "outputs": [
    {
     "name": "stdout",
     "output_type": "stream",
     "text": [
      "{'epoch': 299.75, 'eval_N@1': 0.2811931371688843, 'eval_N@10': 0.305633008480072, 'eval_N@3': 0.27837005257606506, 'eval_N@5': 0.288026362657547, 'eval_P@1': 0.28119313860800493, 'eval_P@10': 0.08950116891539515, 'eval_P@3': 0.1854265836689001, 'eval_P@5': 0.1404906627610357, 'eval_PSN@1': 0.22329913079738617, 'eval_PSN@10': 0.277752548456192, 'eval_PSN@3': 0.24290567636489868, 'eval_PSN@5': 0.25792253017425537, 'eval_PSP@1': 0.2232991317061862, 'eval_PSP@10': 0.2956864365825952, 'eval_PSP@3': 0.2380596453758926, 'eval_PSP@5': 0.2567473875108354, 'eval_R@10': 0.35008126181385435, 'eval_R@100': 0.486271804271777, 'eval_R@200': 0.5183622893570436, 'eval_loss': 0.027890954166650772, 'eval_runtime': 77.3773, 'eval_samples_per_second': 2294.15, 'eval_steps_per_second': 1.641, 'step': 119000}\n"
     ]
    }
   ],
   "source": [
    "print(m)"
   ]
  },
  {
   "cell_type": "code",
   "execution_count": null,
   "id": "be597e41-e7de-4830-ac16-d6c4bad97973",
   "metadata": {},
   "outputs": [],
   "source": []
  }
 ],
 "metadata": {
  "kernelspec": {
   "display_name": "Python 3 (ipykernel)",
   "language": "python",
   "name": "python3"
  },
  "language_info": {
   "codemirror_mode": {
    "name": "ipython",
    "version": 3
   },
   "file_extension": ".py",
   "mimetype": "text/x-python",
   "name": "python",
   "nbconvert_exporter": "python",
   "pygments_lexer": "ipython3",
   "version": "3.13.2"
  }
 },
 "nbformat": 4,
 "nbformat_minor": 5
}
