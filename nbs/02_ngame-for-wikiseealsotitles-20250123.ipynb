{
 "cells": [
  {
   "cell_type": "code",
   "execution_count": null,
   "id": "d60b51bd-0144-4139-8be5-7602bad6a9c8",
   "metadata": {},
   "outputs": [],
   "source": [
    "#| default_exp 02_ngame-for-wikiseealsotitles-20250123"
   ]
  },
  {
   "cell_type": "code",
   "execution_count": null,
   "id": "afd42460-e893-40e0-a8c3-3ef5195f6e68",
   "metadata": {},
   "outputs": [],
   "source": [
    "%reload_ext autoreload\n",
    "%autoreload 2"
   ]
  },
  {
   "cell_type": "code",
   "execution_count": null,
   "id": "65e00e5c-ff88-425d-a828-7ca5d02215ab",
   "metadata": {},
   "outputs": [],
   "source": [
    "from nbdev.showdoc import *\n",
    "import nbdev; nbdev.nbdev_export()"
   ]
  },
  {
   "cell_type": "code",
   "execution_count": null,
   "id": "874750be-c904-447e-8754-3eefcb9586d6",
   "metadata": {},
   "outputs": [],
   "source": [
    "#| export\n",
    "import os,torch,json, torch.multiprocessing as mp, joblib, numpy as np, scipy.sparse as sp\n",
    "\n",
    "from xcai.basics import *\n",
    "from xcai.models.PPP0XX import DBT009,DBT011"
   ]
  },
  {
   "cell_type": "code",
   "execution_count": null,
   "id": "1dd23053-8908-4615-a47f-96b2039b0cff",
   "metadata": {},
   "outputs": [],
   "source": [
    "os.environ['WANDB_MODE'] = 'disabled'"
   ]
  },
  {
   "cell_type": "code",
   "execution_count": null,
   "id": "44292259-cc09-4bd0-96f3-08206b948924",
   "metadata": {},
   "outputs": [],
   "source": [
    "#| export\n",
    "os.environ['CUDA_VISIBLE_DEVICES'] = '0,1'\n",
    "os.environ['WANDB_PROJECT'] = 'mogicX_01-wikiseealsotitles'"
   ]
  },
  {
   "cell_type": "markdown",
   "id": "26f9b501-e911-42b1-bac1-f2a1137ff1c9",
   "metadata": {},
   "source": [
    "## Setup"
   ]
  },
  {
   "cell_type": "code",
   "execution_count": null,
   "id": "fa819b08-afb0-48f3-8314-dcbd6ed99bc2",
   "metadata": {},
   "outputs": [],
   "source": [
    "output_dir = '/scratch/scai/phd/aiz218323/outputs/mogicX/02_ngame-for-wikiseealsotitles-20250123'\n",
    "\n",
    "config_file = '/home/scai/phd/aiz218323/scratch/datasets/benchmarks/20250123-LF-WikiSeeAlsoTitles-320K/configs/data.json'\n",
    "config_key = 'data'\n",
    "\n",
    "mname = 'sentence-transformers/msmarco-distilbert-dot-v5'"
   ]
  },
  {
   "cell_type": "code",
   "execution_count": null,
   "id": "6e47a0d4-29ba-4740-8795-47081c1ba2f9",
   "metadata": {},
   "outputs": [],
   "source": [
    "output_dir = '/scratch/scai/phd/aiz218323/outputs/mogicX/02_ngame-for-wikiseealsotitles-20250123'\n",
    "\n",
    "config_file = '/home/scai/phd/aiz218323/scratch/datasets/wikipedia/20250123/LF-WikiSeeAlsoTitles-320K/configs/data_category_old-combined-new.json'\n",
    "config_key = 'data_category_old-combined-new'\n",
    "\n",
    "mname = 'sentence-transformers/msmarco-distilbert-dot-v5'"
   ]
  },
  {
   "cell_type": "code",
   "execution_count": null,
   "id": "7a898acc-baad-46ae-bad3-890323097197",
   "metadata": {},
   "outputs": [],
   "source": []
  },
  {
   "cell_type": "code",
   "execution_count": null,
   "id": "5a47f6a6-879f-4e1d-8b4a-488f37fbe1f2",
   "metadata": {},
   "outputs": [],
   "source": [
    "do_train_inference = True\n",
    "do_test_inference = True\n",
    "\n",
    "save_train_inference = False\n",
    "save_test_inference = False\n",
    "\n",
    "save_representation = False\n",
    "\n",
    "use_sxc_sampler, only_test = True, False\n",
    "\n",
    "pkl_dir = '/scratch/scai/phd/aiz218323/datasets/processed/'"
   ]
  },
  {
   "cell_type": "code",
   "execution_count": null,
   "id": "c8a3501e-b119-4e10-b061-2452b80dbdc0",
   "metadata": {},
   "outputs": [],
   "source": []
  },
  {
   "cell_type": "code",
   "execution_count": null,
   "id": "aee61a88-a01c-49ac-9817-b13c724a0b59",
   "metadata": {},
   "outputs": [],
   "source": [
    "pkl_file = f'{pkl_dir}/mogicX/wikiseealsotitles-20250123_data_distilbert-base-uncased'\n",
    "pkl_file = f'{pkl_file}_sxc' if use_sxc_sampler else f'{pkl_file}_xcs'\n",
    "if only_test: pkl_file = f'{pkl_file}_only-test'\n",
    "pkl_file = f'{pkl_file}.joblib'"
   ]
  },
  {
   "cell_type": "code",
   "execution_count": null,
   "id": "5f3106af-e658-4c53-ace6-56346ebe0db9",
   "metadata": {},
   "outputs": [],
   "source": [
    "pkl_file = f'{pkl_dir}/mogicX/wikiseealsotitles-20250123_data-category-old-combined-new_distilbert-base-uncased'\n",
    "pkl_file = f'{pkl_file}_sxc' if use_sxc_sampler else f'{pkl_file}_xcs'\n",
    "if only_test: pkl_file = f'{pkl_file}_only-test'\n",
    "pkl_file = f'{pkl_file}.joblib'"
   ]
  },
  {
   "cell_type": "code",
   "execution_count": null,
   "id": "f1a31089-9ecc-4941-82f0-f5f9a563e3af",
   "metadata": {},
   "outputs": [],
   "source": []
  },
  {
   "cell_type": "code",
   "execution_count": null,
   "id": "10a20c26-636d-4a7f-a934-65743d548894",
   "metadata": {},
   "outputs": [],
   "source": [
    "do_inference = do_train_inference or do_test_inference or save_train_inference or save_test_inference or save_representation"
   ]
  },
  {
   "cell_type": "code",
   "execution_count": null,
   "id": "b0ed6a86-42c7-4e8d-a711-bfc08b69db45",
   "metadata": {},
   "outputs": [
    {
     "data": {
      "text/plain": [
       "'/scratch/scai/phd/aiz218323/datasets/processed//mogicX/wikiseealsotitles-20250123_data-category-old-combined-new_distilbert-base-uncased_sxc.joblib'"
      ]
     },
     "execution_count": null,
     "metadata": {},
     "output_type": "execute_result"
    }
   ],
   "source": [
    "pkl_file"
   ]
  },
  {
   "cell_type": "code",
   "execution_count": null,
   "id": "d7beb2f2-820e-470b-9bbe-85da7be3e4ef",
   "metadata": {},
   "outputs": [],
   "source": []
  },
  {
   "cell_type": "code",
   "execution_count": null,
   "id": "ed603495-d70e-4830-846f-2081b81c3150",
   "metadata": {},
   "outputs": [
    {
     "name": "stdout",
     "output_type": "stream",
     "text": [
      "CPU times: user 8min 31s, sys: 1min 27s, total: 9min 59s\n",
      "Wall time: 6min 9s\n"
     ]
    }
   ],
   "source": [
    "%%time\n",
    "os.makedirs(os.path.dirname(pkl_file), exist_ok=True)\n",
    "block = build_block(pkl_file, config_file, use_sxc_sampler, config_key, do_build=True)"
   ]
  },
  {
   "cell_type": "code",
   "execution_count": null,
   "id": "c5a4b7be-e869-46d7-8a5a-e52f8d8b4968",
   "metadata": {},
   "outputs": [],
   "source": []
  },
  {
   "cell_type": "code",
   "execution_count": null,
   "id": "eeae07b2-1d49-4143-bd5b-acc23999cddd",
   "metadata": {},
   "outputs": [
    {
     "name": "stderr",
     "output_type": "stream",
     "text": [
      "huggingface/tokenizers: The current process just got forked, after parallelism has already been used. Disabling parallelism to avoid deadlocks...\n",
      "To disable this warning, you can either:\n",
      "\t- Avoid using `tokenizers` before the fork if possible\n",
      "\t- Explicitly set the environment variable TOKENIZERS_PARALLELISM=(true | false)\n",
      "huggingface/tokenizers: The current process just got forked, after parallelism has already been used. Disabling parallelism to avoid deadlocks...\n",
      "To disable this warning, you can either:\n",
      "\t- Avoid using `tokenizers` before the fork if possible\n",
      "\t- Explicitly set the environment variable TOKENIZERS_PARALLELISM=(true | false)\n",
      "comet_ml version 3.39.1 is installed, but version 3.43.2 or higher is required. Please update comet_ml to the latest version to enable Comet logging with pip install 'comet-ml>=3.43.2'.\n"
     ]
    }
   ],
   "source": [
    "args = XCLearningArguments(\n",
    "    output_dir=output_dir,\n",
    "    logging_first_step=True,\n",
    "    per_device_train_batch_size=800,\n",
    "    per_device_eval_batch_size=800,\n",
    "    representation_num_beams=200,\n",
    "    representation_accumulation_steps=10,\n",
    "    save_strategy=\"steps\",\n",
    "    eval_strategy=\"steps\",\n",
    "    eval_steps=10,\n",
    "    save_steps=10,\n",
    "    save_total_limit=5,\n",
    "    num_train_epochs=300,\n",
    "    predict_with_representation=True,\n",
    "    representation_search_type='BRUTEFORCE',\n",
    "    adam_epsilon=1e-6,                                                                                                                                          warmup_steps=100,\n",
    "    weight_decay=0.01,\n",
    "    learning_rate=2e-5,\n",
    "\n",
    "    group_by_cluster=True,\n",
    "    num_clustering_warmup_epochs=10,\n",
    "    num_cluster_update_epochs=5,\n",
    "    num_cluster_size_update_epochs=25,\n",
    "    clustering_type='EXPO',\n",
    "    minimum_cluster_size=2,\n",
    "    maximum_cluster_size=1600,\n",
    "\n",
    "    metric_for_best_model='P@1',\n",
    "    load_best_model_at_end=True,\n",
    "    target_indices_key='plbl2data_idx',\n",
    "    target_pointer_key='plbl2data_data2ptr',\n",
    "\n",
    "    use_encoder_parallel=True,\n",
    "    max_grad_norm=None,\n",
    "    fp16=True,\n",
    ")"
   ]
  },
  {
   "cell_type": "code",
   "execution_count": null,
   "id": "dd744581-0643-458d-8dcb-bb7cf4431501",
   "metadata": {},
   "outputs": [],
   "source": []
  },
  {
   "cell_type": "code",
   "execution_count": null,
   "id": "20b25d7e-7c0e-43ee-b906-37f393857709",
   "metadata": {},
   "outputs": [],
   "source": [
    "metric = PrecReclMrr(block.n_lbl, block.test.data_lbl_filterer, prop=block.train.dset.data.data_lbl,\n",
    "                     pk=10, rk=200, rep_pk=[1, 3, 5, 10], rep_rk=[10, 100, 200], mk=[5, 10, 20])"
   ]
  },
  {
   "cell_type": "code",
   "execution_count": null,
   "id": "8bb89849-8f84-4196-b0b0-b659d021b3cd",
   "metadata": {},
   "outputs": [],
   "source": [
    "def model_fn(mname, bsz):\n",
    "    model = DBT009.from_pretrained(mname, bsz=bsz, tn_targ=5000, margin=0.3, tau=0.1, n_negatives=10, \n",
    "                                   apply_softmax=True, use_encoder_parallel=True)\n",
    "    return model\n",
    "\n",
    "def init_fn(model): \n",
    "    model.init_dr_head()"
   ]
  },
  {
   "cell_type": "code",
   "execution_count": null,
   "id": "ecdd0a95-4238-4a42-aad6-11f39c4bbb64",
   "metadata": {},
   "outputs": [
    {
     "name": "stderr",
     "output_type": "stream",
     "text": [
      "Some weights of DBT009 were not initialized from the model checkpoint at sentence-transformers/msmarco-distilbert-dot-v5 and are newly initialized: ['encoder.dr_layer_norm.bias', 'encoder.dr_layer_norm.weight', 'encoder.dr_projector.bias', 'encoder.dr_projector.weight', 'encoder.dr_transform.bias', 'encoder.dr_transform.weight']\n",
      "You should probably TRAIN this model on a down-stream task to be able to use it for predictions and inference.\n"
     ]
    }
   ],
   "source": [
    "bsz = max(args.per_device_train_batch_size, args.per_device_eval_batch_size)*torch.cuda.device_count()\n",
    "\n",
    "model = load_model(args.output_dir, model_fn, {\"mname\": mname, \"bsz\": bsz}, init_fn, do_inference=do_inference, use_pretrained=True)"
   ]
  },
  {
   "cell_type": "code",
   "execution_count": null,
   "id": "270bc2d4-5f99-4fee-8e84-7bf6ee22115e",
   "metadata": {},
   "outputs": [],
   "source": [
    "learn = XCLearner(\n",
    "    model=model,\n",
    "    args=args,\n",
    "    train_dataset=block.train.dset,\n",
    "    eval_dataset=block.test.dset,\n",
    "    data_collator=block.collator,\n",
    "    compute_metrics=metric,\n",
    ")\n",
    "\n",
    "main(learn, input_args, n_lbl=block.n_lbl)"
   ]
  },
  {
   "cell_type": "markdown",
   "id": "653ee19c-38b0-48e4-8613-54b8d447cccf",
   "metadata": {},
   "source": [
    "## Driver"
   ]
  },
  {
   "cell_type": "code",
   "execution_count": null,
   "id": "bd67be8d-d2b0-40d2-a772-8d068ad99a3b",
   "metadata": {},
   "outputs": [],
   "source": [
    "#| export\n",
    "if __name__ == '__main__':\n",
    "    output_dir = '/scratch/scai/phd/aiz218323/outputs/mogicX/02_ngame-for-wikiseealsotitles-20250123'\n",
    "\n",
    "    config_file = '/home/scai/phd/aiz218323/scratch/datasets/benchmarks/20250123-LF-WikiSeeAlsoTitles-320K/configs/data.json'\n",
    "    config_key = 'data'\n",
    "    \n",
    "    mname = 'sentence-transformers/msmarco-distilbert-dot-v5'\n",
    "\n",
    "    input_args = parse_args()\n",
    "\n",
    "    pkl_file = f'{input_args.pickle_dir}/mogicX/wikiseealsotitles-20250123_data_distilbert-base-uncased'\n",
    "    pkl_file = f'{pkl_file}_sxc' if input_args.use_sxc_sampler else f'{pkl_file}_xcs'\n",
    "    if input_args.only_test: pkl_file = f'{pkl_file}_only-test'\n",
    "    pkl_file = f'{pkl_file}.joblib'\n",
    "\n",
    "    do_inference = input_args.do_train_inference or input_args.do_test_inference or input_args.save_train_prediction or input_args.save_test_prediction or input_args.save_representation\n",
    "\n",
    "    os.makedirs(os.path.dirname(pkl_file), exist_ok=True)\n",
    "    block = build_block(pkl_file, config_file, input_args.use_sxc_sampler, config_key, do_build=input_args.build_block, only_test=input_args.only_test)\n",
    "\n",
    "    args = XCLearningArguments(\n",
    "        output_dir=output_dir,\n",
    "        logging_first_step=True,\n",
    "        per_device_train_batch_size=800,\n",
    "        per_device_eval_batch_size=800,\n",
    "        representation_num_beams=200,\n",
    "        representation_accumulation_steps=10,\n",
    "        save_strategy=\"steps\",\n",
    "        evaluation_strategy=\"steps\",\n",
    "        eval_steps=5000,\n",
    "        save_steps=5000,\n",
    "        save_total_limit=5,\n",
    "        num_train_epochs=300,\n",
    "        predict_with_representation=True,\n",
    "        representation_search_type='BRUTEFORCE',\n",
    "        adam_epsilon=1e-6,                                                                                                                                          warmup_steps=100,\n",
    "        weight_decay=0.01,\n",
    "        learning_rate=2e-4,\n",
    "    \n",
    "        group_by_cluster=True,\n",
    "        num_clustering_warmup_epochs=10,\n",
    "        num_cluster_update_epochs=5,\n",
    "        num_cluster_size_update_epochs=25,\n",
    "        clustering_type='EXPO',\n",
    "        minimum_cluster_size=2,\n",
    "        maximum_cluster_size=1600,\n",
    "    \n",
    "        metric_for_best_model='P@1',\n",
    "        load_best_model_at_end=True,\n",
    "        target_indices_key='plbl2data_idx',\n",
    "        target_pointer_key='plbl2data_data2ptr',\n",
    "    \n",
    "        use_encoder_parallel=True,\n",
    "        max_grad_norm=None,\n",
    "        fp16=True,\n",
    "    )\n",
    "\n",
    "    def model_fn(mname, bsz):\n",
    "        model = DBT009.from_pretrained(mname, bsz=bsz, tn_targ=5000, margin=0.3, tau=0.1, n_negatives=10, \n",
    "                                       apply_softmax=True, use_encoder_parallel=True)\n",
    "        return model\n",
    "    \n",
    "    def init_fn(model): \n",
    "        model.init_dr_head()\n",
    "\n",
    "    metric = PrecReclMrr(block.n_lbl, block.test.data_lbl_filterer, prop=block.train.dset.data.data_lbl,\n",
    "                         pk=10, rk=200, rep_pk=[1, 3, 5, 10], rep_rk=[10, 100, 200], mk=[5, 10, 20])\n",
    "    \n",
    "    bsz = max(args.per_device_train_batch_size, args.per_device_eval_batch_size)*torch.cuda.device_count()\n",
    "\n",
    "    model = load_model(args.output_dir, model_fn, {\"mname\": mname, \"bsz\": bsz}, init_fn, do_inference=do_inference, use_pretrained=input_args.use_pretrained)\n",
    "    \n",
    "    learn = XCLearner(\n",
    "        model=model,\n",
    "        args=args,\n",
    "        train_dataset=block.train.dset,\n",
    "        eval_dataset=block.test.dset,\n",
    "        data_collator=block.collator,\n",
    "        compute_metrics=metric,\n",
    "    )\n",
    "    \n",
    "    main(learn, input_args, n_lbl=block.n_lbl)\n",
    "    "
   ]
  },
  {
   "cell_type": "markdown",
   "id": "134f8845-b895-4704-8f14-9f55f5bfae14",
   "metadata": {},
   "source": [
    "## Analysis"
   ]
  },
  {
   "cell_type": "code",
   "execution_count": null,
   "id": "15ba366f-6415-4622-aac0-77aee5625906",
   "metadata": {},
   "outputs": [],
   "source": [
    "def get_pickle_filename(pkl_dir, pkl_file, use_sxc_sampler, only_test):\n",
    "    pkl_file = f'{pkl_dir}/{pkl_file}'\n",
    "    pkl_file = f'{pkl_file}_sxc' if use_sxc_sampler else f'{pkl_file}_xcs'\n",
    "    if only_test: pkl_file = f'{pkl_file}_only-test'\n",
    "    pkl_file = f'{pkl_file}.joblib'\n",
    "    return pkl_file\n",
    "    "
   ]
  },
  {
   "cell_type": "code",
   "execution_count": null,
   "id": "48102951-0399-4066-960c-2d9742501529",
   "metadata": {},
   "outputs": [],
   "source": [
    "from xcai.analysis import *"
   ]
  },
  {
   "cell_type": "code",
   "execution_count": null,
   "id": "44e2ea3d-0533-4bcd-94b2-67bed560052d",
   "metadata": {},
   "outputs": [],
   "source": [
    "use_sxc_sampler, only_test = True, False"
   ]
  },
  {
   "cell_type": "code",
   "execution_count": null,
   "id": "4d410109-6b8b-4fd4-809f-45af0969e592",
   "metadata": {},
   "outputs": [],
   "source": [
    "pkl_dir = '/scratch/scai/phd/aiz218323/datasets/processed/mogicX/'\n",
    "\n",
    "pkl_file_1 = get_pickle_filename(pkl_dir, 'wikiseealsotitles_data_distilbert-base-uncased', use_sxc_sampler, only_test)\n",
    "pkl_file_2 = get_pickle_filename(pkl_dir, 'wikiseealsotitles-20250123_data-category-old-combined-new_distilbert-base-uncased', use_sxc_sampler, only_test)"
   ]
  },
  {
   "cell_type": "code",
   "execution_count": null,
   "id": "15e4be4e-1e88-4a2e-958e-12ba7cf9deb9",
   "metadata": {},
   "outputs": [],
   "source": []
  },
  {
   "cell_type": "code",
   "execution_count": null,
   "id": "ca00f12c-1f0a-4b3b-bf48-5af1f362be6a",
   "metadata": {},
   "outputs": [],
   "source": [
    "pred_dir = '/home/scai/phd/aiz218323/scratch/outputs/mogicX/02_ngame-for-wikiseealsotitles-20250123-001/predictions'\n",
    "\n",
    "pred_1, block_1 = load_prediction_and_block(pkl_file_1, 'wikiseealsotitles', 'data', f'{pred_dir}/test_predictions_wikiseealsotitles_data_distilbert-base-uncased.npz', \n",
    "                                            use_sxc_sampler)\n",
    "\n",
    "pred_2, block_2 = load_prediction_and_block(pkl_file_2, '/home/scai/phd/aiz218323/scratch/datasets/wikipedia/20250123/LF-WikiSeeAlsoTitles-320K/configs/data_category_old-combined-new.json', \n",
    "                                            'data_category_old-combined-new', f'{pred_dir}/test_predictions_wikiseealsotitles-20250123_data-category-old-combined-new_distilbert-base-uncased.npz',\n",
    "                                            use_sxc_sampler)\n",
    "\n",
    "pred_block_1 = TextDataset(PredictionBlock(block_1.test.dset, pred_1))\n",
    "pred_block_2 = TextDataset(PredictionBlock(block_2.test.dset, pred_2))"
   ]
  },
  {
   "cell_type": "code",
   "execution_count": null,
   "id": "3f909dd5-fb7a-4676-b830-4d8808bc874a",
   "metadata": {},
   "outputs": [],
   "source": []
  },
  {
   "cell_type": "code",
   "execution_count": null,
   "id": "2c4ba71a-0bf1-4d55-a765-cc39d5075e66",
   "metadata": {},
   "outputs": [],
   "source": [
    "idxs = Indices.metric(pred_block_1.dset, pred_block_2.dset, topk=1000)"
   ]
  },
  {
   "cell_type": "code",
   "execution_count": null,
   "id": "b888ed49-bbf4-4293-a552-361f11dba421",
   "metadata": {},
   "outputs": [
    {
     "name": "stdout",
     "output_type": "stream",
     "text": [
      "\u001b[5m\u001b[7m\u001b[95m1. data_input_text\u001b[0m \u001b[95m: Frisian Water Line\u001b[0m\n",
      "\u001b[5m\u001b[7m\u001b[95m2. data_input_text\u001b[0m \u001b[95m: Frisian Waterline\u001b[0m\n",
      "\u001b[5m\u001b[7m\u001b[33m1. lbl2data_input_text\u001b[0m \u001b[33m: ['Old / New Dutch Waterline', 'Grebbe line', 'IJssel Line', 'Maas Line', 'Peel-Raam Line', 'Defence lines of the Netherlands']\u001b[0m\n",
      "\u001b[5m\u001b[7m\u001b[33m2. lbl2data_input_text\u001b[0m \u001b[33m: ['Peel-Raam Line', 'Grebbe Line', 'Defence lines of the Netherlands', 'Maas Line', 'Grebbe line', 'IJssel Line', 'Dutch Water Line', 'Old / New Dutch Waterline']\u001b[0m\n",
      "\u001b[5m\u001b[7m\u001b[92m1. pred2data_input_text\u001b[0m \u001b[92m: ['Defence lines of the Netherlands', 'Peel-Raam Line', 'Old / New Dutch Waterline', 'IJssel Line', 'Grebbe line', 'North Frisian Barrier Island', 'North Frisia', 'Maas Line', 'Defence Line of Amsterdam', 'East Frisia']\u001b[0m\n",
      "\u001b[5m\u001b[7m\u001b[92m2. pred2data_input_text\u001b[0m \u001b[92m: ['North Frisia', 'North Frisian Barrier Island', 'East Frisia', 'Frisian Islands', 'East Frisian Islands', 'Frisia', 'North Frisia (disambiguation)', 'North Frisians', 'East Frisian Low Saxon', 'West Frisians']\u001b[0m\n",
      "\n",
      "\u001b[5m\u001b[7m\u001b[95m1. data_input_text\u001b[0m \u001b[95m: Franco-Belgian comics\u001b[0m\n",
      "\u001b[5m\u001b[7m\u001b[95m2. data_input_text\u001b[0m \u001b[95m: Bande dessinée\u001b[0m\n",
      "\u001b[5m\u001b[7m\u001b[33m1. lbl2data_input_text\u001b[0m \u001b[33m: ['List of comic creators', 'Belgian comics', 'European comics', 'Franco-Belgian publishing houses', 'List of comic books', 'List of films based on French-language comics', 'List of Franco-Belgian comic series']\u001b[0m\n",
      "\u001b[5m\u001b[7m\u001b[33m2. lbl2data_input_text\u001b[0m \u001b[33m: ['List of comics creators', 'List of films based on French-language comics', 'List of Franco-Belgian comics series', 'List of comic books', 'Belgian comics', 'European comics', 'Franco-Belgian comics publishing houses']\u001b[0m\n",
      "\u001b[5m\u001b[7m\u001b[92m1. pred2data_input_text\u001b[0m \u001b[92m: ['Belgian comics', 'List of Franco-Belgian comic series', 'Quebec comics', 'List of films based on French-language comics', 'European comics', 'Quebec comic strips', 'AngoulÃ\\x83Âªme International Comics Festival', 'Italian comics', 'Canadian comics', 'QuÃ\\x83Â©bec comics']\u001b[0m\n",
      "\u001b[5m\u001b[7m\u001b[92m2. pred2data_input_text\u001b[0m \u001b[92m: ['Bande dessinée', 'Bande dessinÃ\\x83Â©e', 'Bandes dessinées', 'Colonel Pessian', 'Ahmad Band', 'Mussar movement', 'Action Française', 'Tomb of the Unknown Soldier in Lebanon', 'Lebanese Resistance Regiments', 'Tomb of the Unknown Soldier (Lebanon)']\u001b[0m\n",
      "\n",
      "\u001b[5m\u001b[7m\u001b[95m1. data_input_text\u001b[0m \u001b[95m: South Central USD 300\u001b[0m\n",
      "\u001b[5m\u001b[7m\u001b[95m2. data_input_text\u001b[0m \u001b[95m: Comanche County USD 300\u001b[0m\n",
      "\u001b[5m\u001b[7m\u001b[33m1. lbl2data_input_text\u001b[0m \u001b[33m: ['List of unified school districts in Kansas', 'Kansas State Department of Education', 'Kansas State High School Activities Association', 'List of high schools in Kansas']\u001b[0m\n",
      "\u001b[5m\u001b[7m\u001b[33m2. lbl2data_input_text\u001b[0m \u001b[33m: ['Kansas State High School Activities Association', 'List of high schools in Kansas', 'List of unified school districts in Kansas', 'Kansas State Department of Education']\u001b[0m\n",
      "\u001b[5m\u001b[7m\u001b[92m1. pred2data_input_text\u001b[0m \u001b[92m: ['Lebo-Waverly USD 243', 'List of unified school districts in Kansas', 'List of high schools in Kansas', 'Kansas State High School Activities Association', 'Kansas State Department of Education', 'List of defunct colleges and universities in Kansas', 'List of colleges and universities in Kansas', 'Blue Valley West High School', 'Blue Valley High School', 'Blue Valley Southwest High School']\u001b[0m\n",
      "\u001b[5m\u001b[7m\u001b[92m2. pred2data_input_text\u001b[0m \u001b[92m: ['Lebo-Waverly USD 243', 'Lebo–Waverly USD 243', 'Blue Valley USD 229', 'Olathe USD 233', 'Auburn–Washburn USD 437', 'Goddard USD 265', 'List of unified school districts in Kansas', 'List of high schools in Kansas', 'Kansas State High School Activities Association', 'Goddard High School (Kansas)']\u001b[0m\n",
      "\n",
      "\u001b[5m\u001b[7m\u001b[95m1. data_input_text\u001b[0m \u001b[95m: Garnett USD 365\u001b[0m\n",
      "\u001b[5m\u001b[7m\u001b[95m2. data_input_text\u001b[0m \u001b[95m: Garnett USD 365\u001b[0m\n",
      "\u001b[5m\u001b[7m\u001b[33m1. lbl2data_input_text\u001b[0m \u001b[33m: ['List of unified school districts in Kansas', 'Kansas State Department of Education', 'Kansas State High School Activities Association', 'List of high schools in Kansas']\u001b[0m\n",
      "\u001b[5m\u001b[7m\u001b[33m2. lbl2data_input_text\u001b[0m \u001b[33m: ['Kansas State High School Activities Association', 'List of high schools in Kansas', 'List of unified school districts in Kansas', 'Kansas State Department of Education']\u001b[0m\n",
      "\u001b[5m\u001b[7m\u001b[92m1. pred2data_input_text\u001b[0m \u001b[92m: ['Lebo-Waverly USD 243', 'List of unified school districts in Kansas', 'List of high schools in Kansas', 'Kansas State High School Activities Association', 'Kansas State Department of Education', 'List of colleges and universities in Kansas', 'List of defunct colleges and universities in Kansas', 'Blue Valley West High School', 'Blue Valley High School', 'Education in Kansas']\u001b[0m\n",
      "\u001b[5m\u001b[7m\u001b[92m2. pred2data_input_text\u001b[0m \u001b[92m: ['Lebo–Waverly USD 243', 'Lebo-Waverly USD 243', 'Blue Valley USD 229', 'Auburn–Washburn USD 437', 'Olathe USD 233', 'List of unified school districts in Kansas', 'List of high schools in Kansas', 'Goddard USD 265', 'Kansas State High School Activities Association', 'Kansas State Department of Education']\u001b[0m\n",
      "\n",
      "\u001b[5m\u001b[7m\u001b[95m1. data_input_text\u001b[0m \u001b[95m: Romani people in Morocco\u001b[0m\n",
      "\u001b[5m\u001b[7m\u001b[95m2. data_input_text\u001b[0m \u001b[95m: Romani people in Morocco\u001b[0m\n",
      "\u001b[5m\u001b[7m\u001b[33m1. lbl2data_input_text\u001b[0m \u001b[33m: ['Romani people in Egypt', 'Romani people in Syria', 'Romani people in Iraq', 'Nawar people', 'Romani people in Libya']\u001b[0m\n",
      "\u001b[5m\u001b[7m\u001b[33m2. lbl2data_input_text\u001b[0m \u001b[33m: ['Doms in Iraq', 'Doms in Egypt', 'Doms in Syria', 'Doms in Libya']\u001b[0m\n",
      "\u001b[5m\u001b[7m\u001b[92m1. pred2data_input_text\u001b[0m \u001b[92m: ['Romani people in Libya', 'Romani people in Egypt', 'Romani people in Syria', 'Romani people in Iraq', 'Moroccans', 'Romani people by country', 'Demographics of Morocco', 'Moors', 'Pied-noir', 'Pied-Noir']\u001b[0m\n",
      "\u001b[5m\u001b[7m\u001b[92m2. pred2data_input_text\u001b[0m \u001b[92m: ['Romani people in Libya', 'Romani people in Egypt', 'Romani people in Syria', 'Romani people in Iraq', 'Moroccans', 'Romani people by country', 'Demographics of Morocco', 'European Moroccans', 'Moors', 'Romani people in Portugal']\u001b[0m\n",
      "\n",
      "\u001b[5m\u001b[7m\u001b[95m1. data_input_text\u001b[0m \u001b[95m: Precision (computer science)\u001b[0m\n",
      "\u001b[5m\u001b[7m\u001b[95m2. data_input_text\u001b[0m \u001b[95m: Precision (computer science)\u001b[0m\n",
      "\u001b[5m\u001b[7m\u001b[33m1. lbl2data_input_text\u001b[0m \u001b[33m: ['Integer (computer science)', 'Significant figures', 'Truncation', 'Arbitrary-precision arithmetic', 'Extended precision', 'Approximate computing']\u001b[0m\n",
      "\u001b[5m\u001b[7m\u001b[33m2. lbl2data_input_text\u001b[0m \u001b[33m: ['Integer (computer science)', 'Significant figures', 'Arbitrary-precision arithmetic', 'Truncation', 'Approximate computing', 'Extended precision']\u001b[0m\n",
      "\u001b[5m\u001b[7m\u001b[92m1. pred2data_input_text\u001b[0m \u001b[92m: ['Accuracy and precision', 'Integer (computer science)', 'Significant figures', 'Extended precision', 'Arbitrary-precision arithmetic', 'Half-precision floating-point format', 'Floating-point arithmetic', 'Precision engineering', 'Karlsruhe Accurate Arithmetic', 'Fixed-point arithmetic']\u001b[0m\n",
      "\u001b[5m\u001b[7m\u001b[92m2. pred2data_input_text\u001b[0m \u001b[92m: ['Precision (computer science)', 'False precision', 'Precision (statistics)', 'Precision (arithmetic)', 'Accuracy and precision', 'Integer (computer science)', 'Norma Precision', 'Significant digits', 'Significant figures', 'Quadruple precision']\u001b[0m\n",
      "\n",
      "\u001b[5m\u001b[7m\u001b[95m1. data_input_text\u001b[0m \u001b[95m: Spain in the Eurovision Dance Contest\u001b[0m\n",
      "\u001b[5m\u001b[7m\u001b[95m2. data_input_text\u001b[0m \u001b[95m: Eurovision Dance Contest\u001b[0m\n",
      "\u001b[5m\u001b[7m\u001b[33m1. lbl2data_input_text\u001b[0m \u001b[33m: ['Spain in the Eurovision Song Contest', 'Spain in the Junior Eurovision Song Contest', 'Spain in the Eurovision Young Dancers', 'Spain in the Eurovision Young Musicians']\u001b[0m\n",
      "\u001b[5m\u001b[7m\u001b[33m2. lbl2data_input_text\u001b[0m \u001b[33m: ['Spain in the Eurovision Young Dancers', 'Spain in the Eurovision Song Contest', 'Spain in the Junior Eurovision Song Contest', 'Spain in the Eurovision Young Musicians']\u001b[0m\n",
      "\u001b[5m\u001b[7m\u001b[92m1. pred2data_input_text\u001b[0m \u001b[92m: ['Spain in the Eurovision Young Dancers', 'Spain in the Eurovision Young Musicians', 'Spain in the Eurovision Song Contest', 'Spain in the Junior Eurovision Song Contest', 'OrganizaciÃ\\x83Â³n de Telecomunicaciones de IberoamÃ\\x83Â©rica', 'Spain in the Eurovision Song Contest 2008', 'Portugal in the Eurovision Young Dancers', 'Portugal in the Eurovision Young Musicians', 'Portugal in the Eurovision Song Contest', 'Portugal in the Junior Eurovision Song Contest']\u001b[0m\n",
      "\u001b[5m\u001b[7m\u001b[92m2. pred2data_input_text\u001b[0m \u001b[92m: ['Eurovision Dance Contest', 'Eurovision Young Dancers', 'Eurovision Song Contest', 'Junior Eurovision Song Contest', 'List of countries in the Eurovision Young Dancers', 'List of countries in the Eurovision Song Contest', 'Eurovision: Europe Shine a Light', 'Eurovision Young Musicians', 'List of countries in Eurovision Choir', 'List of countries in the Junior Eurovision Song Contest']\u001b[0m\n",
      "\n",
      "\u001b[5m\u001b[7m\u001b[95m1. data_input_text\u001b[0m \u001b[95m: CJK characters\u001b[0m\n",
      "\u001b[5m\u001b[7m\u001b[95m2. data_input_text\u001b[0m \u001b[95m: CJK characters\u001b[0m\n",
      "\u001b[5m\u001b[7m\u001b[33m1. lbl2data_input_text\u001b[0m \u001b[33m: ['List of CJK fonts', 'Korean language and computers', 'Chinese character encoding', 'Chinese input methods for computers', 'Input method editor', 'Chinese character description languages', 'CJK strokes', 'CJK Unified Ideographs', 'Sinoxenic', 'Variable-width encoding']\u001b[0m\n",
      "\u001b[5m\u001b[7m\u001b[33m2. lbl2data_input_text\u001b[0m \u001b[33m: ['Chinese input methods for computers', 'List of CJK fonts', 'Variable-width encoding', 'Chinese character encoding', 'Input method editor', 'Vietnamese language and computers', 'Japanese language and computers', 'Sino-Xenic vocabularies', 'Korean language and computers', 'CJK Unified Ideographs', 'Chinese character description languages', 'CJK Compatibility Ideographs', 'Chinese input method', 'Chinese character strokes']\u001b[0m\n",
      "\u001b[5m\u001b[7m\u001b[92m1. pred2data_input_text\u001b[0m \u001b[92m: ['CJK strokes', 'CJK Unified Ideographs', 'List of CJK fonts', 'CJK', 'Chinese character encoding', 'Chinese input methods for computers', 'Chinese character', 'Chinese characters description languages', 'Chinese character description languages', 'Han unification']\u001b[0m\n",
      "\u001b[5m\u001b[7m\u001b[92m2. pred2data_input_text\u001b[0m \u001b[92m: ['CJK characters', 'CJK Symbols and Punctuation', 'CJK Compatibility', 'CJK Compatibility Ideographs Supplement', 'CJK strokes', 'CJK Compatibility Ideographs', 'CJK Unified Ideographs', 'List of CJK fonts', 'Chinese character encoding', 'Stroke (CJK character)']\u001b[0m\n",
      "\n",
      "\u001b[5m\u001b[7m\u001b[95m1. data_input_text\u001b[0m \u001b[95m: Motorways of Pakistan\u001b[0m\n",
      "\u001b[5m\u001b[7m\u001b[95m2. data_input_text\u001b[0m \u001b[95m: Motorways of Pakistan\u001b[0m\n",
      "\u001b[5m\u001b[7m\u001b[33m1. lbl2data_input_text\u001b[0m \u001b[33m: ['National Highways of Pakistan', 'Transport in Pakistan', 'Speed limits in Pakistan', 'Expressways of Pakistan']\u001b[0m\n",
      "\u001b[5m\u001b[7m\u001b[33m2. lbl2data_input_text\u001b[0m \u001b[33m: ['Transport in Pakistan', 'National Highways of Pakistan', 'Speed limits in Pakistan', 'Expressways of Pakistan', 'National Highway Authority', 'Belt and Road Initiative', 'National highways of Pakistan']\u001b[0m\n",
      "\u001b[5m\u001b[7m\u001b[92m1. pred2data_input_text\u001b[0m \u001b[92m: ['National Highways of Pakistan', 'Expressways of Pakistan', 'Speed limits in Pakistan', 'Transport in Pakistan', 'Transportation in Pakistan', 'Roads in Pakistan', 'Karachi Northern Bypass', 'List of flyovers in Pakistan', 'Islamabad Highway', 'Provincial Highways of Punjab']\u001b[0m\n",
      "\u001b[5m\u001b[7m\u001b[92m2. pred2data_input_text\u001b[0m \u001b[92m: ['Motorways of Pakistan', 'M-9 motorway (Pakistan)', 'M-10 motorway (Pakistan)', 'M9 motorway (Pakistan)', 'Motorway M10 Pakistan', 'National Highways of Pakistan', 'National highways of Pakistan', 'National Highway Authority of Pakistan', 'National Highways Authority of Pakistan', 'Expressways of Pakistan']\u001b[0m\n",
      "\n",
      "\u001b[5m\u001b[7m\u001b[95m1. data_input_text\u001b[0m \u001b[95m: Lectionary 297\u001b[0m\n",
      "\u001b[5m\u001b[7m\u001b[95m2. data_input_text\u001b[0m \u001b[95m: Lectionary 297\u001b[0m\n",
      "\u001b[5m\u001b[7m\u001b[33m1. lbl2data_input_text\u001b[0m \u001b[33m: ['Biblical manuscript', 'Textual criticism', 'Lectionary 172', 'List of New Testament lectionaries']\u001b[0m\n",
      "\u001b[5m\u001b[7m\u001b[33m2. lbl2data_input_text\u001b[0m \u001b[33m: ['List of New Testament lectionaries', 'Biblical manuscript', 'Textual criticism', 'Lectionary 172']\u001b[0m\n",
      "\u001b[5m\u001b[7m\u001b[92m1. pred2data_input_text\u001b[0m \u001b[92m: ['List of New Testament lectionaries', 'Lectionary 172', 'Biblical manuscript', 'Textual criticism', 'Lectionary 190', 'British Library, Add. 14449', 'Lectionary 245', 'Lectionary 248', 'Lectionary 317', 'Lectionary 275']\u001b[0m\n",
      "\u001b[5m\u001b[7m\u001b[92m2. pred2data_input_text\u001b[0m \u001b[92m: ['Lectionary 297', 'Lectionary 254', 'Lectionary 98', 'Lectionary 334', 'Lectionary 327', 'Lectionary 294', 'List of New Testament lectionaries', 'Lectionary 295', 'Lectionary 264', 'Lectionary 172']\u001b[0m\n",
      "\n"
     ]
    }
   ],
   "source": [
    "cmp = CompareDataset(pred_block_1, pred_block_2)\n",
    "cmp.show(idxs=idxs[:10], k=25)"
   ]
  },
  {
   "cell_type": "code",
   "execution_count": null,
   "id": "b701003b-c1bc-4e2d-b683-6561a2660c83",
   "metadata": {},
   "outputs": [],
   "source": []
  },
  {
   "cell_type": "code",
   "execution_count": null,
   "id": "d9e4930d-11d8-41f1-b154-b86874d9c81f",
   "metadata": {},
   "outputs": [],
   "source": []
  },
  {
   "cell_type": "code",
   "execution_count": null,
   "id": "321abfac-cd75-429b-bd31-8dc30e01b547",
   "metadata": {},
   "outputs": [],
   "source": [
    "import os\n",
    "\n",
    "save_dir = '/home/scai/phd/aiz218323/scratch/outputs/mogicX/02_ngame-for-wikiseealsotitles-20250123-001/examples'\n",
    "os.makedirs(save_dir, exist_ok=True)"
   ]
  },
  {
   "cell_type": "code",
   "execution_count": null,
   "id": "4e970001-b260-4846-9343-a6791e7d1ccf",
   "metadata": {},
   "outputs": [],
   "source": [
    "fname = f'{save_dir}/wikiseealsotitles-V-wikiseealsotitles-20250123_data-category-old-combined-new_distilbert-base-uncased.txt'"
   ]
  },
  {
   "cell_type": "code",
   "execution_count": null,
   "id": "10850e9c-175b-4ce6-93f0-1b31a0ead1fa",
   "metadata": {},
   "outputs": [],
   "source": [
    "cmp.dump_txt(fname, idxs=idxs)"
   ]
  },
  {
   "cell_type": "code",
   "execution_count": null,
   "id": "3ec2efdc-2eb4-4def-a2fe-f3d642fb4d4a",
   "metadata": {},
   "outputs": [],
   "source": []
  }
 ],
 "metadata": {
  "kernelspec": {
   "display_name": "python3",
   "language": "python",
   "name": "python3"
  }
 },
 "nbformat": 4,
 "nbformat_minor": 5
}
