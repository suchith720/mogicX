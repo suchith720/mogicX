{
 "cells": [
  {
   "cell_type": "code",
   "execution_count": 1,
   "id": "2ab1cb8b-9f7b-4331-89d1-06106057bb7f",
   "metadata": {},
   "outputs": [],
   "source": [
    "#| default_exp 39_oak-for-msmarco-with-hard-negatives"
   ]
  },
  {
   "cell_type": "code",
   "execution_count": 2,
   "id": "08e78830-af00-49c7-bd96-62f92232755f",
   "metadata": {},
   "outputs": [],
   "source": [
    "%reload_ext autoreload\n",
    "%autoreload 2"
   ]
  },
  {
   "cell_type": "code",
   "execution_count": 3,
   "id": "62bd7ce4-0e7a-4f39-b425-ea2f57fe8415",
   "metadata": {},
   "outputs": [],
   "source": [
    "from nbdev.showdoc import *\n",
    "import nbdev; nbdev.nbdev_export()"
   ]
  },
  {
   "cell_type": "code",
   "execution_count": 4,
   "id": "3bd807bd-0309-446f-b64e-5422653feffb",
   "metadata": {},
   "outputs": [],
   "source": [
    "#| export\n",
    "import os,torch,json, torch.multiprocessing as mp, joblib, numpy as np, scipy.sparse as sp\n",
    "from transformers import DistilBertConfig\n",
    "\n",
    "from xcai.main import *\n",
    "from xcai.basics import *\n",
    "from xcai.clustering.cluster import get_cluster_size\n",
    "\n",
    "from xcai.models.oak import OAK015"
   ]
  },
  {
   "cell_type": "code",
   "execution_count": 5,
   "id": "9d2bb7cf-b478-4e07-a315-6734de4539bb",
   "metadata": {},
   "outputs": [],
   "source": [
    "os.environ['WANDB_MODE'] = 'disabled'"
   ]
  },
  {
   "cell_type": "code",
   "execution_count": 6,
   "id": "97b89c37-98a4-43c1-9f6d-2c3fdf6e63f7",
   "metadata": {},
   "outputs": [],
   "source": [
    "#| export\n",
    "os.environ['CUDA_VISIBLE_DEVICES'] = '0,1'\n",
    "os.environ['WANDB_PROJECT'] = 'mogicX_00-msmarco'"
   ]
  },
  {
   "cell_type": "markdown",
   "id": "e0c2218d-c0ac-4b56-82c7-07cd0e9e6d8f",
   "metadata": {},
   "source": [
    "## Setup"
   ]
  },
  {
   "cell_type": "code",
   "execution_count": 7,
   "id": "296d3c5b-a84e-48f5-842d-ff3db16234cb",
   "metadata": {},
   "outputs": [],
   "source": [
    "from xcai.config import WIKISEEALSOTITLES"
   ]
  },
  {
   "cell_type": "code",
   "execution_count": 7,
   "id": "195c3795-6860-4e7f-8ad7-965317a8b156",
   "metadata": {},
   "outputs": [],
   "source": [
    "data_dir = '/Users/suchith720/Projects/data/'\n",
    "\n",
    "config_key = \"data_meta\"\n",
    "config_dir = \"/Users/suchith720/Projects/mogicX/configs\""
   ]
  },
  {
   "cell_type": "code",
   "execution_count": null,
   "id": "68d0c484-d45f-4664-9c41-e064e7edd0f7",
   "metadata": {},
   "outputs": [],
   "source": [
    "config = WIKISEEALSOTITLES(data_dir)[config_key]\n",
    "\n",
    "lnk_meta = {\n",
    "    'prefix': 'lnk',\n",
    "    'data_meta': '/Users/suchith720/Projects/data//(mapped)LF-WikiSeeAlsoTitles-320K/category_renee_trn_X_Y.npz',\n",
    "    'lbl_meta': '/Users/suchith720/Projects/data//(mapped)LF-WikiSeeAlsoTitles-320K/category_renee_lbl_X_Y.npz',\n",
    "    'meta_info': '/Users/suchith720/Projects/data//(mapped)LF-WikiSeeAlsoTitles-320K/raw_data/category.raw.txt'\n",
    "}\n",
    "config[\"path\"][\"train\"][\"lnk_meta\"] = lnk_meta\n",
    "\n",
    "with open(f\"{config_dir}/39_oak-for-msmarco-with-hard-negatives_test.json\", 'w') as file:\n",
    "    json.dump({'data_meta': config}, file, indent=4)"
   ]
  },
  {
   "cell_type": "code",
   "execution_count": 8,
   "id": "53f9bfc3-9d6c-4aa4-972f-ebff32c85c47",
   "metadata": {},
   "outputs": [],
   "source": [
    "config_file = f\"{config_dir}/39_oak-for-msmarco-with-hard-negatives_test.json\""
   ]
  },
  {
   "cell_type": "code",
   "execution_count": null,
   "id": "d5f1fc69-67cd-4334-8e90-c4c011fe2ae0",
   "metadata": {
    "scrolled": true
   },
   "outputs": [],
   "source": []
  },
  {
   "cell_type": "code",
   "execution_count": 9,
   "id": "1c14432e-cc81-483a-b87c-5b451c0a216b",
   "metadata": {},
   "outputs": [],
   "source": [
    "pkl_dir = f\"{data_dir}/processed/mogicX\"\n",
    "pkl_file = get_pkl_file(pkl_dir, 'wikiseealsotitles_data-oak-for-msmarco-with-hard-negatives-test_distilbert-base-uncased', \n",
    "                        True, False, False)"
   ]
  },
  {
   "cell_type": "code",
   "execution_count": null,
   "id": "6257fef4-14a8-4fbf-936a-80e8768675ac",
   "metadata": {},
   "outputs": [],
   "source": []
  },
  {
   "cell_type": "code",
   "execution_count": 62,
   "id": "ca698b16-48cf-4a6d-81b2-0c2512e5b64a",
   "metadata": {},
   "outputs": [
    {
     "name": "stdout",
     "output_type": "stream",
     "text": [
      "CPU times: user 1min 6s, sys: 11.1 s, total: 1min 17s\n",
      "Wall time: 1min 25s\n"
     ]
    }
   ],
   "source": [
    "%%time\n",
    "block = build_block(pkl_file, config_file, True, config_key=config_key, only_test=False, main_oversample=True, \n",
    "                    meta_oversample={\"cat_meta\":False, \"lnk_meta\":True}, n_slbl_samples=5, \n",
    "                    n_sdata_meta_samples={\"cat_meta\":2, \"lnk_meta\":4}, do_build=False, \n",
    "                    train_meta_topk={\"lnk_meta\":10}, test_meta_topk={\"lnk_meta\":10}, return_scores=True)\n"
   ]
  },
  {
   "cell_type": "code",
   "execution_count": null,
   "id": "ddfba263-d4b6-471c-9b66-9d6b31c52b54",
   "metadata": {
    "scrolled": true
   },
   "outputs": [],
   "source": []
  },
  {
   "cell_type": "code",
   "execution_count": 63,
   "id": "706acb79-ab69-49a9-a517-7e8c5005230f",
   "metadata": {},
   "outputs": [],
   "source": [
    "batch = block.train.dset.__getitems__([10, 20])"
   ]
  },
  {
   "cell_type": "code",
   "execution_count": 64,
   "id": "9c5b91d7-3b46-4df4-9dec-05027e381f15",
   "metadata": {
    "scrolled": true
   },
   "outputs": [
    {
     "data": {
      "text/plain": [
       "['Austroasiatic languages', 'Albania']"
      ]
     },
     "execution_count": 64,
     "metadata": {},
     "output_type": "execute_result"
    }
   ],
   "source": [
    "batch['data_input_text']"
   ]
  },
  {
   "cell_type": "code",
   "execution_count": 65,
   "id": "2e6bbe7c-2461-4a50-88a0-47435cc4f1a9",
   "metadata": {},
   "outputs": [
    {
     "data": {
      "text/plain": [
       "tensor([5, 5])"
      ]
     },
     "execution_count": 65,
     "metadata": {},
     "output_type": "execute_result"
    }
   ],
   "source": [
    "batch['lbl2data_data2ptr']"
   ]
  },
  {
   "cell_type": "code",
   "execution_count": 67,
   "id": "34755b69-49b4-4b5b-9ed4-609e0ae2b51e",
   "metadata": {},
   "outputs": [
    {
     "data": {
      "text/plain": [
       "['Austroasiatic languages',\n",
       " 'Austric languages',\n",
       " 'Austric languages',\n",
       " 'Austric languages',\n",
       " 'Austric languages',\n",
       " 'Index of Albania-related articles',\n",
       " 'Albania',\n",
       " 'Index of Albania-related articles',\n",
       " 'Albania',\n",
       " 'Index of Albania-related articles']"
      ]
     },
     "execution_count": 67,
     "metadata": {},
     "output_type": "execute_result"
    }
   ],
   "source": [
    "batch['lbl2data_input_text']"
   ]
  },
  {
   "cell_type": "code",
   "execution_count": null,
   "id": "fe803039-1d20-4af6-a487-7e08f8451b65",
   "metadata": {},
   "outputs": [],
   "source": []
  },
  {
   "cell_type": "code",
   "execution_count": 55,
   "id": "c08d7001-fa63-4b1f-bda5-d148b137827c",
   "metadata": {},
   "outputs": [
    {
     "data": {
      "text/plain": [
       "(np.float64(4.8924975688302395), np.float64(2.0))"
      ]
     },
     "execution_count": 55,
     "metadata": {},
     "output_type": "execute_result"
    }
   ],
   "source": [
    "block.train.dset.meta['cat_meta'].data_meta.getnnz(axis=1).mean(), block.train.dset.meta['lnk_meta'].data_meta.getnnz(axis=1).mean()"
   ]
  },
  {
   "cell_type": "code",
   "execution_count": 43,
   "id": "5f07719e-5cd4-4472-8189-f41d7143b895",
   "metadata": {},
   "outputs": [
    {
     "data": {
      "text/plain": [
       "(False, False)"
      ]
     },
     "execution_count": 43,
     "metadata": {},
     "output_type": "execute_result"
    }
   ],
   "source": [
    "block.train.dset.meta['cat_meta'].meta_oversample, block.train.dset.meta['lnk_meta'].meta_oversample"
   ]
  },
  {
   "cell_type": "code",
   "execution_count": 44,
   "id": "0c678f3e-c125-43e2-a5ed-0684e0076924",
   "metadata": {},
   "outputs": [
    {
     "data": {
      "text/plain": [
       "(10, 20)"
      ]
     },
     "execution_count": 44,
     "metadata": {},
     "output_type": "execute_result"
    }
   ],
   "source": [
    "block.train.dset.meta['cat_meta'].n_sdata_meta_samples, block.train.dset.meta['lnk_meta'].n_sdata_meta_samples"
   ]
  },
  {
   "cell_type": "code",
   "execution_count": 45,
   "id": "9ac0fa42-01de-46cd-95cc-a2d4597c66b4",
   "metadata": {},
   "outputs": [
    {
     "data": {
      "text/plain": [
       "tensor([ 4, 10])"
      ]
     },
     "execution_count": 45,
     "metadata": {},
     "output_type": "execute_result"
    }
   ],
   "source": [
    "batch['cat2data_data2ptr']"
   ]
  },
  {
   "cell_type": "code",
   "execution_count": 46,
   "id": "5a6091bc-c28e-4f4b-8910-7ea87bc6aac7",
   "metadata": {},
   "outputs": [
    {
     "data": {
      "text/plain": [
       "tensor([10, 10])"
      ]
     },
     "execution_count": 46,
     "metadata": {},
     "output_type": "execute_result"
    }
   ],
   "source": [
    "batch['lnk2data_data2ptr']"
   ]
  },
  {
   "cell_type": "markdown",
   "id": "171cc5e1-8b74-42eb-ae74-e1e7da774f9d",
   "metadata": {},
   "source": [
    "## Metadata clusters"
   ]
  },
  {
   "cell_type": "code",
   "execution_count": 12,
   "id": "9a2bafb8-bd33-4dab-b87b-e1961e337d3a",
   "metadata": {
    "scrolled": true
   },
   "outputs": [],
   "source": [
    "metadata_idx2cluster, meta_repr, num_meta_cluster = get_cluster_mapping(cluster_sz=3, mname='distilbert-base-uncased', \n",
    "                                                                        meta_info=block.train.dset.meta['cat_meta'].meta_info, \n",
    "                                                                        collator=block.collator, normalize=True, use_layer_norm=True)\n"
   ]
  },
  {
   "cell_type": "markdown",
   "id": "54a8315c-d928-4cc8-8261-f0ca917b9bdc",
   "metadata": {},
   "source": [
    "## Driver"
   ]
  },
  {
   "cell_type": "code",
   "execution_count": null,
   "id": "474c15a0-1a5a-46b6-8aa3-da8e52f1c8a4",
   "metadata": {},
   "outputs": [],
   "source": [
    "#| export\n",
    "if __name__ == '__main__':\n",
    "    output_dir = '/scratch/scai/phd/aiz218323/outputs/mogicX/39_oak-for-msmarco-with-hard-negatives'\n",
    "    \n",
    "    input_args = parse_args()\n",
    "\n",
    "    if input_args.exact:\n",
    "        config_file = '/home/scai/phd/aiz218323/scratch/datasets/msmarco/XC/configs/oak-for-msmarco-with-hard-negatives.json'\n",
    "        config_key = 'data'\n",
    "    else:\n",
    "        raise NotImplementedError('Create a configuration file for using all the labels.')\n",
    "    \n",
    "    mname, meta_name = 'distilbert-base-uncased', 'lnk'\n",
    "    meta_embed_init_file = None\n",
    "\n",
    "    pkl_file = get_pkl_file(input_args.pickle_dir, 'msmarco_data-oak-for-msmarco-with-hard-negatives_distilbert-base-uncased', input_args.use_sxc_sampler, \n",
    "                            input_args.exact, input_args.only_test)\n",
    "\n",
    "    do_inference = input_args.do_train_inference or input_args.do_test_inference or input_args.save_train_prediction or input_args.save_test_prediction or input_args.save_representation\n",
    "\n",
    "    os.makedirs(os.path.dirname(pkl_file), exist_ok=True)\n",
    "    block = build_block(pkl_file, config_file, input_args.use_sxc_sampler, config_key, do_build=input_args.build_block, \n",
    "                        only_test=input_args.only_test, main_oversample=False, meta_oversample={'lnk_meta':False, 'neg_meta':True}, \n",
    "                        n_slbl_samples=1, n_sdata_meta_samples={'lnk_meta':5, 'neg_meta':10}, \n",
    "                        train_meta_topk={\"lnk_meta\":5}, test_meta_topk={\"lnk_meta\":5})\n",
    "\n",
    "    args = XCLearningArguments(\n",
    "        output_dir=output_dir,\n",
    "        logging_first_step=True,\n",
    "        per_device_train_batch_size=800,\n",
    "        per_device_eval_batch_size=800,\n",
    "        representation_num_beams=200,\n",
    "        representation_accumulation_steps=10,\n",
    "        save_strategy=\"steps\",\n",
    "        eval_strategy=\"steps\",\n",
    "        eval_steps=500,\n",
    "        save_steps=500,\n",
    "        save_total_limit=5,\n",
    "        num_train_epochs=30,\n",
    "        predict_with_representation=True,\n",
    "        adam_epsilon=1e-6,\n",
    "        warmup_steps=100,\n",
    "        weight_decay=0.01,\n",
    "        learning_rate=6e-6,\n",
    "        representation_search_type='BRUTEFORCE',\n",
    "    \n",
    "        output_representation_attribute='data_fused_repr',\n",
    "        label_representation_attribute='data_repr',\n",
    "        metadata_representation_attribute='data_repr',\n",
    "        data_augmentation_attribute='data_repr',\n",
    "        representation_attribute='data_fused_repr',\n",
    "        clustering_representation_attribute='data_fused_repr',\n",
    "\n",
    "        group_by_cluster=True,\n",
    "        num_clustering_warmup_epochs=10,\n",
    "        num_cluster_update_epochs=5,\n",
    "        num_cluster_size_update_epochs=25,\n",
    "        use_data_metadata_for_clustering=True,\n",
    "        clustering_type='EXPO',\n",
    "        minimum_cluster_size=2,\n",
    "        maximum_cluster_size=1600,\n",
    "\n",
    "        metric_for_best_model='P@1',\n",
    "        load_best_model_at_end=True,\n",
    "        target_indices_key='plbl2data_idx',\n",
    "        target_pointer_key='plbl2data_data2ptr',\n",
    "    \n",
    "        use_distributional_representation=False,\n",
    "        use_encoder_parallel=True,\n",
    "        max_grad_norm=None,\n",
    "        fp16=True,\n",
    "        \n",
    "        label_names=[f'{meta_name}2data_idx', f'{meta_name}2data_data2ptr'],\n",
    "        \n",
    "        prune_metadata=False,\n",
    "        num_metadata_prune_warmup_epochs=10,\n",
    "        num_metadata_prune_epochs=5,\n",
    "        metadata_prune_batch_size=2048,\n",
    "        prune_metadata_names=[f'{meta_name}_meta'],\n",
    "        use_data_metadata_for_pruning=True,\n",
    "    \n",
    "        predict_with_augmentation=False,\n",
    "        use_augmentation_index_representation=True,\n",
    "    \n",
    "        data_aug_meta_name=meta_name,\n",
    "        augmentation_num_beams=None,\n",
    "        data_aug_prefix=meta_name,\n",
    "        use_label_metadata=False,\n",
    "\n",
    "        data_meta_batch_size=2048,\n",
    "        augment_metadata=False,\n",
    "        num_metadata_augment_warmup_epochs=10,\n",
    "        num_metadata_augment_epochs=5,\n",
    "    \n",
    "        use_cpu_for_searching=True,\n",
    "        use_cpu_for_clustering=True,\n",
    "    )\n",
    "\n",
    "    def model_fn(mname):\n",
    "        model = OAK015.from_pretrained(mname, margin=0.3, num_negatives=10, tau=0.1, apply_softmax=True,\n",
    "                                       \n",
    "                                       data_aug_meta_prefix=f'{meta_name}2data', lbl2data_aug_meta_prefix=None,\n",
    "                                       neg2data_aug_meta_prefix=None,\n",
    "                                       \n",
    "                                       num_metadata=block.train.dset.meta[f'{meta_name}_meta'].n_meta, resize_length=5000,\n",
    "                                       \n",
    "                                       calib_margin=0.05, calib_num_negatives=10, calib_tau=0.1, calib_apply_softmax=False, \n",
    "                                       calib_loss_weight=0.1, use_calib_loss=True,\n",
    "        \n",
    "                                       use_query_loss=True,\n",
    "                                       \n",
    "                                       use_encoder_parallel=True, normalize=True)\n",
    "        return model\n",
    "        \n",
    "    def init_fn(model):\n",
    "        model.init_retrieval_head()\n",
    "        # model.init_cross_head()\n",
    "        model.init_meta_embeddings()\n",
    "\n",
    "        meta_embeddings = torch.tensor(np.load(meta_embed_init_file), dtype=torch.float32)\n",
    "        model.encoder.set_pretrained_meta_embeddings(meta_embeddings)\n",
    "        model.encoder.freeze_pretrained_meta_embeddings()\n",
    "\n",
    "    bsz = max(args.per_device_train_batch_size, args.per_device_eval_batch_size)*torch.cuda.device_count()\n",
    "    model = load_model(args.output_dir, model_fn, {\"mname\": mname, \"bsz\": bsz}, init_fn, do_inference=do_inference, use_pretrained=input_args.use_pretrained)\n",
    "    \n",
    "    metric = PrecReclMrr(block.n_lbl, block.test.data_lbl_filterer, prop=block.train.dset.data.data_lbl,\n",
    "                         pk=10, rk=200, rep_pk=[1, 3, 5, 10], rep_rk=[10, 100, 200], mk=[5, 10, 20])\n",
    "    \n",
    "    learn = XCLearner(\n",
    "        model=model,\n",
    "        args=args,\n",
    "        train_dataset=block.train.dset,\n",
    "        eval_dataset=block.test.dset,\n",
    "        data_collator=block.collator,\n",
    "        compute_metrics=metric,\n",
    "    )\n",
    "    \n",
    "    main(learn, input_args, n_lbl=block.n_lbl)\n",
    "    "
   ]
  }
 ],
 "metadata": {
  "kernelspec": {
   "display_name": "Python 3 (ipykernel)",
   "language": "python",
   "name": "python3"
  },
  "language_info": {
   "codemirror_mode": {
    "name": "ipython",
    "version": 3
   },
   "file_extension": ".py",
   "mimetype": "text/x-python",
   "name": "python",
   "nbconvert_exporter": "python",
   "pygments_lexer": "ipython3",
   "version": "3.13.2"
  }
 },
 "nbformat": 4,
 "nbformat_minor": 5
}
