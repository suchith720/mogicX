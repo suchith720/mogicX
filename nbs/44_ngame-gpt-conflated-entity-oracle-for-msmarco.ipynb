{
 "cells": [
  {
   "cell_type": "code",
   "execution_count": 40,
   "id": "d60b51bd-0144-4139-8be5-7602bad6a9c8",
   "metadata": {},
   "outputs": [],
   "source": [
    "#| default_exp 44_ngame-gpt-conflated-entity-oracle-for-msmarco"
   ]
  },
  {
   "cell_type": "code",
   "execution_count": 41,
   "id": "afd42460-e893-40e0-a8c3-3ef5195f6e68",
   "metadata": {},
   "outputs": [],
   "source": [
    "%reload_ext autoreload\n",
    "%autoreload 2"
   ]
  },
  {
   "cell_type": "code",
   "execution_count": 42,
   "id": "65e00e5c-ff88-425d-a828-7ca5d02215ab",
   "metadata": {},
   "outputs": [],
   "source": [
    "from nbdev.showdoc import *\n",
    "import nbdev; nbdev.nbdev_export()"
   ]
  },
  {
   "cell_type": "code",
   "execution_count": 43,
   "id": "874750be-c904-447e-8754-3eefcb9586d6",
   "metadata": {},
   "outputs": [],
   "source": [
    "#| export\n",
    "import os\n",
    "os.environ['CUDA_VISIBLE_DEVICES'] = '0,1'\n",
    "\n",
    "import torch,json, torch.multiprocessing as mp, joblib, numpy as np, scipy.sparse as sp\n",
    "\n",
    "from xcai.basics import *\n",
    "from xcai.models.PPP0XX import DBT009"
   ]
  },
  {
   "cell_type": "code",
   "execution_count": 44,
   "id": "1dd23053-8908-4615-a47f-96b2039b0cff",
   "metadata": {},
   "outputs": [],
   "source": [
    "os.environ['WANDB_MODE'] = 'disabled'"
   ]
  },
  {
   "cell_type": "code",
   "execution_count": 45,
   "id": "44292259-cc09-4bd0-96f3-08206b948924",
   "metadata": {},
   "outputs": [],
   "source": [
    "#| export\n",
    "os.environ['WANDB_PROJECT'] = 'mogicX_00-msmarco-07'"
   ]
  },
  {
   "cell_type": "markdown",
   "id": "78dbc92d-d3aa-4faf-b4ae-bc34fa0180e6",
   "metadata": {
    "jp-MarkdownHeadingCollapsed": true
   },
   "source": [
    "## Code"
   ]
  },
  {
   "cell_type": "code",
   "execution_count": 9,
   "id": "8895d596-129a-45e9-aa2d-da084d051b75",
   "metadata": {},
   "outputs": [],
   "source": [
    "pkl_dir = f\"{data_dir}/processed/mogicX\"\n",
    "pkl_file = get_pkl_file(pkl_dir, 'wikiseealsotitles_data-meta_distilbert-base-uncased', \n",
    "                        use_sxc_sampler=True, use_exact=False, use_only_test=False)"
   ]
  },
  {
   "cell_type": "code",
   "execution_count": 10,
   "id": "641ecb62-481c-41ea-bac4-4ec808a0d3a7",
   "metadata": {},
   "outputs": [
    {
     "data": {
      "text/plain": [
       "'/Users/suchith720/Projects/data//processed/mogicX/wikiseealsotitles_data-meta_distilbert-base-uncased_sxc.joblib'"
      ]
     },
     "execution_count": 10,
     "metadata": {},
     "output_type": "execute_result"
    }
   ],
   "source": [
    "pkl_file"
   ]
  },
  {
   "cell_type": "code",
   "execution_count": 11,
   "id": "2d1eb201-e5b0-4b4b-99f7-3636ff4cc4d0",
   "metadata": {},
   "outputs": [
    {
     "name": "stderr",
     "output_type": "stream",
     "text": [
      "/Users/suchith720/Projects/pyxclib/xclib/data/data_utils.py:263: UserWarning: Header mis-match from inferred shape!\n",
      "  warnings.warn(\"Header mis-match from inferred shape!\")\n"
     ]
    }
   ],
   "source": [
    "block = build_block(pkl_file, 'wikiseealsotitles', True, config_key=config_key, only_test=False, main_oversample=False, \n",
    "                    n_slbl_samples=1, do_build=True, data_dir=data_dir)"
   ]
  },
  {
   "cell_type": "code",
   "execution_count": 12,
   "id": "f060fa94-d632-46ef-a7d1-a49950ceb7d4",
   "metadata": {},
   "outputs": [
    {
     "data": {
      "text/plain": [
       "dict_keys(['identifier', 'input_text', 'input_ids', 'attention_mask'])"
      ]
     },
     "execution_count": 12,
     "metadata": {},
     "output_type": "execute_result"
    }
   ],
   "source": [
    "block.train.dset.data.data_info.keys()"
   ]
  },
  {
   "cell_type": "code",
   "execution_count": null,
   "id": "98a713ca-d4fe-47a5-915e-75b85fa5557a",
   "metadata": {},
   "outputs": [],
   "source": []
  },
  {
   "cell_type": "code",
   "execution_count": 18,
   "id": "e546df3a-63e1-4608-bf71-8c06ed19340e",
   "metadata": {},
   "outputs": [
    {
     "data": {
      "text/plain": [
       "'[CLS] alt codes [SEP] [PAD] [PAD] [PAD] [PAD] [PAD] [PAD] [PAD] [PAD] [PAD] [PAD] [PAD] [PAD] [PAD] [PAD] [PAD] [PAD] [PAD] [PAD] [PAD] [PAD] [PAD] [PAD] [PAD] [PAD] [PAD] [PAD] [PAD] [PAD]'"
      ]
     },
     "execution_count": 18,
     "metadata": {},
     "output_type": "execute_result"
    }
   ],
   "source": [
    "from transformers import AutoTokenizer\n",
    "tokz = AutoTokenizer.from_pretrained('distilbert-base-uncased')\n",
    "\n",
    "tokz.decode(block.train.dset.data.lbl_info['input_ids'][100])"
   ]
  },
  {
   "cell_type": "code",
   "execution_count": null,
   "id": "3abc3298-bdb8-4fb3-a57b-8e3b1c19c231",
   "metadata": {},
   "outputs": [],
   "source": []
  },
  {
   "cell_type": "code",
   "execution_count": 20,
   "id": "98c1b13d-89e1-4ac1-94ef-ccdd945fb053",
   "metadata": {},
   "outputs": [],
   "source": [
    "import inspect\n",
    "from tqdm.auto import tqdm\n",
    "from typing import Union, Dict, List, Optional, Callable\n",
    "\n",
    "from xcai.core import Info, load_config\n",
    "from xcai.block import CFGS\n",
    "from xcai.data import XCDataset\n",
    "from xcai.sdata import SXCDataset"
   ]
  },
  {
   "cell_type": "code",
   "execution_count": null,
   "id": "4cef139a-9ff7-4516-afc5-a611c5f5dc87",
   "metadata": {},
   "outputs": [],
   "source": []
  },
  {
   "cell_type": "code",
   "execution_count": 21,
   "id": "0abf3b66-5b32-4b73-9240-d8f4735ddbb3",
   "metadata": {},
   "outputs": [],
   "source": [
    "def get_config(config:Union[str, Dict], config_key:Optional[str]=None, data_dir:Optional[str]=None, **kwargs):\n",
    "    if isinstance(config, str) and os.path.exists(config):\n",
    "        config = load_config(config, config_key)\n",
    "    elif isinstance(config, str):\n",
    "        config = CFGS[config](data_dir)[config_key]\n",
    "    else: raise ValueError(f'Invalid configuration: {config}')\n",
    "        \n",
    "    for k in config['parameters']:\n",
    "        if k in kwargs:config['parameters'][k]=kwargs.pop(k)\n",
    "    return config\n",
    "    "
   ]
  },
  {
   "cell_type": "code",
   "execution_count": 22,
   "id": "744cb9a7-dc63-4463-8238-a2228654a0f7",
   "metadata": {},
   "outputs": [],
   "source": [
    "def tokenize_info(info:Dict, config:Dict, max_sequence_length:int):\n",
    "    tokz, tokz_args = Info(), {p:config[p] for p in inspect.signature(Info.tokenize).parameters if p in config}\n",
    "    tokz.info = info\n",
    "    tokz.tokenize(**tokz_args, max_sequence_length=max_sequence_length)\n",
    "    "
   ]
  },
  {
   "cell_type": "code",
   "execution_count": 23,
   "id": "9d32568a-5f50-4fce-9f21-3a3afea06a0e",
   "metadata": {},
   "outputs": [],
   "source": [
    "def augment_metadata(dset:Union[XCDataset,SXCDataset], meta_name:str, config:Union[str, Dict], \n",
    "                     config_key:Optional[str]=None, data_dir:Optional[str]=None, \n",
    "                     prompt:Optional[Callable]=None, sep_tok:Optional[str]=\" :: \", **kwargs):\n",
    "    if prompt is None: prompt = lambda x:x\n",
    "        \n",
    "    text = [data_prompt(o) for o in dset.data_info['input_text']]\n",
    "    data_meta = dset.meta[meta_name].data_meta\n",
    "    meta_info = dset.meta[meta_name].meta_info\n",
    "\n",
    "    aug_text = []\n",
    "    for p,q,txt in tqdm(zip(data_meta.indptr, data_meta.indptr[1:], text), total=len(text)):\n",
    "        aug_text.append(txt + sep_tok.join([meta_info['input_text'][i] for i in data_meta.indices[p:q]]))\n",
    "\n",
    "    config = get_config(config, config_key=config_key, data_dir=data_dir)\n",
    "    dset.data.data_info = {'identifier': meta_info['identifier'], 'input_text': aug_text}\n",
    "    tokenize_info(dset.data.data_info, config['parameters'], \n",
    "                  max_sequence_length=config['parameters']['main_max_data_sequence_length'])\n",
    "    "
   ]
  },
  {
   "cell_type": "code",
   "execution_count": null,
   "id": "8b482f8c-af4a-441a-bafc-1efafc6aac1a",
   "metadata": {},
   "outputs": [],
   "source": []
  },
  {
   "cell_type": "code",
   "execution_count": 24,
   "id": "8989bdcc-ecaf-499f-9ed0-33fd7337626f",
   "metadata": {},
   "outputs": [],
   "source": [
    "def data_prompt(txt): return f\"{txt} <METADATA> \""
   ]
  },
  {
   "cell_type": "code",
   "execution_count": 25,
   "id": "80e44109-b27e-43f2-bae6-e9e6f78af501",
   "metadata": {},
   "outputs": [
    {
     "data": {
      "application/vnd.jupyter.widget-view+json": {
       "model_id": "397d1a2381234e858475756fa2b34bac",
       "version_major": 2,
       "version_minor": 0
      },
      "text/plain": [
       "  0%|          | 0/693082 [00:00<?, ?it/s]"
      ]
     },
     "metadata": {},
     "output_type": "display_data"
    }
   ],
   "source": [
    "augment_metadata(dset=block.train.dset, meta_name='cat_meta', config='wikiseealsotitles', config_key=config_key,\n",
    "                data_dir=data_dir, prompt=data_prompt)"
   ]
  },
  {
   "cell_type": "code",
   "execution_count": 26,
   "id": "b4f9b907-5f86-4a4a-a992-b9516dd59049",
   "metadata": {},
   "outputs": [
    {
     "data": {
      "application/vnd.jupyter.widget-view+json": {
       "model_id": "7b545a5c99a04c688fdd162044266ad9",
       "version_major": 2,
       "version_minor": 0
      },
      "text/plain": [
       "  0%|          | 0/177515 [00:00<?, ?it/s]"
      ]
     },
     "metadata": {},
     "output_type": "display_data"
    }
   ],
   "source": [
    "augment_metadata(dset=block.test.dset, meta_name='cat_meta', config='wikiseealsotitles', config_key=config_key,\n",
    "                data_dir=data_dir, prompt=data_prompt)"
   ]
  },
  {
   "cell_type": "code",
   "execution_count": 27,
   "id": "6b0b4acd-949d-4636-8bfc-eb60a0227b0b",
   "metadata": {},
   "outputs": [
    {
     "data": {
      "text/plain": [
       "dict_keys(['identifier', 'input_text', 'input_ids', 'attention_mask'])"
      ]
     },
     "execution_count": 27,
     "metadata": {},
     "output_type": "execute_result"
    }
   ],
   "source": [
    "block.train.dset.lbl_info.keys()"
   ]
  },
  {
   "cell_type": "code",
   "execution_count": null,
   "id": "79c96b8a-7872-4adb-8ad4-53ba03364c1b",
   "metadata": {},
   "outputs": [],
   "source": []
  },
  {
   "cell_type": "code",
   "execution_count": 127,
   "id": "7047258b-7acd-44a9-a2ac-af2c408def47",
   "metadata": {},
   "outputs": [
    {
     "data": {
      "text/plain": [
       "(dict_keys(['identifier', 'input_text', 'input_ids', 'attention_mask']),\n",
       " dict_keys(['identifier', 'input_text', 'input_ids', 'attention_mask']))"
      ]
     },
     "execution_count": 127,
     "metadata": {},
     "output_type": "execute_result"
    }
   ],
   "source": [
    "block.train.dset.data.data_info.keys(), block.test.dset.data.data_info.keys()"
   ]
  },
  {
   "cell_type": "code",
   "execution_count": 29,
   "id": "82b2e4d3-08a5-4f1b-bbaf-3e1730b6d61d",
   "metadata": {},
   "outputs": [
    {
     "data": {
      "text/plain": [
       "'[CLS] applet < metadata > technology neologisms : : java ( programming language ) libraries : : component - based software engineering [SEP] [PAD] [PAD] [PAD] [PAD] [PAD] [PAD]'"
      ]
     },
     "execution_count": 29,
     "metadata": {},
     "output_type": "execute_result"
    }
   ],
   "source": [
    "tokz.decode(block.train.dset.data.data_info['input_ids'][100])"
   ]
  },
  {
   "cell_type": "markdown",
   "id": "9786dedb-5167-4583-9a11-6991a30b47c7",
   "metadata": {},
   "source": [
    "## Setup"
   ]
  },
  {
   "cell_type": "code",
   "execution_count": 30,
   "id": "a917ab36-b6ab-4f84-b881-893d27f0b306",
   "metadata": {},
   "outputs": [],
   "source": [
    "pkl_dir = f\"{data_dir}/processed/mogicX\"\n",
    "pkl_file = get_pkl_file(pkl_dir, 'wikiseealsotitles_data-meta_distilbert-base-uncased', \n",
    "                        use_sxc_sampler=True, use_exact=False, use_only_test=False, use_oracle=True)"
   ]
  },
  {
   "cell_type": "code",
   "execution_count": null,
   "id": "077cb139-2385-4154-9cb9-5dd47f7f6412",
   "metadata": {},
   "outputs": [],
   "source": []
  },
  {
   "cell_type": "code",
   "execution_count": 33,
   "id": "55865b5a-4551-411d-a0e1-4453c3e733d1",
   "metadata": {},
   "outputs": [],
   "source": [
    "def data_prompt(txt): return f\"{txt} <METADATA> \""
   ]
  },
  {
   "cell_type": "code",
   "execution_count": 34,
   "id": "23ad3b4d-b061-420b-9c64-ea483b8efdfd",
   "metadata": {},
   "outputs": [
    {
     "name": "stderr",
     "output_type": "stream",
     "text": [
      "/Users/suchith720/Projects/pyxclib/xclib/data/data_utils.py:263: UserWarning: Header mis-match from inferred shape!\n",
      "  warnings.warn(\"Header mis-match from inferred shape!\")\n"
     ]
    },
    {
     "data": {
      "application/vnd.jupyter.widget-view+json": {
       "model_id": "fa4a51c412d141288205f5eb2c0b6339",
       "version_major": 2,
       "version_minor": 0
      },
      "text/plain": [
       "  0%|          | 0/693082 [00:00<?, ?it/s]"
      ]
     },
     "metadata": {},
     "output_type": "display_data"
    },
    {
     "data": {
      "application/vnd.jupyter.widget-view+json": {
       "model_id": "336781f829dd4a0c9d588179b3e3021a",
       "version_major": 2,
       "version_minor": 0
      },
      "text/plain": [
       "  0%|          | 0/177515 [00:00<?, ?it/s]"
      ]
     },
     "metadata": {},
     "output_type": "display_data"
    }
   ],
   "source": [
    "block = build_block(pkl_file, 'wikiseealsotitles', use_sxc=True, config_key=config_key, only_test=False, \n",
    "                    main_oversample=False, n_slbl_samples=1, do_build=True, data_dir=data_dir, \n",
    "                    use_oracle=True, meta_name=\"cat\", prompt=data_prompt)"
   ]
  },
  {
   "cell_type": "code",
   "execution_count": null,
   "id": "16b1edfd-29b1-4f51-81c5-e109e7870ae6",
   "metadata": {},
   "outputs": [],
   "source": []
  },
  {
   "cell_type": "code",
   "execution_count": 39,
   "id": "7057b645-f4d3-4047-bc48-f2ad241ba13a",
   "metadata": {},
   "outputs": [
    {
     "data": {
      "text/plain": [
       "'[CLS] 20th - century royal air force personnel [SEP] [PAD] [PAD] [PAD] [PAD] [PAD] [PAD] [PAD] [PAD] [PAD] [PAD] [PAD] [PAD] [PAD] [PAD] [PAD] [PAD] [PAD] [PAD] [PAD] [PAD]'"
      ]
     },
     "execution_count": 39,
     "metadata": {},
     "output_type": "execute_result"
    }
   ],
   "source": [
    "tokz.decode(block.train.dset.meta['cat_meta'].meta_info['input_ids'][100])"
   ]
  },
  {
   "cell_type": "code",
   "execution_count": null,
   "id": "bea03629-50f6-4b7a-bc81-26c37f7289e4",
   "metadata": {},
   "outputs": [],
   "source": []
  }
 ],
 "metadata": {
  "kernelspec": {
   "display_name": "Python 3 (ipykernel)",
   "language": "python",
   "name": "python3"
  },
  "language_info": {
   "codemirror_mode": {
    "name": "ipython",
    "version": 3
   },
   "file_extension": ".py",
   "mimetype": "text/x-python",
   "name": "python",
   "nbconvert_exporter": "python",
   "pygments_lexer": "ipython3",
   "version": "3.13.2"
  }
 },
 "nbformat": 4,
 "nbformat_minor": 5
}
