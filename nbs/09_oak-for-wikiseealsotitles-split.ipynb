{
 "cells": [
  {
   "cell_type": "code",
   "execution_count": null,
   "id": "d60b51bd-0144-4139-8be5-7602bad6a9c8",
   "metadata": {},
   "outputs": [],
   "source": [
    "#| default_exp 09_oak-for-wikiseealsotitles-split"
   ]
  },
  {
   "cell_type": "code",
   "execution_count": null,
   "id": "afd42460-e893-40e0-a8c3-3ef5195f6e68",
   "metadata": {},
   "outputs": [],
   "source": [
    "%reload_ext autoreload\n",
    "%autoreload 2"
   ]
  },
  {
   "cell_type": "code",
   "execution_count": null,
   "id": "65e00e5c-ff88-425d-a828-7ca5d02215ab",
   "metadata": {},
   "outputs": [],
   "source": [
    "from nbdev.showdoc import *\n",
    "import nbdev; nbdev.nbdev_export()"
   ]
  },
  {
   "cell_type": "code",
   "execution_count": null,
   "id": "874750be-c904-447e-8754-3eefcb9586d6",
   "metadata": {},
   "outputs": [],
   "source": [
    "#| export\n",
    "import os,torch,json, torch.multiprocessing as mp, joblib, numpy as np, scipy.sparse as sp\n",
    "\n",
    "from xcai.basics import *\n",
    "from xcai.models.oakY import OAK004"
   ]
  },
  {
   "cell_type": "code",
   "execution_count": null,
   "id": "1dd23053-8908-4615-a47f-96b2039b0cff",
   "metadata": {},
   "outputs": [],
   "source": [
    "os.environ['WANDB_MODE'] = 'disabled'"
   ]
  },
  {
   "cell_type": "code",
   "execution_count": null,
   "id": "44292259-cc09-4bd0-96f3-08206b948924",
   "metadata": {},
   "outputs": [],
   "source": [
    "#| export\n",
    "os.environ['CUDA_VISIBLE_DEVICES'] = '0,1'\n",
    "os.environ['WANDB_PROJECT'] = 'mogicX_01-wikiseealsotitles'"
   ]
  },
  {
   "cell_type": "markdown",
   "id": "26f9b501-e911-42b1-bac1-f2a1137ff1c9",
   "metadata": {
    "jp-MarkdownHeadingCollapsed": true
   },
   "source": [
    "## Setup"
   ]
  },
  {
   "cell_type": "code",
   "execution_count": null,
   "id": "fa819b08-afb0-48f3-8314-dcbd6ed99bc2",
   "metadata": {},
   "outputs": [],
   "source": [
    "output_dir = '/scratch/scai/phd/aiz218323/outputs/mogicX/09_oak-for-wikiseealsotitles-split'\n",
    " \n",
    "config_file = '/home/scai/phd/aiz218323/scratch/datasets/benchmarks/LF-WikiSeeAlsoTitles-320K-split-for-OAK/configs/data_category_ngame-linker.json'\n",
    "config_key = 'data_category_linker'\n",
    "\n",
    "mname = 'sentence-transformers/msmarco-distilbert-base-v4'\n",
    "\n",
    "meta_name = 'lnk'"
   ]
  },
  {
   "cell_type": "code",
   "execution_count": null,
   "id": "5a47f6a6-879f-4e1d-8b4a-488f37fbe1f2",
   "metadata": {},
   "outputs": [],
   "source": [
    "do_train_inference = False\n",
    "do_test_inference = True\n",
    "\n",
    "save_train_inference = False\n",
    "save_test_inference = False\n",
    "\n",
    "save_representation = False\n",
    "\n",
    "use_sxc_sampler, only_test = True, False\n",
    "\n",
    "pkl_dir = '/scratch/scai/phd/aiz218323/datasets/processed/'"
   ]
  },
  {
   "cell_type": "code",
   "execution_count": null,
   "id": "aee61a88-a01c-49ac-9817-b13c724a0b59",
   "metadata": {},
   "outputs": [],
   "source": [
    "pkl_file = f'{pkl_dir}/mogicX/wikiseealsotitles-split-for-oak_data-category-linker_distilbert-base-uncased'\n",
    "pkl_file = f'{pkl_file}_sxc' if use_sxc_sampler else f'{pkl_file}_xcs'\n",
    "if only_test: pkl_file = f'{pkl_file}_only-test'\n",
    "pkl_file = f'{pkl_file}.joblib'"
   ]
  },
  {
   "cell_type": "code",
   "execution_count": null,
   "id": "10a20c26-636d-4a7f-a934-65743d548894",
   "metadata": {},
   "outputs": [],
   "source": [
    "do_inference = do_train_inference or do_test_inference or save_train_inference or save_test_inference or save_representation"
   ]
  },
  {
   "cell_type": "code",
   "execution_count": null,
   "id": "b0ed6a86-42c7-4e8d-a711-bfc08b69db45",
   "metadata": {},
   "outputs": [
    {
     "data": {
      "text/plain": [
       "'/scratch/scai/phd/aiz218323/datasets/processed//mogicX/wikiseealsotitles-split-for-oak_data-category-linker_distilbert-base-uncased_sxc.joblib'"
      ]
     },
     "execution_count": null,
     "metadata": {},
     "output_type": "execute_result"
    }
   ],
   "source": [
    "pkl_file"
   ]
  },
  {
   "cell_type": "code",
   "execution_count": null,
   "id": "ed603495-d70e-4830-846f-2081b81c3150",
   "metadata": {},
   "outputs": [
    {
     "name": "stdout",
     "output_type": "stream",
     "text": [
      "CPU times: user 1min 4s, sys: 2.04 s, total: 1min 6s\n",
      "Wall time: 1min 6s\n"
     ]
    }
   ],
   "source": [
    "%%time\n",
    "os.makedirs(os.path.dirname(pkl_file), exist_ok=True)\n",
    "block = build_block(pkl_file, config_file, use_sxc_sampler, config_key, n_sdata_meta_samples=3, meta_oversample=False, train_meta_topk=3, \n",
    "                    test_meta_topk=3)"
   ]
  },
  {
   "cell_type": "code",
   "execution_count": null,
   "id": "f5ad2760-33b4-4c27-a5c8-c1fc945e1f84",
   "metadata": {},
   "outputs": [
    {
     "name": "stderr",
     "output_type": "stream",
     "text": [
      "/scratch/scai/phd/aiz218323/anaconda3/envs/medic/lib/python3.9/site-packages/transformers/training_args.py:1545: FutureWarning: `evaluation_strategy` is deprecated and will be removed in version 4.46 of 🤗 Transformers. Use `eval_strategy` instead\n",
      "  warnings.warn(\n",
      "comet_ml version 3.39.1 is installed, but version 3.43.2 or higher is required. Please update comet_ml to the latest version to enable Comet logging with pip install 'comet-ml>=3.43.2'.\n"
     ]
    }
   ],
   "source": [
    "args = XCLearningArguments(\n",
    "    output_dir=output_dir,\n",
    "    logging_first_step=True,\n",
    "    per_device_train_batch_size=800,\n",
    "    per_device_eval_batch_size=800,\n",
    "    representation_num_beams=200,\n",
    "    representation_accumulation_steps=10,\n",
    "    save_strategy=\"steps\",\n",
    "    evaluation_strategy=\"steps\",\n",
    "    eval_steps=5000,\n",
    "    save_steps=5000,\n",
    "    save_total_limit=5,\n",
    "    num_train_epochs=300,\n",
    "    predict_with_representation=True,\n",
    "    adam_epsilon=1e-6,\n",
    "    warmup_steps=100,\n",
    "    weight_decay=0.01,\n",
    "    learning_rate=2e-4,\n",
    "    representation_search_type='BRUTEFORCE',\n",
    "\n",
    "    output_representation_attribute='data_fused_repr',\n",
    "    label_representation_attribute='data_repr',\n",
    "    metadata_representation_attribute='data_repr',\n",
    "    data_augmentation_attribute='data_repr',\n",
    "    representation_attribute='data_fused_repr',\n",
    "    clustering_representation_attribute='data_fused_repr',\n",
    "\n",
    "    group_by_cluster=True,\n",
    "    num_clustering_warmup_epochs=10,\n",
    "    num_cluster_update_epochs=5,\n",
    "    num_cluster_size_update_epochs=25,\n",
    "    use_data_metadata_for_clustering=True,\n",
    "    clustering_type='EXPO',\n",
    "    minimum_cluster_size=2,\n",
    "    maximum_cluster_size=1600,\n",
    "\n",
    "    metric_for_best_model='P@1',\n",
    "    load_best_model_at_end=True,\n",
    "    target_indices_key='plbl2data_idx',\n",
    "    target_pointer_key='plbl2data_data2ptr',\n",
    "\n",
    "    use_distributional_representation=False,\n",
    "    use_encoder_parallel=True,\n",
    "    max_grad_norm=None,\n",
    "    fp16=False,\n",
    "\n",
    "    label_names=['plbl2data_idx', 'plbl2data_data2ptr', 'lbl2data_idx', 'lbl2data_data2ptr', 'lbl2data_input_ids', 'lbl2data_attention_mask', \n",
    "                 f'{meta_name}2data_idx', f'{meta_name}2data_data2ptr'],\n",
    "\n",
    "    prune_metadata=False,\n",
    "    num_metadata_prune_warmup_epochs=10,\n",
    "    num_metadata_prune_epochs=5,\n",
    "    metadata_prune_batch_size=2048,\n",
    "    prune_metadata_names=[f'{meta_name}_meta'],\n",
    "    use_data_metadata_for_pruning=True,\n",
    "\n",
    "    predict_with_augmentation=False,\n",
    "    use_augmentation_index_representation=True,\n",
    "\n",
    "    data_aug_meta_name=meta_name,\n",
    "    augmentation_num_beams=None,\n",
    "    data_aug_prefix=meta_name,\n",
    "    use_label_metadata=False,\n",
    "\n",
    "    data_meta_batch_size=2048,\n",
    "    augment_metadata=False,\n",
    "    num_metadata_augment_warmup_epochs=10,\n",
    "    num_metadata_augment_epochs=5,\n",
    "\n",
    "    use_cpu_for_searching=True,\n",
    "    use_cpu_for_clustering=True,\n",
    ")"
   ]
  },
  {
   "cell_type": "code",
   "execution_count": null,
   "id": "8e371418-7630-42a6-9072-981a4da8fadc",
   "metadata": {},
   "outputs": [],
   "source": [
    "def model_fn(mname, bsz):\n",
    "    model = OAK004.from_pretrained(mname, batch_size=bsz, num_batch_labels=5000, margin=0.3, num_negatives=10, tau=0.1, apply_softmax=True,\n",
    "                                   \n",
    "                                   data_aug_meta_prefix=f'{meta_name}2data', lbl2data_aug_meta_prefix=None,\n",
    "                                   data_pred_meta_prefix=None, lbl2data_pred_meta_prefix=None,\n",
    "                                   \n",
    "                                   num_metadata=block.train.dset.meta[f'{meta_name}_meta'].n_meta,\n",
    "        \n",
    "                                   calib_margin=0.05, calib_num_negatives=10, calib_tau=0.1, calib_apply_softmax=False,\n",
    "                                   calib_loss_weight=0.1, use_calib_loss=True,\n",
    "                                   \n",
    "                                   use_query_loss=True, use_encoder_parallel=True)\n",
    "    return model\n",
    "    \n",
    "def init_fn(model): \n",
    "    model.init_retrieval_head()\n",
    "    model.init_cross_head()\n",
    "    \n",
    "    # meta_embeddings = torch.tensor(np.load(meta_embed_file), dtype=torch.float32)\n",
    "    # model.set_meta_embeddings(meta_embeddings)\n"
   ]
  },
  {
   "cell_type": "code",
   "execution_count": null,
   "id": "803aeeb4-b881-4f23-8609-487a38e88168",
   "metadata": {},
   "outputs": [
    {
     "name": "stderr",
     "output_type": "stream",
     "text": [
      "Some weights of OAK004 were not initialized from the model checkpoint at sentence-transformers/msmarco-distilbert-base-v4 and are newly initialized: ['encoder.cross_head.k.bias', 'encoder.cross_head.k.weight', 'encoder.cross_head.o.bias', 'encoder.cross_head.o.weight', 'encoder.cross_head.q.bias', 'encoder.cross_head.q.weight', 'encoder.cross_head.v.bias', 'encoder.cross_head.v.weight', 'encoder.dr_head.layer_norm.bias', 'encoder.dr_head.layer_norm.weight', 'encoder.dr_head.projector.bias', 'encoder.dr_head.projector.weight', 'encoder.dr_head.transform.bias', 'encoder.dr_head.transform.weight', 'meta_embeddings.weight']\n",
      "You should probably TRAIN this model on a down-stream task to be able to use it for predictions and inference.\n"
     ]
    }
   ],
   "source": [
    "bsz = max(args.per_device_train_batch_size, args.per_device_eval_batch_size)*torch.cuda.device_count()\n",
    "\n",
    "model = load_model(args.output_dir, model_fn, {\"mname\": mname, \"bsz\": bsz}, init_fn, do_inference=do_inference, use_pretrained=True)"
   ]
  },
  {
   "cell_type": "code",
   "execution_count": null,
   "id": "916d5b43-8924-4713-a972-2455c80d564d",
   "metadata": {},
   "outputs": [],
   "source": [
    "metric = PrecReclMrr(block.n_lbl, block.test.data_lbl_filterer, prop=block.train.dset.data.data_lbl, pk=10, rk=200, \n",
    "                     rep_pk=[1, 3, 5, 10], rep_rk=[10, 100, 200], mk=[5, 10, 20])"
   ]
  },
  {
   "cell_type": "code",
   "execution_count": null,
   "id": "530440bc-e5d3-44d4-b1ee-33f89ec15618",
   "metadata": {},
   "outputs": [
    {
     "name": "stderr",
     "output_type": "stream",
     "text": [
      "Detected kernel version 3.10.0, which is below the recommended minimum of 5.5.0; this can cause the process to hang. It is recommended to upgrade the kernel to the minimum version or higher.\n"
     ]
    }
   ],
   "source": [
    "learn = XCLearner(\n",
    "    model=model,\n",
    "    args=args,\n",
    "    train_dataset=block.train.dset,\n",
    "    eval_dataset=block.test.dset,\n",
    "    data_collator=block.collator,\n",
    "    compute_metrics=metric,\n",
    ")"
   ]
  },
  {
   "cell_type": "code",
   "execution_count": null,
   "id": "5c6a603a-c727-4772-b8b5-7116c7a8e30a",
   "metadata": {},
   "outputs": [],
   "source": [
    "main(learn, input_args, n_lbl=block.n_lbl)"
   ]
  },
  {
   "cell_type": "markdown",
   "id": "653ee19c-38b0-48e4-8613-54b8d447cccf",
   "metadata": {},
   "source": [
    "## Driver"
   ]
  },
  {
   "cell_type": "code",
   "execution_count": null,
   "id": "bd67be8d-d2b0-40d2-a772-8d068ad99a3b",
   "metadata": {},
   "outputs": [],
   "source": [
    "#| export\n",
    "if __name__ == '__main__':\n",
    "    output_dir = '/scratch/scai/phd/aiz218323/outputs/mogicX/09_oak-for-wikiseealsotitles-split'\n",
    " \n",
    "    config_file = '/home/scai/phd/aiz218323/scratch/datasets/benchmarks/LF-WikiSeeAlsoTitles-320K-split-for-OAK/configs/data_category_ngame-linker.json'\n",
    "    config_key = 'data_category_linker'\n",
    "    \n",
    "    mname = 'sentence-transformers/msmarco-distilbert-base-v4'\n",
    "\n",
    "    input_args = parse_args()\n",
    "\n",
    "    pkl_file = f'{input_args.pickle_dir}/mogicX/wikiseealsotitles-split-for-oak_data-category-linker_distilbert-base-uncased'\n",
    "    pkl_file = f'{pkl_file}_sxc' if input_args.use_sxc_sampler else f'{pkl_file}_xcs'\n",
    "    if input_args.only_test: pkl_file = f'{pkl_file}_only-test'\n",
    "    pkl_file = f'{pkl_file}.joblib'\n",
    "\n",
    "    do_inference = input_args.do_train_inference or input_args.do_test_inference or input_args.save_train_prediction or input_args.save_test_prediction or input_args.save_representation\n",
    "\n",
    "    os.makedirs(os.path.dirname(pkl_file), exist_ok=True)\n",
    "    block = build_block(pkl_file, config_file, input_args.use_sxc_sampler, config_key, do_build=input_args.build_block, only_test=input_args.only_test,\n",
    "                        n_sdata_meta_samples=3, meta_oversample=False, train_meta_topk=3, test_meta_topk=3)\n",
    "\n",
    "    args = XCLearningArguments(\n",
    "        output_dir=output_dir,\n",
    "        logging_first_step=True,\n",
    "        per_device_train_batch_size=800,\n",
    "        per_device_eval_batch_size=800,\n",
    "        representation_num_beams=200,\n",
    "        representation_accumulation_steps=10,\n",
    "        save_strategy=\"steps\",\n",
    "        evaluation_strategy=\"steps\",\n",
    "        eval_steps=5000,\n",
    "        save_steps=5000,\n",
    "        save_total_limit=5,\n",
    "        num_train_epochs=300,\n",
    "        predict_with_representation=True,\n",
    "        adam_epsilon=1e-6,\n",
    "        warmup_steps=100,\n",
    "        weight_decay=0.01,\n",
    "        learning_rate=2e-4,\n",
    "        representation_search_type='BRUTEFORCE',\n",
    "    \n",
    "        output_representation_attribute='data_fused_repr',\n",
    "        label_representation_attribute='data_repr',\n",
    "        metadata_representation_attribute='data_repr',\n",
    "        data_augmentation_attribute='data_repr',\n",
    "        representation_attribute='data_fused_repr',\n",
    "        clustering_representation_attribute='data_fused_repr',\n",
    "    \n",
    "        group_by_cluster=True,\n",
    "        num_clustering_warmup_epochs=10,\n",
    "        num_cluster_update_epochs=5,\n",
    "        num_cluster_size_update_epochs=25,\n",
    "        use_data_metadata_for_clustering=True,\n",
    "        clustering_type='EXPO',\n",
    "        minimum_cluster_size=2,\n",
    "        maximum_cluster_size=1600,\n",
    "\n",
    "        metric_for_best_model='P@1',\n",
    "        load_best_model_at_end=True,\n",
    "        target_indices_key='plbl2data_idx',\n",
    "        target_pointer_key='plbl2data_data2ptr',\n",
    "    \n",
    "        use_distributional_representation=False,\n",
    "        use_encoder_parallel=True,\n",
    "        max_grad_norm=None,\n",
    "        fp16=True,\n",
    "    \n",
    "        label_names=['plbl2data_idx', 'plbl2data_data2ptr', 'lbl2data_idx', 'lbl2data_data2ptr', 'lbl2data_input_ids', 'lbl2data_attention_mask', \n",
    "                     f'{meta_name}2data_idx', f'{meta_name}2data_data2ptr'],\n",
    "    \n",
    "        prune_metadata=False,\n",
    "        num_metadata_prune_warmup_epochs=10,\n",
    "        num_metadata_prune_epochs=5,\n",
    "        metadata_prune_batch_size=2048,\n",
    "        prune_metadata_names=[f'{meta_name}_meta'],\n",
    "        use_data_metadata_for_pruning=True,\n",
    "    \n",
    "        predict_with_augmentation=False,\n",
    "        use_augmentation_index_representation=True,\n",
    "    \n",
    "        data_aug_meta_name=meta_name,\n",
    "        augmentation_num_beams=None,\n",
    "        data_aug_prefix=meta_name,\n",
    "        use_label_metadata=False,\n",
    "    \n",
    "        data_meta_batch_size=2048,\n",
    "        augment_metadata=False,\n",
    "        num_metadata_augment_warmup_epochs=10,\n",
    "        num_metadata_augment_epochs=5,\n",
    "    \n",
    "        use_cpu_for_searching=True,\n",
    "        use_cpu_for_clustering=True,\n",
    "    )\n",
    "\n",
    "    def model_fn(mname, bsz):\n",
    "        model = OAK004.from_pretrained(mname, batch_size=bsz, num_batch_labels=5000, margin=0.3, num_negatives=10, tau=0.1, apply_softmax=True,\n",
    "                                       \n",
    "                                       data_aug_meta_prefix=f'{meta_name}2data', lbl2data_aug_meta_prefix=None,\n",
    "                                       data_pred_meta_prefix=None, lbl2data_pred_meta_prefix=None,\n",
    "                                       \n",
    "                                       num_metadata=block.train.dset.meta[f'{meta_name}_meta'].n_meta,\n",
    "            \n",
    "                                       calib_margin=0.05, calib_num_negatives=10, calib_tau=0.1, calib_apply_softmax=False,\n",
    "                                       calib_loss_weight=0.1, use_calib_loss=True,\n",
    "                                       \n",
    "                                       use_query_loss=True, use_encoder_parallel=True)\n",
    "        return model\n",
    "        \n",
    "    def init_fn(model): \n",
    "        model.init_retrieval_head()\n",
    "        model.init_cross_head()\n",
    "        \n",
    "        # meta_embeddings = torch.tensor(np.load(meta_embed_file), dtype=torch.float32)\n",
    "        # model.set_meta_embeddings(meta_embeddings)\n",
    "\n",
    "    bsz = max(args.per_device_train_batch_size, args.per_device_eval_batch_size)*torch.cuda.device_count()\n",
    "    model = load_model(args.output_dir, model_fn, {\"mname\": mname, \"bsz\": bsz}, init_fn, do_inference=do_inference, use_pretrained=input_args.use_pretrained)\n",
    "    \n",
    "    metric = PrecReclMrr(block.n_lbl, block.test.data_lbl_filterer, prop=block.train.dset.data.data_lbl,\n",
    "                         pk=10, rk=200, rep_pk=[1, 3, 5, 10], rep_rk=[10, 100, 200], mk=[5, 10, 20])\n",
    "    \n",
    "    learn = XCLearner(\n",
    "        model=model,\n",
    "        args=args,\n",
    "        train_dataset=block.train.dset,\n",
    "        eval_dataset=block.test.dset,\n",
    "        data_collator=block.collator,\n",
    "        compute_metrics=metric,\n",
    "    )\n",
    "    \n",
    "    main(learn, input_args, n_lbl=block.n_lbl)\n",
    "    "
   ]
  },
  {
   "cell_type": "code",
   "execution_count": null,
   "id": "1e110006-4c2f-4d1c-9515-103f8d63bb62",
   "metadata": {},
   "outputs": [],
   "source": []
  }
 ],
 "metadata": {
  "kernelspec": {
   "display_name": "Python 3 (ipykernel)",
   "language": "python",
   "name": "python3"
  },
  "language_info": {
   "codemirror_mode": {
    "name": "ipython",
    "version": 3
   },
   "file_extension": ".py",
   "mimetype": "text/x-python",
   "name": "python",
   "nbconvert_exporter": "python",
   "pygments_lexer": "ipython3",
   "version": "3.10.16"
  }
 },
 "nbformat": 4,
 "nbformat_minor": 5
}
