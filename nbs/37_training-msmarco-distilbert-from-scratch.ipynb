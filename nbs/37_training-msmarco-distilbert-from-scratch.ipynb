{
 "cells": [
  {
   "cell_type": "code",
   "execution_count": 1,
   "id": "d60b51bd-0144-4139-8be5-7602bad6a9c8",
   "metadata": {},
   "outputs": [],
   "source": [
    "#| default_exp 37_training-msmarco-distilbert-from-scratch"
   ]
  },
  {
   "cell_type": "code",
   "execution_count": 2,
   "id": "afd42460-e893-40e0-a8c3-3ef5195f6e68",
   "metadata": {},
   "outputs": [],
   "source": [
    "%reload_ext autoreload\n",
    "%autoreload 2"
   ]
  },
  {
   "cell_type": "code",
   "execution_count": 2,
   "id": "874750be-c904-447e-8754-3eefcb9586d6",
   "metadata": {},
   "outputs": [],
   "source": [
    "#| export\n",
    "import os,torch,json, torch.multiprocessing as mp, joblib, numpy as np, scipy.sparse as sp\n",
    "\n",
    "from transformers import DistilBertConfig\n",
    "\n",
    "from xcai.basics import *\n",
    "from xcai.models.PPP0XX import DBT023"
   ]
  },
  {
   "cell_type": "code",
   "execution_count": 3,
   "id": "1dd23053-8908-4615-a47f-96b2039b0cff",
   "metadata": {},
   "outputs": [],
   "source": [
    "os.environ['WANDB_MODE'] = 'disabled'"
   ]
  },
  {
   "cell_type": "code",
   "execution_count": 4,
   "id": "44292259-cc09-4bd0-96f3-08206b948924",
   "metadata": {},
   "outputs": [],
   "source": [
    "#| export\n",
    "os.environ['CUDA_VISIBLE_DEVICES'] = '0,1'\n",
    "os.environ['WANDB_PROJECT'] = 'mogicX_00-msmarco'"
   ]
  },
  {
   "cell_type": "code",
   "execution_count": 45,
   "id": "a59e7984-a847-4c90-b35c-7654fef40315",
   "metadata": {},
   "outputs": [],
   "source": [
    "import pickle, scipy.sparse as sp, numpy as np\n",
    "from tqdm.auto import tqdm\n",
    "from typing import Optional, List\n",
    "\n",
    "from sugar.core import *"
   ]
  },
  {
   "cell_type": "code",
   "execution_count": 19,
   "id": "3bdf555f-0208-43b3-a6c2-329d2bacbd12",
   "metadata": {},
   "outputs": [],
   "source": [
    "data_dir = \"/home/scai/phd/aiz218323/scratch/datasets/msmarco/negatives\"\n",
    "fname = f\"{data_dir}/cross-encoder-ms-marco-MiniLM-L-6-v2-scores.pkl\""
   ]
  },
  {
   "cell_type": "code",
   "execution_count": null,
   "id": "7366321c-9ec5-4d70-b9ee-2cae4dce9466",
   "metadata": {},
   "outputs": [],
   "source": []
  },
  {
   "cell_type": "code",
   "execution_count": 20,
   "id": "18978b20-5ac5-462a-acd4-b8b45ec921bd",
   "metadata": {},
   "outputs": [],
   "source": [
    "with open(fname, 'rb') as file:\n",
    "    hard_negatives = pickle.load(file)"
   ]
  },
  {
   "cell_type": "code",
   "execution_count": 22,
   "id": "cbd339bd-0ee1-41d5-9e64-008dc8ce7890",
   "metadata": {},
   "outputs": [],
   "source": [
    "trn_ids = [int(i) for i in block.train.dset.data.data_info['identifier']]\n",
    "tst_ids = [int(i) for i in block.test.dset.data.data_info['identifier']]"
   ]
  },
  {
   "cell_type": "code",
   "execution_count": null,
   "id": "dfece2ce-9e6e-4391-bfef-0a7a49d50eba",
   "metadata": {},
   "outputs": [],
   "source": []
  },
  {
   "cell_type": "code",
   "execution_count": 42,
   "id": "f2b398c0-759f-4015-9396-89ae4c205bbc",
   "metadata": {},
   "outputs": [],
   "source": [
    "def load_msmarco_hard_negatives(fname:str, data_ids:Optional[List]=None):\n",
    "    with open(fname, 'rb') as file:\n",
    "        negatives = pickle.load(file)\n",
    "\n",
    "    data_ids = list(negatives) if data_ids is None else data_ids\n",
    "\n",
    "    lbl_id2idx = dict()\n",
    "    data, indices, indptr = [], [], [0]\n",
    "    for idx in tqdm(data_ids):\n",
    "        if idx in negatives:\n",
    "            data.extend(list(negatives[idx].values()))\n",
    "            for i in negatives[idx]:\n",
    "                index = lbl_id2idx.setdefault(i, len(lbl_id2idx))\n",
    "                indices.append(index)\n",
    "        indptr.append(len(data))\n",
    "\n",
    "    lbl_ids = sorted(lbl_id2idx, key=lambda x: lbl_id2idx[x])\n",
    "    return data_ids, lbl_ids, sp.csr_matrix((data, indices, indptr), dtype=np.float32)\n",
    "    "
   ]
  },
  {
   "cell_type": "code",
   "execution_count": 44,
   "id": "2be96312-c579-4119-bd30-5b7a5f5d8644",
   "metadata": {},
   "outputs": [
    {
     "data": {
      "application/vnd.jupyter.widget-view+json": {
       "model_id": "7c84381425514df9a90932d0e0f72677",
       "version_major": 2,
       "version_minor": 0
      },
      "text/plain": [
       "  0%|          | 0/502939 [00:00<?, ?it/s]"
      ]
     },
     "metadata": {},
     "output_type": "display_data"
    }
   ],
   "source": [
    "data_ids, neg_ids, data_neg = load_msmarco_hard_negatives(fname, trn_ids)"
   ]
  },
  {
   "cell_type": "code",
   "execution_count": 47,
   "id": "97bd2011-3e3b-474e-b10f-b786a8d0e308",
   "metadata": {},
   "outputs": [],
   "source": [
    "lbl_neg = sp.csr_matrix((block.n_lbl, data_neg.shape[1]), dtype=np.float32)"
   ]
  },
  {
   "cell_type": "code",
   "execution_count": null,
   "id": "a3fc69a9-d375-484f-b34c-a8d522675ac8",
   "metadata": {},
   "outputs": [],
   "source": []
  },
  {
   "cell_type": "code",
   "execution_count": 54,
   "id": "9ee89fff-7c9d-4cde-8926-c00a22f2261b",
   "metadata": {},
   "outputs": [],
   "source": [
    "sp.save_npz(f'{data_dir}/negatives_trn_X_Y.npz', data_neg)\n",
    "sp.save_npz(f'{data_dir}/negatives_lbl_X_Y_exact.npz', lbl_neg)"
   ]
  },
  {
   "cell_type": "code",
   "execution_count": 55,
   "id": "0f8dd640-2296-4970-9d1b-b68b9280ec5b",
   "metadata": {},
   "outputs": [],
   "source": [
    "fname = '/home/scai/phd/aiz218323/scratch/datasets/msmarco/XC/raw_data/label.raw.txt'\n",
    "lbl_ids, lbl_txt = load_raw_file(fname)\n",
    "lbl_map = {k:v for k,v in zip(lbl_ids, lbl_txt)}"
   ]
  },
  {
   "cell_type": "code",
   "execution_count": 57,
   "id": "a0a9f38f-64d6-45be-87b0-59fae1a3a967",
   "metadata": {},
   "outputs": [],
   "source": [
    "neg_txt = [lbl_map[str(i)] for i in neg_ids]"
   ]
  },
  {
   "cell_type": "code",
   "execution_count": 64,
   "id": "7cf8f5de-e91a-4c64-aa6e-1dbe6cad38bc",
   "metadata": {},
   "outputs": [],
   "source": [
    "save_raw_file(f'{data_dir}/raw_data/negatives.raw.txt', neg_ids, neg_txt)"
   ]
  },
  {
   "cell_type": "code",
   "execution_count": null,
   "id": "405cb628-0029-497a-ae13-1e9e0d32236b",
   "metadata": {},
   "outputs": [],
   "source": []
  },
  {
   "cell_type": "markdown",
   "id": "653ee19c-38b0-48e4-8613-54b8d447cccf",
   "metadata": {},
   "source": [
    "## Driver"
   ]
  },
  {
   "cell_type": "code",
   "execution_count": null,
   "id": "bd67be8d-d2b0-40d2-a772-8d068ad99a3b",
   "metadata": {},
   "outputs": [],
   "source": [
    "#| export\n",
    "if __name__ == '__main__':\n",
    "    output_dir = '/scratch/scai/phd/aiz218323/outputs/mogicX/37_training-msmarco-distilbert-from-scratch'\n",
    "\n",
    "    input_args = parse_args()\n",
    "\n",
    "    if input_args.exact:\n",
    "        config_file = '/home/scai/phd/aiz218323/scratch/datasets/msmarco/XC/configs/data_ce_exact.json'\n",
    "        config_key = 'data'\n",
    "    else:\n",
    "        raise NotImplementedError('Create a configuration file for using all the labels.')\n",
    "    \n",
    "    mname = 'distilbert-base-uncased'\n",
    "\n",
    "    pkl_file = get_pkl_file(input_args.pickle_dir, 'msmarco_data-ce_distilbert-base-uncased', input_args.use_sxc_sampler, \n",
    "                            input_args.exact, input_args.only_test)\n",
    "\n",
    "    do_inference = input_args.do_train_inference or input_args.do_test_inference or input_args.save_train_prediction or input_args.save_test_prediction or input_args.save_representation\n",
    "\n",
    "    os.makedirs(os.path.dirname(pkl_file), exist_ok=True)\n",
    "    block = build_block(pkl_file, config_file, input_args.use_sxc_sampler, config_key, do_build=input_args.build_block, \n",
    "                        only_test=input_args.only_test, main_oversample=True, meta_oversample=True, return_scores=True, \n",
    "                        n_slbl_samples=1, n_sdata_meta_samples=10)\n",
    "\n",
    "    args = XCLearningArguments(\n",
    "        output_dir=output_dir,\n",
    "        logging_first_step=True,\n",
    "        per_device_train_batch_size=800,\n",
    "        per_device_eval_batch_size=800,\n",
    "        representation_num_beams=200,\n",
    "        representation_accumulation_steps=10,\n",
    "        save_strategy=\"steps\",\n",
    "        eval_strategy=\"steps\",\n",
    "        eval_steps=5000,\n",
    "        save_steps=5000,\n",
    "        save_total_limit=5,\n",
    "        num_train_epochs=300,\n",
    "        predict_with_representation=True,\n",
    "        representation_search_type='BRUTEFORCE',\n",
    "        adam_epsilon=1e-6,\n",
    "        warmup_steps=100,\n",
    "        weight_decay=0.01,\n",
    "        learning_rate=2e-5,\n",
    "    \n",
    "        group_by_cluster=True,\n",
    "        num_clustering_warmup_epochs=10,\n",
    "        num_cluster_update_epochs=5,\n",
    "        num_cluster_size_update_epochs=25,\n",
    "        clustering_type='EXPO',\n",
    "        minimum_cluster_size=2,\n",
    "        maximum_cluster_size=1600,\n",
    "    \n",
    "        metric_for_best_model='P@1',\n",
    "        load_best_model_at_end=True,\n",
    "        target_indices_key='plbl2data_idx',\n",
    "        target_pointer_key='plbl2data_data2ptr',\n",
    "    \n",
    "        use_encoder_parallel=True,\n",
    "        max_grad_norm=None,\n",
    "        fp16=True,\n",
    "    )\n",
    "\n",
    "    def model_fn(mname):\n",
    "        model = DBT023.from_pretrained(mname, normalize=True, use_encoder_parallel=True)\n",
    "        return model\n",
    "    \n",
    "    def init_fn(model): \n",
    "        model.init_dr_head()\n",
    "\n",
    "    metric = PrecReclMrr(block.test.dset.n_lbl, block.test.data_lbl_filterer, pk=10, rk=200, rep_pk=[1, 3, 5, 10], \n",
    "                         rep_rk=[10, 100, 200], mk=[5, 10, 20])\n",
    "\n",
    "    bsz = max(args.per_device_train_batch_size, args.per_device_eval_batch_size)*torch.cuda.device_count()\n",
    "\n",
    "    model = load_model(args.output_dir, model_fn, {\"mname\": mname}, init_fn, do_inference=do_inference, \n",
    "                       use_pretrained=input_args.use_pretrained)\n",
    "    \n",
    "    learn = XCLearner(\n",
    "        model=model,\n",
    "        args=args,\n",
    "        train_dataset=block.train.dset,\n",
    "        eval_dataset=block.test.dset,\n",
    "        data_collator=block.collator,\n",
    "        compute_metrics=metric,\n",
    "    )\n",
    "    \n",
    "    main(learn, input_args, n_lbl=block.test.dset.n_lbl)\n",
    "    "
   ]
  },
  {
   "cell_type": "code",
   "execution_count": null,
   "id": "0ced4774-3de8-4275-938e-c034b164cf35",
   "metadata": {},
   "outputs": [],
   "source": []
  }
 ],
 "metadata": {
  "kernelspec": {
   "display_name": "Python 3 (ipykernel)",
   "language": "python",
   "name": "python3"
  },
  "language_info": {
   "codemirror_mode": {
    "name": "ipython",
    "version": 3
   },
   "file_extension": ".py",
   "mimetype": "text/x-python",
   "name": "python",
   "nbconvert_exporter": "python",
   "pygments_lexer": "ipython3",
   "version": "3.10.16"
  }
 },
 "nbformat": 4,
 "nbformat_minor": 5
}
