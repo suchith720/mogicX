{
 "cells": [
  {
   "cell_type": "code",
   "execution_count": 1,
   "id": "d60b51bd-0144-4139-8be5-7602bad6a9c8",
   "metadata": {},
   "outputs": [],
   "source": [
    "#| default_exp 25_sbert-for-msmarco-inference"
   ]
  },
  {
   "cell_type": "code",
   "execution_count": 2,
   "id": "afd42460-e893-40e0-a8c3-3ef5195f6e68",
   "metadata": {},
   "outputs": [],
   "source": [
    "%reload_ext autoreload\n",
    "%autoreload 2"
   ]
  },
  {
   "cell_type": "code",
   "execution_count": 3,
   "id": "65e00e5c-ff88-425d-a828-7ca5d02215ab",
   "metadata": {},
   "outputs": [],
   "source": [
    "from nbdev.showdoc import *\n",
    "import nbdev; nbdev.nbdev_export()"
   ]
  },
  {
   "cell_type": "code",
   "execution_count": 80,
   "id": "874750be-c904-447e-8754-3eefcb9586d6",
   "metadata": {},
   "outputs": [],
   "source": [
    "#| export\n",
    "import os,torch,json, torch.multiprocessing as mp, joblib, numpy as np, scipy.sparse as sp\n",
    "from sentence_transformers import SentenceTransformer, util\n",
    "from tqdm import tqdm\n",
    "\n",
    "from xcai.main import *\n",
    "from xcai.metrics import mrr"
   ]
  },
  {
   "cell_type": "code",
   "execution_count": 39,
   "id": "1dd23053-8908-4615-a47f-96b2039b0cff",
   "metadata": {},
   "outputs": [],
   "source": [
    "os.environ['WANDB_MODE'] = 'disabled'"
   ]
  },
  {
   "cell_type": "code",
   "execution_count": 6,
   "id": "44292259-cc09-4bd0-96f3-08206b948924",
   "metadata": {},
   "outputs": [],
   "source": [
    "#| export\n",
    "os.environ['CUDA_VISIBLE_DEVICES'] = '0,1'\n",
    "os.environ['WANDB_PROJECT'] = 'mogicX_00-msmarco'"
   ]
  },
  {
   "cell_type": "markdown",
   "id": "26f9b501-e911-42b1-bac1-f2a1137ff1c9",
   "metadata": {},
   "source": [
    "## Setup"
   ]
  },
  {
   "cell_type": "code",
   "execution_count": 7,
   "id": "fa819b08-afb0-48f3-8314-dcbd6ed99bc2",
   "metadata": {},
   "outputs": [],
   "source": [
    "output_dir = '/scratch/scai/phd/aiz218323/outputs/mogicX/00_ngame-for-msmarco'\n",
    "pkl_dir = '/scratch/scai/phd/aiz218323/datasets/processed/'\n",
    "\n",
    "config_file = '/scratch/scai/phd/aiz218323/datasets/msmarco/XC/configs/entity_gpt_exact.json'\n",
    "config_key = 'data_entity-gpt_exact'\n",
    "\n",
    "mname = 'sentence-transformers/msmarco-distilbert-dot-v5'"
   ]
  },
  {
   "cell_type": "code",
   "execution_count": 9,
   "id": "5a47f6a6-879f-4e1d-8b4a-488f37fbe1f2",
   "metadata": {},
   "outputs": [],
   "source": [
    "use_sxc_sampler, only_test = True, False"
   ]
  },
  {
   "cell_type": "code",
   "execution_count": 10,
   "id": "aee61a88-a01c-49ac-9817-b13c724a0b59",
   "metadata": {},
   "outputs": [],
   "source": [
    "pkl_file = f'{pkl_dir}/mogicX/msmarco_data_distilbert-base-uncased'\n",
    "pkl_file = f'{pkl_file}_sxc' if use_sxc_sampler else f'{pkl_file}_xcs'\n",
    "if only_test: pkl_file = f'{pkl_file}_only-test'\n",
    "pkl_file = f'{pkl_file}.joblib'"
   ]
  },
  {
   "cell_type": "code",
   "execution_count": 73,
   "id": "80f27bb5-62d4-4f3c-bdb9-1f34f2127452",
   "metadata": {},
   "outputs": [],
   "source": [
    "topk = 200\n",
    "batch_size = 100\n",
    "device = 'cpu'"
   ]
  },
  {
   "cell_type": "code",
   "execution_count": 16,
   "id": "ed603495-d70e-4830-846f-2081b81c3150",
   "metadata": {},
   "outputs": [
    {
     "name": "stdout",
     "output_type": "stream",
     "text": [
      "CPU times: user 12min 38s, sys: 1min 47s, total: 14min 26s\n",
      "Wall time: 4min 2s\n"
     ]
    }
   ],
   "source": [
    "%%time\n",
    "os.makedirs(os.path.dirname(pkl_file), exist_ok=True)\n",
    "block = build_block(pkl_file, config_file, use_sxc_sampler, config_key, do_build=False, only_test=False)"
   ]
  },
  {
   "cell_type": "code",
   "execution_count": null,
   "id": "642da3ec-eae2-4b1e-a2c2-47e769fdfc22",
   "metadata": {},
   "outputs": [],
   "source": []
  },
  {
   "cell_type": "code",
   "execution_count": 26,
   "id": "dd744581-0643-458d-8dcb-bb7cf4431501",
   "metadata": {},
   "outputs": [],
   "source": [
    "model = SentenceTransformer(mname, device=device)"
   ]
  },
  {
   "cell_type": "code",
   "execution_count": null,
   "id": "02dc0654-10bc-4abc-92a2-0dfb4a01ef5f",
   "metadata": {},
   "outputs": [],
   "source": []
  },
  {
   "cell_type": "code",
   "execution_count": 36,
   "id": "daa7b8b8-0c9e-49f3-9a32-cb88b96accf9",
   "metadata": {},
   "outputs": [],
   "source": [
    "queries = block.test.dset.data.data_info['input_text'][:1000]\n",
    "labels = block.test.dset.data.lbl_info['input_text'][:1000]"
   ]
  },
  {
   "cell_type": "code",
   "execution_count": 42,
   "id": "9a5f2013-6211-4eef-91ed-b2a7c015811c",
   "metadata": {},
   "outputs": [
    {
     "name": "stderr",
     "output_type": "stream",
     "text": [
      "100%|█████████████████████████████████████████████████████████████████████████████████████████████████████████████████████████████████████████████| 10/10 [02:52<00:00, 17.24s/it]\n"
     ]
    }
   ],
   "source": [
    "lbl_embed = [model.encode(labels[idx:idx+batch_size], convert_to_tensor=True, device=device) for idx in tqdm(range(0, len(labels), batch_size))]\n",
    "lbl_embed = torch.cat(lbl_embed, dim=0)"
   ]
  },
  {
   "cell_type": "code",
   "execution_count": null,
   "id": "fe0a2594-6c83-4252-97be-3fd46fb2dce3",
   "metadata": {},
   "outputs": [],
   "source": []
  },
  {
   "cell_type": "code",
   "execution_count": 77,
   "id": "28ed71eb-a8b5-4242-8104-0759408b70ae",
   "metadata": {},
   "outputs": [
    {
     "name": "stderr",
     "output_type": "stream",
     "text": [
      "  0%|                                                                                                                                                      | 0/10 [00:02<?, ?it/s]\n"
     ]
    }
   ],
   "source": [
    "scores, idxs = [], []\n",
    "\n",
    "for idx in tqdm(range(0, len(queries), batch_size)):\n",
    "    query_embed = model.encode(queries[idx:idx+batch_size], convert_to_tensor=True, device=device)\n",
    "    sc = util.cos_sim(query_embed, lbl_embed)\n",
    "    sc, idx = torch.topk(sc, k=topk, largest=True)\n",
    "\n",
    "    scores.append(sc.to('cpu'))\n",
    "    idxs.append(idx.to('cpu'))\n",
    "    break\n",
    "\n",
    "scores = torch.cat(scores, dim=0)\n",
    "idxs = torch.cat(idxs, dim=0)\n",
    "indptr = torch.arange(0, (scores.shape[0]+1) * topk, topk)"
   ]
  },
  {
   "cell_type": "code",
   "execution_count": 79,
   "id": "3260bd8b-dfde-4c6a-b0a1-ccbfa683b874",
   "metadata": {},
   "outputs": [],
   "source": [
    "pred_mat = sp.csr_matrix((scores.flatten(), idxs.flatten(), indptr.flatten()))"
   ]
  },
  {
   "cell_type": "code",
   "execution_count": 82,
   "id": "4527098f-55e6-4b1e-b034-51e131f0cbaa",
   "metadata": {},
   "outputs": [],
   "source": [
    "print(mrr(pred_mat, block.test.dset.data.data_lbl, k=[10]))"
   ]
  },
  {
   "cell_type": "markdown",
   "id": "653ee19c-38b0-48e4-8613-54b8d447cccf",
   "metadata": {},
   "source": [
    "## Driver"
   ]
  },
  {
   "cell_type": "code",
   "execution_count": 83,
   "id": "0ced4774-3de8-4275-938e-c034b164cf35",
   "metadata": {},
   "outputs": [],
   "source": [
    "#| export\n",
    "if __name__ == '__main__':\n",
    "    config_file = '/scratch/scai/phd/aiz218323/datasets/msmarco/XC/configs/entity_gpt_exact.json'\n",
    "    config_key = 'data_entity-gpt_exact'\n",
    "\n",
    "    mname = 'sentence-transformers/msmarco-distilbert-dot-v5'\n",
    "\n",
    "    topk = 200\n",
    "    batch_size = 100\n",
    "    device = 'cpu'\n",
    "\n",
    "    input_args = parse_args()\n",
    "\n",
    "    pkl_file = f'{input_args.pickle_dir}/mogicX/msmarco_data-entity-gpt_distilbert-base-uncased'\n",
    "    pkl_file = f'{pkl_file}_sxc' if input_args.use_sxc_sampler else f'{pkl_file}_xcs'\n",
    "    if input_args.only_test: pkl_file = f'{pkl_file}_only-test'\n",
    "    pkl_file = f'{pkl_file}_exact'\n",
    "    pkl_file = f'{pkl_file}.joblib'\n",
    "\n",
    "    os.makedirs(os.path.dirname(pkl_file), exist_ok=True)\n",
    "    block = build_block(pkl_file, config_file, input_args.use_sxc_sampler, config_key, do_build=input_args.build_block, \n",
    "                        only_test=input_args.only_test)\n",
    "\n",
    "    model = SentenceTransformer(mname, device=device)\n",
    "\n",
    "    queries = block.test.dset.data.data_info['input_text']\n",
    "    labels = block.test.dset.data.lbl_info['input_text']\n",
    "\n",
    "    lbl_embed = [model.encode(labels[idx:idx+batch_size], convert_to_tensor=True, device=device) for idx in tqdm(range(0, len(labels), batch_size))]\n",
    "    lbl_embed = torch.cat(lbl_embed, dim=0)\n",
    "\n",
    "    scores, idxs = [], []\n",
    "    for idx in tqdm(range(0, len(queries), batch_size)):\n",
    "        query_embed = model.encode(queries[idx:idx+batch_size], convert_to_tensor=True, device=device)\n",
    "        sc = util.cos_sim(query_embed, lbl_embed)\n",
    "        sc, idx = torch.topk(sc, k=topk, largest=True)\n",
    "    \n",
    "        scores.append(sc.to('cpu'))\n",
    "        idxs.append(idx.to('cpu'))\n",
    "    \n",
    "    scores = torch.cat(scores, dim=0)\n",
    "    idxs = torch.cat(idxs, dim=0)\n",
    "    indptr = torch.arange(0, (scores.shape[0]+1) * topk, topk)\n",
    "\n",
    "    pred_mat = sp.csr_matrix((scores.flatten(), idxs.flatten(), indptr.flatten()))\n",
    "    print(mrr(pred_mat, block.test.dset.data.data_lbl, k=[10]))\n",
    "    "
   ]
  },
  {
   "cell_type": "code",
   "execution_count": null,
   "id": "9e7c7df4-c216-4d5d-961d-23369ea3e123",
   "metadata": {},
   "outputs": [],
   "source": []
  },
  {
   "cell_type": "code",
   "execution_count": null,
   "id": "3fb93a38-9a6b-416e-a33a-ef506e652af3",
   "metadata": {},
   "outputs": [],
   "source": []
  },
  {
   "cell_type": "code",
   "execution_count": null,
   "id": "14f4b45d-13ce-4b94-b2ee-ad72feb9a438",
   "metadata": {},
   "outputs": [],
   "source": []
  },
  {
   "cell_type": "code",
   "execution_count": null,
   "id": "b696467d-49b5-409b-98d5-499d26192613",
   "metadata": {},
   "outputs": [],
   "source": []
  }
 ],
 "metadata": {
  "kernelspec": {
   "display_name": "Python 3 (ipykernel)",
   "language": "python",
   "name": "python3"
  },
  "language_info": {
   "codemirror_mode": {
    "name": "ipython",
    "version": 3
   },
   "file_extension": ".py",
   "mimetype": "text/x-python",
   "name": "python",
   "nbconvert_exporter": "python",
   "pygments_lexer": "ipython3",
   "version": "3.10.16"
  }
 },
 "nbformat": 4,
 "nbformat_minor": 5
}
