{
 "cells": [
  {
   "cell_type": "code",
   "execution_count": 1,
   "id": "bbac054c-2fe2-422f-95ea-6ff473ee95ec",
   "metadata": {},
   "outputs": [],
   "source": [
    "#| default_exp 42_entity-conflation"
   ]
  },
  {
   "cell_type": "code",
   "execution_count": 2,
   "id": "ca8d5c74-27bc-41c0-b748-15bf2a6b82c9",
   "metadata": {},
   "outputs": [],
   "source": [
    "%reload_ext autoreload\n",
    "%autoreload 2"
   ]
  },
  {
   "cell_type": "code",
   "execution_count": 454,
   "id": "0b54cee1-783e-4b81-a1dd-9b898ea6353a",
   "metadata": {},
   "outputs": [],
   "source": [
    "#| export\n",
    "import scipy.sparse as sp, numpy as np, argparse, os, torch\n",
    "from tqdm.auto import tqdm\n",
    "from termcolor import colored, COLORS\n",
    "from scipy.sparse.csgraph import connected_components\n",
    "from typing import List, Optional, Dict, Set\n",
    "\n",
    "from sugar.core import load_raw_file, save_raw_file\n",
    "from xclib.utils.sparse import retain_topk"
   ]
  },
  {
   "cell_type": "code",
   "execution_count": 506,
   "id": "31ad9dce-c913-4a48-9d8d-42cdf451b421",
   "metadata": {},
   "outputs": [],
   "source": [
    "import matplotlib.pyplot as plt\n",
    "import torch.nn.functional as F"
   ]
  },
  {
   "cell_type": "markdown",
   "id": "5ccfae4b-da40-4b09-a80c-a42cb51677df",
   "metadata": {},
   "source": [
    "## Helper functions"
   ]
  },
  {
   "cell_type": "code",
   "execution_count": 209,
   "id": "f5b78272-53de-45d0-a119-71e8526c34e1",
   "metadata": {},
   "outputs": [],
   "source": [
    "#| export\n",
    "def show_conflated_labels(idxs:List, components:Dict, lbl_ids2txt:Dict, fname:Optional[str]=None):\n",
    "    file = fname if fname is None else open(fname, 'w')\n",
    "    for i, idx in enumerate(idxs):\n",
    "        txt = \" || \".join([lbl_ids2txt[o] for o in components[idx]])\n",
    "        if fname is None: print(f'{i+1:03d}. {txt}')\n",
    "        else: file.write(f'{i+1:03d}. {txt}\\n')\n",
    "    if fname is not None: file.close()\n",
    "        "
   ]
  },
  {
   "cell_type": "markdown",
   "id": "8dc15ffc-3f82-4937-9fe6-79861d45a50f",
   "metadata": {},
   "source": [
    "## Setup"
   ]
  },
  {
   "cell_type": "code",
   "execution_count": 538,
   "id": "912cd8a7-2761-445e-862c-b2d98a89e2e7",
   "metadata": {},
   "outputs": [],
   "source": [
    "data_dir = \"/Users/suchith720/Projects/data/(mapped)LF-WikiSeeAlsoTitles-320K/\"\n",
    "\n",
    "pred_file = f\"{data_dir}/category_renee_tst_X_Y.npz\"\n",
    "\n",
    "lbl_file = f\"{data_dir}/raw_data/category.raw.txt\"\n",
    "trn_file = f\"{data_dir}/category_renee_trn_X_Y.npz\"\n",
    "tst_file = f\"{data_dir}/category_renee_tst_X_Y.npz\"\n",
    "\n",
    "embed_file = None"
   ]
  },
  {
   "cell_type": "code",
   "execution_count": null,
   "id": "f6782a40-134b-4a38-bac9-ed445bc6735d",
   "metadata": {},
   "outputs": [],
   "source": []
  },
  {
   "cell_type": "code",
   "execution_count": 559,
   "id": "5053c86a-e469-4dcb-a1e9-f889022bd615",
   "metadata": {},
   "outputs": [],
   "source": [
    "#| export\n",
    "def load_data(pred_file:str, trn_file:str, tst_file:str, lbl_file:str, embed_file:Optional[str]=None,\n",
    "              encoding:Optional[str]='utf-8'):\n",
    "    pred_lbl, trn_lbl, tst_lbl = sp.load_npz(pred_file), sp.load_npz(trn_file), sp.load_npz(tst_file)\n",
    "    lbl_ids, lbl_txt = load_raw_file(lbl_file, encoding=encoding)\n",
    "    lbl_repr = None if embed_file is None else torch.load(embed_file)\n",
    "    return pred_lbl, trn_lbl, tst_lbl, (lbl_ids, lbl_txt), lbl_repr\n",
    "    "
   ]
  },
  {
   "cell_type": "code",
   "execution_count": 540,
   "id": "d82830ab-b0f1-4b9b-829a-ec1cba220ca6",
   "metadata": {},
   "outputs": [],
   "source": [
    "pred_lbl, trn_lbl, tst_lbl, (lbl_ids, lbl_txt), lbl_repr = load_data(pred_file, trn_file, tst_file, lbl_file, \n",
    "                                                                     embed_file, encoding='latin-1')"
   ]
  },
  {
   "cell_type": "code",
   "execution_count": 509,
   "id": "e497990c-ca3b-4c59-952c-6519386dc3a7",
   "metadata": {},
   "outputs": [],
   "source": [
    "lbl_repr = F.normalize(torch.randn(len(lbl_ids), 768), dim=1)"
   ]
  },
  {
   "cell_type": "code",
   "execution_count": null,
   "id": "7a89c242-e239-4e31-a35a-101c31f8643d",
   "metadata": {},
   "outputs": [],
   "source": []
  },
  {
   "cell_type": "code",
   "execution_count": 526,
   "id": "8f76567d-f0cf-44dc-9076-0f8bd3c6469d",
   "metadata": {},
   "outputs": [],
   "source": [
    "batch_size = 1000\n",
    "topk = 3\n",
    "min_thresh = 2\n",
    "max_thresh = 100\n",
    "\n",
    "percentile_thresh = 50\n",
    "score_thresh = 0.0"
   ]
  },
  {
   "cell_type": "code",
   "execution_count": null,
   "id": "7e1e0b67-c9d9-4a5f-8b3b-df8ba45ef25b",
   "metadata": {},
   "outputs": [],
   "source": []
  },
  {
   "cell_type": "code",
   "execution_count": 560,
   "id": "31a5dc76-d282-4368-b417-73d48df1d0fa",
   "metadata": {
    "scrolled": true
   },
   "outputs": [],
   "source": [
    "#| export\n",
    "class Filter:\n",
    "\n",
    "    @staticmethod\n",
    "    def by_length(components:Dict, min_thresh:Optional[int]=1, max_thresh:Optional[int]=100):\n",
    "        cluster_len = np.array([len(components[idx]) for idx in sorted(components)])\n",
    "        mask = np.logical_and(np.where(cluster_len >= min_thresh, 1, 0), np.where(cluster_len <= max_thresh, 1, 0))\n",
    "        return set(np.where(mask)[0])\n",
    "\n",
    "    @staticmethod\n",
    "    def topk(data_lbl:sp.csr_matrix, k:Optional[int]=3):\n",
    "        return retain_topk(data_lbl, k=k)\n",
    "\n",
    "    @staticmethod\n",
    "    def threshold(data_lbl:sp.csr_matrix, t:int):\n",
    "        idx = np.where(data_lbl.data < t)[0]\n",
    "        data_lbl.data[idx] = 0\n",
    "        data_lbl.eliminate_zeros()\n",
    "        return data_lbl\n",
    "        "
   ]
  },
  {
   "cell_type": "code",
   "execution_count": null,
   "id": "bd0008c1-4ce9-4ea5-86ee-72579abea6a1",
   "metadata": {},
   "outputs": [],
   "source": []
  },
  {
   "cell_type": "code",
   "execution_count": 561,
   "id": "dc149f9b-3583-40a3-a016-5a0106a65091",
   "metadata": {},
   "outputs": [],
   "source": [
    "#| export\n",
    "def get_one_hop(data_lbl:sp.csr_matrix, batch_size:Optional[int]=1024):\n",
    "    data_lbl = data_lbl.copy()\n",
    "    data_lbl.data[:] = 1.0\n",
    "    \n",
    "    lbl_data = data_lbl.T.tocsr()\n",
    "    lbl_lbl = [lbl_data[i:i+batch_size]@data_lbl for i in tqdm(range(0, lbl_data.shape[0], batch_size))]\n",
    "    return sp.vstack(lbl_lbl)\n",
    "    "
   ]
  },
  {
   "cell_type": "code",
   "execution_count": null,
   "id": "5e44af0f-b90d-4033-8429-9c88b089e86c",
   "metadata": {},
   "outputs": [],
   "source": []
  },
  {
   "cell_type": "code",
   "execution_count": 573,
   "id": "6885878f-2f56-4247-9b53-b30e3dcf8d6a",
   "metadata": {},
   "outputs": [],
   "source": [
    "#| export\n",
    "def normalize_matrix(data_lbl:sp.csr_matrix, lbl_lbl:sp.csr_matrix):\n",
    "    lbl_mult = data_lbl.getnnz(axis=0).astype(np.float32)\n",
    "    mask = lbl_mult > 0\n",
    "    lbl_mult[mask] = 1/lbl_mult[mask]\n",
    "    return lbl_lbl.multiply(lbl_mult[None]).multiply(lbl_mult[:, None]).tocsr()\n",
    "    "
   ]
  },
  {
   "cell_type": "code",
   "execution_count": 574,
   "id": "43548158-d59f-46e8-8fcd-345a379992f0",
   "metadata": {},
   "outputs": [],
   "source": [
    "#| export\n",
    "def compute_embed_similarity(lbl_lbl:sp.csr_matrix, embed:torch.Tensor, batch_size:Optional[int]=1024):\n",
    "    lbl_lbl = lbl_lbl.tocoo()\n",
    "    scores = []\n",
    "    for i in tqdm(range(0, lbl_lbl.nnz, batch_size)):\n",
    "        row_idx, col_idx = lbl_lbl.row[i:i+batch_size], lbl_lbl.col[i:i+batch_size]\n",
    "        sc = lbl_repr[row_idx].view(len(row_idx), 1, -1) @ lbl_repr[col_idx].view(len(col_idx), -1, 1)\n",
    "        scores.append(sc.squeeze(1).squeeze(1))\n",
    "    scores = torch.hstack(scores)\n",
    "    lbl_lbl.data[:] = scores.numpy()\n",
    "    return lbl_lbl.tocsr()\n",
    "    "
   ]
  },
  {
   "cell_type": "code",
   "execution_count": 575,
   "id": "37aaa91c-cea7-43c3-b4df-90ff5085d4d5",
   "metadata": {},
   "outputs": [],
   "source": [
    "#| export\n",
    "def get_components(data_lbl:sp.csr_matrix, lbl_ids:List, lbl_repr:Optional[torch.Tensor]=None, \n",
    "                   score_thresh:Optional[float]=0.0, q:Optional[float]=50, batch_size:Optional[int]=1024):\n",
    "    lbl_lbl = get_one_hop(data_lbl, batch_size)\n",
    "    lbl_lbl = normalize_matrix(data_lbl, lbl_lbl)\n",
    "    lbl_lbl = Filter.threshold(lbl_lbl, t=np.percentile(lbl_lbl.data, q=q))\n",
    "    \n",
    "    if lbl_repr is not None:\n",
    "        lbl_lbl = compute_embed_similarity(lbl_lbl, lbl_repr, batch_size=batch_size)\n",
    "        lbl_lbl = Filter.threshold(lbl_lbl, t=score_thresh)\n",
    "    \n",
    "    n_comp, clusters = connected_components(lbl_lbl, directed=False, return_labels=True)\n",
    "    components = {}\n",
    "    for idx,ids in zip(clusters, lbl_ids):\n",
    "        components.setdefault(idx, []).append(ids)\n",
    "    return components\n",
    "    "
   ]
  },
  {
   "cell_type": "code",
   "execution_count": null,
   "id": "0e4647ac-3080-4ad3-8013-77e83aad30ca",
   "metadata": {},
   "outputs": [],
   "source": []
  },
  {
   "cell_type": "code",
   "execution_count": 530,
   "id": "a3ab8ee4-bbf0-4792-bfc0-0b91fd3e5873",
   "metadata": {},
   "outputs": [],
   "source": [
    "data_lbl = Filter.topk(pred_lbl, k=topk)"
   ]
  },
  {
   "cell_type": "code",
   "execution_count": 532,
   "id": "6d92f8a6-2cd1-420e-882c-11a0baee1fa5",
   "metadata": {},
   "outputs": [
    {
     "data": {
      "application/vnd.jupyter.widget-view+json": {
       "model_id": "09ef666f6d1d424c93f7cd1a6a1825bb",
       "version_major": 2,
       "version_minor": 0
      },
      "text/plain": [
       "  0%|          | 0/657 [00:00<?, ?it/s]"
      ]
     },
     "metadata": {},
     "output_type": "display_data"
    },
    {
     "data": {
      "application/vnd.jupyter.widget-view+json": {
       "model_id": "ccd0c65ac0da4815abbb00106a70cc61",
       "version_major": 2,
       "version_minor": 0
      },
      "text/plain": [
       "  0%|          | 0/448 [00:00<?, ?it/s]"
      ]
     },
     "metadata": {},
     "output_type": "display_data"
    }
   ],
   "source": [
    "components = get_components(data_lbl, lbl_ids, lbl_repr=lbl_repr, score_thresh=score_thresh, \n",
    "                            q=percentile_thresh, batch_size=batch_size)"
   ]
  },
  {
   "cell_type": "code",
   "execution_count": null,
   "id": "e465c5e7-9b53-4cd1-9b92-9799b3eb8ddb",
   "metadata": {},
   "outputs": [],
   "source": []
  },
  {
   "cell_type": "code",
   "execution_count": 533,
   "id": "93b7c5b2-ebd7-4469-a5c9-9a1b8e5d2238",
   "metadata": {},
   "outputs": [],
   "source": [
    "valid_cluster_idxs = Filter.by_length(components, min_thresh=min_thresh, max_thresh=max_thresh)"
   ]
  },
  {
   "cell_type": "code",
   "execution_count": 534,
   "id": "eadfb5a4-2275-4d96-bbf6-1abb3d053f6a",
   "metadata": {},
   "outputs": [],
   "source": [
    "lbl_ids2txt = {k:v for k,v in zip(lbl_ids, lbl_txt)}"
   ]
  },
  {
   "cell_type": "code",
   "execution_count": null,
   "id": "658da875-ab43-4389-a2cd-904e898abacc",
   "metadata": {},
   "outputs": [],
   "source": []
  },
  {
   "cell_type": "code",
   "execution_count": 576,
   "id": "18c80968-3b5a-49a2-9eb6-b89ebe70aaed",
   "metadata": {},
   "outputs": [],
   "source": [
    "#| export\n",
    "def get_valid_components(components:Dict, valid_cluster_idxs:Set):\n",
    "    valid_components, lbl_ids2cluster = dict(), dict()\n",
    "\n",
    "    curr_cluster_idx = 0\n",
    "    for idx, cluster in components.items():\n",
    "        if idx in valid_cluster_idxs:\n",
    "            valid_components[curr_cluster_idx] = cluster\n",
    "            for o in cluster: lbl_ids2cluster[o] = curr_cluster_idx\n",
    "            curr_cluster_idx += 1\n",
    "        else:\n",
    "            for o in cluster:\n",
    "                valid_components[curr_cluster_idx] = [o]\n",
    "                lbl_ids2cluster[o] = curr_cluster_idx\n",
    "                curr_cluster_idx += 1\n",
    "                \n",
    "    return valid_components, lbl_ids2cluster\n",
    "    "
   ]
  },
  {
   "cell_type": "code",
   "execution_count": 566,
   "id": "4cf46f47-c82f-4c45-afd2-de4c01e3a064",
   "metadata": {},
   "outputs": [],
   "source": [
    "#| export\n",
    "def get_conflated_info(components:Dict, lbl_ids2txt:Dict):\n",
    "    return [\" || \".join([lbl_ids2txt[o] for o in components[i]]) for i in sorted(components)]\n",
    "        "
   ]
  },
  {
   "cell_type": "code",
   "execution_count": 567,
   "id": "1a09d82d-b243-4209-a691-8512fe2b4d36",
   "metadata": {},
   "outputs": [],
   "source": [
    "#| export\n",
    "def get_id_to_cluster_idx_mapping(lbl_ids2cluster_map:Dict, lbl_ids:List):\n",
    "    return np.array([lbl_ids2cluster_map[o] for o in lbl_ids])\n",
    "    "
   ]
  },
  {
   "cell_type": "code",
   "execution_count": 568,
   "id": "07ea2561-c952-4784-9251-adff22494c54",
   "metadata": {},
   "outputs": [],
   "source": [
    "#| export\n",
    "def get_conflated_matrix(data_lbl:sp.csr_matrix, lbl_ids2cluster:Dict):\n",
    "    indices = [lbl_ids2cluster[idx] for idx in data_lbl.indices]\n",
    "    data = len(indices) * [1]\n",
    "    \n",
    "    matrix = sp.csr_matrix((data, indices, data_lbl.indptr), dtype=np.float32)\n",
    "    matrix.sum_duplicates()\n",
    "    return matrix\n",
    "    "
   ]
  },
  {
   "cell_type": "code",
   "execution_count": null,
   "id": "28f10a75-3b77-498b-9f97-9521fdc00162",
   "metadata": {},
   "outputs": [],
   "source": []
  },
  {
   "cell_type": "code",
   "execution_count": 535,
   "id": "4f48982f-b823-4451-87b7-3d9db42e8625",
   "metadata": {},
   "outputs": [],
   "source": [
    "valid_components, lbl_ids2cluster_map = get_valid_components(components, valid_cluster_idxs)"
   ]
  },
  {
   "cell_type": "code",
   "execution_count": 536,
   "id": "863f95a1-591d-4361-871b-e00c6c6c26ef",
   "metadata": {},
   "outputs": [],
   "source": [
    "conflated_lbl_txt = get_conflated_info(valid_components, lbl_ids2txt)\n",
    "lbl_ids2cluster = get_id_to_cluster_idx_mapping(lbl_ids2cluster_map, lbl_ids)"
   ]
  },
  {
   "cell_type": "code",
   "execution_count": 537,
   "id": "0bd4d881-dff1-4ece-931d-baa6c8c6ad9c",
   "metadata": {},
   "outputs": [],
   "source": [
    "conflated_trn_lbl = get_conflated_matrix(trn_lbl, lbl_ids2cluster)\n",
    "conflated_tst_lbl = get_conflated_matrix(tst_lbl, lbl_ids2cluster)"
   ]
  },
  {
   "cell_type": "code",
   "execution_count": null,
   "id": "c1471a04-ec59-4dca-8d20-172bbd5f1da7",
   "metadata": {},
   "outputs": [],
   "source": []
  },
  {
   "cell_type": "code",
   "execution_count": 569,
   "id": "1f1cfacf-e9a3-4bef-a938-9198148bdf04",
   "metadata": {},
   "outputs": [],
   "source": [
    "#| export\n",
    "def get_conflated_path(fname):\n",
    "    file_dir = os.path.dirname(fname)\n",
    "    file_name, file_type = os.path.basename(fname).split('.', maxsplit=1)\n",
    "    return f'{file_dir}/{file_name}_conflated.{file_type}'\n",
    "    "
   ]
  },
  {
   "cell_type": "code",
   "execution_count": 570,
   "id": "5ebc3b74-aeaa-49b9-84d2-08d7e45da1b8",
   "metadata": {},
   "outputs": [],
   "source": [
    "#| export\n",
    "def save_conflated_data(lbl_txt:List, lbl_file:str, trn_lbl:sp.csr_matrix, trn_file:str, \n",
    "                        tst_lbl:sp.csr_matrix, tst_file:str):\n",
    "    lbl_file = get_conflated_path(lbl_file)\n",
    "    trn_file = get_conflated_path(trn_file)\n",
    "    tst_file = get_conflated_path(tst_file)\n",
    "\n",
    "    save_raw_file(lbl_file, range(len(lbl_txt)), lbl_txt)\n",
    "    sp.save_npz(trn_file, trn_lbl)\n",
    "    sp.save_npz(tst_file, tst_lbl)\n",
    "    "
   ]
  },
  {
   "cell_type": "code",
   "execution_count": 208,
   "id": "d1a76e5f-97dc-4482-9f9d-7cfd08905bd7",
   "metadata": {},
   "outputs": [],
   "source": [
    "save_conflated_data(conflated_lbl_txt, lbl_file, conflated_trn_lbl, trn_file, conflated_tst_lbl, tst_file)"
   ]
  },
  {
   "cell_type": "code",
   "execution_count": null,
   "id": "9b6899e1-135d-4c03-9e18-2c779dd0ec17",
   "metadata": {},
   "outputs": [],
   "source": []
  },
  {
   "cell_type": "code",
   "execution_count": 571,
   "id": "dcc3721f-ca53-4d14-9baa-961e64e9f209",
   "metadata": {},
   "outputs": [],
   "source": [
    "#| export\n",
    "def main(pred_file:str, trn_file:str, tst_file:str, lbl_file:str, embed_file:Optional[str]=None, \n",
    "         topk:Optional[int]=3, batch_size:Optional[int]=1024, min_thresh:Optional[int]=2, \n",
    "         max_thresh:Optional[int]=100, score_thresh:Optional[float]=0.0, percentile_thresh:Optional[float]=50, \n",
    "         encoding:Optional[str]='latin-1'):\n",
    "    \n",
    "    pred_lbl, trn_lbl, tst_lbl, (lbl_ids, lbl_txt), lbl_repr = load_data(pred_file, trn_file, tst_file, \n",
    "                                                                         lbl_file, embed_file, encoding=encoding)\n",
    "    lbl_ids2txt = {k:v for k,v in zip(lbl_ids, lbl_txt)}\n",
    "\n",
    "    data_lbl = Filter.topk(pred_lbl, k=topk)\n",
    "    components = get_components(data_lbl, lbl_ids, lbl_repr=lbl_repr, score_thresh=score_thresh, \n",
    "                                q=percentile_thresh, batch_size=batch_size)\n",
    "\n",
    "    valid_cluster_idxs = Filter.by_length(components, min_thresh=min_thresh, max_thresh=max_thresh)\n",
    "    \n",
    "    valid_components, lbl_ids2cluster_map = get_valid_components(components, valid_cluster_idxs)\n",
    "    conflated_lbl_txt = get_conflated_info(valid_components, lbl_ids2txt)\n",
    "    lbl_ids2cluster = get_id_to_cluster_idx_mapping(lbl_ids2cluster_map, lbl_ids)\n",
    "\n",
    "    conflated_trn_lbl = get_conflated_matrix(trn_lbl, lbl_ids2cluster)\n",
    "    conflated_tst_lbl = get_conflated_matrix(tst_lbl, lbl_ids2cluster)\n",
    "\n",
    "    save_conflated_data(conflated_lbl_txt, lbl_file, conflated_trn_lbl, trn_file, conflated_tst_lbl, tst_file)\n",
    "    "
   ]
  },
  {
   "cell_type": "code",
   "execution_count": null,
   "id": "74d9ba63-4a6d-4fa1-bbcc-de196d4c9a80",
   "metadata": {},
   "outputs": [],
   "source": []
  },
  {
   "cell_type": "markdown",
   "id": "dd060202-9672-4310-a6e9-c2953fef4e40",
   "metadata": {},
   "source": [
    "## Driver"
   ]
  },
  {
   "cell_type": "code",
   "execution_count": 544,
   "id": "fdfeb389-45f3-4f30-8766-f8bff87fa183",
   "metadata": {},
   "outputs": [],
   "source": [
    "#| export\n",
    "def parse_args():\n",
    "    parser = argparse.ArgumentParser()\n",
    "\n",
    "    parser.add_argument('--pred_file', type=str, required=True)\n",
    "    parser.add_argument('--lbl_file', type=str, required=True)\n",
    "    parser.add_argument('--trn_file', type=str, required=True)\n",
    "    parser.add_argument('--tst_file', type=str, required=True)\n",
    "    parser.add_argument('--embed_file', type=str, default=None)\n",
    "\n",
    "    parser.add_argument('--topk', type=int, default=3)\n",
    "    parser.add_argument('--batch_size', type=int, default=1024)\n",
    "    \n",
    "    parser.add_argument('--min_thresh', type=int, default=2)\n",
    "    parser.add_argument('--max_thresh', type=int, default=100)\n",
    "    parser.add_argument('--score_thresh', type=float, default=0.0)\n",
    "    parser.add_argument('--percentile_thresh', type=float, default=50)\n",
    "    \n",
    "    parser.add_argument('--encoding', type=str, default='latin-1')\n",
    "    \n",
    "    return parser.parse_args()\n",
    "    "
   ]
  },
  {
   "cell_type": "code",
   "execution_count": 226,
   "id": "11913df7-9396-46d2-bc21-89c9ef782179",
   "metadata": {},
   "outputs": [],
   "source": [
    "#| export\n",
    "if __name__ == '__main__':\n",
    "    args = parse_args()\n",
    "    \n",
    "    main(args.pred_file, args.trn_file, args.tst_file, args.lbl_file, args.embed_file, topk=args.topk, \n",
    "         batch_size=args.batch_size, min_thresh=args.min_thresh, max_thresh=args.max_thresh, \n",
    "         score_thresh=args.score_thresh, percentile_thresh=args.percentile_thresh, encoding=args.encoding)\n"
   ]
  },
  {
   "cell_type": "code",
   "execution_count": null,
   "id": "aff84c0d-adad-424a-a0bb-1b2ac7f674f7",
   "metadata": {},
   "outputs": [],
   "source": []
  }
 ],
 "metadata": {
  "kernelspec": {
   "display_name": "Python 3 (ipykernel)",
   "language": "python",
   "name": "python3"
  },
  "language_info": {
   "codemirror_mode": {
    "name": "ipython",
    "version": 3
   },
   "file_extension": ".py",
   "mimetype": "text/x-python",
   "name": "python",
   "nbconvert_exporter": "python",
   "pygments_lexer": "ipython3",
   "version": "3.13.2"
  }
 },
 "nbformat": 4,
 "nbformat_minor": 5
}
